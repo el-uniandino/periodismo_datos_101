{
 "cells": [
  {
   "cell_type": "markdown",
   "metadata": {
    "slideshow": {
     "slide_type": "slide"
    }
   },
   "source": [
    "# Módulo 2 - Introducción a las historias periodísticas con datos\n",
    "## El Plebiscito y la Consulta Liberal"
   ]
  },
  {
   "cell_type": "markdown",
   "metadata": {
    "slideshow": {
     "slide_type": "-"
    }
   },
   "source": [
    "<div class=\"naked-img\">\n",
    "    <img src=\"../files/el_uniandino.png\" width=\"500\">\n",
    "</div>\n",
    "<script>\n",
    "    $(\"naked-img\").css(\"margin-left\", \"15%\");\n",
    "</script>"
   ]
  },
  {
   "cell_type": "markdown",
   "metadata": {
    "cell_style": "center",
    "slideshow": {
     "slide_type": "slide"
    }
   },
   "source": [
    "# Vamos a descubrir qué le pasó a Alejandro en el 2013"
   ]
  },
  {
   "cell_type": "markdown",
   "metadata": {
    "slideshow": {
     "slide_type": "notes"
    }
   },
   "source": [
    "3 voluntarios\n",
    "\n",
    "Máximo 250 palabras\n",
    "\n",
    "Todos pueden hacer preguntas"
   ]
  },
  {
   "cell_type": "markdown",
   "metadata": {
    "slideshow": {
     "slide_type": "slide"
    }
   },
   "source": [
    "# Con datos o no, lo primero es la historia"
   ]
  },
  {
   "cell_type": "markdown",
   "metadata": {
    "cell_style": "split",
    "slideshow": {
     "slide_type": "subslide"
    }
   },
   "source": [
    "### Noticia\n",
    "* Responde qué, cómo, cuándo, quiénes.\n",
    "* Está muy ligada a su temporalidad.\n",
    "* No se interesa por profundizar en un fenómeno."
   ]
  },
  {
   "cell_type": "markdown",
   "metadata": {
    "cell_style": "split",
    "slideshow": {
     "slide_type": "-"
    }
   },
   "source": [
    "<div class=\"naked-img\">\n",
    "    <img src=\"../files/crash.png\" width=\"100\">\n",
    "</div>\n",
    "<script>\n",
    "    $(\"naked-img\").css(\"margin-left\", \"15%\");\n",
    "</script>"
   ]
  },
  {
   "cell_type": "markdown",
   "metadata": {
    "cell_style": "split",
    "slideshow": {
     "slide_type": "subslide"
    }
   },
   "source": [
    "### Reportaje\n",
    "* Aborda varias aristas de un fenómeno noticioso\n",
    "* No pierde tan rápido su importancia en el tiempo,  \n",
    "  aunque tenga temporalidad\n",
    "* Lo que le interesa es la complejidad del fenómeno y \n",
    "  no solo los hechos\n"
   ]
  },
  {
   "cell_type": "markdown",
   "metadata": {
    "cell_style": "split",
    "slideshow": {
     "slide_type": "-"
    }
   },
   "source": [
    "<div class=\"naked-img\">\n",
    "    <img src=\"../files/cars_data.JPG\" width=\"400\">\n",
    "</div>\n",
    "<script>\n",
    "    $(\"naked-img\").css(\"margin-left\", \"15%\");\n",
    "</script>"
   ]
  },
  {
   "cell_type": "markdown",
   "metadata": {
    "cell_style": "split",
    "slideshow": {
     "slide_type": "subslide"
    }
   },
   "source": [
    "## La caja de herramientas del periodista"
   ]
  },
  {
   "cell_type": "markdown",
   "metadata": {
    "cell_style": "split",
    "slideshow": {
     "slide_type": "-"
    }
   },
   "source": [
    "<div class=\"naked-img\">\n",
    "    <img src=\"../files/toolbox.png\" width=\"100\">\n",
    "</div>\n",
    "<script>\n",
    "    $(\"naked-img\").css(\"margin-left\", \"15%\");\n",
    "</script>"
   ]
  },
  {
   "cell_type": "markdown",
   "metadata": {
    "cell_style": "split",
    "slideshow": {
     "slide_type": "-"
    }
   },
   "source": [
    "* Fuentes\n",
    "* Documentos\n",
    "* Datos"
   ]
  },
  {
   "cell_type": "markdown",
   "metadata": {
    "slideshow": {
     "slide_type": "notes"
    }
   },
   "source": [
    "Fuentes:\n",
    "    \n",
    "Entre más fuentes mejor, el buen reportaje contrasta tantas como puede.\n",
    "\n",
    "Busca involucrar varias orillas del fenómeno, así no sean contrarias, y no muchas de la misma perspectiva.\n",
    "\n",
    "Se debe verificar (fact checking)\n",
    "\n",
    "\n",
    "Documentos:\n",
    "    \n",
    "Fotografías, noticias, otros reportajes, etc.\n",
    "\n",
    "Sirven de soporte para la información de las fuentes, para dar contexto (así sea solo para el periodista) y son fuentes de información.\n",
    "\n",
    "Siempre hay que ir a la historia\n"
   ]
  },
  {
   "cell_type": "markdown",
   "metadata": {
    "slideshow": {
     "slide_type": "subslide"
    }
   },
   "source": [
    "## El esqueleto de la historia periodística"
   ]
  },
  {
   "cell_type": "markdown",
   "metadata": {
    "cell_style": "center",
    "slideshow": {
     "slide_type": "-"
    }
   },
   "source": [
    "<div class=\"naked-img\">\n",
    "    <img src=\"../files/esqueleto_historia.jpg\" width=\"500\">\n",
    "</div>\n",
    "<script>\n",
    "    $(\"naked-img\").css(\"margin-left\", \"15%\");\n",
    "</script>"
   ]
  },
  {
   "cell_type": "markdown",
   "metadata": {
    "slideshow": {
     "slide_type": "notes"
    }
   },
   "source": [
    "Tema:\n",
    "Interés\n",
    "Muy amplio\n",
    "No es una historia\n",
    "\n",
    "\n",
    "Ángulo:\n",
    "Cómo van a abordar ese tema\n",
    "No es una opinión ni una posición personal\n",
    "Puede ir cambiando a lo largo de la investigación\n",
    "A partir del ángulo se eligen las fuentes\n",
    "\n",
    "\n",
    "Personajes:\n",
    "Pueden ser un hilo conductor para el reportaje\n",
    "Factor de interés\n",
    "Fuentes balanceadas\n",
    "No incluir fuentes innecesarias\n",
    "\n",
    "\n",
    "Historia:\n",
    "Se define a partir del tema y el ángulo\n",
    "Se narra a través de personajes y datos\n",
    "¿Cuál es tu historia en dos frases?\n",
    "\n"
   ]
  },
  {
   "cell_type": "markdown",
   "metadata": {
    "slideshow": {
     "slide_type": "slide"
    }
   },
   "source": [
    "## Breve receso de 5 minutos"
   ]
  },
  {
   "cell_type": "markdown",
   "metadata": {
    "slideshow": {
     "slide_type": "slide"
    }
   },
   "source": [
    "# La consulta liberal y el plebiscito - Parte 1 (asistido)"
   ]
  },
  {
   "cell_type": "markdown",
   "metadata": {
    "slideshow": {
     "slide_type": "subslide"
    }
   },
   "source": [
    "La Silla Vacía: Consulta liberal y plebiscito\\\n",
    "El País (de España): Plebiscito\n",
    "https://elpais.com/elpais/2016/10/03/media/1475486923_970895.html?rel=mas"
   ]
  },
  {
   "cell_type": "markdown",
   "metadata": {
    "slideshow": {
     "slide_type": "subslide"
    }
   },
   "source": [
    "## ¿Qué preguntas quiero responder?"
   ]
  },
  {
   "cell_type": "markdown",
   "metadata": {
    "slideshow": {
     "slide_type": "notes"
    }
   },
   "source": [
    "Esto es vital:\n",
    "\n",
    "-Nos guía durante la búsqueda \\\n",
    "-Nos pone un objetivo que debemos buscar \\\n",
    "-Siempre empiecen por una pregunta periodística -> datos -> regresen y agreguen más preguntas"
   ]
  },
  {
   "cell_type": "markdown",
   "metadata": {
    "slideshow": {
     "slide_type": "subslide"
    }
   },
   "source": [
    "Entonces... "
   ]
  },
  {
   "cell_type": "markdown",
   "metadata": {
    "slideshow": {
     "slide_type": "fragment"
    }
   },
   "source": [
    "¿Qué preguntas les interesa sobre este tema?"
   ]
  },
  {
   "cell_type": "markdown",
   "metadata": {
    "slideshow": {
     "slide_type": "fragment"
    }
   },
   "source": [
    "* "
   ]
  },
  {
   "cell_type": "markdown",
   "metadata": {
    "slideshow": {
     "slide_type": "notes"
    }
   },
   "source": [
    "* ¿Cuáles fueron los municipios más importantes en ambas elecciones? ¿Y los departamentos?\n",
    "* ¿Tenemos algún indicio de fraude?\n",
    "* ¿Hubo algún comportamiento irregular?\n",
    "* ¿Hay una relación entre el plebiscito y la consulta liberal?\n",
    "* ¿Cómo votaron los municipios más pobres y los que tienen más violencia?\n",
    "* En los municipios donde tienen más acceso a internet, ¿quién ganó? ¿Por qué?"
   ]
  },
  {
   "cell_type": "markdown",
   "metadata": {
    "slideshow": {
     "slide_type": "slide"
    }
   },
   "source": [
    "## Fuentes de datos: ¿De dónde saco datos?"
   ]
  },
  {
   "cell_type": "markdown",
   "metadata": {
    "cell_style": "split",
    "slideshow": {
     "slide_type": "subslide"
    }
   },
   "source": [
    "El equivalente a una primera búsqueda en Google en el periodismo de datos son los **datasets públicos**. Estos, en particular, vienen de la [Registraduría](https://wsr.registraduria.gov.co/-Partido-Liberal-.html)"
   ]
  },
  {
   "cell_type": "markdown",
   "metadata": {
    "cell_style": "split",
    "slideshow": {
     "slide_type": "-"
    }
   },
   "source": [
    "<div class=\"naked-img\">\n",
    "    <img src=\"../files/dataset.png\" width=\"100\">\n",
    "</div>\n",
    "<script>\n",
    "    $(\"naked-img\").css(\"margin-left\", \"15%\");\n",
    "</script>"
   ]
  },
  {
   "cell_type": "markdown",
   "metadata": {
    "slideshow": {
     "slide_type": "notes"
    }
   },
   "source": [
    "Información fuentes oficiales o terceros que se puede acceder libremente."
   ]
  },
  {
   "cell_type": "markdown",
   "metadata": {
    "slideshow": {
     "slide_type": "slide"
    }
   },
   "source": [
    "## Data Wrangling "
   ]
  },
  {
   "cell_type": "code",
   "execution_count": 1,
   "metadata": {
    "slideshow": {
     "slide_type": "fragment"
    }
   },
   "outputs": [],
   "source": [
    "import pandas as pd\n",
    "pd.set_option('display.max_columns', None)\n",
    "df_liberal = pd.read_csv(\"../../periodismo_datos_101/data/liberal_plebi/consulta_liberal_cod.csv\")"
   ]
  },
  {
   "cell_type": "code",
   "execution_count": 2,
   "metadata": {
    "slideshow": {
     "slide_type": "-"
    }
   },
   "outputs": [
    {
     "data": {
      "text/html": [
       "<div>\n",
       "<style scoped>\n",
       "    .dataframe tbody tr th:only-of-type {\n",
       "        vertical-align: middle;\n",
       "    }\n",
       "\n",
       "    .dataframe tbody tr th {\n",
       "        vertical-align: top;\n",
       "    }\n",
       "\n",
       "    .dataframe thead th {\n",
       "        text-align: right;\n",
       "    }\n",
       "</style>\n",
       "<table border=\"1\" class=\"dataframe\">\n",
       "  <thead>\n",
       "    <tr style=\"text-align: right;\">\n",
       "      <th></th>\n",
       "      <th>cd</th>\n",
       "      <th>departamento</th>\n",
       "      <th>cm</th>\n",
       "      <th>municipio</th>\n",
       "      <th>juan_fernando_cristo</th>\n",
       "      <th>humberto_de_la_calle</th>\n",
       "      <th>votos_nulos</th>\n",
       "      <th>votos_no_marcados</th>\n",
       "      <th>total_votos</th>\n",
       "      <th>nom_dep_mun</th>\n",
       "      <th>cod_dep_mun</th>\n",
       "      <th>closeness</th>\n",
       "      <th>cod_dep</th>\n",
       "      <th>cod_mun</th>\n",
       "      <th>cod_dep1</th>\n",
       "      <th>cod_mun1</th>\n",
       "    </tr>\n",
       "  </thead>\n",
       "  <tbody>\n",
       "    <tr>\n",
       "      <th>0</th>\n",
       "      <td>1</td>\n",
       "      <td>ANTIOQUIA</td>\n",
       "      <td>1</td>\n",
       "      <td>MEDELLIN</td>\n",
       "      <td>4,259</td>\n",
       "      <td>12,523</td>\n",
       "      <td>1,237</td>\n",
       "      <td>360</td>\n",
       "      <td>18,379</td>\n",
       "      <td>antioquia_medellin</td>\n",
       "      <td>05_5001.0</td>\n",
       "      <td>100</td>\n",
       "      <td>5</td>\n",
       "      <td>5001</td>\n",
       "      <td>5</td>\n",
       "      <td>5001</td>\n",
       "    </tr>\n",
       "    <tr>\n",
       "      <th>1</th>\n",
       "      <td>1</td>\n",
       "      <td>ANTIOQUIA</td>\n",
       "      <td>4</td>\n",
       "      <td>ABEJORRAL</td>\n",
       "      <td>21</td>\n",
       "      <td>280</td>\n",
       "      <td>10</td>\n",
       "      <td>5</td>\n",
       "      <td>316</td>\n",
       "      <td>antioquia_abejorral</td>\n",
       "      <td>05_5002.0</td>\n",
       "      <td>100</td>\n",
       "      <td>5</td>\n",
       "      <td>5002</td>\n",
       "      <td>5</td>\n",
       "      <td>5002</td>\n",
       "    </tr>\n",
       "    <tr>\n",
       "      <th>2</th>\n",
       "      <td>1</td>\n",
       "      <td>ANTIOQUIA</td>\n",
       "      <td>7</td>\n",
       "      <td>ABRIAQUI</td>\n",
       "      <td>2</td>\n",
       "      <td>7</td>\n",
       "      <td>1</td>\n",
       "      <td>-</td>\n",
       "      <td>10</td>\n",
       "      <td>antioquia_abriaqui</td>\n",
       "      <td>05_5004.0</td>\n",
       "      <td>100</td>\n",
       "      <td>5</td>\n",
       "      <td>5004</td>\n",
       "      <td>5</td>\n",
       "      <td>5004</td>\n",
       "    </tr>\n",
       "    <tr>\n",
       "      <th>3</th>\n",
       "      <td>1</td>\n",
       "      <td>ANTIOQUIA</td>\n",
       "      <td>10</td>\n",
       "      <td>ALEJANDRIA</td>\n",
       "      <td>15</td>\n",
       "      <td>34</td>\n",
       "      <td>-</td>\n",
       "      <td>1</td>\n",
       "      <td>50</td>\n",
       "      <td>antioquia_alejandria</td>\n",
       "      <td>05_5021.0</td>\n",
       "      <td>100</td>\n",
       "      <td>5</td>\n",
       "      <td>5021</td>\n",
       "      <td>5</td>\n",
       "      <td>5021</td>\n",
       "    </tr>\n",
       "    <tr>\n",
       "      <th>4</th>\n",
       "      <td>1</td>\n",
       "      <td>ANTIOQUIA</td>\n",
       "      <td>13</td>\n",
       "      <td>AMAGA</td>\n",
       "      <td>11</td>\n",
       "      <td>102</td>\n",
       "      <td>15</td>\n",
       "      <td>-</td>\n",
       "      <td>128</td>\n",
       "      <td>antioquia_amaga</td>\n",
       "      <td>05_5030.0</td>\n",
       "      <td>100</td>\n",
       "      <td>5</td>\n",
       "      <td>5030</td>\n",
       "      <td>5</td>\n",
       "      <td>5030</td>\n",
       "    </tr>\n",
       "  </tbody>\n",
       "</table>\n",
       "</div>"
      ],
      "text/plain": [
       "   cd departamento  cm   municipio juan_fernando_cristo humberto_de_la_calle  \\\n",
       "0   1    ANTIOQUIA   1    MEDELLIN               4,259               12,523    \n",
       "1   1    ANTIOQUIA   4   ABEJORRAL                  21                  280    \n",
       "2   1    ANTIOQUIA   7    ABRIAQUI                   2                    7    \n",
       "3   1    ANTIOQUIA  10  ALEJANDRIA                  15                   34    \n",
       "4   1    ANTIOQUIA  13       AMAGA                  11                  102    \n",
       "\n",
       "  votos_nulos votos_no_marcados total_votos           nom_dep_mun cod_dep_mun  \\\n",
       "0      1,237               360      18,379     antioquia_medellin   05_5001.0   \n",
       "1         10                 5         316    antioquia_abejorral   05_5002.0   \n",
       "2          1               -            10     antioquia_abriaqui   05_5004.0   \n",
       "3        -                   1          50   antioquia_alejandria   05_5021.0   \n",
       "4         15               -           128        antioquia_amaga   05_5030.0   \n",
       "\n",
       "   closeness  cod_dep  cod_mun  cod_dep1  cod_mun1  \n",
       "0        100        5     5001         5      5001  \n",
       "1        100        5     5002         5      5002  \n",
       "2        100        5     5004         5      5004  \n",
       "3        100        5     5021         5      5021  \n",
       "4        100        5     5030         5      5030  "
      ]
     },
     "execution_count": 2,
     "metadata": {},
     "output_type": "execute_result"
    }
   ],
   "source": [
    "df_liberal.head()"
   ]
  },
  {
   "cell_type": "code",
   "execution_count": null,
   "metadata": {
    "slideshow": {
     "slide_type": "-"
    }
   },
   "outputs": [],
   "source": [
    "df_liberal.iloc[]"
   ]
  },
  {
   "cell_type": "code",
   "execution_count": 5,
   "metadata": {
    "slideshow": {
     "slide_type": "subslide"
    }
   },
   "outputs": [
    {
     "name": "stdout",
     "output_type": "stream",
     "text": [
      "<class 'pandas.core.frame.DataFrame'>\n",
      "RangeIndex: 1123 entries, 0 to 1122\n",
      "Data columns (total 16 columns):\n",
      " #   Column                Non-Null Count  Dtype \n",
      "---  ------                --------------  ----- \n",
      " 0   cd                    1123 non-null   int64 \n",
      " 1   departamento          1123 non-null   object\n",
      " 2   cm                    1123 non-null   int64 \n",
      " 3   municipio             1123 non-null   object\n",
      " 4   juan_fernando_cristo  1123 non-null   object\n",
      " 5   humberto_de_la_calle  1123 non-null   object\n",
      " 6   votos_nulos           1123 non-null   object\n",
      " 7   votos_no_marcados     1123 non-null   object\n",
      " 8   total_votos           1123 non-null   object\n",
      " 9   nom_dep_mun           1123 non-null   object\n",
      " 10  cod_dep_mun           1123 non-null   object\n",
      " 11  closeness             1123 non-null   int64 \n",
      " 12  cod_dep               1123 non-null   int64 \n",
      " 13  cod_mun               1123 non-null   int64 \n",
      " 14  cod_dep1              1123 non-null   int64 \n",
      " 15  cod_mun1              1123 non-null   int64 \n",
      "dtypes: int64(7), object(9)\n",
      "memory usage: 140.5+ KB\n"
     ]
    }
   ],
   "source": [
    "df_liberal.info()"
   ]
  },
  {
   "cell_type": "code",
   "execution_count": 3,
   "metadata": {
    "code_folding": [],
    "slideshow": {
     "slide_type": "subslide"
    }
   },
   "outputs": [],
   "source": [
    "def clean(x):\n",
    "    resp = int(x.replace(',','').replace('-','0').strip())\n",
    "    return resp"
   ]
  },
  {
   "cell_type": "code",
   "execution_count": 4,
   "metadata": {
    "code_folding": [],
    "slideshow": {
     "slide_type": "-"
    }
   },
   "outputs": [],
   "source": [
    "# Limpiar\n",
    "for column in df_liberal.columns[4:9]:\n",
    "    df_liberal[column] = df_liberal[column].apply(clean)"
   ]
  },
  {
   "cell_type": "code",
   "execution_count": 5,
   "metadata": {
    "slideshow": {
     "slide_type": "-"
    }
   },
   "outputs": [
    {
     "data": {
      "text/html": [
       "<div>\n",
       "<style scoped>\n",
       "    .dataframe tbody tr th:only-of-type {\n",
       "        vertical-align: middle;\n",
       "    }\n",
       "\n",
       "    .dataframe tbody tr th {\n",
       "        vertical-align: top;\n",
       "    }\n",
       "\n",
       "    .dataframe thead th {\n",
       "        text-align: right;\n",
       "    }\n",
       "</style>\n",
       "<table border=\"1\" class=\"dataframe\">\n",
       "  <thead>\n",
       "    <tr style=\"text-align: right;\">\n",
       "      <th></th>\n",
       "      <th>cd</th>\n",
       "      <th>departamento</th>\n",
       "      <th>cm</th>\n",
       "      <th>municipio</th>\n",
       "      <th>juan_fernando_cristo</th>\n",
       "      <th>humberto_de_la_calle</th>\n",
       "      <th>votos_nulos</th>\n",
       "      <th>votos_no_marcados</th>\n",
       "      <th>total_votos</th>\n",
       "      <th>nom_dep_mun</th>\n",
       "      <th>cod_dep_mun</th>\n",
       "      <th>closeness</th>\n",
       "      <th>cod_dep</th>\n",
       "      <th>cod_mun</th>\n",
       "      <th>cod_dep1</th>\n",
       "      <th>cod_mun1</th>\n",
       "    </tr>\n",
       "  </thead>\n",
       "  <tbody>\n",
       "    <tr>\n",
       "      <th>0</th>\n",
       "      <td>1</td>\n",
       "      <td>ANTIOQUIA</td>\n",
       "      <td>1</td>\n",
       "      <td>MEDELLIN</td>\n",
       "      <td>4259</td>\n",
       "      <td>12523</td>\n",
       "      <td>1237</td>\n",
       "      <td>360</td>\n",
       "      <td>18379</td>\n",
       "      <td>antioquia_medellin</td>\n",
       "      <td>05_5001.0</td>\n",
       "      <td>100</td>\n",
       "      <td>5</td>\n",
       "      <td>5001</td>\n",
       "      <td>5</td>\n",
       "      <td>5001</td>\n",
       "    </tr>\n",
       "    <tr>\n",
       "      <th>1</th>\n",
       "      <td>1</td>\n",
       "      <td>ANTIOQUIA</td>\n",
       "      <td>4</td>\n",
       "      <td>ABEJORRAL</td>\n",
       "      <td>21</td>\n",
       "      <td>280</td>\n",
       "      <td>10</td>\n",
       "      <td>5</td>\n",
       "      <td>316</td>\n",
       "      <td>antioquia_abejorral</td>\n",
       "      <td>05_5002.0</td>\n",
       "      <td>100</td>\n",
       "      <td>5</td>\n",
       "      <td>5002</td>\n",
       "      <td>5</td>\n",
       "      <td>5002</td>\n",
       "    </tr>\n",
       "    <tr>\n",
       "      <th>2</th>\n",
       "      <td>1</td>\n",
       "      <td>ANTIOQUIA</td>\n",
       "      <td>7</td>\n",
       "      <td>ABRIAQUI</td>\n",
       "      <td>2</td>\n",
       "      <td>7</td>\n",
       "      <td>1</td>\n",
       "      <td>0</td>\n",
       "      <td>10</td>\n",
       "      <td>antioquia_abriaqui</td>\n",
       "      <td>05_5004.0</td>\n",
       "      <td>100</td>\n",
       "      <td>5</td>\n",
       "      <td>5004</td>\n",
       "      <td>5</td>\n",
       "      <td>5004</td>\n",
       "    </tr>\n",
       "    <tr>\n",
       "      <th>3</th>\n",
       "      <td>1</td>\n",
       "      <td>ANTIOQUIA</td>\n",
       "      <td>10</td>\n",
       "      <td>ALEJANDRIA</td>\n",
       "      <td>15</td>\n",
       "      <td>34</td>\n",
       "      <td>0</td>\n",
       "      <td>1</td>\n",
       "      <td>50</td>\n",
       "      <td>antioquia_alejandria</td>\n",
       "      <td>05_5021.0</td>\n",
       "      <td>100</td>\n",
       "      <td>5</td>\n",
       "      <td>5021</td>\n",
       "      <td>5</td>\n",
       "      <td>5021</td>\n",
       "    </tr>\n",
       "    <tr>\n",
       "      <th>4</th>\n",
       "      <td>1</td>\n",
       "      <td>ANTIOQUIA</td>\n",
       "      <td>13</td>\n",
       "      <td>AMAGA</td>\n",
       "      <td>11</td>\n",
       "      <td>102</td>\n",
       "      <td>15</td>\n",
       "      <td>0</td>\n",
       "      <td>128</td>\n",
       "      <td>antioquia_amaga</td>\n",
       "      <td>05_5030.0</td>\n",
       "      <td>100</td>\n",
       "      <td>5</td>\n",
       "      <td>5030</td>\n",
       "      <td>5</td>\n",
       "      <td>5030</td>\n",
       "    </tr>\n",
       "  </tbody>\n",
       "</table>\n",
       "</div>"
      ],
      "text/plain": [
       "   cd departamento  cm   municipio  juan_fernando_cristo  \\\n",
       "0   1    ANTIOQUIA   1    MEDELLIN                  4259   \n",
       "1   1    ANTIOQUIA   4   ABEJORRAL                    21   \n",
       "2   1    ANTIOQUIA   7    ABRIAQUI                     2   \n",
       "3   1    ANTIOQUIA  10  ALEJANDRIA                    15   \n",
       "4   1    ANTIOQUIA  13       AMAGA                    11   \n",
       "\n",
       "   humberto_de_la_calle  votos_nulos  votos_no_marcados  total_votos  \\\n",
       "0                 12523         1237                360        18379   \n",
       "1                   280           10                  5          316   \n",
       "2                     7            1                  0           10   \n",
       "3                    34            0                  1           50   \n",
       "4                   102           15                  0          128   \n",
       "\n",
       "            nom_dep_mun cod_dep_mun  closeness  cod_dep  cod_mun  cod_dep1  \\\n",
       "0    antioquia_medellin   05_5001.0        100        5     5001         5   \n",
       "1   antioquia_abejorral   05_5002.0        100        5     5002         5   \n",
       "2    antioquia_abriaqui   05_5004.0        100        5     5004         5   \n",
       "3  antioquia_alejandria   05_5021.0        100        5     5021         5   \n",
       "4       antioquia_amaga   05_5030.0        100        5     5030         5   \n",
       "\n",
       "   cod_mun1  \n",
       "0      5001  \n",
       "1      5002  \n",
       "2      5004  \n",
       "3      5021  \n",
       "4      5030  "
      ]
     },
     "execution_count": 5,
     "metadata": {},
     "output_type": "execute_result"
    }
   ],
   "source": [
    "df_liberal.head()"
   ]
  },
  {
   "cell_type": "markdown",
   "metadata": {
    "slideshow": {
     "slide_type": "slide"
    }
   },
   "source": [
    "## Exploratory Data Analysis (EDA)"
   ]
  },
  {
   "cell_type": "code",
   "execution_count": 6,
   "metadata": {
    "slideshow": {
     "slide_type": "subslide"
    }
   },
   "outputs": [
    {
     "data": {
      "text/html": [
       "<div>\n",
       "<style scoped>\n",
       "    .dataframe tbody tr th:only-of-type {\n",
       "        vertical-align: middle;\n",
       "    }\n",
       "\n",
       "    .dataframe tbody tr th {\n",
       "        vertical-align: top;\n",
       "    }\n",
       "\n",
       "    .dataframe thead th {\n",
       "        text-align: right;\n",
       "    }\n",
       "</style>\n",
       "<table border=\"1\" class=\"dataframe\">\n",
       "  <thead>\n",
       "    <tr style=\"text-align: right;\">\n",
       "      <th></th>\n",
       "      <th>cd</th>\n",
       "      <th>departamento</th>\n",
       "      <th>cm</th>\n",
       "      <th>municipio</th>\n",
       "      <th>juan_fernando_cristo</th>\n",
       "      <th>humberto_de_la_calle</th>\n",
       "      <th>votos_nulos</th>\n",
       "      <th>votos_no_marcados</th>\n",
       "      <th>total_votos</th>\n",
       "      <th>nom_dep_mun</th>\n",
       "      <th>cod_dep_mun</th>\n",
       "      <th>closeness</th>\n",
       "      <th>cod_dep</th>\n",
       "      <th>cod_mun</th>\n",
       "      <th>cod_dep1</th>\n",
       "      <th>cod_mun1</th>\n",
       "    </tr>\n",
       "  </thead>\n",
       "  <tbody>\n",
       "    <tr>\n",
       "      <th>0</th>\n",
       "      <td>1</td>\n",
       "      <td>ANTIOQUIA</td>\n",
       "      <td>1</td>\n",
       "      <td>MEDELLIN</td>\n",
       "      <td>4259</td>\n",
       "      <td>12523</td>\n",
       "      <td>1237</td>\n",
       "      <td>360</td>\n",
       "      <td>18379</td>\n",
       "      <td>antioquia_medellin</td>\n",
       "      <td>05_5001.0</td>\n",
       "      <td>100</td>\n",
       "      <td>5</td>\n",
       "      <td>5001</td>\n",
       "      <td>5</td>\n",
       "      <td>5001</td>\n",
       "    </tr>\n",
       "    <tr>\n",
       "      <th>1</th>\n",
       "      <td>1</td>\n",
       "      <td>ANTIOQUIA</td>\n",
       "      <td>4</td>\n",
       "      <td>ABEJORRAL</td>\n",
       "      <td>21</td>\n",
       "      <td>280</td>\n",
       "      <td>10</td>\n",
       "      <td>5</td>\n",
       "      <td>316</td>\n",
       "      <td>antioquia_abejorral</td>\n",
       "      <td>05_5002.0</td>\n",
       "      <td>100</td>\n",
       "      <td>5</td>\n",
       "      <td>5002</td>\n",
       "      <td>5</td>\n",
       "      <td>5002</td>\n",
       "    </tr>\n",
       "    <tr>\n",
       "      <th>2</th>\n",
       "      <td>1</td>\n",
       "      <td>ANTIOQUIA</td>\n",
       "      <td>7</td>\n",
       "      <td>ABRIAQUI</td>\n",
       "      <td>2</td>\n",
       "      <td>7</td>\n",
       "      <td>1</td>\n",
       "      <td>0</td>\n",
       "      <td>10</td>\n",
       "      <td>antioquia_abriaqui</td>\n",
       "      <td>05_5004.0</td>\n",
       "      <td>100</td>\n",
       "      <td>5</td>\n",
       "      <td>5004</td>\n",
       "      <td>5</td>\n",
       "      <td>5004</td>\n",
       "    </tr>\n",
       "    <tr>\n",
       "      <th>3</th>\n",
       "      <td>1</td>\n",
       "      <td>ANTIOQUIA</td>\n",
       "      <td>10</td>\n",
       "      <td>ALEJANDRIA</td>\n",
       "      <td>15</td>\n",
       "      <td>34</td>\n",
       "      <td>0</td>\n",
       "      <td>1</td>\n",
       "      <td>50</td>\n",
       "      <td>antioquia_alejandria</td>\n",
       "      <td>05_5021.0</td>\n",
       "      <td>100</td>\n",
       "      <td>5</td>\n",
       "      <td>5021</td>\n",
       "      <td>5</td>\n",
       "      <td>5021</td>\n",
       "    </tr>\n",
       "    <tr>\n",
       "      <th>4</th>\n",
       "      <td>1</td>\n",
       "      <td>ANTIOQUIA</td>\n",
       "      <td>13</td>\n",
       "      <td>AMAGA</td>\n",
       "      <td>11</td>\n",
       "      <td>102</td>\n",
       "      <td>15</td>\n",
       "      <td>0</td>\n",
       "      <td>128</td>\n",
       "      <td>antioquia_amaga</td>\n",
       "      <td>05_5030.0</td>\n",
       "      <td>100</td>\n",
       "      <td>5</td>\n",
       "      <td>5030</td>\n",
       "      <td>5</td>\n",
       "      <td>5030</td>\n",
       "    </tr>\n",
       "  </tbody>\n",
       "</table>\n",
       "</div>"
      ],
      "text/plain": [
       "   cd departamento  cm   municipio  juan_fernando_cristo  \\\n",
       "0   1    ANTIOQUIA   1    MEDELLIN                  4259   \n",
       "1   1    ANTIOQUIA   4   ABEJORRAL                    21   \n",
       "2   1    ANTIOQUIA   7    ABRIAQUI                     2   \n",
       "3   1    ANTIOQUIA  10  ALEJANDRIA                    15   \n",
       "4   1    ANTIOQUIA  13       AMAGA                    11   \n",
       "\n",
       "   humberto_de_la_calle  votos_nulos  votos_no_marcados  total_votos  \\\n",
       "0                 12523         1237                360        18379   \n",
       "1                   280           10                  5          316   \n",
       "2                     7            1                  0           10   \n",
       "3                    34            0                  1           50   \n",
       "4                   102           15                  0          128   \n",
       "\n",
       "            nom_dep_mun cod_dep_mun  closeness  cod_dep  cod_mun  cod_dep1  \\\n",
       "0    antioquia_medellin   05_5001.0        100        5     5001         5   \n",
       "1   antioquia_abejorral   05_5002.0        100        5     5002         5   \n",
       "2    antioquia_abriaqui   05_5004.0        100        5     5004         5   \n",
       "3  antioquia_alejandria   05_5021.0        100        5     5021         5   \n",
       "4       antioquia_amaga   05_5030.0        100        5     5030         5   \n",
       "\n",
       "   cod_mun1  \n",
       "0      5001  \n",
       "1      5002  \n",
       "2      5004  \n",
       "3      5021  \n",
       "4      5030  "
      ]
     },
     "execution_count": 6,
     "metadata": {},
     "output_type": "execute_result"
    }
   ],
   "source": [
    "df_liberal.head()"
   ]
  },
  {
   "cell_type": "code",
   "execution_count": 7,
   "metadata": {
    "slideshow": {
     "slide_type": "fragment"
    }
   },
   "outputs": [
    {
     "data": {
      "text/html": [
       "<div>\n",
       "<style scoped>\n",
       "    .dataframe tbody tr th:only-of-type {\n",
       "        vertical-align: middle;\n",
       "    }\n",
       "\n",
       "    .dataframe tbody tr th {\n",
       "        vertical-align: top;\n",
       "    }\n",
       "\n",
       "    .dataframe thead th {\n",
       "        text-align: right;\n",
       "    }\n",
       "</style>\n",
       "<table border=\"1\" class=\"dataframe\">\n",
       "  <thead>\n",
       "    <tr style=\"text-align: right;\">\n",
       "      <th></th>\n",
       "      <th>cd</th>\n",
       "      <th>cm</th>\n",
       "      <th>juan_fernando_cristo</th>\n",
       "      <th>humberto_de_la_calle</th>\n",
       "      <th>votos_nulos</th>\n",
       "      <th>votos_no_marcados</th>\n",
       "      <th>total_votos</th>\n",
       "      <th>closeness</th>\n",
       "      <th>cod_dep</th>\n",
       "      <th>cod_mun</th>\n",
       "      <th>cod_dep1</th>\n",
       "      <th>cod_mun1</th>\n",
       "    </tr>\n",
       "  </thead>\n",
       "  <tbody>\n",
       "    <tr>\n",
       "      <th>count</th>\n",
       "      <td>1123.000000</td>\n",
       "      <td>1123.000000</td>\n",
       "      <td>1123.000000</td>\n",
       "      <td>1123.000000</td>\n",
       "      <td>1123.000000</td>\n",
       "      <td>1123.000000</td>\n",
       "      <td>1123.000000</td>\n",
       "      <td>1123.000000</td>\n",
       "      <td>1123.000000</td>\n",
       "      <td>1123.000000</td>\n",
       "      <td>1123.000000</td>\n",
       "      <td>1123.000000</td>\n",
       "    </tr>\n",
       "    <tr>\n",
       "      <th>mean</th>\n",
       "      <td>19.042743</td>\n",
       "      <td>111.634907</td>\n",
       "      <td>289.204809</td>\n",
       "      <td>325.608192</td>\n",
       "      <td>36.474622</td>\n",
       "      <td>11.687444</td>\n",
       "      <td>662.975067</td>\n",
       "      <td>96.647373</td>\n",
       "      <td>36.571683</td>\n",
       "      <td>37012.286732</td>\n",
       "      <td>36.571683</td>\n",
       "      <td>37012.286732</td>\n",
       "    </tr>\n",
       "    <tr>\n",
       "      <th>std</th>\n",
       "      <td>14.403900</td>\n",
       "      <td>132.696322</td>\n",
       "      <td>1143.146400</td>\n",
       "      <td>1256.985333</td>\n",
       "      <td>149.834401</td>\n",
       "      <td>49.470902</td>\n",
       "      <td>2209.532263</td>\n",
       "      <td>14.633806</td>\n",
       "      <td>26.050188</td>\n",
       "      <td>26012.851442</td>\n",
       "      <td>26.050188</td>\n",
       "      <td>26012.851442</td>\n",
       "    </tr>\n",
       "    <tr>\n",
       "      <th>min</th>\n",
       "      <td>1.000000</td>\n",
       "      <td>1.000000</td>\n",
       "      <td>0.000000</td>\n",
       "      <td>0.000000</td>\n",
       "      <td>0.000000</td>\n",
       "      <td>0.000000</td>\n",
       "      <td>1.000000</td>\n",
       "      <td>0.000000</td>\n",
       "      <td>-1.000000</td>\n",
       "      <td>-1.000000</td>\n",
       "      <td>-1.000000</td>\n",
       "      <td>-1.000000</td>\n",
       "    </tr>\n",
       "    <tr>\n",
       "      <th>25%</th>\n",
       "      <td>7.000000</td>\n",
       "      <td>28.000000</td>\n",
       "      <td>18.000000</td>\n",
       "      <td>22.000000</td>\n",
       "      <td>3.000000</td>\n",
       "      <td>1.000000</td>\n",
       "      <td>72.000000</td>\n",
       "      <td>100.000000</td>\n",
       "      <td>15.000000</td>\n",
       "      <td>15515.000000</td>\n",
       "      <td>15.000000</td>\n",
       "      <td>15515.000000</td>\n",
       "    </tr>\n",
       "    <tr>\n",
       "      <th>50%</th>\n",
       "      <td>16.000000</td>\n",
       "      <td>70.000000</td>\n",
       "      <td>70.000000</td>\n",
       "      <td>62.000000</td>\n",
       "      <td>8.000000</td>\n",
       "      <td>3.000000</td>\n",
       "      <td>189.000000</td>\n",
       "      <td>100.000000</td>\n",
       "      <td>25.000000</td>\n",
       "      <td>25736.000000</td>\n",
       "      <td>25.000000</td>\n",
       "      <td>25736.000000</td>\n",
       "    </tr>\n",
       "    <tr>\n",
       "      <th>75%</th>\n",
       "      <td>27.000000</td>\n",
       "      <td>150.000000</td>\n",
       "      <td>242.000000</td>\n",
       "      <td>194.500000</td>\n",
       "      <td>20.000000</td>\n",
       "      <td>8.000000</td>\n",
       "      <td>487.500000</td>\n",
       "      <td>100.000000</td>\n",
       "      <td>63.000000</td>\n",
       "      <td>63120.500000</td>\n",
       "      <td>63.000000</td>\n",
       "      <td>63120.500000</td>\n",
       "    </tr>\n",
       "    <tr>\n",
       "      <th>max</th>\n",
       "      <td>72.000000</td>\n",
       "      <td>900.000000</td>\n",
       "      <td>26049.000000</td>\n",
       "      <td>24882.000000</td>\n",
       "      <td>3244.000000</td>\n",
       "      <td>714.000000</td>\n",
       "      <td>38073.000000</td>\n",
       "      <td>100.000000</td>\n",
       "      <td>99.000000</td>\n",
       "      <td>99773.000000</td>\n",
       "      <td>99.000000</td>\n",
       "      <td>99773.000000</td>\n",
       "    </tr>\n",
       "  </tbody>\n",
       "</table>\n",
       "</div>"
      ],
      "text/plain": [
       "                cd           cm  juan_fernando_cristo  humberto_de_la_calle  \\\n",
       "count  1123.000000  1123.000000           1123.000000           1123.000000   \n",
       "mean     19.042743   111.634907            289.204809            325.608192   \n",
       "std      14.403900   132.696322           1143.146400           1256.985333   \n",
       "min       1.000000     1.000000              0.000000              0.000000   \n",
       "25%       7.000000    28.000000             18.000000             22.000000   \n",
       "50%      16.000000    70.000000             70.000000             62.000000   \n",
       "75%      27.000000   150.000000            242.000000            194.500000   \n",
       "max      72.000000   900.000000          26049.000000          24882.000000   \n",
       "\n",
       "       votos_nulos  votos_no_marcados   total_votos    closeness      cod_dep  \\\n",
       "count  1123.000000        1123.000000   1123.000000  1123.000000  1123.000000   \n",
       "mean     36.474622          11.687444    662.975067    96.647373    36.571683   \n",
       "std     149.834401          49.470902   2209.532263    14.633806    26.050188   \n",
       "min       0.000000           0.000000      1.000000     0.000000    -1.000000   \n",
       "25%       3.000000           1.000000     72.000000   100.000000    15.000000   \n",
       "50%       8.000000           3.000000    189.000000   100.000000    25.000000   \n",
       "75%      20.000000           8.000000    487.500000   100.000000    63.000000   \n",
       "max    3244.000000         714.000000  38073.000000   100.000000    99.000000   \n",
       "\n",
       "            cod_mun     cod_dep1      cod_mun1  \n",
       "count   1123.000000  1123.000000   1123.000000  \n",
       "mean   37012.286732    36.571683  37012.286732  \n",
       "std    26012.851442    26.050188  26012.851442  \n",
       "min       -1.000000    -1.000000     -1.000000  \n",
       "25%    15515.000000    15.000000  15515.000000  \n",
       "50%    25736.000000    25.000000  25736.000000  \n",
       "75%    63120.500000    63.000000  63120.500000  \n",
       "max    99773.000000    99.000000  99773.000000  "
      ]
     },
     "execution_count": 7,
     "metadata": {},
     "output_type": "execute_result"
    }
   ],
   "source": [
    "df_liberal.describe()"
   ]
  },
  {
   "cell_type": "markdown",
   "metadata": {
    "slideshow": {
     "slide_type": "subslide"
    }
   },
   "source": [
    "### Funciones útiles y rápidas\n",
    "* value_counts()\n",
    "* max()/min()/mean()\n",
    "* unique()/drop_duplicates()\n"
   ]
  },
  {
   "cell_type": "code",
   "execution_count": 11,
   "metadata": {
    "slideshow": {
     "slide_type": "-"
    }
   },
   "outputs": [
    {
     "data": {
      "text/plain": [
       "0       ANTIOQUIA\n",
       "1       ANTIOQUIA\n",
       "2       ANTIOQUIA\n",
       "3       ANTIOQUIA\n",
       "4       ANTIOQUIA\n",
       "          ...    \n",
       "1118       VAUPES\n",
       "1119      VICHADA\n",
       "1120      VICHADA\n",
       "1121      VICHADA\n",
       "1122      VICHADA\n",
       "Name: departamento, Length: 1123, dtype: object"
      ]
     },
     "execution_count": 11,
     "metadata": {},
     "output_type": "execute_result"
    }
   ],
   "source": [
    "df_liberal.departamento"
   ]
  },
  {
   "cell_type": "markdown",
   "metadata": {
    "slideshow": {
     "slide_type": "subslide"
    }
   },
   "source": [
    "### import seaborn as sns\n",
    "* Scatterplot\n",
    "* Distplot/Histplot/Barplot/Boxplot\n",
    "* Joinplot/Pairplot\n",
    "* Corrheatmap"
   ]
  },
  {
   "cell_type": "markdown",
   "metadata": {
    "slideshow": {
     "slide_type": "notes"
    }
   },
   "source": [
    "Librería pensada específicamente para hacer análisis estadísticos\n",
    "\n",
    "Desarrollada encima de matplotlib\n",
    "\n",
    "Pensada para integrarse muy bien con Pandas"
   ]
  },
  {
   "cell_type": "code",
   "execution_count": 12,
   "metadata": {
    "cell_style": "split",
    "code_folding": [],
    "slideshow": {
     "slide_type": "subslide"
    }
   },
   "outputs": [
    {
     "data": {
      "text/html": [
       "<div>\n",
       "<style scoped>\n",
       "    .dataframe tbody tr th:only-of-type {\n",
       "        vertical-align: middle;\n",
       "    }\n",
       "\n",
       "    .dataframe tbody tr th {\n",
       "        vertical-align: top;\n",
       "    }\n",
       "\n",
       "    .dataframe thead th {\n",
       "        text-align: right;\n",
       "    }\n",
       "</style>\n",
       "<table border=\"1\" class=\"dataframe\">\n",
       "  <thead>\n",
       "    <tr style=\"text-align: right;\">\n",
       "      <th></th>\n",
       "      <th>cd</th>\n",
       "      <th>departamento</th>\n",
       "      <th>cm</th>\n",
       "      <th>municipio</th>\n",
       "      <th>juan_fernando_cristo</th>\n",
       "      <th>humberto_de_la_calle</th>\n",
       "      <th>votos_nulos</th>\n",
       "      <th>votos_no_marcados</th>\n",
       "      <th>total_votos</th>\n",
       "      <th>nom_dep_mun</th>\n",
       "      <th>cod_dep_mun</th>\n",
       "      <th>closeness</th>\n",
       "      <th>cod_dep</th>\n",
       "      <th>cod_mun</th>\n",
       "      <th>cod_dep1</th>\n",
       "      <th>cod_mun1</th>\n",
       "    </tr>\n",
       "  </thead>\n",
       "  <tbody>\n",
       "    <tr>\n",
       "      <th>0</th>\n",
       "      <td>1</td>\n",
       "      <td>ANTIOQUIA</td>\n",
       "      <td>1</td>\n",
       "      <td>MEDELLIN</td>\n",
       "      <td>4259</td>\n",
       "      <td>12523</td>\n",
       "      <td>1237</td>\n",
       "      <td>360</td>\n",
       "      <td>18379</td>\n",
       "      <td>antioquia_medellin</td>\n",
       "      <td>05_5001.0</td>\n",
       "      <td>100</td>\n",
       "      <td>5</td>\n",
       "      <td>5001</td>\n",
       "      <td>5</td>\n",
       "      <td>5001</td>\n",
       "    </tr>\n",
       "    <tr>\n",
       "      <th>1</th>\n",
       "      <td>1</td>\n",
       "      <td>ANTIOQUIA</td>\n",
       "      <td>4</td>\n",
       "      <td>ABEJORRAL</td>\n",
       "      <td>21</td>\n",
       "      <td>280</td>\n",
       "      <td>10</td>\n",
       "      <td>5</td>\n",
       "      <td>316</td>\n",
       "      <td>antioquia_abejorral</td>\n",
       "      <td>05_5002.0</td>\n",
       "      <td>100</td>\n",
       "      <td>5</td>\n",
       "      <td>5002</td>\n",
       "      <td>5</td>\n",
       "      <td>5002</td>\n",
       "    </tr>\n",
       "    <tr>\n",
       "      <th>2</th>\n",
       "      <td>1</td>\n",
       "      <td>ANTIOQUIA</td>\n",
       "      <td>7</td>\n",
       "      <td>ABRIAQUI</td>\n",
       "      <td>2</td>\n",
       "      <td>7</td>\n",
       "      <td>1</td>\n",
       "      <td>0</td>\n",
       "      <td>10</td>\n",
       "      <td>antioquia_abriaqui</td>\n",
       "      <td>05_5004.0</td>\n",
       "      <td>100</td>\n",
       "      <td>5</td>\n",
       "      <td>5004</td>\n",
       "      <td>5</td>\n",
       "      <td>5004</td>\n",
       "    </tr>\n",
       "  </tbody>\n",
       "</table>\n",
       "</div>"
      ],
      "text/plain": [
       "   cd departamento  cm  municipio  juan_fernando_cristo  humberto_de_la_calle  \\\n",
       "0   1    ANTIOQUIA   1   MEDELLIN                  4259                 12523   \n",
       "1   1    ANTIOQUIA   4  ABEJORRAL                    21                   280   \n",
       "2   1    ANTIOQUIA   7   ABRIAQUI                     2                     7   \n",
       "\n",
       "   votos_nulos  votos_no_marcados  total_votos          nom_dep_mun  \\\n",
       "0         1237                360        18379   antioquia_medellin   \n",
       "1           10                  5          316  antioquia_abejorral   \n",
       "2            1                  0           10   antioquia_abriaqui   \n",
       "\n",
       "  cod_dep_mun  closeness  cod_dep  cod_mun  cod_dep1  cod_mun1  \n",
       "0   05_5001.0        100        5     5001         5      5001  \n",
       "1   05_5002.0        100        5     5002         5      5002  \n",
       "2   05_5004.0        100        5     5004         5      5004  "
      ]
     },
     "execution_count": 12,
     "metadata": {},
     "output_type": "execute_result"
    }
   ],
   "source": [
    "import seaborn as sns\n",
    "df_liberal.head(3)"
   ]
  },
  {
   "cell_type": "markdown",
   "metadata": {
    "cell_style": "split",
    "slideshow": {
     "slide_type": "-"
    }
   },
   "source": [
    "* [Scatterplot](https://seaborn.pydata.org/generated/seaborn.scatterplot.html)\n"
   ]
  },
  {
   "cell_type": "markdown",
   "metadata": {
    "cell_style": "split",
    "slideshow": {
     "slide_type": "-"
    }
   },
   "source": [
    "* [Displot](https://seaborn.pydata.org/generated/seaborn.distplot.html)"
   ]
  },
  {
   "cell_type": "markdown",
   "metadata": {
    "cell_style": "split",
    "slideshow": {
     "slide_type": "-"
    }
   },
   "source": [
    "* [Jointplot](https://seaborn.pydata.org/generated/seaborn.jointplot.html)"
   ]
  },
  {
   "cell_type": "code",
   "execution_count": 13,
   "metadata": {
    "code_folding": [],
    "slideshow": {
     "slide_type": "fragment"
    }
   },
   "outputs": [
    {
     "data": {
      "text/plain": [
       "<matplotlib.axes._subplots.AxesSubplot at 0x297b0117400>"
      ]
     },
     "execution_count": 13,
     "metadata": {},
     "output_type": "execute_result"
    },
    {
     "data": {
      "image/png": "[encoded data removed]",
      "text/plain": [
       "<Figure size 432x288 with 1 Axes>"
      ]
     },
     "metadata": {
      "needs_background": "light"
     },
     "output_type": "display_data"
    }
   ],
   "source": [
    "sns.scatterplot(data=df_liberal.head(3), \n",
    "                x=\"total_votos\", \n",
    "                y=\"humberto_de_la_calle\")"
   ]
  },
  {
   "cell_type": "code",
   "execution_count": 14,
   "metadata": {
    "slideshow": {
     "slide_type": "subslide"
    }
   },
   "outputs": [],
   "source": [
    "x = \"total_votos\"\n",
    "size= None"
   ]
  },
  {
   "cell_type": "code",
   "execution_count": 15,
   "metadata": {
    "code_folding": [
     0
    ],
    "slideshow": {
     "slide_type": "-"
    }
   },
   "outputs": [
    {
     "data": {
      "image/png": "[encoded data removed]",
      "text/plain": [
       "<Figure size 1080x360 with 1 Axes>"
      ]
     },
     "metadata": {
      "needs_background": "light"
     },
     "output_type": "display_data"
    }
   ],
   "source": [
    "#resp_scatter\n",
    "import matplotlib.pyplot as plt\n",
    "plt.figure(figsize=(15,5))\n",
    "ax = plt.subplot(1,1,1)\n",
    "sns.scatterplot(data=df_liberal, \n",
    "                x=x, \n",
    "                y=\"humberto_de_la_calle\",\n",
    "                alpha=0.5, \n",
    "                size=size,\n",
    "                color='blue',\n",
    "                label='De la Calle',\n",
    "               ax=ax)\n",
    "sns.scatterplot(data=df_liberal, \n",
    "                x=x, \n",
    "                y=\"juan_fernando_cristo\",\n",
    "                size=size,\n",
    "                alpha=0.5, \n",
    "                color='red',\n",
    "                label='Cristo',\n",
    "               ax=ax)\n",
    "\n",
    "plt.legend()\n",
    "plt.ylabel('votos_candidato')\n",
    "plt.show()"
   ]
  },
  {
   "cell_type": "markdown",
   "metadata": {
    "slideshow": {
     "slide_type": "subslide"
    }
   },
   "source": [
    "### Retomemos las preguntas..."
   ]
  },
  {
   "cell_type": "markdown",
   "metadata": {
    "cell_style": "center",
    "slideshow": {
     "slide_type": "fragment"
    }
   },
   "source": [
    "* ¿Cuáles fueron los departamentos más importantes en ambas elecciones? ¿Y los municipios?"
   ]
  },
  {
   "cell_type": "markdown",
   "metadata": {
    "cell_style": "split",
    "slideshow": {
     "slide_type": "fragment"
    }
   },
   "source": [
    "Veamos [lo que dijo](https://lasillavacia.com/cinco-conclusiones-de-la-consulta-liberal-63522) La Silla Vacía: "
   ]
  },
  {
   "cell_type": "markdown",
   "metadata": {
    "cell_style": "split",
    "slideshow": {
     "slide_type": "-"
    }
   },
   "source": [
    "<div class=\"naked-img\">\n",
    "    <img src=\"../files/liberal_la_silla.JPG\" width=\"900\">\n",
    "</div>\n",
    "<script>\n",
    "    $(\"naked-img\").css(\"margin-left\", \"15%\");\n",
    "</script>"
   ]
  },
  {
   "cell_type": "markdown",
   "metadata": {
    "slideshow": {
     "slide_type": "subslide"
    }
   },
   "source": [
    "### Vamos a reconstruir sus pasos"
   ]
  },
  {
   "cell_type": "code",
   "execution_count": 61,
   "metadata": {
    "code_folding": [],
    "slideshow": {
     "slide_type": "fragment"
    }
   },
   "outputs": [],
   "source": [
    "temp = pd.pivot_table(index='departamento', \n",
    "                      aggfunc={'juan_fernando_cristo':'sum', 'humberto_de_la_calle':'sum','total_votos':'sum'}, \n",
    "                      data=df_liberal).reset_index()"
   ]
  },
  {
   "cell_type": "code",
   "execution_count": 62,
   "metadata": {
    "slideshow": {
     "slide_type": "fragment"
    }
   },
   "outputs": [
    {
     "data": {
      "text/html": [
       "<div>\n",
       "<style scoped>\n",
       "    .dataframe tbody tr th:only-of-type {\n",
       "        vertical-align: middle;\n",
       "    }\n",
       "\n",
       "    .dataframe tbody tr th {\n",
       "        vertical-align: top;\n",
       "    }\n",
       "\n",
       "    .dataframe thead th {\n",
       "        text-align: right;\n",
       "    }\n",
       "</style>\n",
       "<table border=\"1\" class=\"dataframe\">\n",
       "  <thead>\n",
       "    <tr style=\"text-align: right;\">\n",
       "      <th></th>\n",
       "      <th>departamento</th>\n",
       "      <th>humberto_de_la_calle</th>\n",
       "      <th>juan_fernando_cristo</th>\n",
       "      <th>total_votos</th>\n",
       "    </tr>\n",
       "  </thead>\n",
       "  <tbody>\n",
       "    <tr>\n",
       "      <th>4</th>\n",
       "      <td>BOGOTA D.C.</td>\n",
       "      <td>75144</td>\n",
       "      <td>16021</td>\n",
       "      <td>100106</td>\n",
       "    </tr>\n",
       "    <tr>\n",
       "      <th>1</th>\n",
       "      <td>ANTIOQUIA</td>\n",
       "      <td>38818</td>\n",
       "      <td>31633</td>\n",
       "      <td>75893</td>\n",
       "    </tr>\n",
       "    <tr>\n",
       "      <th>30</th>\n",
       "      <td>VALLE</td>\n",
       "      <td>47458</td>\n",
       "      <td>21202</td>\n",
       "      <td>74631</td>\n",
       "    </tr>\n",
       "    <tr>\n",
       "      <th>3</th>\n",
       "      <td>ATLANTICO</td>\n",
       "      <td>29084</td>\n",
       "      <td>38997</td>\n",
       "      <td>71093</td>\n",
       "    </tr>\n",
       "    <tr>\n",
       "      <th>22</th>\n",
       "      <td>NORTE DE SANTANDER</td>\n",
       "      <td>3798</td>\n",
       "      <td>39002</td>\n",
       "      <td>48111</td>\n",
       "    </tr>\n",
       "  </tbody>\n",
       "</table>\n",
       "</div>"
      ],
      "text/plain": [
       "          departamento  humberto_de_la_calle  juan_fernando_cristo  \\\n",
       "4          BOGOTA D.C.                 75144                 16021   \n",
       "1            ANTIOQUIA                 38818                 31633   \n",
       "30               VALLE                 47458                 21202   \n",
       "3            ATLANTICO                 29084                 38997   \n",
       "22  NORTE DE SANTANDER                  3798                 39002   \n",
       "\n",
       "    total_votos  \n",
       "4        100106  \n",
       "1         75893  \n",
       "30        74631  \n",
       "3         71093  \n",
       "22        48111  "
      ]
     },
     "execution_count": 62,
     "metadata": {},
     "output_type": "execute_result"
    }
   ],
   "source": [
    "temp.sort_values(by='total_votos',ascending=False).head(5)"
   ]
  },
  {
   "cell_type": "code",
   "execution_count": 65,
   "metadata": {
    "code_folding": [
     0,
     19
    ],
    "slideshow": {
     "slide_type": "subslide"
    }
   },
   "outputs": [
    {
     "data": {
      "image/png": "[encoded data removed]",
      "text/plain": [
       "<Figure size 1080x720 with 1 Axes>"
      ]
     },
     "metadata": {
      "needs_background": "light"
     },
     "output_type": "display_data"
    }
   ],
   "source": [
    "#plot\n",
    "import seaborn as sns\n",
    "import matplotlib.pyplot as plt\n",
    "\n",
    "plt.figure(figsize=(15,10))\n",
    "ax = plt.subplot(1,1,1)\n",
    "sns.barplot(y='departamento',\n",
    "            x='total_votos',\n",
    "            data=temp.sort_values(by='total_votos',\n",
    "                                  ascending=False),\n",
    "            color='red',\n",
    "            label='De La Calle',\n",
    "            alpha=0.9,\n",
    "            ax=ax)\n",
    "plt.grid(axis='x')\n",
    "\n",
    "ax.tick_params(axis='x',\n",
    "               labelrotation=0)\n",
    "\n",
    "sns.barplot(y='departamento',\n",
    "            x='juan_fernando_cristo',\n",
    "            data=temp.sort_values(by='total_votos',\n",
    "                                  ascending=False),\n",
    "            color='grey',\n",
    "            label='Cristo',\n",
    "            alpha=1,\n",
    "            ax=ax)\n",
    "ax.set_ylabel('departamento',fontsize=20)\n",
    "ax.set_xlabel('votos recibidos',fontsize=20)\n",
    "ax.legend()\n",
    "plt.show()"
   ]
  },
  {
   "cell_type": "markdown",
   "metadata": {
    "cell_style": "split",
    "slideshow": {
     "slide_type": "subslide"
    }
   },
   "source": [
    "<div class=\"naked-img\">\n",
    "    <img src=\"../files/liberal_la_silla.JPG\" width=\"900\">\n",
    "</div>\n",
    "<script>\n",
    "    $(\"naked-img\").css(\"margin-left\", \"15%\");\n",
    "</script>"
   ]
  },
  {
   "cell_type": "code",
   "execution_count": 66,
   "metadata": {
    "cell_style": "split",
    "code_folding": [
     0
    ],
    "slideshow": {
     "slide_type": "-"
    }
   },
   "outputs": [
    {
     "data": {
      "image/png": "[encoded data removed]",
      "text/plain": [
       "<Figure size 1080x720 with 1 Axes>"
      ]
     },
     "metadata": {
      "needs_background": "light"
     },
     "output_type": "display_data"
    }
   ],
   "source": [
    "#plot\n",
    "import seaborn as sns\n",
    "import matplotlib.pyplot as plt\n",
    "\n",
    "plt.figure(figsize=(15,10))\n",
    "ax = plt.subplot(1,1,1)\n",
    "sns.barplot(y='departamento',\n",
    "            x='total_votos',\n",
    "            data=temp.sort_values(by='total_votos',\n",
    "                                  ascending=False),\n",
    "            color='red',\n",
    "            label='De La Calle',\n",
    "            alpha=0.9,\n",
    "            ax=ax)\n",
    "plt.grid(axis='x')\n",
    "\n",
    "ax.tick_params(axis='x',\n",
    "               labelrotation=0)\n",
    "\n",
    "sns.barplot(y='departamento',\n",
    "            x='juan_fernando_cristo',\n",
    "            data=temp.sort_values(by='total_votos',\n",
    "                                  ascending=False),\n",
    "            color='grey',\n",
    "            label='Cristo',\n",
    "            alpha=1,\n",
    "            ax=ax)\n",
    "ax.set_ylabel('departamento',fontsize=20)\n",
    "ax.set_xlabel('votos recibidos',fontsize=20)\n",
    "ax.legend()\n",
    "plt.show()"
   ]
  },
  {
   "cell_type": "markdown",
   "metadata": {
    "slideshow": {
     "slide_type": "subslide"
    }
   },
   "source": [
    "### ¿Alguien vio el error?"
   ]
  },
  {
   "cell_type": "code",
   "execution_count": 20,
   "metadata": {
    "slideshow": {
     "slide_type": "fragment"
    }
   },
   "outputs": [],
   "source": [
    "temp['dif_abs'] = temp.humberto_de_la_calle - temp.juan_fernando_cristo"
   ]
  },
  {
   "cell_type": "code",
   "execution_count": 21,
   "metadata": {
    "slideshow": {
     "slide_type": "fragment"
    }
   },
   "outputs": [
    {
     "data": {
      "text/html": [
       "<div>\n",
       "<style scoped>\n",
       "    .dataframe tbody tr th:only-of-type {\n",
       "        vertical-align: middle;\n",
       "    }\n",
       "\n",
       "    .dataframe tbody tr th {\n",
       "        vertical-align: top;\n",
       "    }\n",
       "\n",
       "    .dataframe thead th {\n",
       "        text-align: right;\n",
       "    }\n",
       "</style>\n",
       "<table border=\"1\" class=\"dataframe\">\n",
       "  <thead>\n",
       "    <tr style=\"text-align: right;\">\n",
       "      <th></th>\n",
       "      <th>departamento</th>\n",
       "      <th>humberto_de_la_calle</th>\n",
       "      <th>juan_fernando_cristo</th>\n",
       "      <th>total_votos</th>\n",
       "      <th>dif_abs</th>\n",
       "    </tr>\n",
       "  </thead>\n",
       "  <tbody>\n",
       "    <tr>\n",
       "      <th>4</th>\n",
       "      <td>BOGOTA D.C.</td>\n",
       "      <td>75144</td>\n",
       "      <td>16021</td>\n",
       "      <td>100106</td>\n",
       "      <td>59123</td>\n",
       "    </tr>\n",
       "    <tr>\n",
       "      <th>30</th>\n",
       "      <td>VALLE</td>\n",
       "      <td>47458</td>\n",
       "      <td>21202</td>\n",
       "      <td>74631</td>\n",
       "      <td>26256</td>\n",
       "    </tr>\n",
       "    <tr>\n",
       "      <th>17</th>\n",
       "      <td>HUILA</td>\n",
       "      <td>11481</td>\n",
       "      <td>1228</td>\n",
       "      <td>13949</td>\n",
       "      <td>10253</td>\n",
       "    </tr>\n",
       "    <tr>\n",
       "      <th>20</th>\n",
       "      <td>META</td>\n",
       "      <td>12005</td>\n",
       "      <td>3340</td>\n",
       "      <td>17272</td>\n",
       "      <td>8665</td>\n",
       "    </tr>\n",
       "    <tr>\n",
       "      <th>1</th>\n",
       "      <td>ANTIOQUIA</td>\n",
       "      <td>38818</td>\n",
       "      <td>31633</td>\n",
       "      <td>75893</td>\n",
       "      <td>7185</td>\n",
       "    </tr>\n",
       "  </tbody>\n",
       "</table>\n",
       "</div>"
      ],
      "text/plain": [
       "   departamento  humberto_de_la_calle  juan_fernando_cristo  total_votos  \\\n",
       "4   BOGOTA D.C.                 75144                 16021       100106   \n",
       "30        VALLE                 47458                 21202        74631   \n",
       "17        HUILA                 11481                  1228        13949   \n",
       "20         META                 12005                  3340        17272   \n",
       "1     ANTIOQUIA                 38818                 31633        75893   \n",
       "\n",
       "    dif_abs  \n",
       "4     59123  \n",
       "30    26256  \n",
       "17    10253  \n",
       "20     8665  \n",
       "1      7185  "
      ]
     },
     "execution_count": 21,
     "metadata": {},
     "output_type": "execute_result"
    }
   ],
   "source": [
    "temp.sort_values(by='dif_abs',ascending=False).head()"
   ]
  },
  {
   "cell_type": "code",
   "execution_count": 22,
   "metadata": {
    "slideshow": {
     "slide_type": "-"
    }
   },
   "outputs": [
    {
     "data": {
      "text/html": [
       "<div>\n",
       "<style scoped>\n",
       "    .dataframe tbody tr th:only-of-type {\n",
       "        vertical-align: middle;\n",
       "    }\n",
       "\n",
       "    .dataframe tbody tr th {\n",
       "        vertical-align: top;\n",
       "    }\n",
       "\n",
       "    .dataframe thead th {\n",
       "        text-align: right;\n",
       "    }\n",
       "</style>\n",
       "<table border=\"1\" class=\"dataframe\">\n",
       "  <thead>\n",
       "    <tr style=\"text-align: right;\">\n",
       "      <th></th>\n",
       "      <th>departamento</th>\n",
       "      <th>humberto_de_la_calle</th>\n",
       "      <th>juan_fernando_cristo</th>\n",
       "      <th>total_votos</th>\n",
       "      <th>dif_abs</th>\n",
       "    </tr>\n",
       "  </thead>\n",
       "  <tbody>\n",
       "    <tr>\n",
       "      <th>21</th>\n",
       "      <td>NARIÑO</td>\n",
       "      <td>8255</td>\n",
       "      <td>14801</td>\n",
       "      <td>24293</td>\n",
       "      <td>-6546</td>\n",
       "    </tr>\n",
       "    <tr>\n",
       "      <th>28</th>\n",
       "      <td>SUCRE</td>\n",
       "      <td>8582</td>\n",
       "      <td>15341</td>\n",
       "      <td>24799</td>\n",
       "      <td>-6759</td>\n",
       "    </tr>\n",
       "    <tr>\n",
       "      <th>3</th>\n",
       "      <td>ATLANTICO</td>\n",
       "      <td>29084</td>\n",
       "      <td>38997</td>\n",
       "      <td>71093</td>\n",
       "      <td>-9913</td>\n",
       "    </tr>\n",
       "    <tr>\n",
       "      <th>5</th>\n",
       "      <td>BOLIVAR</td>\n",
       "      <td>5876</td>\n",
       "      <td>27639</td>\n",
       "      <td>34706</td>\n",
       "      <td>-21763</td>\n",
       "    </tr>\n",
       "    <tr>\n",
       "      <th>22</th>\n",
       "      <td>NORTE DE SANTANDER</td>\n",
       "      <td>3798</td>\n",
       "      <td>39002</td>\n",
       "      <td>48111</td>\n",
       "      <td>-35204</td>\n",
       "    </tr>\n",
       "  </tbody>\n",
       "</table>\n",
       "</div>"
      ],
      "text/plain": [
       "          departamento  humberto_de_la_calle  juan_fernando_cristo  \\\n",
       "21              NARIÑO                  8255                 14801   \n",
       "28               SUCRE                  8582                 15341   \n",
       "3            ATLANTICO                 29084                 38997   \n",
       "5              BOLIVAR                  5876                 27639   \n",
       "22  NORTE DE SANTANDER                  3798                 39002   \n",
       "\n",
       "    total_votos  dif_abs  \n",
       "21        24293    -6546  \n",
       "28        24799    -6759  \n",
       "3         71093    -9913  \n",
       "5         34706   -21763  \n",
       "22        48111   -35204  "
      ]
     },
     "execution_count": 22,
     "metadata": {},
     "output_type": "execute_result"
    }
   ],
   "source": [
    "temp.sort_values(by='dif_abs',ascending=False).tail()"
   ]
  },
  {
   "cell_type": "code",
   "execution_count": 23,
   "metadata": {
    "code_folding": [
     0
    ],
    "slideshow": {
     "slide_type": "subslide"
    }
   },
   "outputs": [
    {
     "data": {
      "text/plain": [
       "<matplotlib.legend.Legend at 0x297b2bb5e80>"
      ]
     },
     "execution_count": 23,
     "metadata": {},
     "output_type": "execute_result"
    },
    {
     "data": {
      "image/png": "[encoded data removed]",
      "text/plain": [
       "<Figure size 648x720 with 1 Axes>"
      ]
     },
     "metadata": {
      "needs_background": "light"
     },
     "output_type": "display_data"
    }
   ],
   "source": [
    "#plot_difs\n",
    "import seaborn as sns\n",
    "import matplotlib.pyplot as plt\n",
    "plt.figure(figsize=(9,10))\n",
    "ax = plt.subplot(1,1,1)\n",
    "sns.barplot(y='departamento',\n",
    "            x='humberto_de_la_calle',\n",
    "            data=temp.sort_values(by='dif_abs',\n",
    "                                  ascending=False),\n",
    "            label=\"De La Calle\",\n",
    "            color=\"red\",\n",
    "            alpha=0.85,\n",
    "            ax=ax)\n",
    "sns.barplot(y=temp.sort_values(by='dif_abs',ascending=False)['departamento'],\n",
    "            x=temp.sort_values(by='dif_abs',ascending=False)[\"juan_fernando_cristo\"]*-1,\n",
    "            label=\"Cristo\",\n",
    "            alpha=0.75,\n",
    "            color=\"grey\",\n",
    "            ax=ax)\n",
    "ax.set_ylabel('departamento',fontsize=20)\n",
    "ax.set_xlabel('votos por candidato',fontsize=20)\n",
    "ax.set_xlim(-81000,81000)\n",
    "ax.legend()"
   ]
  },
  {
   "cell_type": "markdown",
   "metadata": {
    "cell_style": "split",
    "code_folding": [],
    "slideshow": {
     "slide_type": "subslide"
    }
   },
   "source": [
    "<div class=\"naked-img\">\n",
    "    <img src=\"../files/liberal_la_silla.JPG\" width=\"900\">\n",
    "</div>\n",
    "<script>\n",
    "    $(\"naked-img\").css(\"margin-left\", \"15%\");\n",
    "</script>"
   ]
  },
  {
   "cell_type": "code",
   "execution_count": 24,
   "metadata": {
    "cell_style": "split",
    "code_folding": [
     0
    ],
    "slideshow": {
     "slide_type": "-"
    }
   },
   "outputs": [
    {
     "data": {
      "image/png": "[encoded data removed]",
      "text/plain": [
       "<Figure size 1080x720 with 1 Axes>"
      ]
     },
     "metadata": {
      "needs_background": "light"
     },
     "output_type": "display_data"
    }
   ],
   "source": [
    "#plot_difs\n",
    "import seaborn as sns\n",
    "import matplotlib.pyplot as plt\n",
    "plt.figure(figsize=(15,10))\n",
    "ax = plt.subplot(1,1,1)\n",
    "sns.barplot(y='departamento',\n",
    "            x='humberto_de_la_calle',\n",
    "            data=temp.sort_values(by='dif_abs',\n",
    "                                  ascending=False),\n",
    "            label=\"De La Calle\",\n",
    "            color=\"red\",\n",
    "            alpha=0.85,\n",
    "            ax=ax)\n",
    "sns.barplot(y=temp.sort_values(by='dif_abs',ascending=False)['departamento'],\n",
    "            x=temp.sort_values(by='dif_abs',ascending=False)[\"juan_fernando_cristo\"]*-1,\n",
    "            label=\"Cristo\",\n",
    "            alpha=0.75,\n",
    "            color=\"grey\",\n",
    "            ax=ax)\n",
    "ax.set_ylabel('departamento',fontsize=20)\n",
    "ax.set_xlabel('votos por candidato',fontsize=20)\n",
    "ax.set_xlim(-81000,81000)\n",
    "ax.legend()\n",
    "plt.show()"
   ]
  },
  {
   "cell_type": "markdown",
   "metadata": {
    "slideshow": {
     "slide_type": "subslide"
    }
   },
   "source": [
    "### ¿Cómo resolverían la pregunta para los municipios?"
   ]
  },
  {
   "cell_type": "code",
   "execution_count": 25,
   "metadata": {
    "slideshow": {
     "slide_type": "fragment"
    }
   },
   "outputs": [],
   "source": [
    "temp_mun = pd.pivot_table(index=['departamento','municipio'], \n",
    "                          aggfunc={'juan_fernando_cristo':'sum', 'humberto_de_la_calle':'sum','total_votos':'sum'}, \n",
    "                          data=df_liberal).reset_index()"
   ]
  },
  {
   "cell_type": "code",
   "execution_count": 26,
   "metadata": {
    "slideshow": {
     "slide_type": "subslide"
    }
   },
   "outputs": [],
   "source": [
    "temp_mun['dif_abs'] = temp_mun.humberto_de_la_calle - temp_mun.juan_fernando_cristo"
   ]
  },
  {
   "cell_type": "code",
   "execution_count": 27,
   "metadata": {
    "slideshow": {
     "slide_type": "fragment"
    }
   },
   "outputs": [
    {
     "data": {
      "text/html": [
       "<div>\n",
       "<style scoped>\n",
       "    .dataframe tbody tr th:only-of-type {\n",
       "        vertical-align: middle;\n",
       "    }\n",
       "\n",
       "    .dataframe tbody tr th {\n",
       "        vertical-align: top;\n",
       "    }\n",
       "\n",
       "    .dataframe thead th {\n",
       "        text-align: right;\n",
       "    }\n",
       "</style>\n",
       "<table border=\"1\" class=\"dataframe\">\n",
       "  <thead>\n",
       "    <tr style=\"text-align: right;\">\n",
       "      <th></th>\n",
       "      <th>departamento</th>\n",
       "      <th>municipio</th>\n",
       "      <th>humberto_de_la_calle</th>\n",
       "      <th>juan_fernando_cristo</th>\n",
       "      <th>total_votos</th>\n",
       "      <th>dif_abs</th>\n",
       "    </tr>\n",
       "  </thead>\n",
       "  <tbody>\n",
       "    <tr>\n",
       "      <th>1083</th>\n",
       "      <td>VALLE</td>\n",
       "      <td>CALI</td>\n",
       "      <td>24882</td>\n",
       "      <td>6206</td>\n",
       "      <td>33819</td>\n",
       "      <td>18676</td>\n",
       "    </tr>\n",
       "    <tr>\n",
       "      <th>173</th>\n",
       "      <td>BOGOTA D.C.</td>\n",
       "      <td>SUBA</td>\n",
       "      <td>12525</td>\n",
       "      <td>1815</td>\n",
       "      <td>15689</td>\n",
       "      <td>10710</td>\n",
       "    </tr>\n",
       "    <tr>\n",
       "      <th>735</th>\n",
       "      <td>MAGDALENA</td>\n",
       "      <td>SANTA MARTA</td>\n",
       "      <td>11926</td>\n",
       "      <td>2213</td>\n",
       "      <td>14585</td>\n",
       "      <td>9713</td>\n",
       "    </tr>\n",
       "    <tr>\n",
       "      <th>177</th>\n",
       "      <td>BOGOTA D.C.</td>\n",
       "      <td>USAQUEN</td>\n",
       "      <td>11094</td>\n",
       "      <td>1574</td>\n",
       "      <td>13053</td>\n",
       "      <td>9520</td>\n",
       "    </tr>\n",
       "    <tr>\n",
       "      <th>70</th>\n",
       "      <td>ANTIOQUIA</td>\n",
       "      <td>MEDELLIN</td>\n",
       "      <td>12523</td>\n",
       "      <td>4259</td>\n",
       "      <td>18379</td>\n",
       "      <td>8264</td>\n",
       "    </tr>\n",
       "  </tbody>\n",
       "</table>\n",
       "</div>"
      ],
      "text/plain": [
       "     departamento    municipio  humberto_de_la_calle  juan_fernando_cristo  \\\n",
       "1083        VALLE         CALI                 24882                  6206   \n",
       "173   BOGOTA D.C.         SUBA                 12525                  1815   \n",
       "735     MAGDALENA  SANTA MARTA                 11926                  2213   \n",
       "177   BOGOTA D.C.      USAQUEN                 11094                  1574   \n",
       "70      ANTIOQUIA     MEDELLIN                 12523                  4259   \n",
       "\n",
       "      total_votos  dif_abs  \n",
       "1083        33819    18676  \n",
       "173         15689    10710  \n",
       "735         14585     9713  \n",
       "177         13053     9520  \n",
       "70          18379     8264  "
      ]
     },
     "execution_count": 27,
     "metadata": {},
     "output_type": "execute_result"
    }
   ],
   "source": [
    "temp_mun.sort_values(by='dif_abs',ascending=False).head()"
   ]
  },
  {
   "cell_type": "code",
   "execution_count": 28,
   "metadata": {
    "slideshow": {
     "slide_type": "fragment"
    }
   },
   "outputs": [
    {
     "data": {
      "text/html": [
       "<div>\n",
       "<style scoped>\n",
       "    .dataframe tbody tr th:only-of-type {\n",
       "        vertical-align: middle;\n",
       "    }\n",
       "\n",
       "    .dataframe tbody tr th {\n",
       "        vertical-align: top;\n",
       "    }\n",
       "\n",
       "    .dataframe thead th {\n",
       "        text-align: right;\n",
       "    }\n",
       "</style>\n",
       "<table border=\"1\" class=\"dataframe\">\n",
       "  <thead>\n",
       "    <tr style=\"text-align: right;\">\n",
       "      <th></th>\n",
       "      <th>departamento</th>\n",
       "      <th>municipio</th>\n",
       "      <th>humberto_de_la_calle</th>\n",
       "      <th>juan_fernando_cristo</th>\n",
       "      <th>total_votos</th>\n",
       "      <th>dif_abs</th>\n",
       "    </tr>\n",
       "  </thead>\n",
       "  <tbody>\n",
       "    <tr>\n",
       "      <th>1023</th>\n",
       "      <td>SUCRE</td>\n",
       "      <td>SINCELEJO</td>\n",
       "      <td>1774</td>\n",
       "      <td>5015</td>\n",
       "      <td>7132</td>\n",
       "      <td>-3241</td>\n",
       "    </tr>\n",
       "    <tr>\n",
       "      <th>520</th>\n",
       "      <td>CORDOBA</td>\n",
       "      <td>MONTERIA</td>\n",
       "      <td>1371</td>\n",
       "      <td>4612</td>\n",
       "      <td>6206</td>\n",
       "      <td>-3241</td>\n",
       "    </tr>\n",
       "    <tr>\n",
       "      <th>1114</th>\n",
       "      <td>VALLE</td>\n",
       "      <td>YUMBO</td>\n",
       "      <td>1202</td>\n",
       "      <td>5297</td>\n",
       "      <td>6897</td>\n",
       "      <td>-4095</td>\n",
       "    </tr>\n",
       "    <tr>\n",
       "      <th>135</th>\n",
       "      <td>ATLANTICO</td>\n",
       "      <td>BARRANQUILLA</td>\n",
       "      <td>9935</td>\n",
       "      <td>26049</td>\n",
       "      <td>38073</td>\n",
       "      <td>-16114</td>\n",
       "    </tr>\n",
       "    <tr>\n",
       "      <th>842</th>\n",
       "      <td>NORTE DE SANTANDER</td>\n",
       "      <td>CUCUTA</td>\n",
       "      <td>2445</td>\n",
       "      <td>22469</td>\n",
       "      <td>28624</td>\n",
       "      <td>-20024</td>\n",
       "    </tr>\n",
       "  </tbody>\n",
       "</table>\n",
       "</div>"
      ],
      "text/plain": [
       "            departamento     municipio  humberto_de_la_calle  \\\n",
       "1023               SUCRE     SINCELEJO                  1774   \n",
       "520              CORDOBA      MONTERIA                  1371   \n",
       "1114               VALLE         YUMBO                  1202   \n",
       "135            ATLANTICO  BARRANQUILLA                  9935   \n",
       "842   NORTE DE SANTANDER        CUCUTA                  2445   \n",
       "\n",
       "      juan_fernando_cristo  total_votos  dif_abs  \n",
       "1023                  5015         7132    -3241  \n",
       "520                   4612         6206    -3241  \n",
       "1114                  5297         6897    -4095  \n",
       "135                  26049        38073   -16114  \n",
       "842                  22469        28624   -20024  "
      ]
     },
     "execution_count": 28,
     "metadata": {},
     "output_type": "execute_result"
    }
   ],
   "source": [
    "temp_mun.sort_values(by='dif_abs',ascending=False).tail()"
   ]
  },
  {
   "cell_type": "markdown",
   "metadata": {
    "slideshow": {
     "slide_type": "subslide"
    }
   },
   "source": [
    "### Hagamos un par de ejercicios"
   ]
  },
  {
   "cell_type": "markdown",
   "metadata": {
    "slideshow": {
     "slide_type": "fragment"
    }
   },
   "source": [
    "### ¿Cuál es el departamento con más municipios donde ganó Humberto de la Calle?"
   ]
  },
  {
   "cell_type": "markdown",
   "metadata": {
    "slideshow": {
     "slide_type": "fragment"
    }
   },
   "source": [
    "### ¿Qué departamento le es más fiel a Juan Fernando Cristo? ¿Y municipio?"
   ]
  },
  {
   "cell_type": "markdown",
   "metadata": {
    "heading_collapsed": true,
    "slideshow": {
     "slide_type": "fragment"
    }
   },
   "source": [
    "### ¿En qué departamento fue donde más saboteron la consulta? ¿Por qué vale la pena perseguir esos inidicios?"
   ]
  },
  {
   "cell_type": "markdown",
   "metadata": {
    "slideshow": {
     "slide_type": "slide"
    }
   },
   "source": [
    "# Pequeño resumen del módulo"
   ]
  },
  {
   "cell_type": "markdown",
   "metadata": {
    "slideshow": {
     "slide_type": "fragment"
    }
   },
   "source": [
    "### Aprendimos...\n",
    "* El reportaje se preocupa por el fenómeno estructural y no solo por los hechos\n",
    "* Los datos son una herramienta y primero va la historia\n",
    "* Nuestra reportería va dirigida por preguntas: planteamos preguntas, exploramos los datos y volvemos a empezar"
   ]
  },
  {
   "cell_type": "markdown",
   "metadata": {
    "slideshow": {
     "slide_type": "subslide"
    }
   },
   "source": [
    "### Aprendimos...\n",
    "* Seaborn es una librería para hacer visualizaciones estadísticas muy útil\n",
    "* Cuando crea resolver una pregunta debo pensar cómo podría falsear la respuesta\n",
    "* A veces sirve pensar en términos relativos, otras veces en absolutos. Debo explorar varios caminos"
   ]
  },
  {
   "cell_type": "markdown",
   "metadata": {
    "slideshow": {
     "slide_type": "slide"
    }
   },
   "source": [
    "# La consulta liberal y el plebiscito - Parte 2 (autónomo)"
   ]
  },
  {
   "cell_type": "markdown",
   "metadata": {
    "slideshow": {
     "slide_type": "-"
    }
   },
   "source": [
    "<div class=\"naked-img\">\n",
    "    <img src=\"../files/el_uniandino.png\" width=\"500\">\n",
    "</div>\n",
    "<script>\n",
    "    $(\"naked-img\").css(\"margin-left\", \"15%\");\n",
    "</script>"
   ]
  },
  {
   "cell_type": "code",
   "execution_count": 8,
   "metadata": {
    "slideshow": {
     "slide_type": "subslide"
    }
   },
   "outputs": [],
   "source": [
    "# carguemos datos del plebiscito\n",
    "df_plebi = pd.read_csv(\"../../periodismo_datos_101/data/liberal_plebi/scrape_plebiscito_cod.csv\")"
   ]
  },
  {
   "cell_type": "markdown",
   "metadata": {
    "slideshow": {
     "slide_type": "subslide"
    }
   },
   "source": [
    "## Ejercicio - Data Wrangling\n",
    "Colapsar las localidades de Bogotá en un solo registro para poder cruzar esa entrada con los datos del plebiscito"
   ]
  },
  {
   "cell_type": "code",
   "execution_count": 9,
   "metadata": {
    "code_folding": [
     0
    ],
    "slideshow": {
     "slide_type": "notes"
    }
   },
   "outputs": [],
   "source": [
    "# Respuesta\n",
    "df_liberal1 = df_liberal.copy()\n",
    "\n",
    "df_liberal1.loc[df_liberal1.departamento=='BOGOTA D.C.','cod_dep'] = 11\n",
    "df_liberal1.loc[df_liberal1.departamento=='BOGOTA D.C.','cod_mun'] = 11001\n",
    "df_liberal1.loc[df_liberal1.departamento=='BOGOTA D.C.','municipio'] = 'BOGOTA D.C.'\n",
    "df_liberal1 = pd.pivot_table(index=['departamento', 'municipio', 'cod_dep', 'cod_mun'],\n",
    "                             aggfunc={'juan_fernando_cristo':'sum',\n",
    "                                      'humberto_de_la_calle':'sum',\n",
    "                                      'votos_nulos':'sum',\n",
    "                                      'votos_no_marcados':'sum',\n",
    "                                      'total_votos':'sum'},\n",
    "                             data=df_liberal1).reset_index()"
   ]
  },
  {
   "cell_type": "code",
   "execution_count": 10,
   "metadata": {
    "slideshow": {
     "slide_type": "subslide"
    }
   },
   "outputs": [],
   "source": [
    "df_total = df_liberal1.merge(df_plebi, how='left', on=['cod_dep','cod_mun'])"
   ]
  },
  {
   "cell_type": "code",
   "execution_count": 11,
   "metadata": {
    "slideshow": {
     "slide_type": "fragment"
    }
   },
   "outputs": [
    {
     "data": {
      "text/html": [
       "<div>\n",
       "<style scoped>\n",
       "    .dataframe tbody tr th:only-of-type {\n",
       "        vertical-align: middle;\n",
       "    }\n",
       "\n",
       "    .dataframe tbody tr th {\n",
       "        vertical-align: top;\n",
       "    }\n",
       "\n",
       "    .dataframe thead th {\n",
       "        text-align: right;\n",
       "    }\n",
       "</style>\n",
       "<table border=\"1\" class=\"dataframe\">\n",
       "  <thead>\n",
       "    <tr style=\"text-align: right;\">\n",
       "      <th></th>\n",
       "      <th>departamento_x</th>\n",
       "      <th>municipio_x</th>\n",
       "      <th>cod_dep</th>\n",
       "      <th>cod_mun</th>\n",
       "      <th>humberto_de_la_calle</th>\n",
       "      <th>juan_fernando_cristo</th>\n",
       "      <th>total_votos</th>\n",
       "      <th>votos_no_marcados_x</th>\n",
       "      <th>votos_nulos_x</th>\n",
       "      <th>Unnamed: 0</th>\n",
       "      <th>municipio_y</th>\n",
       "      <th>link</th>\n",
       "      <th>departamento_y</th>\n",
       "      <th>votos_si</th>\n",
       "      <th>votos_no</th>\n",
       "      <th>votos_validos</th>\n",
       "      <th>votos_no_marcados_y</th>\n",
       "      <th>votos_nulos_y</th>\n",
       "      <th>votos_totales</th>\n",
       "      <th>votos_habilitados</th>\n",
       "      <th>nom_dep_mun</th>\n",
       "      <th>cod_dep_mun</th>\n",
       "      <th>closeness</th>\n",
       "    </tr>\n",
       "  </thead>\n",
       "  <tbody>\n",
       "    <tr>\n",
       "      <th>0</th>\n",
       "      <td>AMAZONAS</td>\n",
       "      <td>LETICIA</td>\n",
       "      <td>91</td>\n",
       "      <td>91001</td>\n",
       "      <td>335</td>\n",
       "      <td>502</td>\n",
       "      <td>870</td>\n",
       "      <td>13</td>\n",
       "      <td>20</td>\n",
       "      <td>4</td>\n",
       "      <td>LETICIA</td>\n",
       "      <td>../99PL/DPL60001ZZZZZZZZZZZZ_L1.htm</td>\n",
       "      <td>AMAZONAS</td>\n",
       "      <td>4403</td>\n",
       "      <td>4463</td>\n",
       "      <td>8866</td>\n",
       "      <td>40</td>\n",
       "      <td>84</td>\n",
       "      <td>8990</td>\n",
       "      <td>34592</td>\n",
       "      <td>amazonas_leticia</td>\n",
       "      <td>91_91001.0</td>\n",
       "      <td>100</td>\n",
       "    </tr>\n",
       "    <tr>\n",
       "      <th>1</th>\n",
       "      <td>AMAZONAS</td>\n",
       "      <td>PUERTO NARIÑO</td>\n",
       "      <td>91</td>\n",
       "      <td>91540</td>\n",
       "      <td>46</td>\n",
       "      <td>356</td>\n",
       "      <td>426</td>\n",
       "      <td>10</td>\n",
       "      <td>14</td>\n",
       "      <td>8</td>\n",
       "      <td>PUERTO NARIÃO</td>\n",
       "      <td>../99PL/DPL60007ZZZZZZZZZZZZ_L1.htm</td>\n",
       "      <td>AMAZONAS</td>\n",
       "      <td>830</td>\n",
       "      <td>274</td>\n",
       "      <td>1104</td>\n",
       "      <td>32</td>\n",
       "      <td>17</td>\n",
       "      <td>1153</td>\n",
       "      <td>4317</td>\n",
       "      <td>amazonas_puerto nariao</td>\n",
       "      <td>91_91540.0</td>\n",
       "      <td>95</td>\n",
       "    </tr>\n",
       "    <tr>\n",
       "      <th>2</th>\n",
       "      <td>ANTIOQUIA</td>\n",
       "      <td>ABEJORRAL</td>\n",
       "      <td>5</td>\n",
       "      <td>5002</td>\n",
       "      <td>280</td>\n",
       "      <td>21</td>\n",
       "      <td>316</td>\n",
       "      <td>5</td>\n",
       "      <td>10</td>\n",
       "      <td>11</td>\n",
       "      <td>ABEJORRAL</td>\n",
       "      <td>../99PL/DPL01004ZZZZZZZZZZZZ_L1.htm</td>\n",
       "      <td>ANTIOQUIA</td>\n",
       "      <td>1296</td>\n",
       "      <td>2105</td>\n",
       "      <td>3401</td>\n",
       "      <td>194</td>\n",
       "      <td>52</td>\n",
       "      <td>3647</td>\n",
       "      <td>15274</td>\n",
       "      <td>antioquia_abejorral</td>\n",
       "      <td>05_5002.0</td>\n",
       "      <td>100</td>\n",
       "    </tr>\n",
       "    <tr>\n",
       "      <th>3</th>\n",
       "      <td>ANTIOQUIA</td>\n",
       "      <td>ABRIAQUI</td>\n",
       "      <td>5</td>\n",
       "      <td>5004</td>\n",
       "      <td>7</td>\n",
       "      <td>2</td>\n",
       "      <td>10</td>\n",
       "      <td>0</td>\n",
       "      <td>1</td>\n",
       "      <td>12</td>\n",
       "      <td>ABRIAQUI</td>\n",
       "      <td>../99PL/DPL01007ZZZZZZZZZZZZ_L1.htm</td>\n",
       "      <td>ANTIOQUIA</td>\n",
       "      <td>213</td>\n",
       "      <td>332</td>\n",
       "      <td>545</td>\n",
       "      <td>14</td>\n",
       "      <td>13</td>\n",
       "      <td>572</td>\n",
       "      <td>1938</td>\n",
       "      <td>antioquia_abriaqui</td>\n",
       "      <td>05_5004.0</td>\n",
       "      <td>100</td>\n",
       "    </tr>\n",
       "    <tr>\n",
       "      <th>4</th>\n",
       "      <td>ANTIOQUIA</td>\n",
       "      <td>ALEJANDRIA</td>\n",
       "      <td>5</td>\n",
       "      <td>5021</td>\n",
       "      <td>34</td>\n",
       "      <td>15</td>\n",
       "      <td>50</td>\n",
       "      <td>1</td>\n",
       "      <td>0</td>\n",
       "      <td>13</td>\n",
       "      <td>ALEJANDRIA</td>\n",
       "      <td>../99PL/DPL01010ZZZZZZZZZZZZ_L1.htm</td>\n",
       "      <td>ANTIOQUIA</td>\n",
       "      <td>966</td>\n",
       "      <td>696</td>\n",
       "      <td>1662</td>\n",
       "      <td>51</td>\n",
       "      <td>22</td>\n",
       "      <td>1735</td>\n",
       "      <td>4577</td>\n",
       "      <td>antioquia_alejandria</td>\n",
       "      <td>05_5021.0</td>\n",
       "      <td>100</td>\n",
       "    </tr>\n",
       "  </tbody>\n",
       "</table>\n",
       "</div>"
      ],
      "text/plain": [
       "  departamento_x    municipio_x  cod_dep  cod_mun  humberto_de_la_calle  \\\n",
       "0       AMAZONAS        LETICIA       91    91001                   335   \n",
       "1       AMAZONAS  PUERTO NARIÑO       91    91540                    46   \n",
       "2      ANTIOQUIA      ABEJORRAL        5     5002                   280   \n",
       "3      ANTIOQUIA       ABRIAQUI        5     5004                     7   \n",
       "4      ANTIOQUIA     ALEJANDRIA        5     5021                    34   \n",
       "\n",
       "   juan_fernando_cristo  total_votos  votos_no_marcados_x  votos_nulos_x  \\\n",
       "0                   502          870                   13             20   \n",
       "1                   356          426                   10             14   \n",
       "2                    21          316                    5             10   \n",
       "3                     2           10                    0              1   \n",
       "4                    15           50                    1              0   \n",
       "\n",
       "   Unnamed: 0     municipio_y                                 link  \\\n",
       "0           4         LETICIA  ../99PL/DPL60001ZZZZZZZZZZZZ_L1.htm   \n",
       "1           8  PUERTO NARIÃO  ../99PL/DPL60007ZZZZZZZZZZZZ_L1.htm   \n",
       "2          11       ABEJORRAL  ../99PL/DPL01004ZZZZZZZZZZZZ_L1.htm   \n",
       "3          12        ABRIAQUI  ../99PL/DPL01007ZZZZZZZZZZZZ_L1.htm   \n",
       "4          13      ALEJANDRIA  ../99PL/DPL01010ZZZZZZZZZZZZ_L1.htm   \n",
       "\n",
       "  departamento_y  votos_si  votos_no  votos_validos  votos_no_marcados_y  \\\n",
       "0       AMAZONAS      4403      4463           8866                   40   \n",
       "1       AMAZONAS       830       274           1104                   32   \n",
       "2      ANTIOQUIA      1296      2105           3401                  194   \n",
       "3      ANTIOQUIA       213       332            545                   14   \n",
       "4      ANTIOQUIA       966       696           1662                   51   \n",
       "\n",
       "   votos_nulos_y  votos_totales  votos_habilitados             nom_dep_mun  \\\n",
       "0             84           8990              34592        amazonas_leticia   \n",
       "1             17           1153               4317  amazonas_puerto nariao   \n",
       "2             52           3647              15274     antioquia_abejorral   \n",
       "3             13            572               1938      antioquia_abriaqui   \n",
       "4             22           1735               4577    antioquia_alejandria   \n",
       "\n",
       "  cod_dep_mun  closeness  \n",
       "0  91_91001.0        100  \n",
       "1  91_91540.0         95  \n",
       "2   05_5002.0        100  \n",
       "3   05_5004.0        100  \n",
       "4   05_5021.0        100  "
      ]
     },
     "execution_count": 11,
     "metadata": {},
     "output_type": "execute_result"
    }
   ],
   "source": [
    "df_total.head()"
   ]
  },
  {
   "cell_type": "markdown",
   "metadata": {
    "slideshow": {
     "slide_type": "subslide"
    }
   },
   "source": [
    "# Ejercicio 1 - Periodismo de datos"
   ]
  },
  {
   "cell_type": "markdown",
   "metadata": {
    "cell_style": "center",
    "slideshow": {
     "slide_type": "fragment"
    }
   },
   "source": [
    "* ¿Hay una relación entre el plebiscito y la consulta liberal?"
   ]
  },
  {
   "cell_type": "markdown",
   "metadata": {
    "cell_style": "split",
    "slideshow": {
     "slide_type": "fragment"
    }
   },
   "source": [
    "Veamos [lo que dijo](https://lasillavacia.com/cinco-conclusiones-de-la-consulta-liberal-63522) La Silla Vacía: "
   ]
  },
  {
   "cell_type": "markdown",
   "metadata": {
    "cell_style": "split",
    "slideshow": {
     "slide_type": "fragment"
    }
   },
   "source": [
    "<div class=\"naked-img\">\n",
    "    <img src=\"../files/liberal_la_silla_1.JPG\" width=\"900\">\n",
    "</div>\n",
    "<script>\n",
    "    $(\"naked-img\").css(\"margin-left\", \"15%\");\n",
    "</script>"
   ]
  },
  {
   "cell_type": "markdown",
   "metadata": {},
   "source": [
    "Pueden seguir los pasos de LSV primero, luego buscar posibles problemas y pensar cómo detectarlos y solucionarlos. Una vez cubran eso, creen un pitch para su editor sobre cómo proceder para contar una historia con lo que encontraron. Deben incluir qué otras fuentes cubrirían y cómo es el esqueleto de su propuesta: tema, ángulo, personajes e historia."
   ]
  },
  {
   "cell_type": "markdown",
   "metadata": {},
   "source": [
    "Lo primero que necesitamos son las variables que utilizó LSV para su gráfica: % participación en el plebiscito y % votos por el sí. Ambos datos están por departamento.\n",
    "\n",
    "Para calcular **%participación** debemos hacer $\\frac{votos\\_validos}{total\\_votos}$ en cada departamento.\n",
    "\n",
    "Para calcular **% votos sí** debemos hacer $\\frac{votos\\_si}{votos\\_validos}$ en cada departamento.\n",
    "\n",
    "\n",
    "Usemos entonces `pivot_table` para calcular esas cantidades y luego poder hacer la división"
   ]
  },
  {
   "cell_type": "code",
   "execution_count": 12,
   "metadata": {},
   "outputs": [],
   "source": [
    "# Acá su código\n"
   ]
  },
  {
   "cell_type": "code",
   "execution_count": 13,
   "metadata": {
    "code_folding": [
     0
    ]
   },
   "outputs": [],
   "source": [
    "# Respuesta \n",
    "result = pd.pivot_table(index=['cod_dep', 'departamento_x'],\n",
    "               aggfunc={'votos_habilitados':'sum',\n",
    "                        'votos_si':'sum',\n",
    "                        'votos_validos':'sum',\n",
    "                        'total_votos':'sum'},\n",
    "              data=df_total).reset_index()\n",
    "\n",
    "result['%votos_si'] = result.votos_si/result.votos_validos\n",
    "result['%participacion'] = result.total_votos/result.votos_habilitados"
   ]
  },
  {
   "cell_type": "code",
   "execution_count": 59,
   "metadata": {
    "code_folding": [
     0
    ]
   },
   "outputs": [
    {
     "data": {
      "image/png": "[encoded data removed]",
      "text/plain": [
       "<Figure size 720x648 with 1 Axes>"
      ]
     },
     "metadata": {
      "needs_background": "light"
     },
     "output_type": "display_data"
    }
   ],
   "source": [
    "# Plot\n",
    "\n",
    "import matplotlib.pyplot as plt\n",
    "\n",
    "plt.figure(figsize=(10,9))\n",
    "\n",
    "plt.scatter(x=result['%participacion'],\n",
    "            y=result['%votos_si'],\n",
    "            linewidths=2.2,\n",
    "            s=90,\n",
    "            facecolors='none', \n",
    "            edgecolors='red')\n",
    "plt.grid()\n",
    "plt.xlabel(\"$Participación$\",fontsize=20)\n",
    "plt.ylabel(\"$Porcentaje\\ de\\ votos\\ por\\ el\\ Sí$\",fontsize=20)\n",
    "plt.show()"
   ]
  },
  {
   "cell_type": "markdown",
   "metadata": {},
   "source": [
    "# Ejercicio 2 - Periodismo de datos"
   ]
  },
  {
   "cell_type": "markdown",
   "metadata": {
    "cell_style": "center",
    "slideshow": {
     "slide_type": "fragment"
    }
   },
   "source": [
    "* ¿Cómo se ve la polarización en el país entorno a la paz?"
   ]
  },
  {
   "cell_type": "markdown",
   "metadata": {},
   "source": [
    "Acá lo primero que hay que hacer es crear algún tipo de métrica para cuantificar la polarización con los datos que tienen. Una vez tengan eso, los límites son todo lo que puedan conseguir en datos adicionales. Piensen en preguntas más específicas y luego busquen los datos. Por ejemplo, ya tengo el indicador de polarización por departamento, ahora quiero 1) Ver cómo cambia según la presencia de actores armados, ¿busco hectáreas de coca por departamento? ¿Busco masacres por departamento? 2) Ver cómo cambia en las ciudades y cómo influyó la desinformación por internet, ¿busco índice de redes sociales por municipio? ¿Busco connectividad por municipio?\n",
    "\n",
    "Identifiquen la fuente de datos que quieren agregar y creen un pitch para su editor sobre cómo proceder para contar una historia con lo que encuentren. Deben incluir qué otras fuentes cubrirían y cómo es el esqueleto de su propuesta."
   ]
  },
  {
   "cell_type": "markdown",
   "metadata": {},
   "source": [
    "Empecemos entonces por crear el índice de polarización. Yo les daré mi propuesta pero ustedes pueden discutirla y proponer la suya.\n",
    "\n",
    "La polarización tiene dos niveles: 1) Nacional porque parte del país está con una decisión y parte del país con otra y 2) Regional porque puede que parte de un departamento o municipio esté con una decisión o con otra. \n",
    "\n",
    "Esto implica que los lugares donde hay una mayoría abrumadora no están polarizados. Por ejemplo: sin en A votan 96% por el sí y en B 98% por el no, aunque el país está polarizado porque tiene a A y B en esquinas diferentes, en A no hay polarización y en B tampoco. ¿Qué opinan de eso?\n",
    "\n",
    "Con eso en mente, acá está mi indicador de polarización:\n",
    "\n",
    "Por departamento (o municipio):\n",
    "\n",
    "$p = \\%sí - \\%no$\n",
    "\n",
    "Si p es negativo, entonces ganó el NO. Si p es positivo, ganó el SÍ. Pero si p está cercano a cero significa que en ese departamento (o municipio) hay polarización porque el $\\%sí$ y el $\\%no$ se parecen: la mitad de la gente está con una decisión y la otra mitad con la opuesta.  "
   ]
  },
  {
   "cell_type": "code",
   "execution_count": 138,
   "metadata": {
    "code_folding": [
     0
    ]
   },
   "outputs": [],
   "source": [
    "# Crear el índice de polarización por departamento\n",
    "result1 = pd.pivot_table(index=['cod_dep', 'departamento'],\n",
    "               aggfunc={'votos_no':'sum',\n",
    "                        'votos_si':'sum',\n",
    "                        'votos_validos':'sum',\n",
    "                        'votos_totales':'sum'},\n",
    "              data=df_plebi).reset_index()\n",
    "\n",
    "result1[\"%_si\"] = result1[\"votos_si\"]/result1[\"votos_validos\"]\n",
    "result1[\"%_no\"] = result1[\"votos_no\"]/result1[\"votos_validos\"]\n",
    "result1[\"dif_si_no\"] = round(result1[\"%_si\"] - result1[\"%_no\"],3)"
   ]
  },
  {
   "cell_type": "code",
   "execution_count": 148,
   "metadata": {
    "code_folding": [
     0
    ]
   },
   "outputs": [
    {
     "data": {
      "image/png": "[encoded data removed]",
      "text/plain": [
       "<Figure size 1080x360 with 1 Axes>"
      ]
     },
     "metadata": {
      "needs_background": "light"
     },
     "output_type": "display_data"
    }
   ],
   "source": [
    "# Plot\n",
    "result1[\"plot_dif_si_no\"] = result1[\"dif_si_no\"].apply(lambda x: x if x>0.0 else x*-1) \n",
    "result1[\"¿Quién gana?\"] = [\"Polarizado\"]*result1.shape[0]\n",
    "result1.loc[result.dif_si_no<=-0.1, \"¿Quién gana?\"] = \"Gana claramente No\"\n",
    "result1.loc[result.dif_si_no>=0.1, \"¿Quién gana?\"] = \"Gana claramente Sí\"\n",
    "\n",
    "import seaborn as sns\n",
    "import matplotlib.pyplot as plt\n",
    "plt.figure(figsize=(15,5))\n",
    "ax = plt.subplot(1,1,1)\n",
    "sns.scatterplot(data=result1.rename(columns={'plot_dif_si_no':'Diferencia en % del total'}).sort_values(by=\"dif_si_no\"), \n",
    "                x=\"departamento\", \n",
    "                y=[0]*result1.shape[0],\n",
    "                size=\"Diferencia en % del total\",\n",
    "                sizes=(100,3000),\n",
    "                alpha=0.5,\n",
    "                ax=ax,\n",
    "                hue=\"¿Quién gana?\",\n",
    "                palette=[\"red\", \"grey\", \"green\"])\n",
    "plt.xticks(rotation=70)\n",
    "plt.legend(bbox_to_anchor=(1.01, 1),\n",
    "           markerscale=0.3,\n",
    "           fontsize=12)\n",
    "ax.set_xlabel('departamento',fontsize=20)\n",
    "ax.set(yticklabels=[])\n",
    "#ax.set_xlabel('votos por candidato',fontsize=20)\n",
    "plt.show()"
   ]
  }
 ],
 "metadata": {
  "celltoolbar": "Slideshow",
  "kernelspec": {
   "display_name": "Python 3",
   "language": "python",
   "name": "python3"
  },
  "language_info": {
   "codemirror_mode": {
    "name": "ipython",
    "version": 3
   },
   "file_extension": ".py",
   "mimetype": "text/x-python",
   "name": "python",
   "nbconvert_exporter": "python",
   "pygments_lexer": "ipython3",
   "version": "3.6.10"
  }
 },
 "nbformat": 4,
 "nbformat_minor": 4
}
