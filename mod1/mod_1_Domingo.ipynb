{
 "cells": [
  {
   "cell_type": "markdown",
   "metadata": {},
   "source": [
    "# Modulo 1 - Sección autónoma\n",
    "\n",
    "## Caso de estudio - Fumigación aérea en Colombia"
   ]
  },
  {
   "cell_type": "markdown",
   "metadata": {},
   "source": [
    "Encontramos unos datos sobre la fumigagión aérea en colombia en la [página de la aerocivil](https://www.aerocivil.gov.co/atencion/estadisticas-de-las-actividades-aeronauticas/estadisticas-operacionales). Pasamos el excel a un csv y dejamos los datos en `../data/fumigacionColombia/fumigacionColombiaLimpiosv2.csv`. \n",
    "\n",
    "Como vimos ayer, un csv puede tener diferentes delimitadores. Explore el archivo con un editor de texto (recomendamos textpad en windows y TextEdit en MacOS) para ver qué delimitador usa el archivo.\n",
    "\n",
    "> Usando pandas, cargue los datos en un dataframe y asignelos a una variable llamada `data`. Tenga en cuenta que la función `read_csv` recibe `sep` como parámetro para especificar el delimitador. Pueden ver más info [aca](https://www.geeksforgeeks.org/how-to-read-a-csv-file-to-a-dataframe-with-custom-delimiter-in-pandas/). Recuerde importar pandas."
   ]
  },
  {
   "cell_type": "code",
   "execution_count": null,
   "metadata": {},
   "outputs": [],
   "source": [
    "data = ..."
   ]
  },
  {
   "cell_type": "markdown",
   "metadata": {},
   "source": [
    "> Cuantas filas y columnas hay?"
   ]
  },
  {
   "cell_type": "code",
   "execution_count": null,
   "metadata": {},
   "outputs": [],
   "source": []
  },
  {
   "cell_type": "markdown",
   "metadata": {},
   "source": [
    "Hay algunos errores en el formato de las cifras. Parece haber un `'` como separador de miles y `,` como separador decimal en algunas columnas. \n",
    "\n",
    "> Limpie las columnas que tienen `'` o `,` en los valores y asegúrese que todas las columnas con valores numéricos sean de tipo float"
   ]
  },
  {
   "cell_type": "code",
   "execution_count": null,
   "metadata": {},
   "outputs": [],
   "source": []
  },
  {
   "cell_type": "markdown",
   "metadata": {},
   "source": [
    "Ahora tenemos que quitar los `Nan` del dataFrame. \n",
    "\n",
    ">Use la función `fillna` para quitar los `Nan`s y replazarlos por `0.0`. Puede ver un ejemplo [aquí](https://www.geeksforgeeks.org/python-pandas-dataframe-fillna-to-replace-null-values-in-dataframe/) de cómo hacer eso."
   ]
  },
  {
   "cell_type": "code",
   "execution_count": null,
   "metadata": {},
   "outputs": [],
   "source": []
  },
  {
   "cell_type": "markdown",
   "metadata": {},
   "source": [
    "> Verifique que todas las columnas numéricas son de tipo float. Lo necesitaremos para hacer las visualizaciones."
   ]
  },
  {
   "cell_type": "code",
   "execution_count": null,
   "metadata": {},
   "outputs": [],
   "source": []
  },
  {
   "cell_type": "markdown",
   "metadata": {},
   "source": [
    "Con los datos limpios, podemos empezar a trabajar. Miremos cuántas hectáreas se fumigaron en el 2000. Puede empezar sin definir los bins. \n",
    "\n",
    "> Haga un histograma de el número de hectáreas fumigadas en el 2000\n",
    "\n",
    "> Configure los bins y la escala en x a necesidad para visualizar bien la información. "
   ]
  },
  {
   "cell_type": "code",
   "execution_count": null,
   "metadata": {},
   "outputs": [],
   "source": []
  },
  {
   "cell_type": "markdown",
   "metadata": {},
   "source": [
    "Contrastemos eso con las hectáreas fumigadas en el 2019. \n",
    "\n",
    "> Haga una gráfica con 2 histogramas:\n",
    "    1. Número de hectáreas fumigadas en el 2000\n",
    "    2. Número de hectáreas fumigadas en el 2019\n",
    "    \n",
    "¿Qué se puede inferir de esa gráfica?"
   ]
  },
  {
   "cell_type": "code",
   "execution_count": null,
   "metadata": {},
   "outputs": [],
   "source": []
  },
  {
   "cell_type": "markdown",
   "metadata": {},
   "source": [
    "Queremos hacer más explícita la tendencia en el tiempo. \n",
    "\n",
    "> Haga un line plot de la cantidad total de hectáreas fumigadas en función del tiempo. "
   ]
  },
  {
   "cell_type": "code",
   "execution_count": null,
   "metadata": {},
   "outputs": [],
   "source": []
  },
  {
   "cell_type": "markdown",
   "metadata": {},
   "source": [
    "Una cifra interesante podría ser cúantas hectáreas se están fumigando por aplicación y si eso ha cambiado en los últimos años. Podemos calcular eso de la siguiente forma: \n",
    "\n",
    "$$ hectarea por aplicación = \\frac{\\Sigma hectareas}{\\Sigma aplicaciones}$$\n",
    "\n",
    "> Haga un line plot que visualice las hectáreas por aplicaciones en el tiempo\n"
   ]
  },
  {
   "cell_type": "code",
   "execution_count": null,
   "metadata": {},
   "outputs": [],
   "source": []
  },
  {
   "cell_type": "markdown",
   "metadata": {},
   "source": [
    "# Ejercicios Extra"
   ]
  },
  {
   "cell_type": "markdown",
   "metadata": {},
   "source": [
    "Una de las cosas más interesantes sería ver cuánto se ha fumigado por departamento en el 2019. Esto se puede hacer usando la función de pandas `groupby`. Pueden ver un mini tutorial [aca](https://www.geeksforgeeks.org/python-pandas-dataframe-groupby/). Veamos como hacer esto por **Municipio**:"
   ]
  },
  {
   "cell_type": "code",
   "execution_count": null,
   "metadata": {},
   "outputs": [],
   "source": [
    "data.groupby('MUNICIPIO')"
   ]
  },
  {
   "cell_type": "markdown",
   "metadata": {},
   "source": [
    "No devolvió nada! Pandas necesita que le digamos cómo agrupar, si queremos sumar por municipio, contar las filas, multiplicarlas, etc. En nuestro caso, queremos sumar. Para eso, se usa `.sum()`:"
   ]
  },
  {
   "cell_type": "code",
   "execution_count": null,
   "metadata": {},
   "outputs": [],
   "source": [
    "data.groupby('MUNICIPIO').sum()"
   ]
  },
  {
   "cell_type": "markdown",
   "metadata": {},
   "source": [
    "Ahora tenemos la suma de cada columna numérica por municipio! \n",
    "\n",
    "Se pueden obtener los municipios pidiendole `.index` a la columna que queramos:\n",
    "\n",
    "\n"
   ]
  },
  {
   "cell_type": "code",
   "execution_count": null,
   "metadata": {},
   "outputs": [],
   "source": [
    "data.groupby('MUNICIPIO').sum()['Número Aplicaciones - 2019'].index"
   ]
  },
  {
   "cell_type": "markdown",
   "metadata": {},
   "source": [
    "> Haga un bar plot en donde cada barra tenga la cantidad de hectáreas fumigadas en el 2019 por **Departamento**"
   ]
  },
  {
   "cell_type": "code",
   "execution_count": null,
   "metadata": {},
   "outputs": [],
   "source": []
  }
 ],
 "metadata": {
  "kernelspec": {
   "display_name": "Python 3",
   "language": "python",
   "name": "python3"
  },
  "language_info": {
   "codemirror_mode": {
    "name": "ipython",
    "version": 3
   },
   "file_extension": ".py",
   "mimetype": "text/x-python",
   "name": "python",
   "nbconvert_exporter": "python",
   "pygments_lexer": "ipython3",
   "version": "3.8.3"
  }
 },
 "nbformat": 4,
 "nbformat_minor": 4
}
