{
 "cells": [
  {
   "cell_type": "markdown",
   "metadata": {
    "slideshow": {
     "slide_type": "slide"
    }
   },
   "source": [
    "# Módulo 1 - Introducción a las historias periodísticas con datos\n",
    "## Vuelos nacionales\n"
   ]
  },
  {
   "cell_type": "markdown",
   "metadata": {
    "cell_style": "split",
    "slideshow": {
     "slide_type": "-"
    }
   },
   "source": [
    "<div class=\"naked-img\">\n",
    "    <img src=\"../files/el_uniandino.png\" width=\"500\">\n",
    "</div>\n",
    "<script>\n",
    "    $(\"naked-img\").css(\"margin-left\", \"15%\");\n",
    "</script>"
   ]
  },
  {
   "cell_type": "markdown",
   "metadata": {
    "cell_style": "split"
   },
   "source": [
    "### Índice técnico\n",
    "* Variables, ciclos, condicionales, tipos de datos\n",
    "* Librerías\n",
    "    * Pandas\n",
    "    * Matplotlib\n"
   ]
  },
  {
   "cell_type": "markdown",
   "metadata": {
    "slideshow": {
     "slide_type": "subslide"
    }
   },
   "source": [
    "# Tipo de historia: Cambios en el tiempo"
   ]
  },
  {
   "cell_type": "markdown",
   "metadata": {
    "slideshow": {
     "slide_type": "fragment"
    }
   },
   "source": [
    "* ¿Cómo ha evolucionado una tendencia?"
   ]
  },
  {
   "cell_type": "markdown",
   "metadata": {
    "slideshow": {
     "slide_type": "fragment"
    }
   },
   "source": [
    "* ¿Qué significa una tendencia?"
   ]
  },
  {
   "cell_type": "markdown",
   "metadata": {
    "slideshow": {
     "slide_type": "fragment"
    }
   },
   "source": [
    "* ¿Qué produce una tendencia?"
   ]
  },
  {
   "cell_type": "markdown",
   "metadata": {
    "cell_style": "split",
    "slideshow": {
     "slide_type": "subslide"
    }
   },
   "source": [
    "<div class=\"naked-img\">\n",
    "    <img src=\"../files/data_time_abortions.jpg\" width=\"500\">\n",
    "</div>\n",
    "<script>\n",
    "    $(\"naked-img\").css(\"margin-left\", \"15%\");\n",
    "</script>"
   ]
  },
  {
   "cell_type": "markdown",
   "metadata": {
    "cell_style": "split",
    "slideshow": {
     "slide_type": "fragment"
    }
   },
   "source": [
    "<div class=\"naked-img\">\n",
    "    <img src=\"../files/data_time_abortions_right_1.jpg\" width=\"500\">\n",
    "</div>\n",
    "<script>\n",
    "    $(\"naked-img\").css(\"margin-left\", \"15%\");\n",
    "</script>"
   ]
  },
  {
   "cell_type": "markdown",
   "metadata": {
    "cell_style": "split",
    "slideshow": {
     "slide_type": "fragment"
    }
   },
   "source": [
    "<div class=\"naked-img\">\n",
    "    <img src=\"../files/data_time_abortions_right_2.jpg\" width=\"500\">\n",
    "</div>\n",
    "<script>\n",
    "    $(\"naked-img\").css(\"margin-left\", \"15%\");\n",
    "</script>"
   ]
  },
  {
   "cell_type": "markdown",
   "metadata": {
    "cell_style": "split",
    "slideshow": {
     "slide_type": "subslide"
    }
   },
   "source": [
    "<div class=\"naked-img\">\n",
    "    <img src=\"../files/global_warm_local.png\" width=\"500\">\n",
    "</div>\n",
    "<script>\n",
    "    $(\"naked-img\").css(\"margin-left\", \"15%\");\n",
    "</script>"
   ]
  },
  {
   "cell_type": "markdown",
   "metadata": {
    "cell_style": "split",
    "slideshow": {
     "slide_type": "fragment"
    }
   },
   "source": [
    "<div class=\"naked-img\">\n",
    "    <img src=\"../files/global_warm_wider_1.png\" width=\"350\">\n",
    "</div>\n",
    "<script>\n",
    "    $(\"naked-img\").css(\"margin-left\", \"15%\");\n",
    "</script>"
   ]
  },
  {
   "cell_type": "markdown",
   "metadata": {
    "cell_style": "split",
    "slideshow": {
     "slide_type": "fragment"
    }
   },
   "source": [
    "<div class=\"naked-img\">\n",
    "    <img src=\"../files/global_warm_wider_2.png\" width=\"350\">\n",
    "</div>\n",
    "<script>\n",
    "    $(\"naked-img\").css(\"margin-left\", \"15%\");\n",
    "</script>"
   ]
  },
  {
   "cell_type": "markdown",
   "metadata": {
    "cell_style": "split",
    "slideshow": {
     "slide_type": "subslide"
    }
   },
   "source": [
    "<div class=\"naked-img\">\n",
    "    <img src=\"../files/nonsense_corr.jpg\" width=\"800\">\n",
    "</div>\n",
    "<script>\n",
    "    $(\"naked-img\").css(\"margin-left\", \"15%\");\n",
    "</script>"
   ]
  },
  {
   "cell_type": "markdown",
   "metadata": {
    "cell_style": "split"
   },
   "source": [
    "Todo el [p*to tiempo](https://www.tylervigen.com/spurious-correlations)"
   ]
  },
  {
   "cell_type": "markdown",
   "metadata": {
    "cell_style": "center",
    "slideshow": {
     "slide_type": "slide"
    }
   },
   "source": [
    "# ¿Qué/cómo buscar?"
   ]
  },
  {
   "cell_type": "markdown",
   "metadata": {
    "slideshow": {
     "slide_type": "subslide"
    }
   },
   "source": [
    "# ¿Qué queremos saber?\n",
    "\n",
    "Cómo ha evolucionado el tráfico nacional a lo largo del tiempo\n"
   ]
  },
  {
   "cell_type": "markdown",
   "metadata": {
    "slideshow": {
     "slide_type": "fragment"
    }
   },
   "source": [
    "\n",
    "## ¿Dónde buscar?\n",
    "\n"
   ]
  },
  {
   "cell_type": "markdown",
   "metadata": {
    "slideshow": {
     "slide_type": "fragment"
    }
   },
   "source": [
    "### Fuentes\n",
    "\n",
    "- Google\n",
    "- Gobierno (registraduria, aerocivil, ministerios, etc.)\n",
    "- Datos abiertos (datos.gov.co, datosabiertos.bogota.gov.co, etc)\n",
    "\n",
    "Ejemplo: \n",
    "1. [Busqueda en google](https://www.google.com/search?safe=off&sxsrf=ALeKk00mMMvCmQ7OE2XcniYQJd_WxxmXYg%3A1610405167444&ei=L9X8X63LGs3l5NoPmYuh4Ag&q=vuelos+nacionales+datos+aerocivil&oq=vuelos+nacionales+datos+aerocivil&gs_lcp=CgZwc3ktYWIQAzoECAAQRzoECCMQJ1CSKFiMLGDGLGgAcAJ4AIABc4gBggSSAQMyLjOYAQCgAQGqAQdnd3Mtd2l6yAEIwAEB&sclient=psy-ab&ved=0ahUKEwjtnszf-pTuAhXNMlkFHZlFCIwQ4dUDCA0&uact=5)"
   ]
  },
  {
   "cell_type": "markdown",
   "metadata": {
    "slideshow": {
     "slide_type": "slide"
    }
   },
   "source": [
    "# Data Wrangling\n",
    "## Una vez hay datos, hay que limpiarlos\n",
    "\n",
    "Usualmente hay 2 pasos:\n",
    "\n",
    "1. Pasar los datos a un formato legible (o cómodamente legible) por máquinas\n",
    "2. Limpiar los datos \n",
    "\n",
    "\n",
    "\n",
    "\n"
   ]
  },
  {
   "cell_type": "markdown",
   "metadata": {
    "slideshow": {
     "slide_type": "subslide"
    }
   },
   "source": [
    "# Formato de datos \n",
    "\n",
    "- JSON\n",
    "- XML\n",
    "- Excel\n",
    "- JSON\n",
    "- CSV (y sus variantes...)\n",
    "\n",
    "Hay demasiados formatos, pueden buscar los detalles en google. \n",
    "\n",
    "En nuestro caso, haremos el ejercicio de pasar de excel a CSV. "
   ]
  },
  {
   "cell_type": "markdown",
   "metadata": {
    "cell_style": "center",
    "slideshow": {
     "slide_type": "subslide"
    }
   },
   "source": [
    "# CSV\n",
    "## Comma separated values \n",
    "\n",
    "```\n",
    "Year,Make,Model,Length\n",
    "1997,Ford,E350,2.35\n",
    "2000,Mercury,Cougar,2.38\n",
    "```\n",
    "\n",
    "En general, el separador puede ser cualquier caracter, por ejemplo:\n",
    "    \n",
    "```\n",
    "Year;Make;Model;Length\n",
    "1997;Ford;E350;2,35\n",
    "2000;Mercury;Cougar;2,38\n",
    "```\n",
    "\n",
    "Usualmente, se guardan los archivos con extension ```.csv```. Por ejemplo: ```carros.csv```"
   ]
  },
  {
   "cell_type": "markdown",
   "metadata": {
    "slideshow": {
     "slide_type": "subslide"
    }
   },
   "source": [
    "# Ejemplo\n",
    "\n",
    "1. Fuente: [Página aerocivil](https://www.aerocivil.gov.co/atencion/estadisticas-de-las-actividades-aeronauticas/estadisticas-operacionales)\n",
    "2. Datos: [Tráfico aeropuerto 2004-2019](https://www.aerocivil.gov.co/atencion/estadisticas-de-las-actividades-aeronauticas/Aeropuertos/TRAFICO%20AEROPUERTOS%202004-2019.xlsx)\n",
    "\n",
    "**Objetivo:** pasar de ```.xlsx``` (excel) a ```.csv```"
   ]
  },
  {
   "cell_type": "markdown",
   "metadata": {
    "slideshow": {
     "slide_type": "slide"
    }
   },
   "source": [
    "# Limpiar datos\n",
    "\n",
    "Hemos limpiado los datos por uds. Están en `/data/vuelosNacionales/vuelosNacionales.csv`\n"
   ]
  },
  {
   "cell_type": "code",
   "execution_count": 1,
   "metadata": {
    "scrolled": false,
    "slideshow": {
     "slide_type": "fragment"
    }
   },
   "outputs": [
    {
     "data": {
      "text/html": [
       "<div>\n",
       "<style scoped>\n",
       "    .dataframe tbody tr th:only-of-type {\n",
       "        vertical-align: middle;\n",
       "    }\n",
       "\n",
       "    .dataframe tbody tr th {\n",
       "        vertical-align: top;\n",
       "    }\n",
       "\n",
       "    .dataframe thead th {\n",
       "        text-align: right;\n",
       "    }\n",
       "</style>\n",
       "<table border=\"1\" class=\"dataframe\">\n",
       "  <thead>\n",
       "    <tr style=\"text-align: right;\">\n",
       "      <th></th>\n",
       "      <th>NOMBRE AEROPUERTO</th>\n",
       "      <th>CIUDAD</th>\n",
       "      <th>DEPARTAMENTO</th>\n",
       "      <th>Pasajeros Salidos - 2019</th>\n",
       "      <th>Pasajeros Llegados - 2019</th>\n",
       "      <th>Carga y Correo Salida (Kg) - 2019</th>\n",
       "      <th>Carga y Correo Llegados (kg) - 2019</th>\n",
       "      <th>Número Vuelos Salidos - 2019</th>\n",
       "      <th>Número Vuelos Llegados - 2019</th>\n",
       "      <th>Pasajeros Salidos - 2018</th>\n",
       "      <th>...</th>\n",
       "      <th>Carga y Correo Salida (Kg) - 2005</th>\n",
       "      <th>Carga y Correo Llegados (kg) - 2005</th>\n",
       "      <th>Número Vuelos Salidos - 2005</th>\n",
       "      <th>Número Vuelos Llegados - 2005</th>\n",
       "      <th>Pasajeros Salidos - 2004</th>\n",
       "      <th>Pasajeros Llegados - 2004</th>\n",
       "      <th>Carga y Correo Salida (Kg) - 2004</th>\n",
       "      <th>Carga y Correo Llegados (kg) - 2004</th>\n",
       "      <th>Número Vuelos Salidos - 2004</th>\n",
       "      <th>Número Vuelos Llegados - 2004</th>\n",
       "    </tr>\n",
       "  </thead>\n",
       "  <tbody>\n",
       "    <tr>\n",
       "      <th>0</th>\n",
       "      <td>EL ENCANTO</td>\n",
       "      <td>EL ENCANTO</td>\n",
       "      <td>AMAZONAS</td>\n",
       "      <td>62</td>\n",
       "      <td>55</td>\n",
       "      <td>805</td>\n",
       "      <td>2.281</td>\n",
       "      <td>31.000</td>\n",
       "      <td>31.000</td>\n",
       "      <td>87</td>\n",
       "      <td>...</td>\n",
       "      <td>NaN</td>\n",
       "      <td>NaN</td>\n",
       "      <td>NaN</td>\n",
       "      <td>NaN</td>\n",
       "      <td>NaN</td>\n",
       "      <td>NaN</td>\n",
       "      <td>NaN</td>\n",
       "      <td>NaN</td>\n",
       "      <td>NaN</td>\n",
       "      <td>NaN</td>\n",
       "    </tr>\n",
       "    <tr>\n",
       "      <th>1</th>\n",
       "      <td>LA CHORRERA - VIRGILIO BARCO VARGAS</td>\n",
       "      <td>LA CHORRERA</td>\n",
       "      <td>AMAZONAS</td>\n",
       "      <td>788</td>\n",
       "      <td>859</td>\n",
       "      <td>85.783</td>\n",
       "      <td>105.966</td>\n",
       "      <td>136.000</td>\n",
       "      <td>135.000</td>\n",
       "      <td>1.167</td>\n",
       "      <td>...</td>\n",
       "      <td>27.801</td>\n",
       "      <td>60.326</td>\n",
       "      <td>190.000</td>\n",
       "      <td>192.000</td>\n",
       "      <td>433</td>\n",
       "      <td>540</td>\n",
       "      <td>2.117</td>\n",
       "      <td>4.081</td>\n",
       "      <td>53.0</td>\n",
       "      <td>54.0</td>\n",
       "    </tr>\n",
       "    <tr>\n",
       "      <th>2</th>\n",
       "      <td>LA PEDRERA</td>\n",
       "      <td>LA PEDRERA</td>\n",
       "      <td>AMAZONAS</td>\n",
       "      <td>2.517</td>\n",
       "      <td>2.570</td>\n",
       "      <td>339.960</td>\n",
       "      <td>336.699</td>\n",
       "      <td>382.000</td>\n",
       "      <td>383.000</td>\n",
       "      <td>2.731</td>\n",
       "      <td>...</td>\n",
       "      <td>111.693</td>\n",
       "      <td>97.117</td>\n",
       "      <td>156.000</td>\n",
       "      <td>173.000</td>\n",
       "      <td>385</td>\n",
       "      <td>487</td>\n",
       "      <td>141.136</td>\n",
       "      <td>94.403</td>\n",
       "      <td>101.0</td>\n",
       "      <td>99.0</td>\n",
       "    </tr>\n",
       "    <tr>\n",
       "      <th>3</th>\n",
       "      <td>LETICIA-ALFREDO VASQUEZ COBO</td>\n",
       "      <td>LETICIA</td>\n",
       "      <td>AMAZONAS</td>\n",
       "      <td>166.039</td>\n",
       "      <td>167.011</td>\n",
       "      <td>9.465.876</td>\n",
       "      <td>7.424.085</td>\n",
       "      <td>1.788</td>\n",
       "      <td>1.791</td>\n",
       "      <td>134.304</td>\n",
       "      <td>...</td>\n",
       "      <td>8.494.881</td>\n",
       "      <td>6.507.999</td>\n",
       "      <td>1.127</td>\n",
       "      <td>1.071</td>\n",
       "      <td>26.861</td>\n",
       "      <td>28.076</td>\n",
       "      <td>7.715.581</td>\n",
       "      <td>6.094.633</td>\n",
       "      <td>755.0</td>\n",
       "      <td>749.0</td>\n",
       "    </tr>\n",
       "    <tr>\n",
       "      <th>4</th>\n",
       "      <td>TARAPACA</td>\n",
       "      <td>LETICIA</td>\n",
       "      <td>AMAZONAS</td>\n",
       "      <td>758</td>\n",
       "      <td>701</td>\n",
       "      <td>26.654</td>\n",
       "      <td>29.652</td>\n",
       "      <td>122.000</td>\n",
       "      <td>123.000</td>\n",
       "      <td>1.164</td>\n",
       "      <td>...</td>\n",
       "      <td>6.587</td>\n",
       "      <td>9.118</td>\n",
       "      <td>47.000</td>\n",
       "      <td>55.000</td>\n",
       "      <td>NaN</td>\n",
       "      <td>NaN</td>\n",
       "      <td>NaN</td>\n",
       "      <td>NaN</td>\n",
       "      <td>NaN</td>\n",
       "      <td>NaN</td>\n",
       "    </tr>\n",
       "    <tr>\n",
       "      <th>...</th>\n",
       "      <td>...</td>\n",
       "      <td>...</td>\n",
       "      <td>...</td>\n",
       "      <td>...</td>\n",
       "      <td>...</td>\n",
       "      <td>...</td>\n",
       "      <td>...</td>\n",
       "      <td>...</td>\n",
       "      <td>...</td>\n",
       "      <td>...</td>\n",
       "      <td>...</td>\n",
       "      <td>...</td>\n",
       "      <td>...</td>\n",
       "      <td>...</td>\n",
       "      <td>...</td>\n",
       "      <td>...</td>\n",
       "      <td>...</td>\n",
       "      <td>...</td>\n",
       "      <td>...</td>\n",
       "      <td>...</td>\n",
       "      <td>...</td>\n",
       "    </tr>\n",
       "    <tr>\n",
       "      <th>792</th>\n",
       "      <td>SANTA BARBARA</td>\n",
       "      <td>CUMARAL</td>\n",
       "      <td>META</td>\n",
       "      <td>NaN</td>\n",
       "      <td>NaN</td>\n",
       "      <td>NaN</td>\n",
       "      <td>NaN</td>\n",
       "      <td>NaN</td>\n",
       "      <td>NaN</td>\n",
       "      <td>NaN</td>\n",
       "      <td>...</td>\n",
       "      <td>NaN</td>\n",
       "      <td>NaN</td>\n",
       "      <td>NaN</td>\n",
       "      <td>NaN</td>\n",
       "      <td>16</td>\n",
       "      <td>0</td>\n",
       "      <td>0</td>\n",
       "      <td>0</td>\n",
       "      <td>12.0</td>\n",
       "      <td>0.0</td>\n",
       "    </tr>\n",
       "    <tr>\n",
       "      <th>793</th>\n",
       "      <td>YATAROS DE MELUA</td>\n",
       "      <td>PUERTO LOPEZ</td>\n",
       "      <td>META</td>\n",
       "      <td>NaN</td>\n",
       "      <td>NaN</td>\n",
       "      <td>NaN</td>\n",
       "      <td>NaN</td>\n",
       "      <td>NaN</td>\n",
       "      <td>NaN</td>\n",
       "      <td>NaN</td>\n",
       "      <td>...</td>\n",
       "      <td>NaN</td>\n",
       "      <td>NaN</td>\n",
       "      <td>NaN</td>\n",
       "      <td>NaN</td>\n",
       "      <td>2</td>\n",
       "      <td>0</td>\n",
       "      <td>0</td>\n",
       "      <td>0</td>\n",
       "      <td>1.0</td>\n",
       "      <td>0.0</td>\n",
       "    </tr>\n",
       "    <tr>\n",
       "      <th>794</th>\n",
       "      <td>LA CABA?A - META</td>\n",
       "      <td>SAN CARLOS DE GUAROA</td>\n",
       "      <td>META</td>\n",
       "      <td>NaN</td>\n",
       "      <td>NaN</td>\n",
       "      <td>NaN</td>\n",
       "      <td>NaN</td>\n",
       "      <td>NaN</td>\n",
       "      <td>NaN</td>\n",
       "      <td>NaN</td>\n",
       "      <td>...</td>\n",
       "      <td>NaN</td>\n",
       "      <td>NaN</td>\n",
       "      <td>NaN</td>\n",
       "      <td>NaN</td>\n",
       "      <td>2</td>\n",
       "      <td>2</td>\n",
       "      <td>0</td>\n",
       "      <td>0</td>\n",
       "      <td>1.0</td>\n",
       "      <td>1.0</td>\n",
       "    </tr>\n",
       "    <tr>\n",
       "      <th>795</th>\n",
       "      <td>AEROSPORT.C.A.</td>\n",
       "      <td>FLANDES</td>\n",
       "      <td>TOLIMA</td>\n",
       "      <td>NaN</td>\n",
       "      <td>NaN</td>\n",
       "      <td>NaN</td>\n",
       "      <td>NaN</td>\n",
       "      <td>NaN</td>\n",
       "      <td>NaN</td>\n",
       "      <td>NaN</td>\n",
       "      <td>...</td>\n",
       "      <td>NaN</td>\n",
       "      <td>NaN</td>\n",
       "      <td>NaN</td>\n",
       "      <td>NaN</td>\n",
       "      <td>2</td>\n",
       "      <td>2</td>\n",
       "      <td>0</td>\n",
       "      <td>0</td>\n",
       "      <td>1.0</td>\n",
       "      <td>1.0</td>\n",
       "    </tr>\n",
       "    <tr>\n",
       "      <th>796</th>\n",
       "      <td>INGENIO MAYAGUEZ (C.A)</td>\n",
       "      <td>CANDELARIA</td>\n",
       "      <td>VALLE</td>\n",
       "      <td>NaN</td>\n",
       "      <td>NaN</td>\n",
       "      <td>NaN</td>\n",
       "      <td>NaN</td>\n",
       "      <td>NaN</td>\n",
       "      <td>NaN</td>\n",
       "      <td>NaN</td>\n",
       "      <td>...</td>\n",
       "      <td>NaN</td>\n",
       "      <td>NaN</td>\n",
       "      <td>NaN</td>\n",
       "      <td>NaN</td>\n",
       "      <td>2</td>\n",
       "      <td>8</td>\n",
       "      <td>0</td>\n",
       "      <td>0</td>\n",
       "      <td>1.0</td>\n",
       "      <td>2.0</td>\n",
       "    </tr>\n",
       "  </tbody>\n",
       "</table>\n",
       "<p>797 rows × 99 columns</p>\n",
       "</div>"
      ],
      "text/plain": [
       "                       NOMBRE AEROPUERTO                CIUDAD DEPARTAMENTO  \\\n",
       "0                             EL ENCANTO            EL ENCANTO     AMAZONAS   \n",
       "1    LA CHORRERA - VIRGILIO BARCO VARGAS           LA CHORRERA     AMAZONAS   \n",
       "2                             LA PEDRERA            LA PEDRERA     AMAZONAS   \n",
       "3           LETICIA-ALFREDO VASQUEZ COBO               LETICIA     AMAZONAS   \n",
       "4                               TARAPACA               LETICIA     AMAZONAS   \n",
       "..                                   ...                   ...          ...   \n",
       "792                        SANTA BARBARA               CUMARAL         META   \n",
       "793                     YATAROS DE MELUA          PUERTO LOPEZ         META   \n",
       "794                     LA CABA?A - META  SAN CARLOS DE GUAROA         META   \n",
       "795                       AEROSPORT.C.A.               FLANDES       TOLIMA   \n",
       "796               INGENIO MAYAGUEZ (C.A)            CANDELARIA        VALLE   \n",
       "\n",
       "    Pasajeros Salidos - 2019 Pasajeros Llegados - 2019  \\\n",
       "0                         62                        55   \n",
       "1                        788                       859   \n",
       "2                      2.517                     2.570   \n",
       "3                    166.039                   167.011   \n",
       "4                        758                       701   \n",
       "..                       ...                       ...   \n",
       "792                      NaN                       NaN   \n",
       "793                      NaN                       NaN   \n",
       "794                      NaN                       NaN   \n",
       "795                      NaN                       NaN   \n",
       "796                      NaN                       NaN   \n",
       "\n",
       "    Carga y Correo Salida (Kg) - 2019 Carga y Correo Llegados (kg) - 2019  \\\n",
       "0                                 805                               2.281   \n",
       "1                              85.783                             105.966   \n",
       "2                             339.960                             336.699   \n",
       "3                           9.465.876                           7.424.085   \n",
       "4                              26.654                              29.652   \n",
       "..                                ...                                 ...   \n",
       "792                               NaN                                 NaN   \n",
       "793                               NaN                                 NaN   \n",
       "794                               NaN                                 NaN   \n",
       "795                               NaN                                 NaN   \n",
       "796                               NaN                                 NaN   \n",
       "\n",
       "     Número Vuelos Salidos - 2019  Número Vuelos Llegados - 2019  \\\n",
       "0                          31.000                         31.000   \n",
       "1                         136.000                        135.000   \n",
       "2                         382.000                        383.000   \n",
       "3                           1.788                          1.791   \n",
       "4                         122.000                        123.000   \n",
       "..                            ...                            ...   \n",
       "792                           NaN                            NaN   \n",
       "793                           NaN                            NaN   \n",
       "794                           NaN                            NaN   \n",
       "795                           NaN                            NaN   \n",
       "796                           NaN                            NaN   \n",
       "\n",
       "    Pasajeros Salidos - 2018  ... Carga y Correo Salida (Kg) - 2005  \\\n",
       "0                         87  ...                               NaN   \n",
       "1                      1.167  ...                            27.801   \n",
       "2                      2.731  ...                           111.693   \n",
       "3                    134.304  ...                         8.494.881   \n",
       "4                      1.164  ...                             6.587   \n",
       "..                       ...  ...                               ...   \n",
       "792                      NaN  ...                               NaN   \n",
       "793                      NaN  ...                               NaN   \n",
       "794                      NaN  ...                               NaN   \n",
       "795                      NaN  ...                               NaN   \n",
       "796                      NaN  ...                               NaN   \n",
       "\n",
       "    Carga y Correo Llegados (kg) - 2005 Número Vuelos Salidos - 2005  \\\n",
       "0                                   NaN                          NaN   \n",
       "1                                60.326                      190.000   \n",
       "2                                97.117                      156.000   \n",
       "3                             6.507.999                        1.127   \n",
       "4                                 9.118                       47.000   \n",
       "..                                  ...                          ...   \n",
       "792                                 NaN                          NaN   \n",
       "793                                 NaN                          NaN   \n",
       "794                                 NaN                          NaN   \n",
       "795                                 NaN                          NaN   \n",
       "796                                 NaN                          NaN   \n",
       "\n",
       "     Número Vuelos Llegados - 2005  Pasajeros Salidos - 2004  \\\n",
       "0                              NaN                       NaN   \n",
       "1                          192.000                       433   \n",
       "2                          173.000                       385   \n",
       "3                            1.071                    26.861   \n",
       "4                           55.000                       NaN   \n",
       "..                             ...                       ...   \n",
       "792                            NaN                        16   \n",
       "793                            NaN                         2   \n",
       "794                            NaN                         2   \n",
       "795                            NaN                         2   \n",
       "796                            NaN                         2   \n",
       "\n",
       "    Pasajeros Llegados - 2004 Carga y Correo Salida (Kg) - 2004  \\\n",
       "0                         NaN                               NaN   \n",
       "1                         540                             2.117   \n",
       "2                         487                           141.136   \n",
       "3                      28.076                         7.715.581   \n",
       "4                         NaN                               NaN   \n",
       "..                        ...                               ...   \n",
       "792                         0                                 0   \n",
       "793                         0                                 0   \n",
       "794                         2                                 0   \n",
       "795                         2                                 0   \n",
       "796                         8                                 0   \n",
       "\n",
       "    Carga y Correo Llegados (kg) - 2004 Número Vuelos Salidos - 2004  \\\n",
       "0                                   NaN                          NaN   \n",
       "1                                 4.081                         53.0   \n",
       "2                                94.403                        101.0   \n",
       "3                             6.094.633                        755.0   \n",
       "4                                   NaN                          NaN   \n",
       "..                                  ...                          ...   \n",
       "792                                   0                         12.0   \n",
       "793                                   0                          1.0   \n",
       "794                                   0                          1.0   \n",
       "795                                   0                          1.0   \n",
       "796                                   0                          1.0   \n",
       "\n",
       "     Número Vuelos Llegados - 2004  \n",
       "0                              NaN  \n",
       "1                             54.0  \n",
       "2                             99.0  \n",
       "3                            749.0  \n",
       "4                              NaN  \n",
       "..                             ...  \n",
       "792                            0.0  \n",
       "793                            0.0  \n",
       "794                            1.0  \n",
       "795                            1.0  \n",
       "796                            2.0  \n",
       "\n",
       "[797 rows x 99 columns]"
      ]
     },
     "execution_count": 1,
     "metadata": {},
     "output_type": "execute_result"
    }
   ],
   "source": [
    "import pandas as pd\n",
    "\n",
    "# Cargar los datos\n",
    "data = pd.read_csv('../data/vuelosNacionales/vuelosNacionales.csv')\n",
    "data"
   ]
  },
  {
   "cell_type": "code",
   "execution_count": 2,
   "metadata": {
    "scrolled": false,
    "slideshow": {
     "slide_type": "subslide"
    }
   },
   "outputs": [
    {
     "name": "stdout",
     "output_type": "stream",
     "text": [
      "8\n",
      "6\n"
     ]
    }
   ],
   "source": [
    "# variables\n",
    "a = 4\n",
    "print(a*2)\n",
    "a = 3\n",
    "print(a*2)"
   ]
  },
  {
   "cell_type": "code",
   "execution_count": 3,
   "metadata": {
    "scrolled": false,
    "slideshow": {
     "slide_type": "subslide"
    }
   },
   "outputs": [
    {
     "data": {
      "text/html": [
       "<div>\n",
       "<style scoped>\n",
       "    .dataframe tbody tr th:only-of-type {\n",
       "        vertical-align: middle;\n",
       "    }\n",
       "\n",
       "    .dataframe tbody tr th {\n",
       "        vertical-align: top;\n",
       "    }\n",
       "\n",
       "    .dataframe thead th {\n",
       "        text-align: right;\n",
       "    }\n",
       "</style>\n",
       "<table border=\"1\" class=\"dataframe\">\n",
       "  <thead>\n",
       "    <tr style=\"text-align: right;\">\n",
       "      <th></th>\n",
       "      <th>Year</th>\n",
       "      <th>Make</th>\n",
       "      <th>Model</th>\n",
       "      <th>Length</th>\n",
       "    </tr>\n",
       "  </thead>\n",
       "  <tbody>\n",
       "    <tr>\n",
       "      <th>0</th>\n",
       "      <td>1997</td>\n",
       "      <td>Ford</td>\n",
       "      <td>E350</td>\n",
       "      <td>2.35</td>\n",
       "    </tr>\n",
       "    <tr>\n",
       "      <th>1</th>\n",
       "      <td>2000</td>\n",
       "      <td>Mercury</td>\n",
       "      <td>Cougar</td>\n",
       "      <td>2.38</td>\n",
       "    </tr>\n",
       "  </tbody>\n",
       "</table>\n",
       "</div>"
      ],
      "text/plain": [
       "   Year     Make   Model  Length\n",
       "0  1997     Ford    E350    2.35\n",
       "1  2000  Mercury  Cougar    2.38"
      ]
     },
     "execution_count": 3,
     "metadata": {},
     "output_type": "execute_result"
    }
   ],
   "source": [
    "import io\n",
    "\n",
    "# pandas dataframes\n",
    "stringData = '''Year,Make,Model,Length\n",
    "                1997,Ford,E350,2.35\n",
    "                2000,Mercury,Cougar,2.38'''\n",
    "df = pd.read_csv(io.StringIO(stringData))\n",
    "df"
   ]
  },
  {
   "cell_type": "code",
   "execution_count": 4,
   "metadata": {
    "scrolled": false,
    "slideshow": {
     "slide_type": "fragment"
    }
   },
   "outputs": [
    {
     "data": {
      "text/html": [
       "<div>\n",
       "<style scoped>\n",
       "    .dataframe tbody tr th:only-of-type {\n",
       "        vertical-align: middle;\n",
       "    }\n",
       "\n",
       "    .dataframe tbody tr th {\n",
       "        vertical-align: top;\n",
       "    }\n",
       "\n",
       "    .dataframe thead th {\n",
       "        text-align: right;\n",
       "    }\n",
       "</style>\n",
       "<table border=\"1\" class=\"dataframe\">\n",
       "  <thead>\n",
       "    <tr style=\"text-align: right;\">\n",
       "      <th></th>\n",
       "      <th>Year</th>\n",
       "      <th>Make</th>\n",
       "      <th>Model</th>\n",
       "      <th>Length</th>\n",
       "    </tr>\n",
       "  </thead>\n",
       "  <tbody>\n",
       "    <tr>\n",
       "      <th>0</th>\n",
       "      <td>1994</td>\n",
       "      <td>Ford</td>\n",
       "      <td>E350</td>\n",
       "      <td>2.35</td>\n",
       "    </tr>\n",
       "    <tr>\n",
       "      <th>1</th>\n",
       "      <td>1997</td>\n",
       "      <td>Mercury</td>\n",
       "      <td>Cougar</td>\n",
       "      <td>2.38</td>\n",
       "    </tr>\n",
       "  </tbody>\n",
       "</table>\n",
       "</div>"
      ],
      "text/plain": [
       "   Year     Make   Model  Length\n",
       "0  1994     Ford    E350    2.35\n",
       "1  1997  Mercury  Cougar    2.38"
      ]
     },
     "execution_count": 4,
     "metadata": {},
     "output_type": "execute_result"
    }
   ],
   "source": [
    "df['Year'] = df['Year'] - 3\n",
    "df"
   ]
  },
  {
   "cell_type": "markdown",
   "metadata": {
    "slideshow": {
     "slide_type": "slide"
    }
   },
   "source": [
    "# De vuelta al ejemplo\n"
   ]
  },
  {
   "cell_type": "code",
   "execution_count": 5,
   "metadata": {
    "scrolled": false,
    "slideshow": {
     "slide_type": "-"
    }
   },
   "outputs": [
    {
     "data": {
      "text/html": [
       "<div>\n",
       "<style scoped>\n",
       "    .dataframe tbody tr th:only-of-type {\n",
       "        vertical-align: middle;\n",
       "    }\n",
       "\n",
       "    .dataframe tbody tr th {\n",
       "        vertical-align: top;\n",
       "    }\n",
       "\n",
       "    .dataframe thead th {\n",
       "        text-align: right;\n",
       "    }\n",
       "</style>\n",
       "<table border=\"1\" class=\"dataframe\">\n",
       "  <thead>\n",
       "    <tr style=\"text-align: right;\">\n",
       "      <th></th>\n",
       "      <th>NOMBRE AEROPUERTO</th>\n",
       "      <th>CIUDAD</th>\n",
       "      <th>DEPARTAMENTO</th>\n",
       "      <th>Pasajeros Salidos - 2019</th>\n",
       "      <th>Pasajeros Llegados - 2019</th>\n",
       "      <th>Carga y Correo Salida (Kg) - 2019</th>\n",
       "      <th>Carga y Correo Llegados (kg) - 2019</th>\n",
       "      <th>Número Vuelos Salidos - 2019</th>\n",
       "      <th>Número Vuelos Llegados - 2019</th>\n",
       "      <th>Pasajeros Salidos - 2018</th>\n",
       "      <th>...</th>\n",
       "      <th>Carga y Correo Salida (Kg) - 2005</th>\n",
       "      <th>Carga y Correo Llegados (kg) - 2005</th>\n",
       "      <th>Número Vuelos Salidos - 2005</th>\n",
       "      <th>Número Vuelos Llegados - 2005</th>\n",
       "      <th>Pasajeros Salidos - 2004</th>\n",
       "      <th>Pasajeros Llegados - 2004</th>\n",
       "      <th>Carga y Correo Salida (Kg) - 2004</th>\n",
       "      <th>Carga y Correo Llegados (kg) - 2004</th>\n",
       "      <th>Número Vuelos Salidos - 2004</th>\n",
       "      <th>Número Vuelos Llegados - 2004</th>\n",
       "    </tr>\n",
       "  </thead>\n",
       "  <tbody>\n",
       "    <tr>\n",
       "      <th>0</th>\n",
       "      <td>EL ENCANTO</td>\n",
       "      <td>EL ENCANTO</td>\n",
       "      <td>AMAZONAS</td>\n",
       "      <td>62</td>\n",
       "      <td>55</td>\n",
       "      <td>805</td>\n",
       "      <td>2.281</td>\n",
       "      <td>31.000</td>\n",
       "      <td>31.000</td>\n",
       "      <td>87</td>\n",
       "      <td>...</td>\n",
       "      <td>NaN</td>\n",
       "      <td>NaN</td>\n",
       "      <td>NaN</td>\n",
       "      <td>NaN</td>\n",
       "      <td>NaN</td>\n",
       "      <td>NaN</td>\n",
       "      <td>NaN</td>\n",
       "      <td>NaN</td>\n",
       "      <td>NaN</td>\n",
       "      <td>NaN</td>\n",
       "    </tr>\n",
       "    <tr>\n",
       "      <th>1</th>\n",
       "      <td>LA CHORRERA - VIRGILIO BARCO VARGAS</td>\n",
       "      <td>LA CHORRERA</td>\n",
       "      <td>AMAZONAS</td>\n",
       "      <td>788</td>\n",
       "      <td>859</td>\n",
       "      <td>85.783</td>\n",
       "      <td>105.966</td>\n",
       "      <td>136.000</td>\n",
       "      <td>135.000</td>\n",
       "      <td>1.167</td>\n",
       "      <td>...</td>\n",
       "      <td>27.801</td>\n",
       "      <td>60.326</td>\n",
       "      <td>190.000</td>\n",
       "      <td>192.000</td>\n",
       "      <td>433</td>\n",
       "      <td>540</td>\n",
       "      <td>2.117</td>\n",
       "      <td>4.081</td>\n",
       "      <td>53.0</td>\n",
       "      <td>54.0</td>\n",
       "    </tr>\n",
       "    <tr>\n",
       "      <th>2</th>\n",
       "      <td>LA PEDRERA</td>\n",
       "      <td>LA PEDRERA</td>\n",
       "      <td>AMAZONAS</td>\n",
       "      <td>2.517</td>\n",
       "      <td>2.570</td>\n",
       "      <td>339.960</td>\n",
       "      <td>336.699</td>\n",
       "      <td>382.000</td>\n",
       "      <td>383.000</td>\n",
       "      <td>2.731</td>\n",
       "      <td>...</td>\n",
       "      <td>111.693</td>\n",
       "      <td>97.117</td>\n",
       "      <td>156.000</td>\n",
       "      <td>173.000</td>\n",
       "      <td>385</td>\n",
       "      <td>487</td>\n",
       "      <td>141.136</td>\n",
       "      <td>94.403</td>\n",
       "      <td>101.0</td>\n",
       "      <td>99.0</td>\n",
       "    </tr>\n",
       "    <tr>\n",
       "      <th>3</th>\n",
       "      <td>LETICIA-ALFREDO VASQUEZ COBO</td>\n",
       "      <td>LETICIA</td>\n",
       "      <td>AMAZONAS</td>\n",
       "      <td>166.039</td>\n",
       "      <td>167.011</td>\n",
       "      <td>9.465.876</td>\n",
       "      <td>7.424.085</td>\n",
       "      <td>1.788</td>\n",
       "      <td>1.791</td>\n",
       "      <td>134.304</td>\n",
       "      <td>...</td>\n",
       "      <td>8.494.881</td>\n",
       "      <td>6.507.999</td>\n",
       "      <td>1.127</td>\n",
       "      <td>1.071</td>\n",
       "      <td>26.861</td>\n",
       "      <td>28.076</td>\n",
       "      <td>7.715.581</td>\n",
       "      <td>6.094.633</td>\n",
       "      <td>755.0</td>\n",
       "      <td>749.0</td>\n",
       "    </tr>\n",
       "    <tr>\n",
       "      <th>4</th>\n",
       "      <td>TARAPACA</td>\n",
       "      <td>LETICIA</td>\n",
       "      <td>AMAZONAS</td>\n",
       "      <td>758</td>\n",
       "      <td>701</td>\n",
       "      <td>26.654</td>\n",
       "      <td>29.652</td>\n",
       "      <td>122.000</td>\n",
       "      <td>123.000</td>\n",
       "      <td>1.164</td>\n",
       "      <td>...</td>\n",
       "      <td>6.587</td>\n",
       "      <td>9.118</td>\n",
       "      <td>47.000</td>\n",
       "      <td>55.000</td>\n",
       "      <td>NaN</td>\n",
       "      <td>NaN</td>\n",
       "      <td>NaN</td>\n",
       "      <td>NaN</td>\n",
       "      <td>NaN</td>\n",
       "      <td>NaN</td>\n",
       "    </tr>\n",
       "  </tbody>\n",
       "</table>\n",
       "<p>5 rows × 99 columns</p>\n",
       "</div>"
      ],
      "text/plain": [
       "                     NOMBRE AEROPUERTO       CIUDAD DEPARTAMENTO  \\\n",
       "0                           EL ENCANTO   EL ENCANTO     AMAZONAS   \n",
       "1  LA CHORRERA - VIRGILIO BARCO VARGAS  LA CHORRERA     AMAZONAS   \n",
       "2                           LA PEDRERA   LA PEDRERA     AMAZONAS   \n",
       "3         LETICIA-ALFREDO VASQUEZ COBO      LETICIA     AMAZONAS   \n",
       "4                             TARAPACA      LETICIA     AMAZONAS   \n",
       "\n",
       "  Pasajeros Salidos - 2019 Pasajeros Llegados - 2019  \\\n",
       "0                       62                        55   \n",
       "1                      788                       859   \n",
       "2                    2.517                     2.570   \n",
       "3                  166.039                   167.011   \n",
       "4                      758                       701   \n",
       "\n",
       "  Carga y Correo Salida (Kg) - 2019 Carga y Correo Llegados (kg) - 2019  \\\n",
       "0                               805                               2.281   \n",
       "1                            85.783                             105.966   \n",
       "2                           339.960                             336.699   \n",
       "3                         9.465.876                           7.424.085   \n",
       "4                            26.654                              29.652   \n",
       "\n",
       "   Número Vuelos Salidos - 2019  Número Vuelos Llegados - 2019  \\\n",
       "0                        31.000                         31.000   \n",
       "1                       136.000                        135.000   \n",
       "2                       382.000                        383.000   \n",
       "3                         1.788                          1.791   \n",
       "4                       122.000                        123.000   \n",
       "\n",
       "  Pasajeros Salidos - 2018  ... Carga y Correo Salida (Kg) - 2005  \\\n",
       "0                       87  ...                               NaN   \n",
       "1                    1.167  ...                            27.801   \n",
       "2                    2.731  ...                           111.693   \n",
       "3                  134.304  ...                         8.494.881   \n",
       "4                    1.164  ...                             6.587   \n",
       "\n",
       "  Carga y Correo Llegados (kg) - 2005 Número Vuelos Salidos - 2005  \\\n",
       "0                                 NaN                          NaN   \n",
       "1                              60.326                      190.000   \n",
       "2                              97.117                      156.000   \n",
       "3                           6.507.999                        1.127   \n",
       "4                               9.118                       47.000   \n",
       "\n",
       "   Número Vuelos Llegados - 2005  Pasajeros Salidos - 2004  \\\n",
       "0                            NaN                       NaN   \n",
       "1                        192.000                       433   \n",
       "2                        173.000                       385   \n",
       "3                          1.071                    26.861   \n",
       "4                         55.000                       NaN   \n",
       "\n",
       "  Pasajeros Llegados - 2004 Carga y Correo Salida (Kg) - 2004  \\\n",
       "0                       NaN                               NaN   \n",
       "1                       540                             2.117   \n",
       "2                       487                           141.136   \n",
       "3                    28.076                         7.715.581   \n",
       "4                       NaN                               NaN   \n",
       "\n",
       "  Carga y Correo Llegados (kg) - 2004 Número Vuelos Salidos - 2004  \\\n",
       "0                                 NaN                          NaN   \n",
       "1                               4.081                         53.0   \n",
       "2                              94.403                        101.0   \n",
       "3                           6.094.633                        755.0   \n",
       "4                                 NaN                          NaN   \n",
       "\n",
       "   Número Vuelos Llegados - 2004  \n",
       "0                            NaN  \n",
       "1                           54.0  \n",
       "2                           99.0  \n",
       "3                          749.0  \n",
       "4                            NaN  \n",
       "\n",
       "[5 rows x 99 columns]"
      ]
     },
     "execution_count": 5,
     "metadata": {},
     "output_type": "execute_result"
    }
   ],
   "source": [
    "data.head()"
   ]
  },
  {
   "cell_type": "code",
   "execution_count": 6,
   "metadata": {
    "scrolled": false
   },
   "outputs": [
    {
     "data": {
      "text/plain": [
       "(797, 99)"
      ]
     },
     "execution_count": 6,
     "metadata": {},
     "output_type": "execute_result"
    }
   ],
   "source": [
    "data.shape"
   ]
  },
  {
   "cell_type": "markdown",
   "metadata": {
    "slideshow": {
     "slide_type": "subslide"
    }
   },
   "source": [
    "### Quitemos los ```.``` de los números\n",
    "\n",
    "```166.039 -> 166039\n",
    "9.465.876 -> 9465876```"
   ]
  },
  {
   "cell_type": "code",
   "execution_count": 7,
   "metadata": {
    "scrolled": false
   },
   "outputs": [
    {
     "name": "stdout",
     "output_type": "stream",
     "text": [
      "Index(['NOMBRE AEROPUERTO', 'CIUDAD', 'DEPARTAMENTO'], dtype='object')\n",
      "['NOMBRE AEROPUERTO', 'CIUDAD', 'DEPARTAMENTO']\n",
      "['Pasajeros Salidos - 2019', 'Pasajeros Llegados - 2019', 'Carga y Correo Salida (Kg) - 2019', 'Carga y Correo Llegados (kg) - 2019', 'Número Vuelos Salidos - 2019', 'Número Vuelos Llegados - 2019', 'Pasajeros Salidos - 2018', 'Pasajeros Llegados - 2018', 'Carga y Correo Salida (Kg) - 2018', 'Carga y Correo Llegados (kg) - 2018', 'Número Vuelos Salidos - 2018', 'Número Vuelos Llegados - 2018', 'Pasajeros Salidos - 2017', 'Pasajeros Llegados - 2017', 'Carga y Correo Salida (Kg) - 2017', 'Carga y Correo Llegados (kg) - 2017', 'Número Vuelos Salidos - 2017', 'Número Vuelos Llegados - 2017', 'Pasajeros Salidos - 2016', 'Pasajeros Llegados - 2016', 'Carga y Correo Salida (Kg) - 2016', 'Carga y Correo Llegados (kg) - 2016', 'Número Vuelos Salidos - 2016', 'Número Vuelos Llegados - 2016', 'Pasajeros Salidos - 2015', 'Pasajeros Llegados - 2015', 'Carga y Correo Salida (Kg) - 2015', 'Carga y Correo Llegados (kg) - 2015', 'Número Vuelos Salidos - 2015', 'Número Vuelos Llegados - 2015', 'Pasajeros Salidos - 2014', 'Pasajeros Llegados - 2014', 'Carga y Correo Salida (Kg) - 2014', 'Carga y Correo Llegados (kg) - 2014', 'Número Vuelos Salidos - 2014', 'Número Vuelos Llegados - 2014', 'Pasajeros Salidos - 2013', 'Pasajeros Llegados - 2013', 'Carga y Correo Salida (Kg) - 2013', 'Carga y Correo Llegados (kg) - 2013', 'Número Vuelos Salidos - 2013', 'Número Vuelos Llegados - 2013', 'Pasajeros Salidos - 2012', 'Pasajeros Llegados - 2012', 'Carga y Correo Salida (Kg) - 2012', 'Carga y Correo Llegados (kg) - 2012', 'Número Vuelos Salidos - 2012', 'Número Vuelos Llegados - 2012', 'Pasajeros Salidos - 2011', 'Pasajeros Llegados - 2011', 'Carga y Correo Salida (Kg) - 2011', 'Carga y Correo Llegados (kg) - 2011', 'Número Vuelos Salidos - 2011', 'Número Vuelos Llegados - 2011', 'Pasajeros Salidos - 2010', 'Pasajeros Llegados - 2010', 'Carga y Correo Salida (Kg) - 2010', 'Carga y Correo Llegados (kg) - 2010', 'Número Vuelos Salidos - 2010', 'Número Vuelos Llegados - 2010', 'Pasajeros Salidos - 2009', 'Pasajeros Llegados - 2009', 'Carga y Correo Salida (Kg) - 2009', 'Carga y Correo Llegados (kg) - 2009', 'Número Vuelos Salidos - 2009', 'Número Vuelos Llegados - 2009', 'Pasajeros Salidos - 2008', 'Pasajeros Llegados - 2008', 'Carga y Correo Salida (Kg) - 2008', 'Carga y Correo Llegados (kg) - 2008', 'Número Vuelos Salidos - 2008', 'Número Vuelos Llegados - 2008', 'Pasajeros Salidos - 2007', 'Pasajeros Llegados - 2007', 'Carga y Correo Salida (Kg) - 2007', 'Carga y Correo Llegados (kg) - 2007', 'Número Vuelos Salidos - 2007', 'Número Vuelos Llegados - 2007', 'Pasajeros Salidos - 2006', 'Pasajeros Llegados - 2006', 'Carga y Correo Salida (Kg) - 2006', 'Carga y Correo Llegados (kg) - 2006', 'Número Vuelos Salidos - 2006', 'Número Vuelos Llegados - 2006', 'Pasajeros Salidos - 2005', 'Pasajeros Llegados - 2005', 'Carga y Correo Salida (Kg) - 2005', 'Carga y Correo Llegados (kg) - 2005', 'Número Vuelos Salidos - 2005', 'Número Vuelos Llegados - 2005', 'Pasajeros Salidos - 2004', 'Pasajeros Llegados - 2004', 'Carga y Correo Salida (Kg) - 2004', 'Carga y Correo Llegados (kg) - 2004', 'Número Vuelos Salidos - 2004', 'Número Vuelos Llegados - 2004']\n"
     ]
    }
   ],
   "source": [
    "columnas = data.columns\n",
    "print(columnas[:3])\n",
    "\n",
    "# pasemoslo a lista\n",
    "columnas = list(columnas)\n",
    "print(columnas[:3])\n",
    "\n",
    "columnasConNumeros = columnas[3:]\n",
    "print(columnasConNumeros)\n",
    "\n",
    "# para cada columna, quite los .\n"
   ]
  },
  {
   "cell_type": "markdown",
   "metadata": {
    "slideshow": {
     "slide_type": "subslide"
    }
   },
   "source": [
    "### ¿Cómo iterar?"
   ]
  },
  {
   "cell_type": "code",
   "execution_count": 8,
   "metadata": {
    "scrolled": false
   },
   "outputs": [
    {
     "name": "stdout",
     "output_type": "stream",
     "text": [
      "Pasajeros Salidos - 2019\n"
     ]
    },
    {
     "ename": "NameError",
     "evalue": "name 'limpiarColumna' is not defined",
     "output_type": "error",
     "traceback": [
      "\u001b[0;31m---------------------------------------------------------------------------\u001b[0m",
      "\u001b[0;31mNameError\u001b[0m                                 Traceback (most recent call last)",
      "\u001b[0;32m<ipython-input-8-d702584fd8ae>\u001b[0m in \u001b[0;36m<module>\u001b[0;34m\u001b[0m\n\u001b[1;32m      3\u001b[0m     \u001b[0;31m# limpiar columna\u001b[0m\u001b[0;34m\u001b[0m\u001b[0;34m\u001b[0m\u001b[0;34m\u001b[0m\u001b[0m\n\u001b[1;32m      4\u001b[0m     \u001b[0mprint\u001b[0m\u001b[0;34m(\u001b[0m\u001b[0mcolumna\u001b[0m\u001b[0;34m)\u001b[0m\u001b[0;34m\u001b[0m\u001b[0;34m\u001b[0m\u001b[0m\n\u001b[0;32m----> 5\u001b[0;31m     \u001b[0mlimpiarColumna\u001b[0m\u001b[0;34m(\u001b[0m\u001b[0mdata\u001b[0m\u001b[0;34m,\u001b[0m \u001b[0mcolumna\u001b[0m\u001b[0;34m)\u001b[0m\u001b[0;34m\u001b[0m\u001b[0;34m\u001b[0m\u001b[0m\n\u001b[0m",
      "\u001b[0;31mNameError\u001b[0m: name 'limpiarColumna' is not defined"
     ]
    }
   ],
   "source": [
    "for columna in columnasConNumeros:\n",
    "    \n",
    "    # limpiar columna\n",
    "    print(columna)\n",
    "    limpiarColumna(data, columna)"
   ]
  },
  {
   "cell_type": "markdown",
   "metadata": {
    "slideshow": {
     "slide_type": "subslide"
    }
   },
   "source": [
    "## Funciones"
   ]
  },
  {
   "cell_type": "code",
   "execution_count": 9,
   "metadata": {
    "scrolled": false
   },
   "outputs": [],
   "source": [
    "def limpiarColumna(dataFrame, nombreDeColumna):\n",
    "    \n",
    "    columna = dataFrame[nombreDeColumna]\n",
    "    columnaLimpia = columna.str.replace('.','')\n",
    "    \n",
    "    dataFrame[nombreDeColumna] = columnaLimpia\n",
    "    "
   ]
  },
  {
   "cell_type": "code",
   "execution_count": null,
   "metadata": {
    "scrolled": true,
    "slideshow": {
     "slide_type": "fragment"
    }
   },
   "outputs": [],
   "source": []
  },
  {
   "cell_type": "markdown",
   "metadata": {
    "slideshow": {
     "slide_type": "subslide"
    }
   },
   "source": [
    "# Invoquemos la función\n"
   ]
  },
  {
   "cell_type": "code",
   "execution_count": 10,
   "metadata": {},
   "outputs": [
    {
     "name": "stdout",
     "output_type": "stream",
     "text": [
      "0           62\n",
      "1          788\n",
      "2        2.517\n",
      "3      166.039\n",
      "4          758\n",
      "        ...   \n",
      "792        NaN\n",
      "793        NaN\n",
      "794        NaN\n",
      "795        NaN\n",
      "796        NaN\n",
      "Name: Pasajeros Salidos - 2019, Length: 797, dtype: object\n",
      "0          62\n",
      "1         788\n",
      "2        2517\n",
      "3      166039\n",
      "4         758\n",
      "        ...  \n",
      "792       NaN\n",
      "793       NaN\n",
      "794       NaN\n",
      "795       NaN\n",
      "796       NaN\n",
      "Name: Pasajeros Salidos - 2019, Length: 797, dtype: object\n"
     ]
    }
   ],
   "source": [
    "primeraColumna = columnasConNumeros[0]\n",
    "print(data[primeraColumna])\n",
    "\n",
    "limpiarColumna(data, primeraColumna)\n",
    "print(data[primeraColumna])"
   ]
  },
  {
   "cell_type": "markdown",
   "metadata": {},
   "source": [
    "# De vuelta al ejemplo"
   ]
  },
  {
   "cell_type": "code",
   "execution_count": 11,
   "metadata": {
    "scrolled": true
   },
   "outputs": [
    {
     "name": "stdout",
     "output_type": "stream",
     "text": [
      "Pasajeros Salidos - 2019\n",
      "Pasajeros Llegados - 2019\n",
      "Carga y Correo Salida (Kg) - 2019\n",
      "Carga y Correo Llegados (kg) - 2019\n",
      "Número Vuelos Salidos - 2019\n"
     ]
    },
    {
     "ename": "AttributeError",
     "evalue": "Can only use .str accessor with string values!",
     "output_type": "error",
     "traceback": [
      "\u001b[0;31m---------------------------------------------------------------------------\u001b[0m",
      "\u001b[0;31mAttributeError\u001b[0m                            Traceback (most recent call last)",
      "\u001b[0;32m<ipython-input-11-d702584fd8ae>\u001b[0m in \u001b[0;36m<module>\u001b[0;34m\u001b[0m\n\u001b[1;32m      3\u001b[0m     \u001b[0;31m# limpiar columna\u001b[0m\u001b[0;34m\u001b[0m\u001b[0;34m\u001b[0m\u001b[0;34m\u001b[0m\u001b[0m\n\u001b[1;32m      4\u001b[0m     \u001b[0mprint\u001b[0m\u001b[0;34m(\u001b[0m\u001b[0mcolumna\u001b[0m\u001b[0;34m)\u001b[0m\u001b[0;34m\u001b[0m\u001b[0;34m\u001b[0m\u001b[0m\n\u001b[0;32m----> 5\u001b[0;31m     \u001b[0mlimpiarColumna\u001b[0m\u001b[0;34m(\u001b[0m\u001b[0mdata\u001b[0m\u001b[0;34m,\u001b[0m \u001b[0mcolumna\u001b[0m\u001b[0;34m)\u001b[0m\u001b[0;34m\u001b[0m\u001b[0;34m\u001b[0m\u001b[0m\n\u001b[0m",
      "\u001b[0;32m<ipython-input-9-3d5d3aab079a>\u001b[0m in \u001b[0;36mlimpiarColumna\u001b[0;34m(dataFrame, nombreDeColumna)\u001b[0m\n\u001b[1;32m      2\u001b[0m \u001b[0;34m\u001b[0m\u001b[0m\n\u001b[1;32m      3\u001b[0m     \u001b[0mcolumna\u001b[0m \u001b[0;34m=\u001b[0m \u001b[0mdataFrame\u001b[0m\u001b[0;34m[\u001b[0m\u001b[0mnombreDeColumna\u001b[0m\u001b[0;34m]\u001b[0m\u001b[0;34m\u001b[0m\u001b[0;34m\u001b[0m\u001b[0m\n\u001b[0;32m----> 4\u001b[0;31m     \u001b[0mcolumnaLimpia\u001b[0m \u001b[0;34m=\u001b[0m \u001b[0mcolumna\u001b[0m\u001b[0;34m.\u001b[0m\u001b[0mstr\u001b[0m\u001b[0;34m.\u001b[0m\u001b[0mreplace\u001b[0m\u001b[0;34m(\u001b[0m\u001b[0;34m'.'\u001b[0m\u001b[0;34m,\u001b[0m\u001b[0;34m''\u001b[0m\u001b[0;34m)\u001b[0m\u001b[0;34m\u001b[0m\u001b[0;34m\u001b[0m\u001b[0m\n\u001b[0m\u001b[1;32m      5\u001b[0m \u001b[0;34m\u001b[0m\u001b[0m\n\u001b[1;32m      6\u001b[0m     \u001b[0mdataFrame\u001b[0m\u001b[0;34m[\u001b[0m\u001b[0mnombreDeColumna\u001b[0m\u001b[0;34m]\u001b[0m \u001b[0;34m=\u001b[0m \u001b[0mcolumnaLimpia\u001b[0m\u001b[0;34m\u001b[0m\u001b[0;34m\u001b[0m\u001b[0m\n",
      "\u001b[0;32m~/anaconda3/lib/python3.8/site-packages/pandas/core/generic.py\u001b[0m in \u001b[0;36m__getattr__\u001b[0;34m(self, name)\u001b[0m\n\u001b[1;32m   5268\u001b[0m             \u001b[0;32mor\u001b[0m \u001b[0mname\u001b[0m \u001b[0;32min\u001b[0m \u001b[0mself\u001b[0m\u001b[0;34m.\u001b[0m\u001b[0m_accessors\u001b[0m\u001b[0;34m\u001b[0m\u001b[0;34m\u001b[0m\u001b[0m\n\u001b[1;32m   5269\u001b[0m         ):\n\u001b[0;32m-> 5270\u001b[0;31m             \u001b[0;32mreturn\u001b[0m \u001b[0mobject\u001b[0m\u001b[0;34m.\u001b[0m\u001b[0m__getattribute__\u001b[0m\u001b[0;34m(\u001b[0m\u001b[0mself\u001b[0m\u001b[0;34m,\u001b[0m \u001b[0mname\u001b[0m\u001b[0;34m)\u001b[0m\u001b[0;34m\u001b[0m\u001b[0;34m\u001b[0m\u001b[0m\n\u001b[0m\u001b[1;32m   5271\u001b[0m         \u001b[0;32melse\u001b[0m\u001b[0;34m:\u001b[0m\u001b[0;34m\u001b[0m\u001b[0;34m\u001b[0m\u001b[0m\n\u001b[1;32m   5272\u001b[0m             \u001b[0;32mif\u001b[0m \u001b[0mself\u001b[0m\u001b[0;34m.\u001b[0m\u001b[0m_info_axis\u001b[0m\u001b[0;34m.\u001b[0m\u001b[0m_can_hold_identifiers_and_holds_name\u001b[0m\u001b[0;34m(\u001b[0m\u001b[0mname\u001b[0m\u001b[0;34m)\u001b[0m\u001b[0;34m:\u001b[0m\u001b[0;34m\u001b[0m\u001b[0;34m\u001b[0m\u001b[0m\n",
      "\u001b[0;32m~/anaconda3/lib/python3.8/site-packages/pandas/core/accessor.py\u001b[0m in \u001b[0;36m__get__\u001b[0;34m(self, obj, cls)\u001b[0m\n\u001b[1;32m    185\u001b[0m             \u001b[0;31m# we're accessing the attribute of the class, i.e., Dataset.geo\u001b[0m\u001b[0;34m\u001b[0m\u001b[0;34m\u001b[0m\u001b[0;34m\u001b[0m\u001b[0m\n\u001b[1;32m    186\u001b[0m             \u001b[0;32mreturn\u001b[0m \u001b[0mself\u001b[0m\u001b[0;34m.\u001b[0m\u001b[0m_accessor\u001b[0m\u001b[0;34m\u001b[0m\u001b[0;34m\u001b[0m\u001b[0m\n\u001b[0;32m--> 187\u001b[0;31m         \u001b[0maccessor_obj\u001b[0m \u001b[0;34m=\u001b[0m \u001b[0mself\u001b[0m\u001b[0;34m.\u001b[0m\u001b[0m_accessor\u001b[0m\u001b[0;34m(\u001b[0m\u001b[0mobj\u001b[0m\u001b[0;34m)\u001b[0m\u001b[0;34m\u001b[0m\u001b[0;34m\u001b[0m\u001b[0m\n\u001b[0m\u001b[1;32m    188\u001b[0m         \u001b[0;31m# Replace the property with the accessor object. Inspired by:\u001b[0m\u001b[0;34m\u001b[0m\u001b[0;34m\u001b[0m\u001b[0;34m\u001b[0m\u001b[0m\n\u001b[1;32m    189\u001b[0m         \u001b[0;31m# http://www.pydanny.com/cached-property.html\u001b[0m\u001b[0;34m\u001b[0m\u001b[0;34m\u001b[0m\u001b[0;34m\u001b[0m\u001b[0m\n",
      "\u001b[0;32m~/anaconda3/lib/python3.8/site-packages/pandas/core/strings.py\u001b[0m in \u001b[0;36m__init__\u001b[0;34m(self, data)\u001b[0m\n\u001b[1;32m   2039\u001b[0m \u001b[0;34m\u001b[0m\u001b[0m\n\u001b[1;32m   2040\u001b[0m     \u001b[0;32mdef\u001b[0m \u001b[0m__init__\u001b[0m\u001b[0;34m(\u001b[0m\u001b[0mself\u001b[0m\u001b[0;34m,\u001b[0m \u001b[0mdata\u001b[0m\u001b[0;34m)\u001b[0m\u001b[0;34m:\u001b[0m\u001b[0;34m\u001b[0m\u001b[0;34m\u001b[0m\u001b[0m\n\u001b[0;32m-> 2041\u001b[0;31m         \u001b[0mself\u001b[0m\u001b[0;34m.\u001b[0m\u001b[0m_inferred_dtype\u001b[0m \u001b[0;34m=\u001b[0m \u001b[0mself\u001b[0m\u001b[0;34m.\u001b[0m\u001b[0m_validate\u001b[0m\u001b[0;34m(\u001b[0m\u001b[0mdata\u001b[0m\u001b[0;34m)\u001b[0m\u001b[0;34m\u001b[0m\u001b[0;34m\u001b[0m\u001b[0m\n\u001b[0m\u001b[1;32m   2042\u001b[0m         \u001b[0mself\u001b[0m\u001b[0;34m.\u001b[0m\u001b[0m_is_categorical\u001b[0m \u001b[0;34m=\u001b[0m \u001b[0mis_categorical_dtype\u001b[0m\u001b[0;34m(\u001b[0m\u001b[0mdata\u001b[0m\u001b[0;34m)\u001b[0m\u001b[0;34m\u001b[0m\u001b[0;34m\u001b[0m\u001b[0m\n\u001b[1;32m   2043\u001b[0m         \u001b[0mself\u001b[0m\u001b[0;34m.\u001b[0m\u001b[0m_is_string\u001b[0m \u001b[0;34m=\u001b[0m \u001b[0mdata\u001b[0m\u001b[0;34m.\u001b[0m\u001b[0mdtype\u001b[0m\u001b[0;34m.\u001b[0m\u001b[0mname\u001b[0m \u001b[0;34m==\u001b[0m \u001b[0;34m\"string\"\u001b[0m\u001b[0;34m\u001b[0m\u001b[0;34m\u001b[0m\u001b[0m\n",
      "\u001b[0;32m~/anaconda3/lib/python3.8/site-packages/pandas/core/strings.py\u001b[0m in \u001b[0;36m_validate\u001b[0;34m(data)\u001b[0m\n\u001b[1;32m   2096\u001b[0m \u001b[0;34m\u001b[0m\u001b[0m\n\u001b[1;32m   2097\u001b[0m         \u001b[0;32mif\u001b[0m \u001b[0minferred_dtype\u001b[0m \u001b[0;32mnot\u001b[0m \u001b[0;32min\u001b[0m \u001b[0mallowed_types\u001b[0m\u001b[0;34m:\u001b[0m\u001b[0;34m\u001b[0m\u001b[0;34m\u001b[0m\u001b[0m\n\u001b[0;32m-> 2098\u001b[0;31m             \u001b[0;32mraise\u001b[0m \u001b[0mAttributeError\u001b[0m\u001b[0;34m(\u001b[0m\u001b[0;34m\"Can only use .str accessor with string values!\"\u001b[0m\u001b[0;34m)\u001b[0m\u001b[0;34m\u001b[0m\u001b[0;34m\u001b[0m\u001b[0m\n\u001b[0m\u001b[1;32m   2099\u001b[0m         \u001b[0;32mreturn\u001b[0m \u001b[0minferred_dtype\u001b[0m\u001b[0;34m\u001b[0m\u001b[0;34m\u001b[0m\u001b[0m\n\u001b[1;32m   2100\u001b[0m \u001b[0;34m\u001b[0m\u001b[0m\n",
      "\u001b[0;31mAttributeError\u001b[0m: Can only use .str accessor with string values!"
     ]
    }
   ],
   "source": [
    "for columna in columnasConNumeros:\n",
    "    \n",
    "    # limpiar columna\n",
    "    print(columna)\n",
    "    limpiarColumna(data, columna)"
   ]
  },
  {
   "cell_type": "code",
   "execution_count": 12,
   "metadata": {
    "scrolled": true,
    "slideshow": {
     "slide_type": "subslide"
    }
   },
   "outputs": [
    {
     "name": "stdout",
     "output_type": "stream",
     "text": [
      "<class 'pandas.core.frame.DataFrame'>\n",
      "RangeIndex: 797 entries, 0 to 796\n",
      "Data columns (total 99 columns):\n",
      " #   Column                               Non-Null Count  Dtype  \n",
      "---  ------                               --------------  -----  \n",
      " 0   NOMBRE AEROPUERTO                    797 non-null    object \n",
      " 1   CIUDAD                               797 non-null    object \n",
      " 2   DEPARTAMENTO                         797 non-null    object \n",
      " 3   Pasajeros Salidos - 2019             312 non-null    object \n",
      " 4   Pasajeros Llegados - 2019            312 non-null    object \n",
      " 5   Carga y Correo Salida (Kg) - 2019    312 non-null    object \n",
      " 6   Carga y Correo Llegados (kg) - 2019  312 non-null    object \n",
      " 7   Número Vuelos Salidos - 2019         312 non-null    float64\n",
      " 8   Número Vuelos Llegados - 2019        312 non-null    float64\n",
      " 9   Pasajeros Salidos - 2018             325 non-null    object \n",
      " 10  Pasajeros Llegados - 2018            325 non-null    object \n",
      " 11  Carga y Correo Salida (Kg) - 2018    325 non-null    object \n",
      " 12  Carga y Correo Llegados (kg) - 2018  325 non-null    object \n",
      " 13  Número Vuelos Salidos - 2018         325 non-null    float64\n",
      " 14  Número Vuelos Llegados - 2018        325 non-null    float64\n",
      " 15  Pasajeros Salidos - 2017             330 non-null    object \n",
      " 16  Pasajeros Llegados - 2017            330 non-null    object \n",
      " 17  Carga y Correo Salida (Kg) - 2017    330 non-null    object \n",
      " 18  Carga y Correo Llegados (kg) - 2017  330 non-null    object \n",
      " 19  Número Vuelos Salidos - 2017         330 non-null    float64\n",
      " 20  Número Vuelos Llegados - 2017        330 non-null    float64\n",
      " 21  Pasajeros Salidos - 2016             342 non-null    object \n",
      " 22  Pasajeros Llegados - 2016            342 non-null    object \n",
      " 23  Carga y Correo Salida (Kg) - 2016    342 non-null    object \n",
      " 24  Carga y Correo Llegados (kg) - 2016  342 non-null    object \n",
      " 25  Número Vuelos Salidos - 2016         342 non-null    float64\n",
      " 26  Número Vuelos Llegados - 2016        342 non-null    float64\n",
      " 27  Pasajeros Salidos - 2015             361 non-null    object \n",
      " 28  Pasajeros Llegados - 2015            361 non-null    object \n",
      " 29  Carga y Correo Salida (Kg) - 2015    361 non-null    object \n",
      " 30  Carga y Correo Llegados (kg) - 2015  361 non-null    object \n",
      " 31  Número Vuelos Salidos - 2015         361 non-null    float64\n",
      " 32  Número Vuelos Llegados - 2015        361 non-null    float64\n",
      " 33  Pasajeros Salidos - 2014             388 non-null    object \n",
      " 34  Pasajeros Llegados - 2014            388 non-null    object \n",
      " 35  Carga y Correo Salida (Kg) - 2014    388 non-null    object \n",
      " 36  Carga y Correo Llegados (kg) - 2014  388 non-null    object \n",
      " 37  Número Vuelos Salidos - 2014         388 non-null    float64\n",
      " 38  Número Vuelos Llegados - 2014        388 non-null    float64\n",
      " 39  Pasajeros Salidos - 2013             385 non-null    object \n",
      " 40  Pasajeros Llegados - 2013            385 non-null    object \n",
      " 41  Carga y Correo Salida (Kg) - 2013    385 non-null    object \n",
      " 42  Carga y Correo Llegados (kg) - 2013  385 non-null    object \n",
      " 43  Número Vuelos Salidos - 2013         385 non-null    float64\n",
      " 44  Número Vuelos Llegados - 2013        385 non-null    float64\n",
      " 45  Pasajeros Salidos - 2012             367 non-null    object \n",
      " 46  Pasajeros Llegados - 2012            367 non-null    object \n",
      " 47  Carga y Correo Salida (Kg) - 2012    367 non-null    object \n",
      " 48  Carga y Correo Llegados (kg) - 2012  367 non-null    object \n",
      " 49  Número Vuelos Salidos - 2012         367 non-null    float64\n",
      " 50  Número Vuelos Llegados - 2012        367 non-null    float64\n",
      " 51  Pasajeros Salidos - 2011             370 non-null    object \n",
      " 52  Pasajeros Llegados - 2011            370 non-null    object \n",
      " 53  Carga y Correo Salida (Kg) - 2011    370 non-null    object \n",
      " 54  Carga y Correo Llegados (kg) - 2011  370 non-null    object \n",
      " 55  Número Vuelos Salidos - 2011         370 non-null    float64\n",
      " 56  Número Vuelos Llegados - 2011        370 non-null    float64\n",
      " 57  Pasajeros Salidos - 2010             346 non-null    object \n",
      " 58  Pasajeros Llegados - 2010            346 non-null    object \n",
      " 59  Carga y Correo Salida (Kg) - 2010    346 non-null    object \n",
      " 60  Carga y Correo Llegados (kg) - 2010  346 non-null    object \n",
      " 61  Número Vuelos Salidos - 2010         346 non-null    float64\n",
      " 62  Número Vuelos Llegados - 2010        346 non-null    float64\n",
      " 63  Pasajeros Salidos - 2009             320 non-null    object \n",
      " 64  Pasajeros Llegados - 2009            320 non-null    object \n",
      " 65  Carga y Correo Salida (Kg) - 2009    320 non-null    object \n",
      " 66  Carga y Correo Llegados (kg) - 2009  320 non-null    object \n",
      " 67  Número Vuelos Salidos - 2009         320 non-null    float64\n",
      " 68  Número Vuelos Llegados - 2009        320 non-null    float64\n",
      " 69  Pasajeros Salidos - 2008             369 non-null    object \n",
      " 70  Pasajeros Llegados - 2008            369 non-null    object \n",
      " 71  Carga y Correo Salida (Kg) - 2008    369 non-null    object \n",
      " 72  Carga y Correo Llegados (kg) - 2008  369 non-null    object \n",
      " 73  Número Vuelos Salidos - 2008         369 non-null    float64\n",
      " 74  Número Vuelos Llegados - 2008        369 non-null    float64\n",
      " 75  Pasajeros Salidos - 2007             427 non-null    object \n",
      " 76  Pasajeros Llegados - 2007            427 non-null    object \n",
      " 77  Carga y Correo Salida (Kg) - 2007    427 non-null    object \n",
      " 78  Carga y Correo Llegados (kg) - 2007  427 non-null    object \n",
      " 79  Número Vuelos Salidos - 2007         427 non-null    float64\n",
      " 80  Número Vuelos Llegados - 2007        427 non-null    float64\n",
      " 81  Pasajeros Salidos - 2006             365 non-null    object \n",
      " 82  Pasajeros Llegados - 2006            365 non-null    object \n",
      " 83  Carga y Correo Salida (Kg) - 2006    365 non-null    object \n",
      " 84  Carga y Correo Llegados (kg) - 2006  365 non-null    object \n",
      " 85  Número Vuelos Salidos - 2006         365 non-null    float64\n",
      " 86  Número Vuelos Llegados - 2006        365 non-null    float64\n",
      " 87  Pasajeros Salidos - 2005             328 non-null    object \n",
      " 88  Pasajeros Llegados - 2005            328 non-null    object \n",
      " 89  Carga y Correo Salida (Kg) - 2005    328 non-null    object \n",
      " 90  Carga y Correo Llegados (kg) - 2005  328 non-null    object \n",
      " 91  Número Vuelos Salidos - 2005         328 non-null    float64\n",
      " 92  Número Vuelos Llegados - 2005        328 non-null    float64\n",
      " 93  Pasajeros Salidos - 2004             325 non-null    object \n",
      " 94  Pasajeros Llegados - 2004            325 non-null    object \n",
      " 95  Carga y Correo Salida (Kg) - 2004    325 non-null    object \n",
      " 96  Carga y Correo Llegados (kg) - 2004  325 non-null    object \n",
      " 97  Número Vuelos Salidos - 2004         325 non-null    float64\n",
      " 98  Número Vuelos Llegados - 2004        325 non-null    float64\n",
      "dtypes: float64(32), object(67)\n",
      "memory usage: 616.6+ KB\n"
     ]
    }
   ],
   "source": [
    "data.info()"
   ]
  },
  {
   "cell_type": "markdown",
   "metadata": {
    "slideshow": {
     "slide_type": "subslide"
    }
   },
   "source": [
    "## Condicionales\n",
    "\n",
    "A veces, nos interesa ejecutar un pedazo de código sólamente si se cumple una condición."
   ]
  },
  {
   "cell_type": "code",
   "execution_count": 13,
   "metadata": {
    "scrolled": true
   },
   "outputs": [
    {
     "name": "stdout",
     "output_type": "stream",
     "text": [
      "<class 'pandas.core.frame.DataFrame'>\n",
      "RangeIndex: 797 entries, 0 to 796\n",
      "Data columns (total 99 columns):\n",
      " #   Column                               Non-Null Count  Dtype  \n",
      "---  ------                               --------------  -----  \n",
      " 0   NOMBRE AEROPUERTO                    797 non-null    object \n",
      " 1   CIUDAD                               797 non-null    object \n",
      " 2   DEPARTAMENTO                         797 non-null    object \n",
      " 3   Pasajeros Salidos - 2019             312 non-null    object \n",
      " 4   Pasajeros Llegados - 2019            312 non-null    object \n",
      " 5   Carga y Correo Salida (Kg) - 2019    312 non-null    object \n",
      " 6   Carga y Correo Llegados (kg) - 2019  312 non-null    object \n",
      " 7   Número Vuelos Salidos - 2019         312 non-null    float64\n",
      " 8   Número Vuelos Llegados - 2019        312 non-null    float64\n",
      " 9   Pasajeros Salidos - 2018             325 non-null    object \n",
      " 10  Pasajeros Llegados - 2018            325 non-null    object \n",
      " 11  Carga y Correo Salida (Kg) - 2018    325 non-null    object \n",
      " 12  Carga y Correo Llegados (kg) - 2018  325 non-null    object \n",
      " 13  Número Vuelos Salidos - 2018         325 non-null    float64\n",
      " 14  Número Vuelos Llegados - 2018        325 non-null    float64\n",
      " 15  Pasajeros Salidos - 2017             330 non-null    object \n",
      " 16  Pasajeros Llegados - 2017            330 non-null    object \n",
      " 17  Carga y Correo Salida (Kg) - 2017    330 non-null    object \n",
      " 18  Carga y Correo Llegados (kg) - 2017  330 non-null    object \n",
      " 19  Número Vuelos Salidos - 2017         330 non-null    float64\n",
      " 20  Número Vuelos Llegados - 2017        330 non-null    float64\n",
      " 21  Pasajeros Salidos - 2016             342 non-null    object \n",
      " 22  Pasajeros Llegados - 2016            342 non-null    object \n",
      " 23  Carga y Correo Salida (Kg) - 2016    342 non-null    object \n",
      " 24  Carga y Correo Llegados (kg) - 2016  342 non-null    object \n",
      " 25  Número Vuelos Salidos - 2016         342 non-null    float64\n",
      " 26  Número Vuelos Llegados - 2016        342 non-null    float64\n",
      " 27  Pasajeros Salidos - 2015             361 non-null    object \n",
      " 28  Pasajeros Llegados - 2015            361 non-null    object \n",
      " 29  Carga y Correo Salida (Kg) - 2015    361 non-null    object \n",
      " 30  Carga y Correo Llegados (kg) - 2015  361 non-null    object \n",
      " 31  Número Vuelos Salidos - 2015         361 non-null    float64\n",
      " 32  Número Vuelos Llegados - 2015        361 non-null    float64\n",
      " 33  Pasajeros Salidos - 2014             388 non-null    object \n",
      " 34  Pasajeros Llegados - 2014            388 non-null    object \n",
      " 35  Carga y Correo Salida (Kg) - 2014    388 non-null    object \n",
      " 36  Carga y Correo Llegados (kg) - 2014  388 non-null    object \n",
      " 37  Número Vuelos Salidos - 2014         388 non-null    float64\n",
      " 38  Número Vuelos Llegados - 2014        388 non-null    float64\n",
      " 39  Pasajeros Salidos - 2013             385 non-null    object \n",
      " 40  Pasajeros Llegados - 2013            385 non-null    object \n",
      " 41  Carga y Correo Salida (Kg) - 2013    385 non-null    object \n",
      " 42  Carga y Correo Llegados (kg) - 2013  385 non-null    object \n",
      " 43  Número Vuelos Salidos - 2013         385 non-null    float64\n",
      " 44  Número Vuelos Llegados - 2013        385 non-null    float64\n",
      " 45  Pasajeros Salidos - 2012             367 non-null    object \n",
      " 46  Pasajeros Llegados - 2012            367 non-null    object \n",
      " 47  Carga y Correo Salida (Kg) - 2012    367 non-null    object \n",
      " 48  Carga y Correo Llegados (kg) - 2012  367 non-null    object \n",
      " 49  Número Vuelos Salidos - 2012         367 non-null    float64\n",
      " 50  Número Vuelos Llegados - 2012        367 non-null    float64\n",
      " 51  Pasajeros Salidos - 2011             370 non-null    object \n",
      " 52  Pasajeros Llegados - 2011            370 non-null    object \n",
      " 53  Carga y Correo Salida (Kg) - 2011    370 non-null    object \n",
      " 54  Carga y Correo Llegados (kg) - 2011  370 non-null    object \n",
      " 55  Número Vuelos Salidos - 2011         370 non-null    float64\n",
      " 56  Número Vuelos Llegados - 2011        370 non-null    float64\n",
      " 57  Pasajeros Salidos - 2010             346 non-null    object \n",
      " 58  Pasajeros Llegados - 2010            346 non-null    object \n",
      " 59  Carga y Correo Salida (Kg) - 2010    346 non-null    object \n",
      " 60  Carga y Correo Llegados (kg) - 2010  346 non-null    object \n",
      " 61  Número Vuelos Salidos - 2010         346 non-null    float64\n",
      " 62  Número Vuelos Llegados - 2010        346 non-null    float64\n",
      " 63  Pasajeros Salidos - 2009             320 non-null    object \n",
      " 64  Pasajeros Llegados - 2009            320 non-null    object \n",
      " 65  Carga y Correo Salida (Kg) - 2009    320 non-null    object \n",
      " 66  Carga y Correo Llegados (kg) - 2009  320 non-null    object \n",
      " 67  Número Vuelos Salidos - 2009         320 non-null    float64\n",
      " 68  Número Vuelos Llegados - 2009        320 non-null    float64\n",
      " 69  Pasajeros Salidos - 2008             369 non-null    object \n",
      " 70  Pasajeros Llegados - 2008            369 non-null    object \n",
      " 71  Carga y Correo Salida (Kg) - 2008    369 non-null    object \n",
      " 72  Carga y Correo Llegados (kg) - 2008  369 non-null    object \n",
      " 73  Número Vuelos Salidos - 2008         369 non-null    float64\n",
      " 74  Número Vuelos Llegados - 2008        369 non-null    float64\n",
      " 75  Pasajeros Salidos - 2007             427 non-null    object \n",
      " 76  Pasajeros Llegados - 2007            427 non-null    object \n",
      " 77  Carga y Correo Salida (Kg) - 2007    427 non-null    object \n",
      " 78  Carga y Correo Llegados (kg) - 2007  427 non-null    object \n",
      " 79  Número Vuelos Salidos - 2007         427 non-null    float64\n",
      " 80  Número Vuelos Llegados - 2007        427 non-null    float64\n",
      " 81  Pasajeros Salidos - 2006             365 non-null    object \n",
      " 82  Pasajeros Llegados - 2006            365 non-null    object \n",
      " 83  Carga y Correo Salida (Kg) - 2006    365 non-null    object \n",
      " 84  Carga y Correo Llegados (kg) - 2006  365 non-null    object \n",
      " 85  Número Vuelos Salidos - 2006         365 non-null    float64\n",
      " 86  Número Vuelos Llegados - 2006        365 non-null    float64\n",
      " 87  Pasajeros Salidos - 2005             328 non-null    object \n",
      " 88  Pasajeros Llegados - 2005            328 non-null    object \n",
      " 89  Carga y Correo Salida (Kg) - 2005    328 non-null    object \n",
      " 90  Carga y Correo Llegados (kg) - 2005  328 non-null    object \n",
      " 91  Número Vuelos Salidos - 2005         328 non-null    float64\n",
      " 92  Número Vuelos Llegados - 2005        328 non-null    float64\n",
      " 93  Pasajeros Salidos - 2004             325 non-null    object \n",
      " 94  Pasajeros Llegados - 2004            325 non-null    object \n",
      " 95  Carga y Correo Salida (Kg) - 2004    325 non-null    object \n",
      " 96  Carga y Correo Llegados (kg) - 2004  325 non-null    object \n",
      " 97  Número Vuelos Salidos - 2004         325 non-null    float64\n",
      " 98  Número Vuelos Llegados - 2004        325 non-null    float64\n",
      "dtypes: float64(32), object(67)\n",
      "memory usage: 616.6+ KB\n"
     ]
    }
   ],
   "source": [
    "data.info()"
   ]
  },
  {
   "cell_type": "code",
   "execution_count": 14,
   "metadata": {
    "slideshow": {
     "slide_type": "subslide"
    }
   },
   "outputs": [
    {
     "data": {
      "text/plain": [
       "0       31.000\n",
       "1      136.000\n",
       "2      382.000\n",
       "3        1.788\n",
       "4      122.000\n",
       "        ...   \n",
       "792        NaN\n",
       "793        NaN\n",
       "794        NaN\n",
       "795        NaN\n",
       "796        NaN\n",
       "Name: Número Vuelos Salidos - 2019, Length: 797, dtype: float64"
      ]
     },
     "execution_count": 14,
     "metadata": {},
     "output_type": "execute_result"
    }
   ],
   "source": [
    "# float64 column\n",
    "data['Número Vuelos Salidos - 2019']"
   ]
  },
  {
   "cell_type": "code",
   "execution_count": 15,
   "metadata": {
    "scrolled": false,
    "slideshow": {
     "slide_type": "subslide"
    }
   },
   "outputs": [
    {
     "data": {
      "text/plain": [
       "True"
      ]
     },
     "execution_count": 15,
     "metadata": {},
     "output_type": "execute_result"
    }
   ],
   "source": [
    "data['Número Vuelos Salidos - 2007'].dtypes == 'float'"
   ]
  },
  {
   "cell_type": "code",
   "execution_count": 16,
   "metadata": {
    "scrolled": false
   },
   "outputs": [],
   "source": [
    "def limpiarColumna(dataFrame, nombreDeColumna):\n",
    "    \n",
    "    columna = dataFrame[nombreDeColumna]\n",
    "    \n",
    "    # CONDICIONAL\n",
    "    if data[nombreDeColumna].dtypes == 'float':\n",
    "        columna = columna.astype(str)\n",
    "        \n",
    "    columnaLimpia = columna.str.replace('.','')        \n",
    "    dataFrame[nombreDeColumna] = columnaLimpia"
   ]
  },
  {
   "cell_type": "code",
   "execution_count": 17,
   "metadata": {
    "scrolled": true
   },
   "outputs": [
    {
     "name": "stdout",
     "output_type": "stream",
     "text": [
      "Pasajeros Salidos - 2019\n",
      "Pasajeros Llegados - 2019\n",
      "Carga y Correo Salida (Kg) - 2019\n",
      "Carga y Correo Llegados (kg) - 2019\n",
      "Número Vuelos Salidos - 2019\n",
      "Número Vuelos Llegados - 2019\n",
      "Pasajeros Salidos - 2018\n",
      "Pasajeros Llegados - 2018\n",
      "Carga y Correo Salida (Kg) - 2018\n",
      "Carga y Correo Llegados (kg) - 2018\n",
      "Número Vuelos Salidos - 2018\n",
      "Número Vuelos Llegados - 2018\n",
      "Pasajeros Salidos - 2017\n",
      "Pasajeros Llegados - 2017\n",
      "Carga y Correo Salida (Kg) - 2017\n",
      "Carga y Correo Llegados (kg) - 2017\n",
      "Número Vuelos Salidos - 2017\n",
      "Número Vuelos Llegados - 2017\n",
      "Pasajeros Salidos - 2016\n",
      "Pasajeros Llegados - 2016\n",
      "Carga y Correo Salida (Kg) - 2016\n",
      "Carga y Correo Llegados (kg) - 2016\n",
      "Número Vuelos Salidos - 2016\n",
      "Número Vuelos Llegados - 2016\n",
      "Pasajeros Salidos - 2015\n",
      "Pasajeros Llegados - 2015\n",
      "Carga y Correo Salida (Kg) - 2015\n",
      "Carga y Correo Llegados (kg) - 2015\n",
      "Número Vuelos Salidos - 2015\n",
      "Número Vuelos Llegados - 2015\n",
      "Pasajeros Salidos - 2014\n",
      "Pasajeros Llegados - 2014\n",
      "Carga y Correo Salida (Kg) - 2014\n",
      "Carga y Correo Llegados (kg) - 2014\n",
      "Número Vuelos Salidos - 2014\n",
      "Número Vuelos Llegados - 2014\n",
      "Pasajeros Salidos - 2013\n",
      "Pasajeros Llegados - 2013\n",
      "Carga y Correo Salida (Kg) - 2013\n",
      "Carga y Correo Llegados (kg) - 2013\n",
      "Número Vuelos Salidos - 2013\n",
      "Número Vuelos Llegados - 2013\n",
      "Pasajeros Salidos - 2012\n",
      "Pasajeros Llegados - 2012\n",
      "Carga y Correo Salida (Kg) - 2012\n",
      "Carga y Correo Llegados (kg) - 2012\n",
      "Número Vuelos Salidos - 2012\n",
      "Número Vuelos Llegados - 2012\n",
      "Pasajeros Salidos - 2011\n",
      "Pasajeros Llegados - 2011\n",
      "Carga y Correo Salida (Kg) - 2011\n",
      "Carga y Correo Llegados (kg) - 2011\n",
      "Número Vuelos Salidos - 2011\n",
      "Número Vuelos Llegados - 2011\n",
      "Pasajeros Salidos - 2010\n",
      "Pasajeros Llegados - 2010\n",
      "Carga y Correo Salida (Kg) - 2010\n",
      "Carga y Correo Llegados (kg) - 2010\n",
      "Número Vuelos Salidos - 2010\n",
      "Número Vuelos Llegados - 2010\n",
      "Pasajeros Salidos - 2009\n",
      "Pasajeros Llegados - 2009\n",
      "Carga y Correo Salida (Kg) - 2009\n",
      "Carga y Correo Llegados (kg) - 2009\n",
      "Número Vuelos Salidos - 2009\n",
      "Número Vuelos Llegados - 2009\n",
      "Pasajeros Salidos - 2008\n",
      "Pasajeros Llegados - 2008\n",
      "Carga y Correo Salida (Kg) - 2008\n",
      "Carga y Correo Llegados (kg) - 2008\n",
      "Número Vuelos Salidos - 2008\n",
      "Número Vuelos Llegados - 2008\n",
      "Pasajeros Salidos - 2007\n",
      "Pasajeros Llegados - 2007\n",
      "Carga y Correo Salida (Kg) - 2007\n",
      "Carga y Correo Llegados (kg) - 2007\n",
      "Número Vuelos Salidos - 2007\n",
      "Número Vuelos Llegados - 2007\n",
      "Pasajeros Salidos - 2006\n",
      "Pasajeros Llegados - 2006\n",
      "Carga y Correo Salida (Kg) - 2006\n",
      "Carga y Correo Llegados (kg) - 2006\n",
      "Número Vuelos Salidos - 2006\n",
      "Número Vuelos Llegados - 2006\n",
      "Pasajeros Salidos - 2005\n",
      "Pasajeros Llegados - 2005\n",
      "Carga y Correo Salida (Kg) - 2005\n",
      "Carga y Correo Llegados (kg) - 2005\n",
      "Número Vuelos Salidos - 2005\n",
      "Número Vuelos Llegados - 2005\n",
      "Pasajeros Salidos - 2004\n",
      "Pasajeros Llegados - 2004\n",
      "Carga y Correo Salida (Kg) - 2004\n",
      "Carga y Correo Llegados (kg) - 2004\n",
      "Número Vuelos Salidos - 2004\n",
      "Número Vuelos Llegados - 2004\n"
     ]
    }
   ],
   "source": [
    "for columna in columnasConNumeros:\n",
    "    \n",
    "    # limpiar columna\n",
    "    print(columna)\n",
    "    limpiarColumna(data, columna)"
   ]
  },
  {
   "cell_type": "markdown",
   "metadata": {
    "slideshow": {
     "slide_type": "subslide"
    }
   },
   "source": [
    "¿Quedó bien?"
   ]
  },
  {
   "cell_type": "code",
   "execution_count": 18,
   "metadata": {},
   "outputs": [
    {
     "data": {
      "text/html": [
       "<div>\n",
       "<style scoped>\n",
       "    .dataframe tbody tr th:only-of-type {\n",
       "        vertical-align: middle;\n",
       "    }\n",
       "\n",
       "    .dataframe tbody tr th {\n",
       "        vertical-align: top;\n",
       "    }\n",
       "\n",
       "    .dataframe thead th {\n",
       "        text-align: right;\n",
       "    }\n",
       "</style>\n",
       "<table border=\"1\" class=\"dataframe\">\n",
       "  <thead>\n",
       "    <tr style=\"text-align: right;\">\n",
       "      <th></th>\n",
       "      <th>NOMBRE AEROPUERTO</th>\n",
       "      <th>CIUDAD</th>\n",
       "      <th>DEPARTAMENTO</th>\n",
       "      <th>Pasajeros Salidos - 2019</th>\n",
       "      <th>Pasajeros Llegados - 2019</th>\n",
       "      <th>Carga y Correo Salida (Kg) - 2019</th>\n",
       "      <th>Carga y Correo Llegados (kg) - 2019</th>\n",
       "      <th>Número Vuelos Salidos - 2019</th>\n",
       "      <th>Número Vuelos Llegados - 2019</th>\n",
       "      <th>Pasajeros Salidos - 2018</th>\n",
       "      <th>...</th>\n",
       "      <th>Carga y Correo Salida (Kg) - 2005</th>\n",
       "      <th>Carga y Correo Llegados (kg) - 2005</th>\n",
       "      <th>Número Vuelos Salidos - 2005</th>\n",
       "      <th>Número Vuelos Llegados - 2005</th>\n",
       "      <th>Pasajeros Salidos - 2004</th>\n",
       "      <th>Pasajeros Llegados - 2004</th>\n",
       "      <th>Carga y Correo Salida (Kg) - 2004</th>\n",
       "      <th>Carga y Correo Llegados (kg) - 2004</th>\n",
       "      <th>Número Vuelos Salidos - 2004</th>\n",
       "      <th>Número Vuelos Llegados - 2004</th>\n",
       "    </tr>\n",
       "  </thead>\n",
       "  <tbody>\n",
       "    <tr>\n",
       "      <th>0</th>\n",
       "      <td>EL ENCANTO</td>\n",
       "      <td>EL ENCANTO</td>\n",
       "      <td>AMAZONAS</td>\n",
       "      <td>62</td>\n",
       "      <td>55</td>\n",
       "      <td>805</td>\n",
       "      <td>2281</td>\n",
       "      <td>310</td>\n",
       "      <td>310</td>\n",
       "      <td>87</td>\n",
       "      <td>...</td>\n",
       "      <td>NaN</td>\n",
       "      <td>NaN</td>\n",
       "      <td>nan</td>\n",
       "      <td>nan</td>\n",
       "      <td>NaN</td>\n",
       "      <td>NaN</td>\n",
       "      <td>NaN</td>\n",
       "      <td>NaN</td>\n",
       "      <td>nan</td>\n",
       "      <td>nan</td>\n",
       "    </tr>\n",
       "    <tr>\n",
       "      <th>1</th>\n",
       "      <td>LA CHORRERA - VIRGILIO BARCO VARGAS</td>\n",
       "      <td>LA CHORRERA</td>\n",
       "      <td>AMAZONAS</td>\n",
       "      <td>788</td>\n",
       "      <td>859</td>\n",
       "      <td>85783</td>\n",
       "      <td>105966</td>\n",
       "      <td>1360</td>\n",
       "      <td>1350</td>\n",
       "      <td>1167</td>\n",
       "      <td>...</td>\n",
       "      <td>27801</td>\n",
       "      <td>60326</td>\n",
       "      <td>1900</td>\n",
       "      <td>1920</td>\n",
       "      <td>433</td>\n",
       "      <td>540</td>\n",
       "      <td>2117</td>\n",
       "      <td>4081</td>\n",
       "      <td>530</td>\n",
       "      <td>540</td>\n",
       "    </tr>\n",
       "    <tr>\n",
       "      <th>2</th>\n",
       "      <td>LA PEDRERA</td>\n",
       "      <td>LA PEDRERA</td>\n",
       "      <td>AMAZONAS</td>\n",
       "      <td>2517</td>\n",
       "      <td>2570</td>\n",
       "      <td>339960</td>\n",
       "      <td>336699</td>\n",
       "      <td>3820</td>\n",
       "      <td>3830</td>\n",
       "      <td>2731</td>\n",
       "      <td>...</td>\n",
       "      <td>111693</td>\n",
       "      <td>97117</td>\n",
       "      <td>1560</td>\n",
       "      <td>1730</td>\n",
       "      <td>385</td>\n",
       "      <td>487</td>\n",
       "      <td>141136</td>\n",
       "      <td>94403</td>\n",
       "      <td>1010</td>\n",
       "      <td>990</td>\n",
       "    </tr>\n",
       "    <tr>\n",
       "      <th>3</th>\n",
       "      <td>LETICIA-ALFREDO VASQUEZ COBO</td>\n",
       "      <td>LETICIA</td>\n",
       "      <td>AMAZONAS</td>\n",
       "      <td>166039</td>\n",
       "      <td>167011</td>\n",
       "      <td>9465876</td>\n",
       "      <td>7424085</td>\n",
       "      <td>1788</td>\n",
       "      <td>1791</td>\n",
       "      <td>134304</td>\n",
       "      <td>...</td>\n",
       "      <td>8494881</td>\n",
       "      <td>6507999</td>\n",
       "      <td>1127</td>\n",
       "      <td>1071</td>\n",
       "      <td>26861</td>\n",
       "      <td>28076</td>\n",
       "      <td>7715581</td>\n",
       "      <td>6094633</td>\n",
       "      <td>7550</td>\n",
       "      <td>7490</td>\n",
       "    </tr>\n",
       "    <tr>\n",
       "      <th>4</th>\n",
       "      <td>TARAPACA</td>\n",
       "      <td>LETICIA</td>\n",
       "      <td>AMAZONAS</td>\n",
       "      <td>758</td>\n",
       "      <td>701</td>\n",
       "      <td>26654</td>\n",
       "      <td>29652</td>\n",
       "      <td>1220</td>\n",
       "      <td>1230</td>\n",
       "      <td>1164</td>\n",
       "      <td>...</td>\n",
       "      <td>6587</td>\n",
       "      <td>9118</td>\n",
       "      <td>470</td>\n",
       "      <td>550</td>\n",
       "      <td>NaN</td>\n",
       "      <td>NaN</td>\n",
       "      <td>NaN</td>\n",
       "      <td>NaN</td>\n",
       "      <td>nan</td>\n",
       "      <td>nan</td>\n",
       "    </tr>\n",
       "    <tr>\n",
       "      <th>...</th>\n",
       "      <td>...</td>\n",
       "      <td>...</td>\n",
       "      <td>...</td>\n",
       "      <td>...</td>\n",
       "      <td>...</td>\n",
       "      <td>...</td>\n",
       "      <td>...</td>\n",
       "      <td>...</td>\n",
       "      <td>...</td>\n",
       "      <td>...</td>\n",
       "      <td>...</td>\n",
       "      <td>...</td>\n",
       "      <td>...</td>\n",
       "      <td>...</td>\n",
       "      <td>...</td>\n",
       "      <td>...</td>\n",
       "      <td>...</td>\n",
       "      <td>...</td>\n",
       "      <td>...</td>\n",
       "      <td>...</td>\n",
       "      <td>...</td>\n",
       "    </tr>\n",
       "    <tr>\n",
       "      <th>792</th>\n",
       "      <td>SANTA BARBARA</td>\n",
       "      <td>CUMARAL</td>\n",
       "      <td>META</td>\n",
       "      <td>NaN</td>\n",
       "      <td>NaN</td>\n",
       "      <td>NaN</td>\n",
       "      <td>NaN</td>\n",
       "      <td>nan</td>\n",
       "      <td>nan</td>\n",
       "      <td>NaN</td>\n",
       "      <td>...</td>\n",
       "      <td>NaN</td>\n",
       "      <td>NaN</td>\n",
       "      <td>nan</td>\n",
       "      <td>nan</td>\n",
       "      <td>16</td>\n",
       "      <td>0</td>\n",
       "      <td>0</td>\n",
       "      <td>0</td>\n",
       "      <td>120</td>\n",
       "      <td>00</td>\n",
       "    </tr>\n",
       "    <tr>\n",
       "      <th>793</th>\n",
       "      <td>YATAROS DE MELUA</td>\n",
       "      <td>PUERTO LOPEZ</td>\n",
       "      <td>META</td>\n",
       "      <td>NaN</td>\n",
       "      <td>NaN</td>\n",
       "      <td>NaN</td>\n",
       "      <td>NaN</td>\n",
       "      <td>nan</td>\n",
       "      <td>nan</td>\n",
       "      <td>NaN</td>\n",
       "      <td>...</td>\n",
       "      <td>NaN</td>\n",
       "      <td>NaN</td>\n",
       "      <td>nan</td>\n",
       "      <td>nan</td>\n",
       "      <td>2</td>\n",
       "      <td>0</td>\n",
       "      <td>0</td>\n",
       "      <td>0</td>\n",
       "      <td>10</td>\n",
       "      <td>00</td>\n",
       "    </tr>\n",
       "    <tr>\n",
       "      <th>794</th>\n",
       "      <td>LA CABA?A - META</td>\n",
       "      <td>SAN CARLOS DE GUAROA</td>\n",
       "      <td>META</td>\n",
       "      <td>NaN</td>\n",
       "      <td>NaN</td>\n",
       "      <td>NaN</td>\n",
       "      <td>NaN</td>\n",
       "      <td>nan</td>\n",
       "      <td>nan</td>\n",
       "      <td>NaN</td>\n",
       "      <td>...</td>\n",
       "      <td>NaN</td>\n",
       "      <td>NaN</td>\n",
       "      <td>nan</td>\n",
       "      <td>nan</td>\n",
       "      <td>2</td>\n",
       "      <td>2</td>\n",
       "      <td>0</td>\n",
       "      <td>0</td>\n",
       "      <td>10</td>\n",
       "      <td>10</td>\n",
       "    </tr>\n",
       "    <tr>\n",
       "      <th>795</th>\n",
       "      <td>AEROSPORT.C.A.</td>\n",
       "      <td>FLANDES</td>\n",
       "      <td>TOLIMA</td>\n",
       "      <td>NaN</td>\n",
       "      <td>NaN</td>\n",
       "      <td>NaN</td>\n",
       "      <td>NaN</td>\n",
       "      <td>nan</td>\n",
       "      <td>nan</td>\n",
       "      <td>NaN</td>\n",
       "      <td>...</td>\n",
       "      <td>NaN</td>\n",
       "      <td>NaN</td>\n",
       "      <td>nan</td>\n",
       "      <td>nan</td>\n",
       "      <td>2</td>\n",
       "      <td>2</td>\n",
       "      <td>0</td>\n",
       "      <td>0</td>\n",
       "      <td>10</td>\n",
       "      <td>10</td>\n",
       "    </tr>\n",
       "    <tr>\n",
       "      <th>796</th>\n",
       "      <td>INGENIO MAYAGUEZ (C.A)</td>\n",
       "      <td>CANDELARIA</td>\n",
       "      <td>VALLE</td>\n",
       "      <td>NaN</td>\n",
       "      <td>NaN</td>\n",
       "      <td>NaN</td>\n",
       "      <td>NaN</td>\n",
       "      <td>nan</td>\n",
       "      <td>nan</td>\n",
       "      <td>NaN</td>\n",
       "      <td>...</td>\n",
       "      <td>NaN</td>\n",
       "      <td>NaN</td>\n",
       "      <td>nan</td>\n",
       "      <td>nan</td>\n",
       "      <td>2</td>\n",
       "      <td>8</td>\n",
       "      <td>0</td>\n",
       "      <td>0</td>\n",
       "      <td>10</td>\n",
       "      <td>20</td>\n",
       "    </tr>\n",
       "  </tbody>\n",
       "</table>\n",
       "<p>797 rows × 99 columns</p>\n",
       "</div>"
      ],
      "text/plain": [
       "                       NOMBRE AEROPUERTO                CIUDAD DEPARTAMENTO  \\\n",
       "0                             EL ENCANTO            EL ENCANTO     AMAZONAS   \n",
       "1    LA CHORRERA - VIRGILIO BARCO VARGAS           LA CHORRERA     AMAZONAS   \n",
       "2                             LA PEDRERA            LA PEDRERA     AMAZONAS   \n",
       "3           LETICIA-ALFREDO VASQUEZ COBO               LETICIA     AMAZONAS   \n",
       "4                               TARAPACA               LETICIA     AMAZONAS   \n",
       "..                                   ...                   ...          ...   \n",
       "792                        SANTA BARBARA               CUMARAL         META   \n",
       "793                     YATAROS DE MELUA          PUERTO LOPEZ         META   \n",
       "794                     LA CABA?A - META  SAN CARLOS DE GUAROA         META   \n",
       "795                       AEROSPORT.C.A.               FLANDES       TOLIMA   \n",
       "796               INGENIO MAYAGUEZ (C.A)            CANDELARIA        VALLE   \n",
       "\n",
       "    Pasajeros Salidos - 2019 Pasajeros Llegados - 2019  \\\n",
       "0                         62                        55   \n",
       "1                        788                       859   \n",
       "2                       2517                      2570   \n",
       "3                     166039                    167011   \n",
       "4                        758                       701   \n",
       "..                       ...                       ...   \n",
       "792                      NaN                       NaN   \n",
       "793                      NaN                       NaN   \n",
       "794                      NaN                       NaN   \n",
       "795                      NaN                       NaN   \n",
       "796                      NaN                       NaN   \n",
       "\n",
       "    Carga y Correo Salida (Kg) - 2019 Carga y Correo Llegados (kg) - 2019  \\\n",
       "0                                 805                                2281   \n",
       "1                               85783                              105966   \n",
       "2                              339960                              336699   \n",
       "3                             9465876                             7424085   \n",
       "4                               26654                               29652   \n",
       "..                                ...                                 ...   \n",
       "792                               NaN                                 NaN   \n",
       "793                               NaN                                 NaN   \n",
       "794                               NaN                                 NaN   \n",
       "795                               NaN                                 NaN   \n",
       "796                               NaN                                 NaN   \n",
       "\n",
       "    Número Vuelos Salidos - 2019 Número Vuelos Llegados - 2019  \\\n",
       "0                            310                           310   \n",
       "1                           1360                          1350   \n",
       "2                           3820                          3830   \n",
       "3                           1788                          1791   \n",
       "4                           1220                          1230   \n",
       "..                           ...                           ...   \n",
       "792                          nan                           nan   \n",
       "793                          nan                           nan   \n",
       "794                          nan                           nan   \n",
       "795                          nan                           nan   \n",
       "796                          nan                           nan   \n",
       "\n",
       "    Pasajeros Salidos - 2018  ... Carga y Correo Salida (Kg) - 2005  \\\n",
       "0                         87  ...                               NaN   \n",
       "1                       1167  ...                             27801   \n",
       "2                       2731  ...                            111693   \n",
       "3                     134304  ...                           8494881   \n",
       "4                       1164  ...                              6587   \n",
       "..                       ...  ...                               ...   \n",
       "792                      NaN  ...                               NaN   \n",
       "793                      NaN  ...                               NaN   \n",
       "794                      NaN  ...                               NaN   \n",
       "795                      NaN  ...                               NaN   \n",
       "796                      NaN  ...                               NaN   \n",
       "\n",
       "    Carga y Correo Llegados (kg) - 2005 Número Vuelos Salidos - 2005  \\\n",
       "0                                   NaN                          nan   \n",
       "1                                 60326                         1900   \n",
       "2                                 97117                         1560   \n",
       "3                               6507999                         1127   \n",
       "4                                  9118                          470   \n",
       "..                                  ...                          ...   \n",
       "792                                 NaN                          nan   \n",
       "793                                 NaN                          nan   \n",
       "794                                 NaN                          nan   \n",
       "795                                 NaN                          nan   \n",
       "796                                 NaN                          nan   \n",
       "\n",
       "    Número Vuelos Llegados - 2005 Pasajeros Salidos - 2004  \\\n",
       "0                             nan                      NaN   \n",
       "1                            1920                      433   \n",
       "2                            1730                      385   \n",
       "3                            1071                    26861   \n",
       "4                             550                      NaN   \n",
       "..                            ...                      ...   \n",
       "792                           nan                       16   \n",
       "793                           nan                        2   \n",
       "794                           nan                        2   \n",
       "795                           nan                        2   \n",
       "796                           nan                        2   \n",
       "\n",
       "    Pasajeros Llegados - 2004 Carga y Correo Salida (Kg) - 2004  \\\n",
       "0                         NaN                               NaN   \n",
       "1                         540                              2117   \n",
       "2                         487                            141136   \n",
       "3                       28076                           7715581   \n",
       "4                         NaN                               NaN   \n",
       "..                        ...                               ...   \n",
       "792                         0                                 0   \n",
       "793                         0                                 0   \n",
       "794                         2                                 0   \n",
       "795                         2                                 0   \n",
       "796                         8                                 0   \n",
       "\n",
       "    Carga y Correo Llegados (kg) - 2004 Número Vuelos Salidos - 2004  \\\n",
       "0                                   NaN                          nan   \n",
       "1                                  4081                          530   \n",
       "2                                 94403                         1010   \n",
       "3                               6094633                         7550   \n",
       "4                                   NaN                          nan   \n",
       "..                                  ...                          ...   \n",
       "792                                   0                          120   \n",
       "793                                   0                           10   \n",
       "794                                   0                           10   \n",
       "795                                   0                           10   \n",
       "796                                   0                           10   \n",
       "\n",
       "    Número Vuelos Llegados - 2004  \n",
       "0                             nan  \n",
       "1                             540  \n",
       "2                             990  \n",
       "3                            7490  \n",
       "4                             nan  \n",
       "..                            ...  \n",
       "792                            00  \n",
       "793                            00  \n",
       "794                            10  \n",
       "795                            10  \n",
       "796                            20  \n",
       "\n",
       "[797 rows x 99 columns]"
      ]
     },
     "execution_count": 18,
     "metadata": {},
     "output_type": "execute_result"
    }
   ],
   "source": [
    "data"
   ]
  },
  {
   "cell_type": "code",
   "execution_count": 19,
   "metadata": {
    "scrolled": true,
    "slideshow": {
     "slide_type": "-"
    }
   },
   "outputs": [
    {
     "name": "stdout",
     "output_type": "stream",
     "text": [
      "<class 'pandas.core.frame.DataFrame'>\n",
      "RangeIndex: 797 entries, 0 to 796\n",
      "Data columns (total 99 columns):\n",
      " #   Column                               Non-Null Count  Dtype \n",
      "---  ------                               --------------  ----- \n",
      " 0   NOMBRE AEROPUERTO                    797 non-null    object\n",
      " 1   CIUDAD                               797 non-null    object\n",
      " 2   DEPARTAMENTO                         797 non-null    object\n",
      " 3   Pasajeros Salidos - 2019             312 non-null    object\n",
      " 4   Pasajeros Llegados - 2019            312 non-null    object\n",
      " 5   Carga y Correo Salida (Kg) - 2019    312 non-null    object\n",
      " 6   Carga y Correo Llegados (kg) - 2019  312 non-null    object\n",
      " 7   Número Vuelos Salidos - 2019         797 non-null    object\n",
      " 8   Número Vuelos Llegados - 2019        797 non-null    object\n",
      " 9   Pasajeros Salidos - 2018             325 non-null    object\n",
      " 10  Pasajeros Llegados - 2018            325 non-null    object\n",
      " 11  Carga y Correo Salida (Kg) - 2018    325 non-null    object\n",
      " 12  Carga y Correo Llegados (kg) - 2018  325 non-null    object\n",
      " 13  Número Vuelos Salidos - 2018         797 non-null    object\n",
      " 14  Número Vuelos Llegados - 2018        797 non-null    object\n",
      " 15  Pasajeros Salidos - 2017             330 non-null    object\n",
      " 16  Pasajeros Llegados - 2017            330 non-null    object\n",
      " 17  Carga y Correo Salida (Kg) - 2017    330 non-null    object\n",
      " 18  Carga y Correo Llegados (kg) - 2017  330 non-null    object\n",
      " 19  Número Vuelos Salidos - 2017         797 non-null    object\n",
      " 20  Número Vuelos Llegados - 2017        797 non-null    object\n",
      " 21  Pasajeros Salidos - 2016             342 non-null    object\n",
      " 22  Pasajeros Llegados - 2016            342 non-null    object\n",
      " 23  Carga y Correo Salida (Kg) - 2016    342 non-null    object\n",
      " 24  Carga y Correo Llegados (kg) - 2016  342 non-null    object\n",
      " 25  Número Vuelos Salidos - 2016         797 non-null    object\n",
      " 26  Número Vuelos Llegados - 2016        797 non-null    object\n",
      " 27  Pasajeros Salidos - 2015             361 non-null    object\n",
      " 28  Pasajeros Llegados - 2015            361 non-null    object\n",
      " 29  Carga y Correo Salida (Kg) - 2015    361 non-null    object\n",
      " 30  Carga y Correo Llegados (kg) - 2015  361 non-null    object\n",
      " 31  Número Vuelos Salidos - 2015         797 non-null    object\n",
      " 32  Número Vuelos Llegados - 2015        797 non-null    object\n",
      " 33  Pasajeros Salidos - 2014             388 non-null    object\n",
      " 34  Pasajeros Llegados - 2014            388 non-null    object\n",
      " 35  Carga y Correo Salida (Kg) - 2014    388 non-null    object\n",
      " 36  Carga y Correo Llegados (kg) - 2014  388 non-null    object\n",
      " 37  Número Vuelos Salidos - 2014         797 non-null    object\n",
      " 38  Número Vuelos Llegados - 2014        797 non-null    object\n",
      " 39  Pasajeros Salidos - 2013             385 non-null    object\n",
      " 40  Pasajeros Llegados - 2013            385 non-null    object\n",
      " 41  Carga y Correo Salida (Kg) - 2013    385 non-null    object\n",
      " 42  Carga y Correo Llegados (kg) - 2013  385 non-null    object\n",
      " 43  Número Vuelos Salidos - 2013         797 non-null    object\n",
      " 44  Número Vuelos Llegados - 2013        797 non-null    object\n",
      " 45  Pasajeros Salidos - 2012             367 non-null    object\n",
      " 46  Pasajeros Llegados - 2012            367 non-null    object\n",
      " 47  Carga y Correo Salida (Kg) - 2012    367 non-null    object\n",
      " 48  Carga y Correo Llegados (kg) - 2012  367 non-null    object\n",
      " 49  Número Vuelos Salidos - 2012         797 non-null    object\n",
      " 50  Número Vuelos Llegados - 2012        797 non-null    object\n",
      " 51  Pasajeros Salidos - 2011             370 non-null    object\n",
      " 52  Pasajeros Llegados - 2011            370 non-null    object\n",
      " 53  Carga y Correo Salida (Kg) - 2011    370 non-null    object\n",
      " 54  Carga y Correo Llegados (kg) - 2011  370 non-null    object\n",
      " 55  Número Vuelos Salidos - 2011         797 non-null    object\n",
      " 56  Número Vuelos Llegados - 2011        797 non-null    object\n",
      " 57  Pasajeros Salidos - 2010             346 non-null    object\n",
      " 58  Pasajeros Llegados - 2010            346 non-null    object\n",
      " 59  Carga y Correo Salida (Kg) - 2010    346 non-null    object\n",
      " 60  Carga y Correo Llegados (kg) - 2010  346 non-null    object\n",
      " 61  Número Vuelos Salidos - 2010         797 non-null    object\n",
      " 62  Número Vuelos Llegados - 2010        797 non-null    object\n",
      " 63  Pasajeros Salidos - 2009             320 non-null    object\n",
      " 64  Pasajeros Llegados - 2009            320 non-null    object\n",
      " 65  Carga y Correo Salida (Kg) - 2009    320 non-null    object\n",
      " 66  Carga y Correo Llegados (kg) - 2009  320 non-null    object\n",
      " 67  Número Vuelos Salidos - 2009         797 non-null    object\n",
      " 68  Número Vuelos Llegados - 2009        797 non-null    object\n",
      " 69  Pasajeros Salidos - 2008             369 non-null    object\n",
      " 70  Pasajeros Llegados - 2008            369 non-null    object\n",
      " 71  Carga y Correo Salida (Kg) - 2008    369 non-null    object\n",
      " 72  Carga y Correo Llegados (kg) - 2008  369 non-null    object\n",
      " 73  Número Vuelos Salidos - 2008         797 non-null    object\n",
      " 74  Número Vuelos Llegados - 2008        797 non-null    object\n",
      " 75  Pasajeros Salidos - 2007             427 non-null    object\n",
      " 76  Pasajeros Llegados - 2007            427 non-null    object\n",
      " 77  Carga y Correo Salida (Kg) - 2007    427 non-null    object\n",
      " 78  Carga y Correo Llegados (kg) - 2007  427 non-null    object\n",
      " 79  Número Vuelos Salidos - 2007         797 non-null    object\n",
      " 80  Número Vuelos Llegados - 2007        797 non-null    object\n",
      " 81  Pasajeros Salidos - 2006             365 non-null    object\n",
      " 82  Pasajeros Llegados - 2006            365 non-null    object\n",
      " 83  Carga y Correo Salida (Kg) - 2006    365 non-null    object\n",
      " 84  Carga y Correo Llegados (kg) - 2006  365 non-null    object\n",
      " 85  Número Vuelos Salidos - 2006         797 non-null    object\n",
      " 86  Número Vuelos Llegados - 2006        797 non-null    object\n",
      " 87  Pasajeros Salidos - 2005             328 non-null    object\n",
      " 88  Pasajeros Llegados - 2005            328 non-null    object\n",
      " 89  Carga y Correo Salida (Kg) - 2005    328 non-null    object\n",
      " 90  Carga y Correo Llegados (kg) - 2005  328 non-null    object\n",
      " 91  Número Vuelos Salidos - 2005         797 non-null    object\n",
      " 92  Número Vuelos Llegados - 2005        797 non-null    object\n",
      " 93  Pasajeros Salidos - 2004             325 non-null    object\n",
      " 94  Pasajeros Llegados - 2004            325 non-null    object\n",
      " 95  Carga y Correo Salida (Kg) - 2004    325 non-null    object\n",
      " 96  Carga y Correo Llegados (kg) - 2004  325 non-null    object\n",
      " 97  Número Vuelos Salidos - 2004         797 non-null    object\n",
      " 98  Número Vuelos Llegados - 2004        797 non-null    object\n",
      "dtypes: object(99)\n",
      "memory usage: 616.6+ KB\n"
     ]
    }
   ],
   "source": [
    "data.info()"
   ]
  },
  {
   "cell_type": "markdown",
   "metadata": {
    "slideshow": {
     "slide_type": "subslide"
    }
   },
   "source": [
    "# Tipos de datos\n",
    "\n",
    "Hay varios tipos de datos en python (y cualquier lenguaje de programación):\n",
    "\n",
    "- strings\n",
    "- enteros (ints)\n",
    "- flotantes (floats) - decimales\n",
    "- booleanos (booleans/bools)\n",
    "\n",
    "Tenemos que convertir la columna de ```str``` (que pandas interpreta como ```object```) a enteros (```int```)."
   ]
  },
  {
   "cell_type": "code",
   "execution_count": 20,
   "metadata": {
    "scrolled": false,
    "slideshow": {
     "slide_type": "fragment"
    }
   },
   "outputs": [],
   "source": [
    "\n",
    "def limpiarColumna(dataFrame, nombreDeColumna):\n",
    "    \n",
    "    columna = dataFrame[nombreDeColumna]\n",
    "    if data[nombreDeColumna].dtypes == 'float':\n",
    "        columna = columna.astype(str)\n",
    "        \n",
    "    columnaLimpia = columna.str.replace('.','')\n",
    "    # cambiar a entero\n",
    "    columnaComoNumero = columnaLimpia.astype(int)\n",
    "    dataFrame[nombreDeColumna] = columnaComoNumero"
   ]
  },
  {
   "cell_type": "markdown",
   "metadata": {
    "slideshow": {
     "slide_type": "subslide"
    }
   },
   "source": [
    "Intentemos otra vez."
   ]
  },
  {
   "cell_type": "code",
   "execution_count": 21,
   "metadata": {
    "scrolled": true,
    "slideshow": {
     "slide_type": "-"
    }
   },
   "outputs": [
    {
     "name": "stdout",
     "output_type": "stream",
     "text": [
      "Pasajeros Salidos - 2019\n"
     ]
    },
    {
     "ename": "ValueError",
     "evalue": "cannot convert float NaN to integer",
     "output_type": "error",
     "traceback": [
      "\u001b[0;31m---------------------------------------------------------------------------\u001b[0m",
      "\u001b[0;31mValueError\u001b[0m                                Traceback (most recent call last)",
      "\u001b[0;32m<ipython-input-21-d702584fd8ae>\u001b[0m in \u001b[0;36m<module>\u001b[0;34m\u001b[0m\n\u001b[1;32m      3\u001b[0m     \u001b[0;31m# limpiar columna\u001b[0m\u001b[0;34m\u001b[0m\u001b[0;34m\u001b[0m\u001b[0;34m\u001b[0m\u001b[0m\n\u001b[1;32m      4\u001b[0m     \u001b[0mprint\u001b[0m\u001b[0;34m(\u001b[0m\u001b[0mcolumna\u001b[0m\u001b[0;34m)\u001b[0m\u001b[0;34m\u001b[0m\u001b[0;34m\u001b[0m\u001b[0m\n\u001b[0;32m----> 5\u001b[0;31m     \u001b[0mlimpiarColumna\u001b[0m\u001b[0;34m(\u001b[0m\u001b[0mdata\u001b[0m\u001b[0;34m,\u001b[0m \u001b[0mcolumna\u001b[0m\u001b[0;34m)\u001b[0m\u001b[0;34m\u001b[0m\u001b[0;34m\u001b[0m\u001b[0m\n\u001b[0m",
      "\u001b[0;32m<ipython-input-20-34a368bf79d4>\u001b[0m in \u001b[0;36mlimpiarColumna\u001b[0;34m(dataFrame, nombreDeColumna)\u001b[0m\n\u001b[1;32m      7\u001b[0m     \u001b[0mcolumnaLimpia\u001b[0m \u001b[0;34m=\u001b[0m \u001b[0mcolumna\u001b[0m\u001b[0;34m.\u001b[0m\u001b[0mstr\u001b[0m\u001b[0;34m.\u001b[0m\u001b[0mreplace\u001b[0m\u001b[0;34m(\u001b[0m\u001b[0;34m'.'\u001b[0m\u001b[0;34m,\u001b[0m\u001b[0;34m''\u001b[0m\u001b[0;34m)\u001b[0m\u001b[0;34m\u001b[0m\u001b[0;34m\u001b[0m\u001b[0m\n\u001b[1;32m      8\u001b[0m     \u001b[0;31m# cambiar a entero\u001b[0m\u001b[0;34m\u001b[0m\u001b[0;34m\u001b[0m\u001b[0;34m\u001b[0m\u001b[0m\n\u001b[0;32m----> 9\u001b[0;31m     \u001b[0mcolumnaComoNumero\u001b[0m \u001b[0;34m=\u001b[0m \u001b[0mcolumnaLimpia\u001b[0m\u001b[0;34m.\u001b[0m\u001b[0mastype\u001b[0m\u001b[0;34m(\u001b[0m\u001b[0mint\u001b[0m\u001b[0;34m)\u001b[0m\u001b[0;34m\u001b[0m\u001b[0;34m\u001b[0m\u001b[0m\n\u001b[0m\u001b[1;32m     10\u001b[0m     \u001b[0mdataFrame\u001b[0m\u001b[0;34m[\u001b[0m\u001b[0mnombreDeColumna\u001b[0m\u001b[0;34m]\u001b[0m \u001b[0;34m=\u001b[0m \u001b[0mcolumnaComoNumero\u001b[0m\u001b[0;34m\u001b[0m\u001b[0;34m\u001b[0m\u001b[0m\n",
      "\u001b[0;32m~/anaconda3/lib/python3.8/site-packages/pandas/core/generic.py\u001b[0m in \u001b[0;36mastype\u001b[0;34m(self, dtype, copy, errors)\u001b[0m\n\u001b[1;32m   5696\u001b[0m         \u001b[0;32melse\u001b[0m\u001b[0;34m:\u001b[0m\u001b[0;34m\u001b[0m\u001b[0;34m\u001b[0m\u001b[0m\n\u001b[1;32m   5697\u001b[0m             \u001b[0;31m# else, only a single dtype is given\u001b[0m\u001b[0;34m\u001b[0m\u001b[0;34m\u001b[0m\u001b[0;34m\u001b[0m\u001b[0m\n\u001b[0;32m-> 5698\u001b[0;31m             \u001b[0mnew_data\u001b[0m \u001b[0;34m=\u001b[0m \u001b[0mself\u001b[0m\u001b[0;34m.\u001b[0m\u001b[0m_data\u001b[0m\u001b[0;34m.\u001b[0m\u001b[0mastype\u001b[0m\u001b[0;34m(\u001b[0m\u001b[0mdtype\u001b[0m\u001b[0;34m=\u001b[0m\u001b[0mdtype\u001b[0m\u001b[0;34m,\u001b[0m \u001b[0mcopy\u001b[0m\u001b[0;34m=\u001b[0m\u001b[0mcopy\u001b[0m\u001b[0;34m,\u001b[0m \u001b[0merrors\u001b[0m\u001b[0;34m=\u001b[0m\u001b[0merrors\u001b[0m\u001b[0;34m)\u001b[0m\u001b[0;34m\u001b[0m\u001b[0;34m\u001b[0m\u001b[0m\n\u001b[0m\u001b[1;32m   5699\u001b[0m             \u001b[0;32mreturn\u001b[0m \u001b[0mself\u001b[0m\u001b[0;34m.\u001b[0m\u001b[0m_constructor\u001b[0m\u001b[0;34m(\u001b[0m\u001b[0mnew_data\u001b[0m\u001b[0;34m)\u001b[0m\u001b[0;34m.\u001b[0m\u001b[0m__finalize__\u001b[0m\u001b[0;34m(\u001b[0m\u001b[0mself\u001b[0m\u001b[0;34m)\u001b[0m\u001b[0;34m\u001b[0m\u001b[0;34m\u001b[0m\u001b[0m\n\u001b[1;32m   5700\u001b[0m \u001b[0;34m\u001b[0m\u001b[0m\n",
      "\u001b[0;32m~/anaconda3/lib/python3.8/site-packages/pandas/core/internals/managers.py\u001b[0m in \u001b[0;36mastype\u001b[0;34m(self, dtype, copy, errors)\u001b[0m\n\u001b[1;32m    580\u001b[0m \u001b[0;34m\u001b[0m\u001b[0m\n\u001b[1;32m    581\u001b[0m     \u001b[0;32mdef\u001b[0m \u001b[0mastype\u001b[0m\u001b[0;34m(\u001b[0m\u001b[0mself\u001b[0m\u001b[0;34m,\u001b[0m \u001b[0mdtype\u001b[0m\u001b[0;34m,\u001b[0m \u001b[0mcopy\u001b[0m\u001b[0;34m:\u001b[0m \u001b[0mbool\u001b[0m \u001b[0;34m=\u001b[0m \u001b[0;32mFalse\u001b[0m\u001b[0;34m,\u001b[0m \u001b[0merrors\u001b[0m\u001b[0;34m:\u001b[0m \u001b[0mstr\u001b[0m \u001b[0;34m=\u001b[0m \u001b[0;34m\"raise\"\u001b[0m\u001b[0;34m)\u001b[0m\u001b[0;34m:\u001b[0m\u001b[0;34m\u001b[0m\u001b[0;34m\u001b[0m\u001b[0m\n\u001b[0;32m--> 582\u001b[0;31m         \u001b[0;32mreturn\u001b[0m \u001b[0mself\u001b[0m\u001b[0;34m.\u001b[0m\u001b[0mapply\u001b[0m\u001b[0;34m(\u001b[0m\u001b[0;34m\"astype\"\u001b[0m\u001b[0;34m,\u001b[0m \u001b[0mdtype\u001b[0m\u001b[0;34m=\u001b[0m\u001b[0mdtype\u001b[0m\u001b[0;34m,\u001b[0m \u001b[0mcopy\u001b[0m\u001b[0;34m=\u001b[0m\u001b[0mcopy\u001b[0m\u001b[0;34m,\u001b[0m \u001b[0merrors\u001b[0m\u001b[0;34m=\u001b[0m\u001b[0merrors\u001b[0m\u001b[0;34m)\u001b[0m\u001b[0;34m\u001b[0m\u001b[0;34m\u001b[0m\u001b[0m\n\u001b[0m\u001b[1;32m    583\u001b[0m \u001b[0;34m\u001b[0m\u001b[0m\n\u001b[1;32m    584\u001b[0m     \u001b[0;32mdef\u001b[0m \u001b[0mconvert\u001b[0m\u001b[0;34m(\u001b[0m\u001b[0mself\u001b[0m\u001b[0;34m,\u001b[0m \u001b[0;34m**\u001b[0m\u001b[0mkwargs\u001b[0m\u001b[0;34m)\u001b[0m\u001b[0;34m:\u001b[0m\u001b[0;34m\u001b[0m\u001b[0;34m\u001b[0m\u001b[0m\n",
      "\u001b[0;32m~/anaconda3/lib/python3.8/site-packages/pandas/core/internals/managers.py\u001b[0m in \u001b[0;36mapply\u001b[0;34m(self, f, filter, **kwargs)\u001b[0m\n\u001b[1;32m    440\u001b[0m                 \u001b[0mapplied\u001b[0m \u001b[0;34m=\u001b[0m \u001b[0mb\u001b[0m\u001b[0;34m.\u001b[0m\u001b[0mapply\u001b[0m\u001b[0;34m(\u001b[0m\u001b[0mf\u001b[0m\u001b[0;34m,\u001b[0m \u001b[0;34m**\u001b[0m\u001b[0mkwargs\u001b[0m\u001b[0;34m)\u001b[0m\u001b[0;34m\u001b[0m\u001b[0;34m\u001b[0m\u001b[0m\n\u001b[1;32m    441\u001b[0m             \u001b[0;32melse\u001b[0m\u001b[0;34m:\u001b[0m\u001b[0;34m\u001b[0m\u001b[0;34m\u001b[0m\u001b[0m\n\u001b[0;32m--> 442\u001b[0;31m                 \u001b[0mapplied\u001b[0m \u001b[0;34m=\u001b[0m \u001b[0mgetattr\u001b[0m\u001b[0;34m(\u001b[0m\u001b[0mb\u001b[0m\u001b[0;34m,\u001b[0m \u001b[0mf\u001b[0m\u001b[0;34m)\u001b[0m\u001b[0;34m(\u001b[0m\u001b[0;34m**\u001b[0m\u001b[0mkwargs\u001b[0m\u001b[0;34m)\u001b[0m\u001b[0;34m\u001b[0m\u001b[0;34m\u001b[0m\u001b[0m\n\u001b[0m\u001b[1;32m    443\u001b[0m             \u001b[0mresult_blocks\u001b[0m \u001b[0;34m=\u001b[0m \u001b[0m_extend_blocks\u001b[0m\u001b[0;34m(\u001b[0m\u001b[0mapplied\u001b[0m\u001b[0;34m,\u001b[0m \u001b[0mresult_blocks\u001b[0m\u001b[0;34m)\u001b[0m\u001b[0;34m\u001b[0m\u001b[0;34m\u001b[0m\u001b[0m\n\u001b[1;32m    444\u001b[0m \u001b[0;34m\u001b[0m\u001b[0m\n",
      "\u001b[0;32m~/anaconda3/lib/python3.8/site-packages/pandas/core/internals/blocks.py\u001b[0m in \u001b[0;36mastype\u001b[0;34m(self, dtype, copy, errors)\u001b[0m\n\u001b[1;32m    623\u001b[0m             \u001b[0mvals1d\u001b[0m \u001b[0;34m=\u001b[0m \u001b[0mvalues\u001b[0m\u001b[0;34m.\u001b[0m\u001b[0mravel\u001b[0m\u001b[0;34m(\u001b[0m\u001b[0;34m)\u001b[0m\u001b[0;34m\u001b[0m\u001b[0;34m\u001b[0m\u001b[0m\n\u001b[1;32m    624\u001b[0m             \u001b[0;32mtry\u001b[0m\u001b[0;34m:\u001b[0m\u001b[0;34m\u001b[0m\u001b[0;34m\u001b[0m\u001b[0m\n\u001b[0;32m--> 625\u001b[0;31m                 \u001b[0mvalues\u001b[0m \u001b[0;34m=\u001b[0m \u001b[0mastype_nansafe\u001b[0m\u001b[0;34m(\u001b[0m\u001b[0mvals1d\u001b[0m\u001b[0;34m,\u001b[0m \u001b[0mdtype\u001b[0m\u001b[0;34m,\u001b[0m \u001b[0mcopy\u001b[0m\u001b[0;34m=\u001b[0m\u001b[0;32mTrue\u001b[0m\u001b[0;34m)\u001b[0m\u001b[0;34m\u001b[0m\u001b[0;34m\u001b[0m\u001b[0m\n\u001b[0m\u001b[1;32m    626\u001b[0m             \u001b[0;32mexcept\u001b[0m \u001b[0;34m(\u001b[0m\u001b[0mValueError\u001b[0m\u001b[0;34m,\u001b[0m \u001b[0mTypeError\u001b[0m\u001b[0;34m)\u001b[0m\u001b[0;34m:\u001b[0m\u001b[0;34m\u001b[0m\u001b[0;34m\u001b[0m\u001b[0m\n\u001b[1;32m    627\u001b[0m                 \u001b[0;31m# e.g. astype_nansafe can fail on object-dtype of strings\u001b[0m\u001b[0;34m\u001b[0m\u001b[0;34m\u001b[0m\u001b[0;34m\u001b[0m\u001b[0m\n",
      "\u001b[0;32m~/anaconda3/lib/python3.8/site-packages/pandas/core/dtypes/cast.py\u001b[0m in \u001b[0;36mastype_nansafe\u001b[0;34m(arr, dtype, copy, skipna)\u001b[0m\n\u001b[1;32m    872\u001b[0m         \u001b[0;31m# work around NumPy brokenness, #1987\u001b[0m\u001b[0;34m\u001b[0m\u001b[0;34m\u001b[0m\u001b[0;34m\u001b[0m\u001b[0m\n\u001b[1;32m    873\u001b[0m         \u001b[0;32mif\u001b[0m \u001b[0mnp\u001b[0m\u001b[0;34m.\u001b[0m\u001b[0missubdtype\u001b[0m\u001b[0;34m(\u001b[0m\u001b[0mdtype\u001b[0m\u001b[0;34m.\u001b[0m\u001b[0mtype\u001b[0m\u001b[0;34m,\u001b[0m \u001b[0mnp\u001b[0m\u001b[0;34m.\u001b[0m\u001b[0minteger\u001b[0m\u001b[0;34m)\u001b[0m\u001b[0;34m:\u001b[0m\u001b[0;34m\u001b[0m\u001b[0;34m\u001b[0m\u001b[0m\n\u001b[0;32m--> 874\u001b[0;31m             \u001b[0;32mreturn\u001b[0m \u001b[0mlib\u001b[0m\u001b[0;34m.\u001b[0m\u001b[0mastype_intsafe\u001b[0m\u001b[0;34m(\u001b[0m\u001b[0marr\u001b[0m\u001b[0;34m.\u001b[0m\u001b[0mravel\u001b[0m\u001b[0;34m(\u001b[0m\u001b[0;34m)\u001b[0m\u001b[0;34m,\u001b[0m \u001b[0mdtype\u001b[0m\u001b[0;34m)\u001b[0m\u001b[0;34m.\u001b[0m\u001b[0mreshape\u001b[0m\u001b[0;34m(\u001b[0m\u001b[0marr\u001b[0m\u001b[0;34m.\u001b[0m\u001b[0mshape\u001b[0m\u001b[0;34m)\u001b[0m\u001b[0;34m\u001b[0m\u001b[0;34m\u001b[0m\u001b[0m\n\u001b[0m\u001b[1;32m    875\u001b[0m \u001b[0;34m\u001b[0m\u001b[0m\n\u001b[1;32m    876\u001b[0m         \u001b[0;31m# if we have a datetime/timedelta array of objects\u001b[0m\u001b[0;34m\u001b[0m\u001b[0;34m\u001b[0m\u001b[0;34m\u001b[0m\u001b[0m\n",
      "\u001b[0;32mpandas/_libs/lib.pyx\u001b[0m in \u001b[0;36mpandas._libs.lib.astype_intsafe\u001b[0;34m()\u001b[0m\n",
      "\u001b[0;31mValueError\u001b[0m: cannot convert float NaN to integer"
     ]
    }
   ],
   "source": [
    "for columna in columnasConNumeros:\n",
    "    \n",
    "    # limpiar columna\n",
    "    print(columna)\n",
    "    limpiarColumna(data, columna)"
   ]
  },
  {
   "cell_type": "markdown",
   "metadata": {
    "slideshow": {
     "slide_type": "subslide"
    }
   },
   "source": [
    "# Nans - not a number\n",
    "\n",
    "- Dato no existe\n",
    "- Operación matemática no es válida (division por 0)\n",
    "\n",
    "Eliminemos los ```Nan```s"
   ]
  },
  {
   "cell_type": "code",
   "execution_count": 22,
   "metadata": {
    "scrolled": false
   },
   "outputs": [],
   "source": [
    "# Descomprimamos esto\n",
    "\n",
    "datosLimpios = data[data[columnasConNumeros].isna().sum(axis=1)==0]\n"
   ]
  },
  {
   "cell_type": "code",
   "execution_count": 23,
   "metadata": {
    "scrolled": true
   },
   "outputs": [
    {
     "name": "stdout",
     "output_type": "stream",
     "text": [
      "Pasajeros Salidos - 2019\n",
      "Pasajeros Llegados - 2019\n",
      "Carga y Correo Salida (Kg) - 2019\n",
      "Carga y Correo Llegados (kg) - 2019\n",
      "Número Vuelos Salidos - 2019\n",
      "Número Vuelos Llegados - 2019\n",
      "Pasajeros Salidos - 2018\n",
      "Pasajeros Llegados - 2018\n",
      "Carga y Correo Salida (Kg) - 2018\n",
      "Carga y Correo Llegados (kg) - 2018\n",
      "Número Vuelos Salidos - 2018\n",
      "Número Vuelos Llegados - 2018\n",
      "Pasajeros Salidos - 2017\n",
      "Pasajeros Llegados - 2017\n",
      "Carga y Correo Salida (Kg) - 2017\n",
      "Carga y Correo Llegados (kg) - 2017\n",
      "Número Vuelos Salidos - 2017\n",
      "Número Vuelos Llegados - 2017\n",
      "Pasajeros Salidos - 2016\n",
      "Pasajeros Llegados - 2016\n",
      "Carga y Correo Salida (Kg) - 2016\n",
      "Carga y Correo Llegados (kg) - 2016\n",
      "Número Vuelos Salidos - 2016\n",
      "Número Vuelos Llegados - 2016\n",
      "Pasajeros Salidos - 2015\n",
      "Pasajeros Llegados - 2015\n",
      "Carga y Correo Salida (Kg) - 2015\n",
      "Carga y Correo Llegados (kg) - 2015\n",
      "Número Vuelos Salidos - 2015\n",
      "Número Vuelos Llegados - 2015\n",
      "Pasajeros Salidos - 2014\n",
      "Pasajeros Llegados - 2014\n",
      "Carga y Correo Salida (Kg) - 2014\n",
      "Carga y Correo Llegados (kg) - 2014\n",
      "Número Vuelos Salidos - 2014\n",
      "Número Vuelos Llegados - 2014\n",
      "Pasajeros Salidos - 2013\n",
      "Pasajeros Llegados - 2013\n",
      "Carga y Correo Salida (Kg) - 2013\n",
      "Carga y Correo Llegados (kg) - 2013\n",
      "Número Vuelos Salidos - 2013\n",
      "Número Vuelos Llegados - 2013\n",
      "Pasajeros Salidos - 2012\n",
      "Pasajeros Llegados - 2012\n",
      "Carga y Correo Salida (Kg) - 2012\n",
      "Carga y Correo Llegados (kg) - 2012\n",
      "Número Vuelos Salidos - 2012\n",
      "Número Vuelos Llegados - 2012\n",
      "Pasajeros Salidos - 2011\n",
      "Pasajeros Llegados - 2011\n",
      "Carga y Correo Salida (Kg) - 2011\n",
      "Carga y Correo Llegados (kg) - 2011\n",
      "Número Vuelos Salidos - 2011\n",
      "Número Vuelos Llegados - 2011\n",
      "Pasajeros Salidos - 2010\n",
      "Pasajeros Llegados - 2010\n",
      "Carga y Correo Salida (Kg) - 2010\n",
      "Carga y Correo Llegados (kg) - 2010\n",
      "Número Vuelos Salidos - 2010\n",
      "Número Vuelos Llegados - 2010\n",
      "Pasajeros Salidos - 2009\n",
      "Pasajeros Llegados - 2009\n",
      "Carga y Correo Salida (Kg) - 2009\n",
      "Carga y Correo Llegados (kg) - 2009\n",
      "Número Vuelos Salidos - 2009\n",
      "Número Vuelos Llegados - 2009\n",
      "Pasajeros Salidos - 2008\n",
      "Pasajeros Llegados - 2008\n",
      "Carga y Correo Salida (Kg) - 2008\n",
      "Carga y Correo Llegados (kg) - 2008\n",
      "Número Vuelos Salidos - 2008\n",
      "Número Vuelos Llegados - 2008\n",
      "Pasajeros Salidos - 2007\n",
      "Pasajeros Llegados - 2007\n",
      "Carga y Correo Salida (Kg) - 2007\n",
      "Carga y Correo Llegados (kg) - 2007\n",
      "Número Vuelos Salidos - 2007\n",
      "Número Vuelos Llegados - 2007\n",
      "Pasajeros Salidos - 2006\n",
      "Pasajeros Llegados - 2006\n",
      "Carga y Correo Salida (Kg) - 2006\n",
      "Carga y Correo Llegados (kg) - 2006\n",
      "Número Vuelos Salidos - 2006\n",
      "Número Vuelos Llegados - 2006\n",
      "Pasajeros Salidos - 2005\n",
      "Pasajeros Llegados - 2005\n",
      "Carga y Correo Salida (Kg) - 2005\n",
      "Carga y Correo Llegados (kg) - 2005\n",
      "Número Vuelos Salidos - 2005\n",
      "Número Vuelos Llegados - 2005\n",
      "Pasajeros Salidos - 2004\n",
      "Pasajeros Llegados - 2004\n",
      "Carga y Correo Salida (Kg) - 2004\n",
      "Carga y Correo Llegados (kg) - 2004\n",
      "Número Vuelos Salidos - 2004\n",
      "Número Vuelos Llegados - 2004\n"
     ]
    },
    {
     "name": "stderr",
     "output_type": "stream",
     "text": [
      "<ipython-input-20-34a368bf79d4>:10: SettingWithCopyWarning: \n",
      "A value is trying to be set on a copy of a slice from a DataFrame.\n",
      "Try using .loc[row_indexer,col_indexer] = value instead\n",
      "\n",
      "See the caveats in the documentation: https://pandas.pydata.org/pandas-docs/stable/user_guide/indexing.html#returning-a-view-versus-a-copy\n",
      "  dataFrame[nombreDeColumna] = columnaComoNumero\n"
     ]
    }
   ],
   "source": [
    "for columna in columnasConNumeros:\n",
    "    \n",
    "    # limpiar columna\n",
    "    print(columna)\n",
    "    limpiarColumna(datosLimpios, columna)"
   ]
  },
  {
   "cell_type": "code",
   "execution_count": 24,
   "metadata": {
    "scrolled": true,
    "slideshow": {
     "slide_type": "subslide"
    }
   },
   "outputs": [
    {
     "name": "stdout",
     "output_type": "stream",
     "text": [
      "<class 'pandas.core.frame.DataFrame'>\n",
      "Int64Index: 158 entries, 1 to 311\n",
      "Data columns (total 99 columns):\n",
      " #   Column                               Non-Null Count  Dtype \n",
      "---  ------                               --------------  ----- \n",
      " 0   NOMBRE AEROPUERTO                    158 non-null    object\n",
      " 1   CIUDAD                               158 non-null    object\n",
      " 2   DEPARTAMENTO                         158 non-null    object\n",
      " 3   Pasajeros Salidos - 2019             158 non-null    int64 \n",
      " 4   Pasajeros Llegados - 2019            158 non-null    int64 \n",
      " 5   Carga y Correo Salida (Kg) - 2019    158 non-null    int64 \n",
      " 6   Carga y Correo Llegados (kg) - 2019  158 non-null    int64 \n",
      " 7   Número Vuelos Salidos - 2019         158 non-null    int64 \n",
      " 8   Número Vuelos Llegados - 2019        158 non-null    int64 \n",
      " 9   Pasajeros Salidos - 2018             158 non-null    int64 \n",
      " 10  Pasajeros Llegados - 2018            158 non-null    int64 \n",
      " 11  Carga y Correo Salida (Kg) - 2018    158 non-null    int64 \n",
      " 12  Carga y Correo Llegados (kg) - 2018  158 non-null    int64 \n",
      " 13  Número Vuelos Salidos - 2018         158 non-null    int64 \n",
      " 14  Número Vuelos Llegados - 2018        158 non-null    int64 \n",
      " 15  Pasajeros Salidos - 2017             158 non-null    int64 \n",
      " 16  Pasajeros Llegados - 2017            158 non-null    int64 \n",
      " 17  Carga y Correo Salida (Kg) - 2017    158 non-null    int64 \n",
      " 18  Carga y Correo Llegados (kg) - 2017  158 non-null    int64 \n",
      " 19  Número Vuelos Salidos - 2017         158 non-null    int64 \n",
      " 20  Número Vuelos Llegados - 2017        158 non-null    int64 \n",
      " 21  Pasajeros Salidos - 2016             158 non-null    int64 \n",
      " 22  Pasajeros Llegados - 2016            158 non-null    int64 \n",
      " 23  Carga y Correo Salida (Kg) - 2016    158 non-null    int64 \n",
      " 24  Carga y Correo Llegados (kg) - 2016  158 non-null    int64 \n",
      " 25  Número Vuelos Salidos - 2016         158 non-null    int64 \n",
      " 26  Número Vuelos Llegados - 2016        158 non-null    int64 \n",
      " 27  Pasajeros Salidos - 2015             158 non-null    int64 \n",
      " 28  Pasajeros Llegados - 2015            158 non-null    int64 \n",
      " 29  Carga y Correo Salida (Kg) - 2015    158 non-null    int64 \n",
      " 30  Carga y Correo Llegados (kg) - 2015  158 non-null    int64 \n",
      " 31  Número Vuelos Salidos - 2015         158 non-null    int64 \n",
      " 32  Número Vuelos Llegados - 2015        158 non-null    int64 \n",
      " 33  Pasajeros Salidos - 2014             158 non-null    int64 \n",
      " 34  Pasajeros Llegados - 2014            158 non-null    int64 \n",
      " 35  Carga y Correo Salida (Kg) - 2014    158 non-null    int64 \n",
      " 36  Carga y Correo Llegados (kg) - 2014  158 non-null    int64 \n",
      " 37  Número Vuelos Salidos - 2014         158 non-null    int64 \n",
      " 38  Número Vuelos Llegados - 2014        158 non-null    int64 \n",
      " 39  Pasajeros Salidos - 2013             158 non-null    int64 \n",
      " 40  Pasajeros Llegados - 2013            158 non-null    int64 \n",
      " 41  Carga y Correo Salida (Kg) - 2013    158 non-null    int64 \n",
      " 42  Carga y Correo Llegados (kg) - 2013  158 non-null    int64 \n",
      " 43  Número Vuelos Salidos - 2013         158 non-null    int64 \n",
      " 44  Número Vuelos Llegados - 2013        158 non-null    int64 \n",
      " 45  Pasajeros Salidos - 2012             158 non-null    int64 \n",
      " 46  Pasajeros Llegados - 2012            158 non-null    int64 \n",
      " 47  Carga y Correo Salida (Kg) - 2012    158 non-null    int64 \n",
      " 48  Carga y Correo Llegados (kg) - 2012  158 non-null    int64 \n",
      " 49  Número Vuelos Salidos - 2012         158 non-null    int64 \n",
      " 50  Número Vuelos Llegados - 2012        158 non-null    int64 \n",
      " 51  Pasajeros Salidos - 2011             158 non-null    int64 \n",
      " 52  Pasajeros Llegados - 2011            158 non-null    int64 \n",
      " 53  Carga y Correo Salida (Kg) - 2011    158 non-null    int64 \n",
      " 54  Carga y Correo Llegados (kg) - 2011  158 non-null    int64 \n",
      " 55  Número Vuelos Salidos - 2011         158 non-null    int64 \n",
      " 56  Número Vuelos Llegados - 2011        158 non-null    int64 \n",
      " 57  Pasajeros Salidos - 2010             158 non-null    int64 \n",
      " 58  Pasajeros Llegados - 2010            158 non-null    int64 \n",
      " 59  Carga y Correo Salida (Kg) - 2010    158 non-null    int64 \n",
      " 60  Carga y Correo Llegados (kg) - 2010  158 non-null    int64 \n",
      " 61  Número Vuelos Salidos - 2010         158 non-null    int64 \n",
      " 62  Número Vuelos Llegados - 2010        158 non-null    int64 \n",
      " 63  Pasajeros Salidos - 2009             158 non-null    int64 \n",
      " 64  Pasajeros Llegados - 2009            158 non-null    int64 \n",
      " 65  Carga y Correo Salida (Kg) - 2009    158 non-null    int64 \n",
      " 66  Carga y Correo Llegados (kg) - 2009  158 non-null    int64 \n",
      " 67  Número Vuelos Salidos - 2009         158 non-null    int64 \n",
      " 68  Número Vuelos Llegados - 2009        158 non-null    int64 \n",
      " 69  Pasajeros Salidos - 2008             158 non-null    int64 \n",
      " 70  Pasajeros Llegados - 2008            158 non-null    int64 \n",
      " 71  Carga y Correo Salida (Kg) - 2008    158 non-null    int64 \n",
      " 72  Carga y Correo Llegados (kg) - 2008  158 non-null    int64 \n",
      " 73  Número Vuelos Salidos - 2008         158 non-null    int64 \n",
      " 74  Número Vuelos Llegados - 2008        158 non-null    int64 \n",
      " 75  Pasajeros Salidos - 2007             158 non-null    int64 \n",
      " 76  Pasajeros Llegados - 2007            158 non-null    int64 \n",
      " 77  Carga y Correo Salida (Kg) - 2007    158 non-null    int64 \n",
      " 78  Carga y Correo Llegados (kg) - 2007  158 non-null    int64 \n",
      " 79  Número Vuelos Salidos - 2007         158 non-null    int64 \n",
      " 80  Número Vuelos Llegados - 2007        158 non-null    int64 \n",
      " 81  Pasajeros Salidos - 2006             158 non-null    int64 \n",
      " 82  Pasajeros Llegados - 2006            158 non-null    int64 \n",
      " 83  Carga y Correo Salida (Kg) - 2006    158 non-null    int64 \n",
      " 84  Carga y Correo Llegados (kg) - 2006  158 non-null    int64 \n",
      " 85  Número Vuelos Salidos - 2006         158 non-null    int64 \n",
      " 86  Número Vuelos Llegados - 2006        158 non-null    int64 \n",
      " 87  Pasajeros Salidos - 2005             158 non-null    int64 \n",
      " 88  Pasajeros Llegados - 2005            158 non-null    int64 \n",
      " 89  Carga y Correo Salida (Kg) - 2005    158 non-null    int64 \n",
      " 90  Carga y Correo Llegados (kg) - 2005  158 non-null    int64 \n",
      " 91  Número Vuelos Salidos - 2005         158 non-null    int64 \n",
      " 92  Número Vuelos Llegados - 2005        158 non-null    int64 \n",
      " 93  Pasajeros Salidos - 2004             158 non-null    int64 \n",
      " 94  Pasajeros Llegados - 2004            158 non-null    int64 \n",
      " 95  Carga y Correo Salida (Kg) - 2004    158 non-null    int64 \n",
      " 96  Carga y Correo Llegados (kg) - 2004  158 non-null    int64 \n",
      " 97  Número Vuelos Salidos - 2004         158 non-null    int64 \n",
      " 98  Número Vuelos Llegados - 2004        158 non-null    int64 \n",
      "dtypes: int64(96), object(3)\n",
      "memory usage: 123.4+ KB\n"
     ]
    }
   ],
   "source": [
    "datosLimpios.info()"
   ]
  },
  {
   "cell_type": "markdown",
   "metadata": {
    "slideshow": {
     "slide_type": "slide"
    }
   },
   "source": [
    "# Visualización de datos\n",
    "\n",
    "Por categoría (pasajeros salidos, pasajeros llegados, carga y correo entrante, ...)\n",
    "\n",
    "\n"
   ]
  },
  {
   "cell_type": "markdown",
   "metadata": {
    "slideshow": {
     "slide_type": "subslide"
    }
   },
   "source": [
    "# Matplotlib \n",
    "\n",
    "[Galeria](https://matplotlib.org/3.1.1/gallery/index.html)\n",
    "\n",
    "- Histogramas\n",
    "- Scatterplot \n",
    "- Barplot \n",
    "- Line plot (linechart)\n",
    "- etc."
   ]
  },
  {
   "cell_type": "markdown",
   "metadata": {
    "slideshow": {
     "slide_type": "subslide"
    }
   },
   "source": [
    "¿Cómo ha evolucionado el tráfico nacional a lo largo del tiempo?\n",
    "\n",
    "Podemos mirar las distribuciones de pasajeros salidos del 2004 y el 2019 como una primera aproximación."
   ]
  },
  {
   "cell_type": "code",
   "execution_count": 28,
   "metadata": {},
   "outputs": [
    {
     "data": {
      "image/png": "[encoded data removed]",
      "text/plain": [
       "<Figure size 1800x360 with 1 Axes>"
      ]
     },
     "metadata": {
      "needs_background": "light"
     },
     "output_type": "display_data"
    }
   ],
   "source": [
    "import matplotlib.pyplot as plt \n",
    "\n",
    "bins = [i*0.1e6 for i in range(120)]\n",
    "\n",
    "fig = plt.figure(figsize=(25,5))\n",
    "\n",
    "plt.hist(datosLimpios['Pasajeros Salidos - 2019'], bins=bins, label='2019', alpha=0.7)\n",
    "plt.hist(datosLimpios['Pasajeros Salidos - 2004'], bins=bins, label='2004', alpha=0.7)\n",
    "plt.xlim(0,2e6)\n",
    "plt.legend()\n",
    "plt.savefig('histogramas.png')\n",
    "plt.savefig('histogramas.pdf')"
   ]
  },
  {
   "cell_type": "markdown",
   "metadata": {
    "slideshow": {
     "slide_type": "subslide"
    }
   },
   "source": [
    "Los histogramas no nos dejan ver la imágen completa. Podemos ver cómo ha evolucionado la suma de los pasajeros que salen. "
   ]
  },
  {
   "cell_type": "code",
   "execution_count": 29,
   "metadata": {
    "scrolled": true,
    "slideshow": {
     "slide_type": "-"
    }
   },
   "outputs": [
    {
     "data": {
      "text/plain": [
       "Text(0, 0.5, 'Número de pasajeros salidos')"
      ]
     },
     "execution_count": 29,
     "metadata": {},
     "output_type": "execute_result"
    },
    {
     "data": {
      "image/png": "[encoded data removed]",
      "text/plain": [
       "<Figure size 432x288 with 1 Axes>"
      ]
     },
     "metadata": {
      "needs_background": "light"
     },
     "output_type": "display_data"
    }
   ],
   "source": [
    "def estaEnCategoria(elemento):\n",
    "    return 'Pasajeros Salidos' in elemento\n",
    "\n",
    "columnasPasajerosSalidos = list(filter(estaEnCategoria,columnasConNumeros))\n",
    "anios = [2019-i for i in range(16)]\n",
    "\n",
    "plt.plot(anios,datosLimpios[columnasPasajerosSalidos].sum())\n",
    "plt.xlabel('Año')\n",
    "plt.ylabel('Número de pasajeros salidos')"
   ]
  },
  {
   "cell_type": "markdown",
   "metadata": {
    "slideshow": {
     "slide_type": "subslide"
    }
   },
   "source": [
    "Podemos ver las llegadas y salidas de los pasajeros:"
   ]
  },
  {
   "cell_type": "code",
   "execution_count": 34,
   "metadata": {},
   "outputs": [
    {
     "data": {
      "text/plain": [
       "Text(0, 0.5, 'Número de pasajeros')"
      ]
     },
     "execution_count": 34,
     "metadata": {},
     "output_type": "execute_result"
    },
    {
     "data": {
      "image/png": "[encoded data removed]",
      "text/plain": [
       "<Figure size 432x288 with 1 Axes>"
      ]
     },
     "metadata": {
      "needs_background": "light"
     },
     "output_type": "display_data"
    }
   ],
   "source": [
    "def plotCategoria(categoria):\n",
    "    def estaEnCategoria(elemento):\n",
    "        return categoria in elemento\n",
    "\n",
    "    columnasPasajerosSalidos = list(filter(estaEnCategoria,columnasConNumeros))\n",
    "    anios = [2019-i for i in range(16)]\n",
    "\n",
    "    plt.plot(anios,datosLimpios[columnasPasajerosSalidos].sum(), label=categoria)\n",
    "    \n",
    "plotCategoria('Pasajeros Salidos')\n",
    "plotCategoria('Pasajeros Llegados')\n",
    "plt.legend()\n",
    "plt.xlabel('Año')\n",
    "plt.ylabel('Número de pasajeros')\n"
   ]
  },
  {
   "cell_type": "markdown",
   "metadata": {
    "slideshow": {
     "slide_type": "subslide"
    }
   },
   "source": [
    "Miremos **la diferencia** entre los pasajeros que han llegado y salido."
   ]
  },
  {
   "cell_type": "code",
   "execution_count": 35,
   "metadata": {},
   "outputs": [
    {
     "data": {
      "text/plain": [
       "<BarContainer object of 16 artists>"
      ]
     },
     "execution_count": 35,
     "metadata": {},
     "output_type": "execute_result"
    },
    {
     "data": {
      "image/png": "[encoded data removed]",
      "text/plain": [
       "<Figure size 432x288 with 1 Axes>"
      ]
     },
     "metadata": {
      "needs_background": "light"
     },
     "output_type": "display_data"
    }
   ],
   "source": [
    "colsSalidos = list(filter(lambda x: 'Pasajeros Salidos' in x, columnasConNumeros))\n",
    "colsLlegados = list(filter(lambda x: 'Pasajeros Llegados' in x, columnasConNumeros))\n",
    "anios = [2019-i for i in range(16)]\n",
    "\n",
    "diferencias = []\n",
    "\n",
    "for i in range(len(colsSalidos)):\n",
    "    dif = datosLimpios[colsLlegados[i]].sum() - datosLimpios[colsSalidos[i]].sum()\n",
    "    diferencias.append(dif)\n",
    "    \n",
    "plt.bar(anios,diferencias)\n",
    "    \n",
    "\n"
   ]
  },
  {
   "cell_type": "markdown",
   "metadata": {
    "slideshow": {
     "slide_type": "subslide"
    }
   },
   "source": [
    "Comparemos los datos limipios eliminando las filas con nans con el dataframe original remplazando los nans con 0"
   ]
  },
  {
   "cell_type": "code",
   "execution_count": 38,
   "metadata": {
    "code_folding": [
     0,
     16,
     24
    ]
   },
   "outputs": [
    {
     "data": {
      "text/plain": [
       "<matplotlib.legend.Legend at 0x7ff6f9386550>"
      ]
     },
     "execution_count": 38,
     "metadata": {},
     "output_type": "execute_result"
    },
    {
     "data": {
      "image/png": "[encoded data removed]",
      "text/plain": [
       "<Figure size 432x288 with 1 Axes>"
      ]
     },
     "metadata": {
      "needs_background": "light"
     },
     "output_type": "display_data"
    }
   ],
   "source": [
    "def limpiarColumna(dataFrame, nombreDeColumna):\n",
    "    \n",
    "    columna = dataFrame[nombreDeColumna]\n",
    "    if data[nombreDeColumna].dtypes == 'float':\n",
    "        columna = columna.astype(str)\n",
    "        \n",
    "    columnaLimpia = columna.str.replace('.','')\n",
    "    # cambiar a entero\n",
    "    columnaLimpia = columnaLimpia.fillna(0)\n",
    "    columnaComoNumero = columnaLimpia.astype(int)\n",
    "    dataFrame[nombreDeColumna] = columnaComoNumero\n",
    "\n",
    "fillZero = data.fillna(0)\n",
    "fillZero = fillZero.replace('nan',0)\n",
    "\n",
    "\n",
    "for columna in columnasConNumeros:\n",
    "    \n",
    "    # limpiar columna\n",
    "    limpiarColumna(fillZero, columna)\n",
    "\n",
    "\n",
    "diferenciasFillZero = []\n",
    "\n",
    "for i in range(len(colsSalidos)):\n",
    "    dif = fillZero[colsLlegados[i]].sum() - fillZero[colsSalidos[i]].sum()\n",
    "    diferenciasFillZero.append(dif)\n",
    "    \n",
    "plt.plot(anios,diferencias, label='Quitando nans')\n",
    "plt.plot(anios,diferenciasFillZero, label='Replazando nans por 0')\n",
    "plt.legend()"
   ]
  },
  {
   "cell_type": "markdown",
   "metadata": {
    "slideshow": {
     "slide_type": "slide"
    }
   },
   "source": [
    "# Pequeño resumen del módulo"
   ]
  },
  {
   "cell_type": "markdown",
   "metadata": {
    "slideshow": {
     "slide_type": "fragment"
    }
   },
   "source": [
    "### Aprendimos...\n",
    "* Variables, ciclos, condicionales, tipos de datos\n",
    "* Librerias\n",
    "    * Pandas\n",
    "    * Matplotlib"
   ]
  },
  {
   "cell_type": "markdown",
   "metadata": {
    "slideshow": {
     "slide_type": "fragment"
    }
   },
   "source": [
    "### Aprendimos...\n",
    "* Aprendan a pescar: busquen en internet que siempre hay respuestas\n",
    "* Arranquen por Google para buscar datos "
   ]
  }
 ],
 "metadata": {
  "celltoolbar": "Slideshow",
  "kernelspec": {
   "display_name": "Python 3",
   "language": "python",
   "name": "python3"
  },
  "language_info": {
   "codemirror_mode": {
    "name": "ipython",
    "version": 3
   },
   "file_extension": ".py",
   "mimetype": "text/x-python",
   "name": "python",
   "nbconvert_exporter": "python",
   "pygments_lexer": "ipython3",
   "version": "3.6.10"
  }
 },
 "nbformat": 4,
 "nbformat_minor": 4
}
