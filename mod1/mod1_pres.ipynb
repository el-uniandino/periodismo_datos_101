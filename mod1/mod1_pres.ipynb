{
 "cells": [
  {
   "cell_type": "markdown",
   "metadata": {
    "slideshow": {
     "slide_type": "slide"
    }
   },
   "source": [
    "# Módulo 1 - Introducción a las historias periodísticas con datos\n",
    "## Vuelos nacionales\n"
   ]
  },
  {
   "cell_type": "markdown",
   "metadata": {
    "cell_style": "split",
    "slideshow": {
     "slide_type": "-"
    }
   },
   "source": [
    "<div class=\"naked-img\">\n",
    "    <img src=\"../files/el_uniandino.png\" width=\"500\">\n",
    "</div>\n",
    "<script>\n",
    "    $(\"naked-img\").css(\"margin-left\", \"15%\");\n",
    "</script>"
   ]
  },
  {
   "cell_type": "markdown",
   "metadata": {
    "cell_style": "split"
   },
   "source": [
    "### Índice técnico\n",
    "* Variables, ciclos, condicionales, tipos de datos\n",
    "* Librerías\n",
    "    * Pandas\n",
    "    * Matplotlib\n"
   ]
  },
  {
   "cell_type": "markdown",
   "metadata": {
    "slideshow": {
     "slide_type": "subslide"
    }
   },
   "source": [
    "# Tipo de historia: Cambios en el tiempo"
   ]
  },
  {
   "cell_type": "markdown",
   "metadata": {
    "slideshow": {
     "slide_type": "fragment"
    }
   },
   "source": [
    "* ¿Cómo ha evolucionado una tendencia?"
   ]
  },
  {
   "cell_type": "markdown",
   "metadata": {
    "slideshow": {
     "slide_type": "fragment"
    }
   },
   "source": [
    "* ¿Qué significa una tendencia?"
   ]
  },
  {
   "cell_type": "markdown",
   "metadata": {
    "slideshow": {
     "slide_type": "fragment"
    }
   },
   "source": [
    "* ¿Qué produce una tendencia?"
   ]
  },
  {
   "cell_type": "markdown",
   "metadata": {
    "cell_style": "split",
    "slideshow": {
     "slide_type": "subslide"
    }
   },
   "source": [
    "<div class=\"naked-img\">\n",
    "    <img src=\"../files/data_time_abortions.jpg\" width=\"500\">\n",
    "</div>\n",
    "<script>\n",
    "    $(\"naked-img\").css(\"margin-left\", \"15%\");\n",
    "</script>"
   ]
  },
  {
   "cell_type": "markdown",
   "metadata": {
    "cell_style": "split",
    "slideshow": {
     "slide_type": "fragment"
    }
   },
   "source": [
    "<div class=\"naked-img\">\n",
    "    <img src=\"../files/data_time_abortions_right_1.jpg\" width=\"500\">\n",
    "</div>\n",
    "<script>\n",
    "    $(\"naked-img\").css(\"margin-left\", \"15%\");\n",
    "</script>"
   ]
  },
  {
   "cell_type": "markdown",
   "metadata": {
    "cell_style": "split",
    "slideshow": {
     "slide_type": "fragment"
    }
   },
   "source": [
    "<div class=\"naked-img\">\n",
    "    <img src=\"../files/data_time_abortions_right_2.jpg\" width=\"500\">\n",
    "</div>\n",
    "<script>\n",
    "    $(\"naked-img\").css(\"margin-left\", \"15%\");\n",
    "</script>"
   ]
  },
  {
   "cell_type": "markdown",
   "metadata": {
    "cell_style": "split",
    "slideshow": {
     "slide_type": "subslide"
    }
   },
   "source": [
    "<div class=\"naked-img\">\n",
    "    <img src=\"../files/global_warm_local.png\" width=\"500\">\n",
    "</div>\n",
    "<script>\n",
    "    $(\"naked-img\").css(\"margin-left\", \"15%\");\n",
    "</script>"
   ]
  },
  {
   "cell_type": "markdown",
   "metadata": {
    "cell_style": "split",
    "slideshow": {
     "slide_type": "fragment"
    }
   },
   "source": [
    "<div class=\"naked-img\">\n",
    "    <img src=\"../files/global_warm_wider_1.png\" width=\"350\">\n",
    "</div>\n",
    "<script>\n",
    "    $(\"naked-img\").css(\"margin-left\", \"15%\");\n",
    "</script>"
   ]
  },
  {
   "cell_type": "markdown",
   "metadata": {
    "cell_style": "split",
    "slideshow": {
     "slide_type": "fragment"
    }
   },
   "source": [
    "<div class=\"naked-img\">\n",
    "    <img src=\"../files/global_warm_wider_2.png\" width=\"350\">\n",
    "</div>\n",
    "<script>\n",
    "    $(\"naked-img\").css(\"margin-left\", \"15%\");\n",
    "</script>"
   ]
  },
  {
   "cell_type": "markdown",
   "metadata": {
    "cell_style": "split",
    "slideshow": {
     "slide_type": "subslide"
    }
   },
   "source": [
    "<div class=\"naked-img\">\n",
    "    <img src=\"../files/nonsense_corr.jpg\" width=\"800\">\n",
    "</div>\n",
    "<script>\n",
    "    $(\"naked-img\").css(\"margin-left\", \"15%\");\n",
    "</script>"
   ]
  },
  {
   "cell_type": "markdown",
   "metadata": {
    "cell_style": "split"
   },
   "source": [
    "Todo el [p*to tiempo](https://www.tylervigen.com/spurious-correlations)"
   ]
  },
  {
   "cell_type": "markdown",
   "metadata": {
    "cell_style": "center",
    "slideshow": {
     "slide_type": "slide"
    }
   },
   "source": [
    "# ¿Qué/cómo buscar?"
   ]
  },
  {
   "cell_type": "markdown",
   "metadata": {
    "slideshow": {
     "slide_type": "subslide"
    }
   },
   "source": [
    "# ¿Qué queremos saber?\n",
    "\n",
    "Cómo ha evolucionado el tráfico nacional a lo largo del tiempo\n"
   ]
  },
  {
   "cell_type": "markdown",
   "metadata": {
    "slideshow": {
     "slide_type": "fragment"
    }
   },
   "source": [
    "\n",
    "## ¿Dónde buscar?\n",
    "\n"
   ]
  },
  {
   "cell_type": "markdown",
   "metadata": {
    "slideshow": {
     "slide_type": "fragment"
    }
   },
   "source": [
    "### Fuentes\n",
    "\n",
    "- Google\n",
    "- Gobierno (registraduria, aerocivil, ministerios, etc.)\n",
    "- Datos abiertos (datos.gov.co, datosabiertos.bogota.gov.co, etc)\n",
    "\n",
    "Ejemplo: \n",
    "1. [Busqueda en google](https://www.google.com/search?safe=off&sxsrf=ALeKk00mMMvCmQ7OE2XcniYQJd_WxxmXYg%3A1610405167444&ei=L9X8X63LGs3l5NoPmYuh4Ag&q=vuelos+nacionales+datos+aerocivil&oq=vuelos+nacionales+datos+aerocivil&gs_lcp=CgZwc3ktYWIQAzoECAAQRzoECCMQJ1CSKFiMLGDGLGgAcAJ4AIABc4gBggSSAQMyLjOYAQCgAQGqAQdnd3Mtd2l6yAEIwAEB&sclient=psy-ab&ved=0ahUKEwjtnszf-pTuAhXNMlkFHZlFCIwQ4dUDCA0&uact=5)"
   ]
  },
  {
   "cell_type": "markdown",
   "metadata": {
    "slideshow": {
     "slide_type": "slide"
    }
   },
   "source": [
    "# Data Wrangling\n",
    "## Una vez hay datos, hay que limpiarlos\n",
    "\n",
    "Usualmente hay 2 pasos:\n",
    "\n",
    "1. Pasar los datos a un formato legible (o cómodamente legible) por máquinas\n",
    "2. Limpiar los datos \n",
    "\n",
    "\n",
    "\n",
    "\n"
   ]
  },
  {
   "cell_type": "markdown",
   "metadata": {
    "slideshow": {
     "slide_type": "subslide"
    }
   },
   "source": [
    "# Formato de datos \n",
    "\n",
    "- JSON\n",
    "- XML\n",
    "- Excel\n",
    "- JSON\n",
    "- CSV (y sus variantes...)\n",
    "\n",
    "Hay demasiados formatos, pueden buscar los detalles en google. \n",
    "\n",
    "En nuestro caso, haremos el ejercicio de pasar de excel a CSV. "
   ]
  },
  {
   "cell_type": "markdown",
   "metadata": {
    "cell_style": "center",
    "slideshow": {
     "slide_type": "subslide"
    }
   },
   "source": [
    "# CSV\n",
    "## Comma separated values \n",
    "\n",
    "```\n",
    "Year,Make,Model,Length\n",
    "1997,Ford,E350,2.35\n",
    "2000,Mercury,Cougar,2.38\n",
    "```\n",
    "\n",
    "En general, el separador puede ser cualquier caracter, por ejemplo:\n",
    "    \n",
    "```\n",
    "Year;Make;Model;Length\n",
    "1997;Ford;E350;2,35\n",
    "2000;Mercury;Cougar;2,38\n",
    "```\n",
    "\n",
    "Usualmente, se guardan los archivos con extension ```.csv```. Por ejemplo: ```carros.csv```"
   ]
  },
  {
   "cell_type": "markdown",
   "metadata": {
    "slideshow": {
     "slide_type": "subslide"
    }
   },
   "source": [
    "# Ejemplo\n",
    "\n",
    "1. Fuente: [Página aerocivil](https://www.aerocivil.gov.co/atencion/estadisticas-de-las-actividades-aeronauticas/estadisticas-operacionales)\n",
    "2. Datos: [Tráfico aeropuerto 2004-2019](https://www.aerocivil.gov.co/atencion/estadisticas-de-las-actividades-aeronauticas/Aeropuertos/TRAFICO%20AEROPUERTOS%202004-2019.xlsx)\n",
    "\n",
    "**Objetivo:** pasar de ```.xlsx``` (excel) a ```.csv```"
   ]
  },
  {
   "cell_type": "markdown",
   "metadata": {
    "slideshow": {
     "slide_type": "slide"
    }
   },
   "source": [
    "# Limpiar datos\n",
    "\n",
    "Hemos limpiado los datos por uds. Están en `/data/vuelosNacionales/vuelosNacionales.csv`\n"
   ]
  },
  {
   "cell_type": "code",
   "execution_count": null,
   "metadata": {
    "scrolled": false,
    "slideshow": {
     "slide_type": "fragment"
    }
   },
   "outputs": [],
   "source": [
    "import pandas as pd\n",
    "\n",
    "# Cargar los datos\n",
    "data = pd.read_csv('../data/vuelosNacionales/vuelosNacionales.csv')\n",
    "data"
   ]
  },
  {
   "cell_type": "code",
   "execution_count": null,
   "metadata": {},
   "outputs": [],
   "source": []
  },
  {
   "cell_type": "code",
   "execution_count": null,
   "metadata": {
    "scrolled": false,
    "slideshow": {
     "slide_type": "subslide"
    }
   },
   "outputs": [],
   "source": [
    "import io\n",
    "\n",
    "# pandas dataframes\n",
    "stringData = '''Year,Make,Model,Length\n",
    "                1997,Ford,E350,2.35\n",
    "                2000,Mercury,Cougar,2.38'''\n",
    "df = pd.read_csv(io.StringIO(stringData))\n",
    "df"
   ]
  },
  {
   "cell_type": "code",
   "execution_count": null,
   "metadata": {
    "scrolled": false,
    "slideshow": {
     "slide_type": "fragment"
    }
   },
   "outputs": [],
   "source": [
    "df['Year'] = df['Year'] - 3\n",
    "df"
   ]
  },
  {
   "cell_type": "markdown",
   "metadata": {
    "slideshow": {
     "slide_type": "slide"
    }
   },
   "source": [
    "# De vuelta al ejemplo\n"
   ]
  },
  {
   "cell_type": "code",
   "execution_count": null,
   "metadata": {
    "scrolled": false,
    "slideshow": {
     "slide_type": "-"
    }
   },
   "outputs": [],
   "source": [
    "data.head()"
   ]
  },
  {
   "cell_type": "code",
   "execution_count": null,
   "metadata": {
    "scrolled": false
   },
   "outputs": [],
   "source": [
    "data.shape"
   ]
  },
  {
   "cell_type": "markdown",
   "metadata": {
    "slideshow": {
     "slide_type": "subslide"
    }
   },
   "source": [
    "### Quitemos los ```.``` de los números\n",
    "\n",
    "```166.039 -> 166039\n",
    "9.465.876 -> 9465876```"
   ]
  },
  {
   "cell_type": "code",
   "execution_count": null,
   "metadata": {
    "scrolled": false
   },
   "outputs": [],
   "source": [
    "columnas = data.columns\n",
    "print(columnas[:3])\n",
    "\n",
    "# pasemoslo a lista\n",
    "columnas = list(columnas)\n",
    "print(columnas[:3])\n",
    "\n",
    "columnasConNumeros = columnas[3:]\n",
    "print(columnasConNumeros)\n",
    "\n",
    "# para cada columna, quite los .\n"
   ]
  },
  {
   "cell_type": "markdown",
   "metadata": {
    "slideshow": {
     "slide_type": "subslide"
    }
   },
   "source": [
    "### ¿Cómo iterar?"
   ]
  },
  {
   "cell_type": "code",
   "execution_count": null,
   "metadata": {
    "scrolled": false
   },
   "outputs": [],
   "source": [
    "for columna in columnasConNumeros:\n",
    "    \n",
    "    # limpiar columna\n",
    "    print(columna)\n",
    "    limpiarColumna(data, columna)"
   ]
  },
  {
   "cell_type": "markdown",
   "metadata": {
    "slideshow": {
     "slide_type": "subslide"
    }
   },
   "source": [
    "## Funciones"
   ]
  },
  {
   "cell_type": "code",
   "execution_count": null,
   "metadata": {
    "scrolled": false
   },
   "outputs": [],
   "source": [
    "def limpiarColumna(dataFrame, nombreDeColumna):\n",
    "    \n",
    "    columna = dataFrame[nombreDeColumna]\n",
    "    columnaLimpia = columna.str.replace('.','')\n",
    "    \n",
    "    dataFrame[nombreDeColumna] = columnaLimpia\n",
    "    "
   ]
  },
  {
   "cell_type": "markdown",
   "metadata": {
    "slideshow": {
     "slide_type": "subslide"
    }
   },
   "source": [
    "# Invoquemos la función\n"
   ]
  },
  {
   "cell_type": "code",
   "execution_count": null,
   "metadata": {},
   "outputs": [],
   "source": [
    "primeraColumna = columnasConNumeros[0]\n",
    "print(data[primeraColumna])\n",
    "\n",
    "limpiarColumna(data, primeraColumna)\n",
    "print(data[primeraColumna])"
   ]
  },
  {
   "cell_type": "markdown",
   "metadata": {
    "slideshow": {
     "slide_type": "subslide"
    }
   },
   "source": [
    "# De vuelta al ejemplo"
   ]
  },
  {
   "cell_type": "code",
   "execution_count": null,
   "metadata": {
    "scrolled": true
   },
   "outputs": [],
   "source": [
    "for columna in columnasConNumeros:\n",
    "    \n",
    "    # limpiar columna\n",
    "    print(columna)\n",
    "    limpiarColumna(data, columna)"
   ]
  },
  {
   "cell_type": "code",
   "execution_count": null,
   "metadata": {
    "scrolled": true,
    "slideshow": {
     "slide_type": "subslide"
    }
   },
   "outputs": [],
   "source": [
    "data.info()"
   ]
  },
  {
   "cell_type": "markdown",
   "metadata": {
    "slideshow": {
     "slide_type": "subslide"
    }
   },
   "source": [
    "## Condicionales\n",
    "\n",
    "A veces, nos interesa ejecutar un pedazo de código sólamente si se cumple una condición."
   ]
  },
  {
   "cell_type": "code",
   "execution_count": null,
   "metadata": {
    "scrolled": true
   },
   "outputs": [],
   "source": [
    "data.info()"
   ]
  },
  {
   "cell_type": "code",
   "execution_count": null,
   "metadata": {
    "slideshow": {
     "slide_type": "subslide"
    }
   },
   "outputs": [],
   "source": [
    "# float64 column\n",
    "data['Número Vuelos Salidos - 2019']"
   ]
  },
  {
   "cell_type": "code",
   "execution_count": null,
   "metadata": {
    "scrolled": false,
    "slideshow": {
     "slide_type": "subslide"
    }
   },
   "outputs": [],
   "source": [
    "data['Número Vuelos Salidos - 2007'].dtypes == 'float'"
   ]
  },
  {
   "cell_type": "code",
   "execution_count": null,
   "metadata": {
    "scrolled": false
   },
   "outputs": [],
   "source": [
    "def limpiarColumna(dataFrame, nombreDeColumna):\n",
    "    \n",
    "    columna = dataFrame[nombreDeColumna]\n",
    "    \n",
    "    # CONDICIONAL\n",
    "    if data[nombreDeColumna].dtypes == 'float':\n",
    "        columna = columna.astype(str)\n",
    "        \n",
    "    columnaLimpia = columna.str.replace('.','')        \n",
    "    dataFrame[nombreDeColumna] = columnaLimpia"
   ]
  },
  {
   "cell_type": "code",
   "execution_count": null,
   "metadata": {
    "scrolled": true
   },
   "outputs": [],
   "source": [
    "for columna in columnasConNumeros:\n",
    "    \n",
    "    # limpiar columna\n",
    "    print(columna)\n",
    "    limpiarColumna(data, columna)"
   ]
  },
  {
   "cell_type": "markdown",
   "metadata": {
    "slideshow": {
     "slide_type": "subslide"
    }
   },
   "source": [
    "¿Quedó bien?"
   ]
  },
  {
   "cell_type": "code",
   "execution_count": null,
   "metadata": {},
   "outputs": [],
   "source": [
    "data"
   ]
  },
  {
   "cell_type": "code",
   "execution_count": null,
   "metadata": {
    "scrolled": true,
    "slideshow": {
     "slide_type": "subslide"
    }
   },
   "outputs": [],
   "source": [
    "data.info()"
   ]
  },
  {
   "cell_type": "markdown",
   "metadata": {
    "slideshow": {
     "slide_type": "subslide"
    }
   },
   "source": [
    "# Tipos de datos\n",
    "\n",
    "Hay varios tipos de datos en python (y cualquier lenguaje de programación):\n",
    "\n",
    "- strings\n",
    "- enteros (ints)\n",
    "- flotantes (floats) - decimales\n",
    "- booleanos (booleans/bools)\n",
    "\n",
    "Tenemos que convertir la columna de ```str``` (que pandas interpreta como ```object```) a enteros (```int```)."
   ]
  },
  {
   "cell_type": "code",
   "execution_count": null,
   "metadata": {
    "scrolled": false,
    "slideshow": {
     "slide_type": "fragment"
    }
   },
   "outputs": [],
   "source": [
    "\n",
    "def limpiarColumna(dataFrame, nombreDeColumna):\n",
    "    \n",
    "    columna = dataFrame[nombreDeColumna]\n",
    "    if data[nombreDeColumna].dtypes == 'float':\n",
    "        columna = columna.astype(str)\n",
    "        \n",
    "    columnaLimpia = columna.str.replace('.','')\n",
    "    # cambiar a entero\n",
    "    columnaComoNumero = columnaLimpia.astype(int)\n",
    "    dataFrame[nombreDeColumna] = columnaComoNumero"
   ]
  },
  {
   "cell_type": "markdown",
   "metadata": {
    "slideshow": {
     "slide_type": "subslide"
    }
   },
   "source": [
    "Intentemos otra vez."
   ]
  },
  {
   "cell_type": "code",
   "execution_count": null,
   "metadata": {
    "scrolled": true,
    "slideshow": {
     "slide_type": "-"
    }
   },
   "outputs": [],
   "source": [
    "for columna in columnasConNumeros:\n",
    "    \n",
    "    # limpiar columna\n",
    "    print(columna)\n",
    "    limpiarColumna(data, columna)"
   ]
  },
  {
   "cell_type": "markdown",
   "metadata": {
    "slideshow": {
     "slide_type": "subslide"
    }
   },
   "source": [
    "# Nans - not a number\n",
    "\n",
    "- Dato no existe\n",
    "- Operación matemática no es válida (division por 0)\n",
    "\n",
    "Eliminemos los ```Nan```s"
   ]
  },
  {
   "cell_type": "code",
   "execution_count": null,
   "metadata": {
    "scrolled": false
   },
   "outputs": [],
   "source": [
    "# Descomprimamos esto\n",
    "\n",
    "datosLimpios = data[data[columnasConNumeros].isna().sum(axis=1)==0]\n"
   ]
  },
  {
   "cell_type": "code",
   "execution_count": null,
   "metadata": {
    "scrolled": true
   },
   "outputs": [],
   "source": [
    "for columna in columnasConNumeros:\n",
    "    \n",
    "    # limpiar columna\n",
    "    print(columna)\n",
    "    limpiarColumna(datosLimpios, columna)"
   ]
  },
  {
   "cell_type": "code",
   "execution_count": null,
   "metadata": {
    "scrolled": true,
    "slideshow": {
     "slide_type": "subslide"
    }
   },
   "outputs": [],
   "source": [
    "datosLimpios.info()"
   ]
  },
  {
   "cell_type": "markdown",
   "metadata": {
    "slideshow": {
     "slide_type": "slide"
    }
   },
   "source": [
    "# Visualización de datos\n",
    "\n",
    "Por categoría (pasajeros salidos, pasajeros llegados, carga y correo entrante, ...)\n",
    "\n",
    "\n"
   ]
  },
  {
   "cell_type": "markdown",
   "metadata": {
    "slideshow": {
     "slide_type": "subslide"
    }
   },
   "source": [
    "# Matplotlib \n",
    "\n",
    "[Galeria](https://matplotlib.org/3.1.1/gallery/index.html)\n",
    "\n",
    "- Histogramas\n",
    "- Scatterplot \n",
    "- Barplot \n",
    "- Line plot (linechart)\n",
    "- etc."
   ]
  },
  {
   "cell_type": "markdown",
   "metadata": {
    "slideshow": {
     "slide_type": "subslide"
    }
   },
   "source": [
    "¿Cómo ha evolucionado el tráfico nacional a lo largo del tiempo?\n",
    "\n",
    "Podemos mirar las distribuciones de pasajeros salidos del 2004 y el 2019 como una primera aproximación."
   ]
  },
  {
   "cell_type": "code",
   "execution_count": null,
   "metadata": {
    "code_folding": []
   },
   "outputs": [],
   "source": [
    "#histo\n",
    "import matplotlib.pyplot as plt \n",
    "\n",
    "fig = plt.figure(figsize=(25,5))\n",
    "\n",
    "bins = [i*0.1e6 for i in range(120)]\n",
    "\n",
    "plt.hist(datosLimpios['Pasajeros Salidos - 2019'], bins=bins, label='2019', alpha=0.7)\n",
    "plt.hist(datosLimpios['Pasajeros Salidos - 2004'], bins=bins, label='2004', alpha=0.7)\n",
    "plt.xlim(0,2e6)\n",
    "plt.legend()\n",
    "plt.xlabel('Pasajeros salidos')\n",
    "plt.ylabel('Frecuencia')\n",
    "plt.savefig('histogramas.png')\n",
    "plt.savefig('histogramas.pdf')"
   ]
  },
  {
   "cell_type": "markdown",
   "metadata": {
    "slideshow": {
     "slide_type": "subslide"
    }
   },
   "source": [
    "Los histogramas no nos dejan ver la imágen completa. Podemos ver cómo ha evolucionado la suma de los pasajeros que salen. "
   ]
  },
  {
   "cell_type": "code",
   "execution_count": null,
   "metadata": {
    "code_folding": [
     0
    ],
    "scrolled": true,
    "slideshow": {
     "slide_type": "-"
    }
   },
   "outputs": [],
   "source": [
    "# plot graph\n",
    "def estaEnCategoria(elemento):\n",
    "    return 'Pasajeros Salidos' in elemento\n",
    "\n",
    "columnasPasajerosSalidos = list(filter(estaEnCategoria,columnasConNumeros))\n",
    "anios = [2019-i for i in range(16)]\n",
    "\n",
    "plt.plot(anios,datosLimpios[columnasPasajerosSalidos].sum())\n",
    "plt.xlabel('Año')\n",
    "plt.ylabel('Número de pasajeros salidos')"
   ]
  },
  {
   "cell_type": "markdown",
   "metadata": {
    "slideshow": {
     "slide_type": "subslide"
    }
   },
   "source": [
    "Podemos ver las llegadas y salidas de los pasajeros:"
   ]
  },
  {
   "cell_type": "code",
   "execution_count": null,
   "metadata": {
    "code_folding": [
     0,
     1
    ]
   },
   "outputs": [],
   "source": [
    "# double line\n",
    "def plotCategoria(categoria):\n",
    "    def estaEnCategoria(elemento):\n",
    "        return categoria in elemento\n",
    "\n",
    "    columnasPasajerosSalidos = list(filter(estaEnCategoria,columnasConNumeros))\n",
    "    anios = [2019-i for i in range(16)]\n",
    "\n",
    "    plt.plot(anios,datosLimpios[columnasPasajerosSalidos].sum(), label=categoria)\n",
    "    \n",
    "plotCategoria('Pasajeros Salidos')\n",
    "plotCategoria('Pasajeros Llegados')\n",
    "plt.legend()\n",
    "plt.xlabel('Año')\n",
    "plt.ylabel('Número de pasajeros')\n"
   ]
  },
  {
   "cell_type": "markdown",
   "metadata": {
    "slideshow": {
     "slide_type": "subslide"
    }
   },
   "source": [
    "Miremos **la diferencia** entre los pasajeros que han llegado y salido."
   ]
  },
  {
   "cell_type": "code",
   "execution_count": null,
   "metadata": {
    "code_folding": []
   },
   "outputs": [],
   "source": [
    "# diferencias\n",
    "colsSalidos = list(filter(lambda x: 'Pasajeros Salidos' in x, columnasConNumeros))\n",
    "colsLlegados = list(filter(lambda x: 'Pasajeros Llegados' in x, columnasConNumeros))\n",
    "anios = [2019-i for i in range(16)]\n",
    "\n",
    "diferencias = []\n",
    "\n",
    "for i in range(len(colsSalidos)):\n",
    "    dif = datosLimpios[colsLlegados[i]].sum() - datosLimpios[colsSalidos[i]].sum()\n",
    "    diferencias.append(dif)\n",
    "    \n",
    "plt.bar(anios,diferencias)\n",
    "plt.xlabel('Año')\n",
    "plt.ylabel('Diferencia (número de pasajeros)')\n",
    "    \n",
    "\n"
   ]
  },
  {
   "cell_type": "markdown",
   "metadata": {
    "slideshow": {
     "slide_type": "slide"
    }
   },
   "source": [
    "# Pequeño resumen del módulo"
   ]
  },
  {
   "cell_type": "markdown",
   "metadata": {
    "slideshow": {
     "slide_type": "fragment"
    }
   },
   "source": [
    "### Aprendimos...\n",
    "* Variables, ciclos, condicionales, tipos de datos\n",
    "* Librerias\n",
    "    * Pandas\n",
    "    * Matplotlib"
   ]
  },
  {
   "cell_type": "markdown",
   "metadata": {
    "slideshow": {
     "slide_type": "fragment"
    }
   },
   "source": [
    "### Aprendimos...\n",
    "* Aprendan a pescar: busquen en internet que siempre hay respuestas\n",
    "* Arranquen por Google para buscar datos "
   ]
  }
 ],
 "metadata": {
  "celltoolbar": "Slideshow",
  "kernelspec": {
   "display_name": "Python 3",
   "language": "python",
   "name": "python3"
  },
  "language_info": {
   "codemirror_mode": {
    "name": "ipython",
    "version": 3
   },
   "file_extension": ".py",
   "mimetype": "text/x-python",
   "name": "python",
   "nbconvert_exporter": "python",
   "pygments_lexer": "ipython3",
   "version": "3.6.10"
  }
 },
 "nbformat": 4,
 "nbformat_minor": 4
}
