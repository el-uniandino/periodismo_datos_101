{
 "cells": [
  {
   "cell_type": "code",
   "execution_count": null,
   "metadata": {
    "code_folding": [
     0
    ]
   },
   "outputs": [],
   "source": [
    "# Pueden ignorar esto, pero deben correrlo una vez \n",
    "import random"
   ]
  },
  {
   "cell_type": "code",
   "execution_count": 6,
   "metadata": {},
   "outputs": [
    {
     "data": {
      "text/plain": [
       "'a'"
      ]
     },
     "execution_count": 6,
     "metadata": {},
     "output_type": "execute_result"
    }
   ],
   "source": [
    "\"\"asd&asdasd\".isalnum()\""
   ]
  },
  {
   "cell_type": "code",
   "execution_count": 8,
   "metadata": {},
   "outputs": [],
   "source": [
    "string = \"AaasfasBasdfas\""
   ]
  },
  {
   "cell_type": "code",
   "execution_count": null,
   "metadata": {},
   "outputs": [],
   "source": [
    "string"
   ]
  },
  {
   "cell_type": "markdown",
   "metadata": {},
   "source": [
    "# Índice - Pandas\n",
    "* DataFrames (ETL - Extract, Transform, Load)\n",
    "* Funciones de agregación (Group by, Pivot Table)\n",
    "* Merges (Cruce de información)"
   ]
  },
  {
   "cell_type": "markdown",
   "metadata": {},
   "source": [
    "# Data Frames y ETLs\n",
    "\n",
    "Pandas es una librería -código de otros- ampliamente usada por científicos de datos en el mundo porque permite manejar con mucha facilidad datos tabulares en Python. Si tiene forma de tabla, seguramente lo pueden trabajar usando Pandas. Al igual que con los tipos de datos que ya vimos, Pandas tiene su propio tipo de objeto. Este es conocido como *DataFrame*\n",
    "\n",
    "\n",
    "Un DataFrame es el equivalente a una hoja de cálculo en Excel o en Sheets, pero tiene cosas mucho más chéveres que ya veremos. Por lo pronto, carguemos un conjunto de datos con Pandas y veamos qué sucede"
   ]
  },
  {
   "cell_type": "code",
   "execution_count": null,
   "metadata": {},
   "outputs": [],
   "source": [
    "# Primero debemos cargar la librería\n",
    "import pandas as pd # \"pd\" es un alias, para no tener que escribir \"pandas\" cada vez"
   ]
  },
  {
   "cell_type": "markdown",
   "metadata": {},
   "source": [
    "Luego la forma de usar las funciones de pandas es simplemente: pd.funcion_que_quiero()"
   ]
  },
  {
   "cell_type": "markdown",
   "metadata": {},
   "source": [
    "## Cargar"
   ]
  },
  {
   "cell_type": "code",
   "execution_count": null,
   "metadata": {},
   "outputs": [],
   "source": [
    "# Ahora carguemos los datos.\n",
    "# Se pueden cargar muchos formatos (xlsx, csv, txt, etc.) acá usaremos csv, pero basta con buscar en internet el tipo\n",
    "# de formato que necesitan para encontrar cómo subirlo a un DataFrame de Pandas\n",
    "\n",
    "pd.read_csv(r'data/vuelosNacionales/vuelosNacionales.csv')\n",
    "\n",
    "# la función read_csv recibe la dirección del archivo csv que quieren leer"
   ]
  },
  {
   "cell_type": "code",
   "execution_count": null,
   "metadata": {},
   "outputs": [],
   "source": [
    "# Como siempre, podemos asignarlo a una variable\n",
    "\n",
    "df = pd.read_csv(r'data/vuelosNacionales/vuelosNacionales.csv')\n"
   ]
  },
  {
   "cell_type": "code",
   "execution_count": null,
   "metadata": {
    "code_folding": []
   },
   "outputs": [],
   "source": [
    "# Esto es lo mismo que hicimos en el módulo para quitar los puntos\n",
    "# Lo pueden ignorar, la explicación está en el Módulo 1.\n",
    "for i in df.columns[3:]:      \n",
    "    if df[i].dtype != \"float64\":\n",
    "        df[i].fillna('0', inplace=True) # Esto es para rellenar los nulos\n",
    "        df[i] = df[i].str.replace('.','').astype(float) # Esto para quitar los puntos\n",
    "    else:\n",
    "        df[i].fillna(0, inplace=True)"
   ]
  },
  {
   "cell_type": "code",
   "execution_count": null,
   "metadata": {
    "code_folding": []
   },
   "outputs": [],
   "source": [
    "# Pueden ignorar esto, pero deben correrlo una vez \n",
    "key = [\"NOMBRE AEROPUERTO\", \"CIUDAD\", \"DEPARTAMENTO\"]\n",
    "df = df.groupby(by=key).sum().sort_values(by=\"DEPARTAMENTO\").reset_index()"
   ]
  },
  {
   "cell_type": "code",
   "execution_count": null,
   "metadata": {},
   "outputs": [],
   "source": [
    "# Y para ver qué tiene por dentro podemos usar el comando .head()\n",
    "\n",
    "df.head() # muestra por default los primeros cinco registros"
   ]
  },
  {
   "cell_type": "code",
   "execution_count": null,
   "metadata": {},
   "outputs": [],
   "source": [
    "# También existe .tail(), para los últimos 5\n",
    "\n",
    "df.tail(3) # o lo puedo personalizar metiendo un número en el paréntesis. En este caso, los últimos tres"
   ]
  },
  {
   "cell_type": "code",
   "execution_count": null,
   "metadata": {},
   "outputs": [],
   "source": [
    "# Miren que el objeto df es de *tipo* DataFrame\n",
    "\n",
    "type(df)"
   ]
  },
  {
   "cell_type": "markdown",
   "metadata": {},
   "source": [
    "Así como a los strings los podemos manipular usando cierta forma de escribir código (corchetes cuadrados, por ejemplo), los DataFrames tienen sus propios comandos para poder manipularlos. \n",
    "\n",
    "Las acciones que puedo hacer con cualquier base de datos se conocen como ETL - Extract (extraer información), Transform (transformar información) o Load (cargar información). La parte del Load ya lo hicimos con read_csv, ahora veamos qué funciones necesito para Extraer y para Transformar DataFrames."
   ]
  },
  {
   "cell_type": "markdown",
   "metadata": {},
   "source": [
    "## Extraer"
   ]
  },
  {
   "cell_type": "code",
   "execution_count": null,
   "metadata": {},
   "outputs": [],
   "source": [
    "# Empecemos por extraer. En programación siempre puedo usar muchas formas para lograr lo mismo, acá veremos un par.\n",
    "# Para entrar a una columna uso: data_frame[\"nombre_de_columna\"].\n",
    "# Por ejemplo:\n",
    "\n",
    "df[\"CIUDAD\"] # Debo usar exactamente el mismo nombre como aparece en los datos (mayúsculas y todo)"
   ]
  },
  {
   "cell_type": "code",
   "execution_count": null,
   "metadata": {},
   "outputs": [],
   "source": [
    "# Cada columna de un DataFrame es de *tipo* Serie\n",
    "\n",
    "ciudades = df[\"CIUDAD\"]\n",
    "type(ciudades)"
   ]
  },
  {
   "cell_type": "code",
   "execution_count": null,
   "metadata": {},
   "outputs": [],
   "source": [
    "# Las series se parecen mucho a las listas. \n",
    "# Por ejemplo, puedo usar la notación de [índice]:\n",
    "\n",
    "ciudades[0] # este es el primer valor de la columna CIUDAD"
   ]
  },
  {
   "cell_type": "code",
   "execution_count": null,
   "metadata": {},
   "outputs": [],
   "source": [
    "# O usar slices\n",
    "\n",
    "ciudades[5:10]"
   ]
  },
  {
   "cell_type": "code",
   "execution_count": null,
   "metadata": {},
   "outputs": [],
   "source": [
    "# Si quiero acceder a varias columnas al mismo tiempo, debo usar [[\"columna_1\", ..., \"columna_n\"]]\n",
    "# Por ejemplo:\n",
    "\n",
    "columnas = [\"CIUDAD\", \"DEPARTAMENTO\"] \n",
    "df[columnas]"
   ]
  },
  {
   "cell_type": "code",
   "execution_count": null,
   "metadata": {},
   "outputs": [],
   "source": [
    "# Y el resultado ya deja de ser una Serie\n",
    "type(df[columnas])"
   ]
  },
  {
   "cell_type": "code",
   "execution_count": null,
   "metadata": {},
   "outputs": [],
   "source": [
    "# Entonces ya no puedo usar la notación de las listas, porque ya no estoy trabajando con una Serie\n",
    "\n",
    "df[columnas][0]\n",
    "\n",
    "# Nos tira error porque ahora es un DataFrame"
   ]
  },
  {
   "cell_type": "code",
   "execution_count": null,
   "metadata": {},
   "outputs": [],
   "source": [
    "# Ya vimos cómo acceder a una columna completa, ahora veamos cómo hacer lo mismo para una fila completa.\n",
    "# Para eso uso .iloc[posición de la fila que quiero].\n",
    "# Por ejemplo, la primera fila\n",
    "\n",
    "df.iloc[0] # Nos trae los valores de todas las columnas de la primera fila"
   ]
  },
  {
   "cell_type": "code",
   "execution_count": null,
   "metadata": {},
   "outputs": [],
   "source": [
    "# Veamos la segunda\n",
    "\n",
    "df.iloc[1]"
   ]
  },
  {
   "cell_type": "code",
   "execution_count": null,
   "metadata": {},
   "outputs": [],
   "source": [
    "# Pero, a diferencia de las listas, el  DataFrame además tiene un *índice*, que es un identificador \n",
    "# asignado una sola vez cuando se cargan los datos y *no depende de la posición*\n",
    "# Por ejemplo:\n",
    "\n",
    "df_1 = df.tail().copy()\n",
    "df_1 # Este es un nuevo DataFrame que solo tiene los últimos cinco registros del df original"
   ]
  },
  {
   "cell_type": "code",
   "execution_count": null,
   "metadata": {},
   "outputs": [],
   "source": [
    "# Si quisiera acceder a la *primera* fila de este DataFrame, puedo usar [0].\n",
    "# Veamos:\n",
    "\n",
    "df_1.iloc[0]"
   ]
  },
  {
   "cell_type": "code",
   "execution_count": null,
   "metadata": {},
   "outputs": [],
   "source": [
    "# Pero el *índice* de la primera fila ya no es 0 sino 776.\n",
    "# Miren el número antes de la primera columna:\n",
    "\n",
    "df_1.head()"
   ]
  },
  {
   "cell_type": "code",
   "execution_count": null,
   "metadata": {},
   "outputs": [],
   "source": [
    "# Antes de seguir, recordemos cómo se ve nuestro DataFrame original\n",
    "\n",
    "df.head()"
   ]
  },
  {
   "cell_type": "code",
   "execution_count": null,
   "metadata": {},
   "outputs": [],
   "source": [
    "# Ya que sabemos acceder a toda una columna y a toda una fila, veamos cómo acceder a una intersección de las dos,\n",
    "# es decir, al valor específico de una celda. Existen dos formas: 1) Primero accedo a la columna y luego escojo la fila\n",
    "# o 2) Primero escojo la fila y luego la columna.\n",
    "# Ejemplo del 1):\n",
    "\n",
    "df[\"CIUDAD\"] # Acá accedo a toda la columna\n",
    "df[\"CIUDAD\"][3] # Acá accedo a la *cuarta* fila de la columna CIUDAD"
   ]
  },
  {
   "cell_type": "code",
   "execution_count": null,
   "metadata": {},
   "outputs": [],
   "source": [
    "# Ejemplo del 2):\n",
    "\n",
    "df.iloc[3] # Acá accedo a toda la cuarta fila\n",
    "df.iloc[3][\"CIUDAD\"] # Acá accedo a la *columna* CIUDAD de la cuarta fila"
   ]
  },
  {
   "cell_type": "markdown",
   "metadata": {},
   "source": [
    "## Ejercicio 1\n",
    "Guarde la columna de pasajeros salidos en el 2018 en una variable que se llame salida_2018. En otra variable llamada la_perd guarde toda la información disponible del aeropuerto LA PEDRERA."
   ]
  },
  {
   "cell_type": "code",
   "execution_count": null,
   "metadata": {},
   "outputs": [],
   "source": [
    "# Acá va su código\n",
    "\n",
    "salida_2018 = df[] # Acá el nombre de la columna que nos interesa\n",
    "\n",
    "la_perd = df.iloc[] # Acá la posición del aeropuerto que nos interesa"
   ]
  },
  {
   "cell_type": "markdown",
   "metadata": {},
   "source": [
    "## Ejercicio 2\n",
    "Utilizando la información del Ejercicio 1, responda las siguientes preguntas:\n",
    "\n",
    "* ¿Cuál fue la mayor cantidad de pasajeros que salieron de un aeropuerto colombiano en 2018?, ¿cuál fue la menor? Y, ¿cuál fue el promedio? - Use salida_2018 para responder\n",
    "\n",
    "* ¿Cómo cambió la salida de pasajeros en el aeropuerto de La pedrera entre el 2019 y el 2018? ¿Aumentó, se redujo o se mantuvo igual? - Use la_perd para responder\n",
    "\n",
    "Pistas: para sacar máximos y mínimos pueden usar max(lista) o min(lista). Un promedio se puede calcular como suma/tamaño, pero existen funciones en Python (busquen en internet)\n",
    "\n",
    "Respuestas:\n",
    "\n",
    "* Max: 16402228, Min: 0, Avg: 43745.95\n",
    "* Se redujo en 214 pasajeros"
   ]
  },
  {
   "cell_type": "code",
   "execution_count": null,
   "metadata": {
    "code_folding": []
   },
   "outputs": [],
   "source": [
    "# Acá va su código"
   ]
  },
  {
   "cell_type": "markdown",
   "metadata": {},
   "source": [
    "## Transformar"
   ]
  },
  {
   "cell_type": "markdown",
   "metadata": {},
   "source": [
    "Algo que nos gustaría hacer es transformar nuestras tablas y no solo acceder a lo que hay dentro. Hay muchos tipos de transformaciones: podría, por ejemplo, querer cambiar una celda específica, o crear una nueva columna, o ajustar todos los valores de filas que cumplan con alguna condición. Aquí veremos cómo hacer esas transformaciones."
   ]
  },
  {
   "cell_type": "code",
   "execution_count": null,
   "metadata": {},
   "outputs": [],
   "source": [
    "# Empecemos viendo el comando .shape\n",
    "\n",
    "print(df.shape)\n",
    "\n",
    "# Nos da las dimensiones de la tabla. El primer valor es el número de filas y el segundo el de columnas"
   ]
  },
  {
   "cell_type": "code",
   "execution_count": null,
   "metadata": {},
   "outputs": [],
   "source": [
    "# Si hago\n",
    "\n",
    "filas = df.shape[0]\n",
    "\n",
    "print(filas)\n",
    "\n",
    "# Me traigo solo el número de filas"
   ]
  },
  {
   "cell_type": "code",
   "execution_count": null,
   "metadata": {},
   "outputs": [],
   "source": [
    "# Ahora utilicemos eso para crear una nueva columna repleta de ceros.\n",
    "\n",
    "# Lo primero que hago es crear una lista de ceros que tenga *la misma cantidad de filas que la tabla*\n",
    "\n",
    "lista_ceros = [0]*filas\n",
    "\n",
    "print(lista_ceros)"
   ]
  },
  {
   "cell_type": "code",
   "execution_count": null,
   "metadata": {},
   "outputs": [],
   "source": [
    "# Y por último, se la asigno a la nueva columna que llamaré \"nueva_columna\":\n",
    "df[\"nueva_columna\"] = lista_ceros"
   ]
  },
  {
   "cell_type": "code",
   "execution_count": null,
   "metadata": {},
   "outputs": [],
   "source": [
    "# ¡Y funcionó! Ya tenemos una nueva columna repleta de ceros\n",
    "df[[\"nueva_columna\"]]"
   ]
  },
  {
   "cell_type": "markdown",
   "metadata": {},
   "source": [
    "Pero una columna con ceros no es para nada interesante... Hagamos algo más con ella. Por ejemplo, cambiemos esta columna a un indicador de la llegada de pasajeros en el 2019. Lo que queremos es tener 0 para los aeropuertos que estén por debajo del promedio del 2019 y 1 para los que estén igual o por encima.\n",
    "\n",
    "Para eso necesitamos primero saber el promedio del 2019:"
   ]
  },
  {
   "cell_type": "code",
   "execution_count": null,
   "metadata": {},
   "outputs": [],
   "source": [
    "# Acá tenemos el promedio. Si lo hicieron arriba de otra forma, utilicen este método para comparar su respuesta\n",
    "\n",
    "promedio_2019 = df[\"Pasajeros Llegados - 2019\"].mean()\n",
    "print(promedio_2019)"
   ]
  },
  {
   "cell_type": "code",
   "execution_count": null,
   "metadata": {},
   "outputs": [],
   "source": [
    "# Ya que tenemos el promedio, usemos este número para marcar los aeropuertos que estén por encima. Para eso, recordemos, \n",
    "# vamos a poner un 1 en la columna que acabamos de crear.\n",
    "\n",
    "# Introduciendo... loc. Este comando se usa para acceder a grupos de celdas y, cuando se necesite, transformarlas.\n",
    "# Se escribe así:\n",
    "\n",
    "\n",
    "# df.loc[una condición o un índice, columnas que me quiero traer] = valor a asignar.\n",
    "\n",
    "\n",
    "# Veamos la primera parte del comando:\n",
    "\n",
    "df.loc[0, \"Pasajeros Llegados - 2019\"] # Me trae el primer registro de la columna \"Pasajeros Llegados - 2019\""
   ]
  },
  {
   "cell_type": "code",
   "execution_count": null,
   "metadata": {},
   "outputs": [],
   "source": [
    "# También puedo usar condiciones:\n",
    "\n",
    "df.loc[df[\"DEPARTAMENTO\"]==\"AMAZONAS\"] # Si no especifico, me trae todas las columnas"
   ]
  },
  {
   "cell_type": "code",
   "execution_count": null,
   "metadata": {},
   "outputs": [],
   "source": [
    "# Entonces, si quiero traerme la columna con los nombres de todos los aeropuertos en Amazonas, hago:\n",
    "\n",
    "df.loc[df[\"DEPARTAMENTO\"]==\"AMAZONAS\", \"NOMBRE AEROPUERTO\"]"
   ]
  },
  {
   "cell_type": "code",
   "execution_count": null,
   "metadata": {},
   "outputs": [],
   "source": [
    "# O si quiero el nombre y la ciudad\n",
    "\n",
    "columnas=[\"NOMBRE AEROPUERTO\", \"CIUDAD\"]\n",
    "\n",
    "df.loc[df[\"DEPARTAMENTO\"]==\"AMAZONAS\", columnas]"
   ]
  },
  {
   "cell_type": "code",
   "execution_count": null,
   "metadata": {},
   "outputs": [],
   "source": [
    "# Retomando el ejemplo, traigamos todos los aeropuertos por encima del promedio"
   ]
  },
  {
   "cell_type": "markdown",
   "metadata": {},
   "source": [
    "## Ejercicio 3\n",
    "\n",
    "Traiga todas las columnas de los aeropuertos cuyos pasajeros llegados en 2019 están por encima del promedio. Use el promedio que ya calculamos...\n",
    "\n",
    "La respuesta estará dos celdas más adelantes, así que intente la suya antes de seguir."
   ]
  },
  {
   "cell_type": "code",
   "execution_count": null,
   "metadata": {},
   "outputs": [],
   "source": [
    "# Acá su código"
   ]
  },
  {
   "cell_type": "code",
   "execution_count": null,
   "metadata": {},
   "outputs": [],
   "source": [
    "# Para eso usamos loc y el promedio que ya calculamos:\n",
    " \n",
    "df.loc[df[\"Pasajeros Llegados - 2019\"] >= promedio_2019].head() \n",
    "\n",
    "# La respuesta es un DataFrame, pero me traigo solo los primero 5 registros"
   ]
  },
  {
   "cell_type": "code",
   "execution_count": null,
   "metadata": {},
   "outputs": [],
   "source": [
    "# Ahora solo traigamos la columna que queremos cambiar (\"nueva_columna\"):\n",
    "\n",
    "df.loc[df[\"Pasajeros Llegados - 2019\"] >= promedio_2019, \"nueva_columna\"]"
   ]
  },
  {
   "cell_type": "code",
   "execution_count": null,
   "metadata": {},
   "outputs": [],
   "source": [
    "# Por último, cambiemos el valor de esa columna por un 1, pues son los que cumplen la condición\n",
    "\n",
    "df.loc[df[\"Pasajeros Llegados - 2019\"] >= promedio_2019, \"nueva_columna\"] = 1"
   ]
  },
  {
   "cell_type": "code",
   "execution_count": null,
   "metadata": {},
   "outputs": [],
   "source": [
    "# Y veamos cómo queda:\n",
    "print(\"El promedio 2019: \" + str(promedio_2019))\n",
    "columnas=[\"Pasajeros Llegados - 2019\", \"nueva_columna\"]\n",
    "df[columnas]"
   ]
  },
  {
   "cell_type": "markdown",
   "metadata": {},
   "source": [
    "¡Funciona! Cuando el valor de pasajeros es menor al promedio tenemos un 0 y cuando es mayor o igual tenemos un 1. Y ya sabemos transformar nuestro DataFrame"
   ]
  },
  {
   "cell_type": "markdown",
   "metadata": {},
   "source": [
    "# Funciones de agregación"
   ]
  },
  {
   "cell_type": "markdown",
   "metadata": {},
   "source": [
    "Sigamos con el ejemplo de antes. Ya que tenemos nuestro indicador, ahora un buen dato sería saber *cuántos* aeropuertos están por encima del promedio y cuántos por debajo. Una manera sería contar con la mano, pero vamos a aprovechar este problema para introducir las funciones de agregación. \n",
    "\n",
    "Las funciones de agregación, como su nombre lo indica, se usan para agrupar (o agregar) datos y luego operar sobre ellos. Las operaciones pueden ser de todo tipo, como ya veremos. Por lo pronto, entendamos esta tabla dummy:\n",
    "\n",
    "    CIUDAD  | DEPARTAMENTO | CASOS COVID\n",
    "\n",
    "    Tumaco  |    Nariño    |    30\n",
    "    Pasto   |    Nariño    |    20\n",
    "    Cali    |    Valle     |    100\n",
    "    Palmira |    Valle     |    50\n",
    "\n",
    "\n",
    "Si yo quiero saber los casos totales por departamento, debo *agregar* esa variable y luego sumar. Es decir:\n",
    "\n",
    "agregar(DEPARTAMENTO)  |   sumar(CASOS COVID)\n",
    "\n",
    "        Nariño         |        50\n",
    "        Valle          |        150\n",
    "        \n",
    "\n",
    "Pero también podría, en lugar de saber el total de casos de COVID, contar el número de ciudades. Es decir: \n",
    "\n",
    "agregar(DEPARTAMENTO)  |   contar(CIUDAD)\n",
    "\n",
    "        Nariño         |        2\n",
    "        Valle          |        2\n",
    "\n",
    "\n",
    "Fun fact: lo que acabamos de hacer se llama pivot table. La gente lo usa en Excel a cada rato, pero ya veremos por qué en Python tiene más poder.\n",
    "\n",
    "Y de eso se tratan las funciones que veremos a continuación: cómo usar Pandas para agrupar datos.\n",
    "        \n",
    "    "
   ]
  },
  {
   "cell_type": "code",
   "execution_count": null,
   "metadata": {},
   "outputs": [],
   "source": [
    "# Dicho todo lo anterior, agreguemos la nueva_columna y contemos cuántos tienen 1 y cuántos 0\n",
    "# Para eso usamos groupby, así:\n",
    "\n",
    "df.groupby(by=\"nueva_columna\").count()\n",
    "\n",
    "# La sintaxis se explica sola:\n",
    "\n",
    "# data_frame.groupby(by=\"nombre de las columna que quiero agrupar\").operación()\n",
    "# pude usar .sum() o alguna función hecha por mí"
   ]
  },
  {
   "cell_type": "markdown",
   "metadata": {},
   "source": [
    "Lo que nos devuelve es el resultado de la operación para cada columna. Es decir, se fue a la columna NOMBRE AEROPUERTO, agregó utilizando nueva_columna y luego contó registros. Luego se fue a la columna CIUDAD e hizo lo mismo, y así. Por esta razón el resultado es el mismo, no deberían diferenciarse.\n",
    "\n",
    "La cosa cambia si en vez de contar le diera, por ejemplo, sumar, porque en ese caso cada columna suma para un valor diferente. Solo para que ver qué pasa, hagamos eso:"
   ]
  },
  {
   "cell_type": "code",
   "execution_count": null,
   "metadata": {},
   "outputs": [],
   "source": [
    "df.groupby(by=\"nueva_columna\").sum()"
   ]
  },
  {
   "cell_type": "markdown",
   "metadata": {},
   "source": [
    "Como la suma solo tiene sentido para columnas numéricas, ahora solo esas nos aparecen y el resultado cambia. De nuevo, Python se fue columna por columna y sumó los valores de cada columna agrupando por \"nueva_columna\". ¡Perfecto!"
   ]
  },
  {
   "cell_type": "code",
   "execution_count": null,
   "metadata": {},
   "outputs": [],
   "source": [
    "# De regreso a nuestro conteo...\n",
    "# Como solo necesitamos una columna para el conteo, entonces nos podemos quedar con cualquiera\n",
    "# Yo voy a escoger la columna CIUDAD, pero puede ser cualquier otra.\n",
    "\n",
    "df.groupby(by=\"nueva_columna\").count()[\"CIUDAD\"]\n",
    "\n",
    "# ¡Y listo! Hay 31 aeropuertos igual o por encima del promedio del 2019 y 750 por debajo"
   ]
  },
  {
   "cell_type": "code",
   "execution_count": null,
   "metadata": {},
   "outputs": [],
   "source": [
    "# Veamos otra forma de llegar al mismo resultado usando una función llamada pivot_table\n",
    "# Se usa así:\n",
    "\n",
    "pd.pivot_table(\n",
    "               index= \"nueva_columna\", # Columna por la que quiero agrupar\n",
    "               aggfunc={\"CIUDAD\":\"count\"}, # Qué operación quiero hacer en cada columna cuando agrupe\n",
    "               data=df # Sobre qué Data Frame haré la operación \n",
    "               )\n",
    "\n",
    "# ¡El resultado es exactamente el mismo! La ventaja de Pivot Table es que puedo hacer una operación diferente para cada \n",
    "# columna, mientras que con groupby la operación se hace para todas"
   ]
  },
  {
   "cell_type": "markdown",
   "metadata": {},
   "source": [
    "La función pivot_table tiene muchos más parámetros que la hacen una función muy poderosa. Pueden visitar la [documentación](https://pandas.pydata.org/pandas-docs/stable/reference/api/pandas.pivot_table.html) para ver cómo usarlos"
   ]
  },
  {
   "cell_type": "markdown",
   "metadata": {},
   "source": [
    "## Ejercicio 4"
   ]
  },
  {
   "cell_type": "markdown",
   "metadata": {},
   "source": [
    "Usando funciones de agregación (la que prefiera), responda las siguientes preguntas:\n",
    "\n",
    "* ¿Cuántos aeropuertos hay por departamento? Y, ¿cuál es el departamento con más aeropuertos?\n",
    "* ¿Cuántas ciudades solo tienen un aeropuerto?\n",
    "* ¿Cómo fue el cambio en la salida de pasajeros entre 2019 y 2018 en cada ciudad?\n",
    "\n",
    "Pistas: 1) Para organizar la tabla pueden usar la función sort_values(), busquen en internet cómo funciona.\n",
    "\n",
    "Respuestas:\n",
    "\n",
    "* Departamento con más aeropuertos: CASANARE\n",
    "* Hay 183 ciudades con un solo aeropuerto\n"
   ]
  },
  {
   "cell_type": "code",
   "execution_count": null,
   "metadata": {},
   "outputs": [],
   "source": [
    "# Acá va su código"
   ]
  },
  {
   "cell_type": "markdown",
   "metadata": {},
   "source": [
    "# Merges"
   ]
  },
  {
   "cell_type": "markdown",
   "metadata": {},
   "source": [
    "Lo último que veremos hoy, son los cruces o merges. Con esta posibilidad, Pandas queda listo para que hagamos maravillas.\n",
    "\n",
    "Muchas veces tendremos información en diferentes tablas. Por ejemplo, sigamos con el ejemplo del COVID de las funciones de agregación y veamos cómo podríamos tener información regada que nos gustaría tener en el mismo lugar:\n",
    "\n",
    "    CIUDAD  | DEPARTAMENTO | CASOS COVID\n",
    "\n",
    "    Tumaco  |    Nariño    |    30\n",
    "    Pasto   |    Nariño    |    20\n",
    "    Cali    |    Valle     |    100\n",
    "    Palmira |    Valle     |    50\n",
    "    \n",
    "\n",
    "Podríamos tener otra tabla con las vacunas:\n",
    "\n",
    "    CIUDAD  | DEPARTAMENTO |  VACUNAS\n",
    "\n",
    "    Tumaco  |    Nariño    |    13\n",
    "    Pasto   |    Nariño    |    18\n",
    "    Cali    |    Valle     |    70\n",
    "    Palmira |    Valle     |    20\n",
    "    \n",
    "\n",
    "Pero tener esa información regada no es algo que nos resulte muy cómodo para poder trabajar. Lo ideal sería tener una tabla así:\n",
    "\n",
    "    CIUDAD  | DEPARTAMENTO | CASOS COVID |  VACUNAS\n",
    "\n",
    "    Tumaco  |    Nariño    |    30       |    13\n",
    "    Pasto   |    Nariño    |    20       |    18\n",
    "    Cali    |    Valle     |    100      |    70\n",
    "    Palmira |    Valle     |    50       |    20\n",
    "    \n",
    "Para poder unificar esa información, existe la función merge. Con merge(), podemos utilizar los campos en común entre las tablas (en este ejemplo: CIUDAD y DEPARTAMENTO) para unificar la información en un solo lugar."
   ]
  },
  {
   "cell_type": "code",
   "execution_count": null,
   "metadata": {},
   "outputs": [],
   "source": [
    "# Dicho esto veamos cómo funciona. Empecemos por separar en dos la tabla que tenemos.\n",
    "# Es decir, de forma artificial vamos a hacer de cuenta que tenemos dos tablas\n",
    "\n",
    "columnas_1 = [\"NOMBRE AEROPUERTO\", \"CIUDAD\", \"Pasajeros Salidos - 2019\", \"Pasajeros Llegados - 2019\"]\n",
    "df_1 = df[columnas_1]\n",
    "df_1.head()\n",
    "\n",
    "# Esta es nuestra tabla artificial 1"
   ]
  },
  {
   "cell_type": "code",
   "execution_count": null,
   "metadata": {},
   "outputs": [],
   "source": [
    "# Miremos la tabla artificial 2\n",
    "\n",
    "columnas_2 = [\"NOMBRE AEROPUERTO\", \"CIUDAD\", \"Pasajeros Salidos - 2018\", \"Pasajeros Llegados - 2018\"]\n",
    "df_2 = df[columnas_2]\n",
    "df_2.head()"
   ]
  },
  {
   "cell_type": "code",
   "execution_count": null,
   "metadata": {},
   "outputs": [],
   "source": [
    "# Entonces tenemos df_1 y df_2. Veamos cómo juntarlos con merge:\n",
    "# primero va la tabla a la que vamos a agregar los datos nuevos\n",
    "df_1.merge(\n",
    "           right=df_2, # Esta es la segunda tabla que queremos juntar\n",
    "           left_on=[\"NOMBRE AEROPUERTO\", \"CIUDAD\"], # Las columnas que usaremos en la primera tabla para juntar la info\n",
    "           right_on=[\"NOMBRE AEROPUERTO\", \"CIUDAD\"], # Las columnas que usaremos en la segunda tabla para juntar la info\n",
    "           how=\"left\" # Este es el tipo de cruce. 'left' significa que 2 se pone en 1; 'right' que 1 se pone en 2\n",
    "                      # hay otros tipos de cruces de los que vamos a hablar en el BootCamp\n",
    "          )"
   ]
  },
  {
   "cell_type": "markdown",
   "metadata": {},
   "source": [
    "¡Y listo! Ahora tenemos toda la información en un mismo lugar"
   ]
  },
  {
   "cell_type": "markdown",
   "metadata": {},
   "source": [
    "## Ejercicio 5\n",
    "\n",
    "Explore las tablas df_3 y df_4 y cruce la información en una nueva tabla llamada df_5"
   ]
  },
  {
   "cell_type": "code",
   "execution_count": null,
   "metadata": {
    "code_folding": []
   },
   "outputs": [],
   "source": [
    "# Puede ignorar esto, pero deben correrlo una vez\n",
    "\n",
    "columnas = [\"NOMBRE AEROPUERTO\", \"CIUDAD\", \"Carga y Correo Salida (Kg) - 2018\", \"Carga y Correo Llegados (kg) - 2018\"]\n",
    "df_3 = df[columnas]\n",
    "columnas = [\"NOMBRE AEROPUERTO\", \"CIUDAD\", \"Carga y Correo Salida (Kg) - 2019\", \"Carga y Correo Llegados (kg) - 2019\"]\n",
    "random.shuffle(columnas)\n",
    "df_4 = df[columnas].rename(columns={\"NOMBRE AEROPUERTO\":\"aeropuerto\",\n",
    "                                    \"CIUDAD\":\"CiTy\"})\n"
   ]
  },
  {
   "cell_type": "code",
   "execution_count": null,
   "metadata": {},
   "outputs": [],
   "source": [
    "df_3.head(2)"
   ]
  },
  {
   "cell_type": "code",
   "execution_count": null,
   "metadata": {},
   "outputs": [],
   "source": [
    "df_4.head(2)"
   ]
  },
  {
   "cell_type": "code",
   "execution_count": null,
   "metadata": {},
   "outputs": [],
   "source": [
    "# Acá va su código\n",
    "\n",
    "df_5 = # Acá va el merge"
   ]
  },
  {
   "cell_type": "markdown",
   "metadata": {},
   "source": [
    "## Ejercicio 6\n",
    "\n",
    "Utilizando la información del ejercicio anterior, responda las siguientes preguntas:\n",
    "\n",
    "* ¿Cuál fue el aeropuerto con mayor carga salida promedio en el 2019?\n",
    "* ¿Cuál fue el aeropuerto con menor carga salida absoluta en el 2018?\n",
    "\n",
    "Pistas: \n",
    "\n",
    "1) Para el promedio puede usar la función mean de la librería numpy. Para usarla, ejecute antes el comando: import numpy as np\n",
    "\n",
    "2) Absolutos es igual a hacer una suma sencilla\n",
    "\n",
    "Respuestas:\n",
    "\n",
    "1) El Dorado\n",
    "\n",
    "2) Pensilvania, sin tener en cuenta los ceros\n"
   ]
  },
  {
   "cell_type": "code",
   "execution_count": null,
   "metadata": {},
   "outputs": [],
   "source": [
    "import numpy as np\n",
    "# Acá va su código"
   ]
  }
 ],
 "metadata": {
  "kernelspec": {
   "display_name": "Python 3",
   "language": "python",
   "name": "python3"
  },
  "language_info": {
   "codemirror_mode": {
    "name": "ipython",
    "version": 3
   },
   "file_extension": ".py",
   "mimetype": "text/x-python",
   "name": "python",
   "nbconvert_exporter": "python",
   "pygments_lexer": "ipython3",
   "version": "3.6.10"
  }
 },
 "nbformat": 4,
 "nbformat_minor": 4
}
