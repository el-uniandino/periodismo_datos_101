{
 "cells": [
  {
   "cell_type": "markdown",
   "metadata": {},
   "source": [
    "## Visualizaciones en plotly\n",
    "Una de las librerias más poderosas de visualización en Python es Plotly. Hay [muchas razones para usarlo](https://towardsdatascience.com/4-reasons-why-im-choosing-plotly-as-the-main-visualization-library-dc4a961a402f) pero la más importante es tal vez su capacidad de hacer gráficas interactivas. Cualquier visualización le deja al usuario seleccionar el subconjunto de datos de su elección. Pueden ver [la galería de plotly](https://plotly.com/python/) para darse una idea de su flexibilidad. Empecemos instalando plotly: \n"
   ]
  },
  {
   "cell_type": "markdown",
   "metadata": {},
   "source": [
    "## Instalar plotly\n",
    "\n",
    "Corra en su terminal:\n",
    "\n",
    "\n",
    "`pip install plotly`\n"
   ]
  },
  {
   "cell_type": "markdown",
   "metadata": {},
   "source": [
    "## Ejemplo 1 - Casos globales de Covid-19\n",
    "\n",
    "Como primer ejemplo, visualicemos los casos globales de Covid-19 en función del tiempo. Para eso, tomaremos el dataset de casos compilado por la universidad Johns Hopkins.\n"
   ]
  },
  {
   "cell_type": "code",
   "execution_count": null,
   "metadata": {},
   "outputs": [],
   "source": [
    "# Importemos plotly. A diferencia de seaborn o matplotlib,\n",
    "# dependiendo de lo que queramos hacer, vamos a necesitar \n",
    "# plotly.express o plotly.graph_objects. Importemos ambos\n",
    "\n",
    "import plotly.express as px\n",
    "import plotly.graph_objects as go\n",
    "\n",
    "# Importemos pandas\n",
    "import pandas as pd\n",
    "\n",
    "# Esta librería nos va a ayudar manipular los datos,\n",
    "# No es necesario que sepan que hace pero si quireren explorar\n",
    "# más en esta área, se la recomendamos.\n",
    "\n",
    "import numpy as np"
   ]
  },
  {
   "cell_type": "code",
   "execution_count": null,
   "metadata": {},
   "outputs": [],
   "source": [
    "# pro tip: ''' o \"\"\" empiezan un comentario de muchas lineas:\n",
    "\n",
    "''' \n",
    "Los datos globales de casos de covid 19 - cortesia de Johns Hopkins.\n",
    "Noten que pandas puede importar datos de una url! Así, con el pasar de los días,\n",
    "solo hay que correr el notebook otra vez para obtener los datos actualizados. \n",
    "'''\n",
    "\n",
    "covidData = pd.read_csv('https://raw.githubusercontent.com/CSSEGISandData/COVID-19/master/csse_covid_19_data/csse_covid_19_time_series/time_series_covid19_confirmed_global.csv')"
   ]
  },
  {
   "cell_type": "code",
   "execution_count": null,
   "metadata": {},
   "outputs": [],
   "source": [
    "# Manipulemos los datos para quedar con los valores\n",
    "# de los casos clobales en la variable casosGlobales y \n",
    "# las fechas asociadas en la variable fechas\n",
    "\n",
    "dateColumns = covidData.columns[4:]\n",
    "casosGlobales = covidData[dateColumns].sum()\n",
    "fechas = pd.to_datetime(casosGlobales.index)"
   ]
  },
  {
   "cell_type": "markdown",
   "metadata": {},
   "source": [
    "Con los casos globales y las fechas respectivas en variables, podemos hacer la visualizacion. Miremos la visualización más sencilla, un line plot. Podemos hacer eso con [plotly express](https://plotly.com/python/plotly-express/), la sublibrería de plotly que nos permite crear gráficas completas interactivas con un comando."
   ]
  },
  {
   "cell_type": "code",
   "execution_count": null,
   "metadata": {},
   "outputs": [],
   "source": [
    "# Creemos el plot\n",
    "fig = px.line(x=fechas, y=casosGlobales)\n",
    "\n",
    "# Configuremos el titulo y los ejes\n",
    "fig.update_layout(  xaxis_title=\"Tiempo\",\n",
    "                    yaxis_title=\"Casos globales de COVID 19\",\n",
    "                    title='Casos globales de Covid 19 en el tiempo')\n",
    "\n",
    "# Mostremos la figura \n",
    "fig.show()"
   ]
  },
  {
   "cell_type": "markdown",
   "metadata": {},
   "source": [
    "## Ejercicio 1 - Interactuar con la gráfica\n",
    "\n",
    "La mayoría de las gráficas que se hacen con plotly tienen la misma interactividad. \n",
    "\n",
    "> 1.1 Con el mouse, seleccione el área de la gráfica que sea necesaria y posicione el mouse sobre la curva cuantes veces sea necesario para identificar el día exacto en el que el número de casos globales pasó un millón. (Respuesta 2 de Abril 2020). \n",
    "\n",
    "> 1.2 Cuando tenga una ventana en la que se vea claramente donde la curva cruza el millón de casos, haga click sobre el ícono de la cámara en la parte superior derecha de la gráfica para exportar la ventana a una imagen `.png`. Abra la imagen con su visualizador de preferencia y asegúrese de que la misma ventana haya sido exportada.  \n",
    "\n",
    "Para resetear los ejes de la gráfica, puede hacer click sobre el ícono de la casa en la esquina superior derecha de la gráfica.\n"
   ]
  },
  {
   "cell_type": "markdown",
   "metadata": {},
   "source": [
    "## Ejercicio 2 - Nuevos casos de Covid 19 en Colombia\n",
    "\n",
    "Usando los datos anteriores, podemos calcular los casos por país e incluso calcular los casos nuevos, a diario, por país. Hagamos eso: "
   ]
  },
  {
   "cell_type": "code",
   "execution_count": null,
   "metadata": {},
   "outputs": [],
   "source": [
    "dataByCountry = covidData.groupby('Country/Region').sum()[dateColumns]\n",
    "countries = dataByCountry.index"
   ]
  },
  {
   "cell_type": "code",
   "execution_count": null,
   "metadata": {},
   "outputs": [],
   "source": [
    "def getNewCasesInCountry(country,dataByCountry):\n",
    "    N = 15\n",
    "    countryData = dataByCountry.loc[country]\n",
    "    casesInCountry = countryData.values\n",
    "    datesCasesInCountry = pd.to_datetime(countryData.index)\n",
    "\n",
    "    newCasesInCountry = np.convolve(np.diff(casesInCountry), np.ones(N)/N, mode='valid')\n",
    "    datesCasesInCountry = datesCasesInCountry[N:]\n",
    "    return datesCasesInCountry, newCasesInCountry\n",
    "\n",
    "fechasCasosNuevosEnColombia,casosNuevosEnColombia = getNewCasesInCountry('Colombia',dataByCountry)"
   ]
  },
  {
   "cell_type": "markdown",
   "metadata": {},
   "source": [
    "> Grafique los casos nuevos de Colombia en el tiempo en un line plot de plotly. Los nuevos casos en Colombia se encuenctran en la variable `casosNuevosEnColombia`, y en la variable `fechasCasosNuevosEnColombia` están sus respectivas fechas."
   ]
  },
  {
   "cell_type": "code",
   "execution_count": null,
   "metadata": {},
   "outputs": [],
   "source": [
    "# Su código acá - Ejercicio 2\n"
   ]
  },
  {
   "cell_type": "markdown",
   "metadata": {},
   "source": [
    "## Ejercicio 3 - Nuevos casos de Covid 19 en Brasil, Argentina, Chile y Colombia\n",
    "\n",
    "El modo express de plotly es muy sencillo, tan sencillo que puede ser limitante. Para gráficas más complejas se puede usar la sublibrería `graph_objects` de plotly que hemos importado como `go`. \n",
    "\n",
    "Usemos `go` para graficar múltiples líneas. Primero, repliquemos lo que hicimos en la gráfica pasada con `go`:\n"
   ]
  },
  {
   "cell_type": "code",
   "execution_count": null,
   "metadata": {},
   "outputs": [],
   "source": [
    "fechasCasosNuevosEnColombia,casosNuevosEnColombia = getNewCasesInCountry('Colombia',dataByCountry)"
   ]
  },
  {
   "cell_type": "code",
   "execution_count": null,
   "metadata": {},
   "outputs": [],
   "source": [
    "fig = go.Figure()\n",
    "fig.add_trace(go.Scatter(x=fechasCasosNuevosEnColombia, y=casosNuevosEnColombia,\n",
    "                    mode='lines',\n",
    "                    name='Colombia'))\n",
    "\n",
    "fig.update_layout(  xaxis_title=\"Tiempo\",\n",
    "                    yaxis_title=\"Casos nuevos de COVID 19\",\n",
    "                    title='Casos nuevos de Covid 19 por país')\n",
    "fig.show()"
   ]
  },
  {
   "cell_type": "markdown",
   "metadata": {},
   "source": [
    "Bastante sencillo, ¿no? Notemos que cambian un par de cosas. Primero, tenemos que crear una figura. Luego, a esa figura tenemos que agregarle una *traza*. Esto se vuelve poderoso cuando agregamos muchas trazas. Por ejemplo, así se visualizarían los datos de Brasil y Colombia en una sola gráfica:"
   ]
  },
  {
   "cell_type": "code",
   "execution_count": null,
   "metadata": {},
   "outputs": [],
   "source": [
    "fechasCasosNuevosEnBrazil,casosNuevosEnBrazil = getNewCasesInCountry('Brazil',dataByCountry)"
   ]
  },
  {
   "cell_type": "code",
   "execution_count": null,
   "metadata": {},
   "outputs": [],
   "source": [
    "fig = go.Figure()\n",
    "fig.add_trace(go.Scatter(x=fechasCasosNuevosEnColombia, y=casosNuevosEnColombia,\n",
    "                    mode='lines',\n",
    "                    name='Colombia'))\n",
    "fig.add_trace(go.Scatter(x=fechasCasosNuevosEnBrazil, y=casosNuevosEnBrazil,\n",
    "                    mode='lines',\n",
    "                    name='Brazil'))\n",
    "\n",
    "fig.update_layout(  xaxis_title=\"Tiempo\",\n",
    "                    yaxis_title=\"Casos nuevos de COVID 19\",\n",
    "                    title='Casos nuevos de Covid 19 por país')\n",
    "fig.show()"
   ]
  },
  {
   "cell_type": "markdown",
   "metadata": {},
   "source": [
    "> Grafique los nuevos casos de covid 19 en Brazil, Colombia, Argentina y Chile. Las 4 lineas deberían ser visibles en una sola gráfica. "
   ]
  },
  {
   "cell_type": "code",
   "execution_count": null,
   "metadata": {},
   "outputs": [],
   "source": [
    "fechasCasosNuevosEnArgentina,casosNuevosEnArgentina = getNewCasesInCountry('Argentina',dataByCountry)\n",
    "fechasCasosNuevosEnChile,casosNuevosEnChile = getNewCasesInCountry('Chile',dataByCountry)"
   ]
  },
  {
   "cell_type": "code",
   "execution_count": null,
   "metadata": {},
   "outputs": [],
   "source": [
    "# Su código acá\n"
   ]
  },
  {
   "cell_type": "markdown",
   "metadata": {},
   "source": [
    "## Ejercicio 4 - Bar plots\n",
    "\n",
    "Veamos como hacer barplots en plotly. Para eso vamos a tomar los nuevos casos de covid 19 que se dieron hoy en Canadá:"
   ]
  },
  {
   "cell_type": "code",
   "execution_count": null,
   "metadata": {},
   "outputs": [],
   "source": [
    "canada = covidData.loc[covidData['Country/Region']=='Canada',['Province/State']+list(dateColumns[-2:])]\n",
    "canada = canada.groupby('Province/State').sum()\n",
    "canada.loc[:,'NuevosCasos'] = canada[canada.columns[-1]] - canada.loc[:,canada.columns[-2]]\n",
    "canadaOrdenado = canada.sort_values(by='NuevosCasos', ascending=False)\n",
    "provinciasCanada = canadaOrdenado.index\n",
    "nuevosCasosCanadaHoy = canadaOrdenado.loc[:,'NuevosCasos']"
   ]
  },
  {
   "cell_type": "code",
   "execution_count": null,
   "metadata": {},
   "outputs": [],
   "source": [
    "fig = go.Figure(\n",
    "            go.Bar(\n",
    "                x=provinciasCanada, \n",
    "                y=nuevosCasosCanadaHoy\n",
    "            )       \n",
    ")\n",
    "\n",
    "\n",
    "fig.update_layout(  xaxis_title=\"Provincia\",\n",
    "                    yaxis_title=\"Nuevos casos de covid 19\",\n",
    "                    title='Nuevos casos de covid 19 en Canadá por provincia hoy')\n",
    "fig.show()\n"
   ]
  },
  {
   "cell_type": "code",
   "execution_count": null,
   "metadata": {},
   "outputs": [],
   "source": [
    "dataByCountry.loc[:,'NuevosCasos'] = dataByCountry[dataByCountry.columns[-1]] - dataByCountry[dataByCountry.columns[-2]]\n",
    "dataByCountry = dataByCountry.sort_values(by='NuevosCasos',ascending=False)\n",
    "paises = dataByCountry.index\n",
    "casosNuevosPaises = dataByCountry['NuevosCasos']"
   ]
  },
  {
   "cell_type": "markdown",
   "metadata": {},
   "source": [
    "> Haga un barplot de los nuevos casos reportados hoy en cada pais. Hemos calulado los nuevos casos en la variable `casosNuevosPaises` y sus paises respectivos en `paises`"
   ]
  },
  {
   "cell_type": "code",
   "execution_count": null,
   "metadata": {},
   "outputs": [],
   "source": [
    "# su codigo al ejericio 4 acá\n"
   ]
  },
  {
   "cell_type": "markdown",
   "metadata": {},
   "source": [
    "# Ejercicio 5 - exportar a html\n",
    "\n",
    "Plotly permite exportar las gráficas a html para que usted pueda tener una página interactiva con su visualización. Veamos como hacer eso con la gráfica de ejemplo del Ejercicio 3:"
   ]
  },
  {
   "cell_type": "code",
   "execution_count": null,
   "metadata": {},
   "outputs": [],
   "source": [
    "fig = go.Figure()\n",
    "fig.add_trace(go.Scatter(x=fechasCasosNuevosEnColombia, y=casosNuevosEnColombia,\n",
    "                    mode='lines',\n",
    "                    name='Colombia'))\n",
    "fig.add_trace(go.Scatter(x=fechasCasosNuevosEnBrazil, y=casosNuevosEnBrazil,\n",
    "                    mode='lines',\n",
    "                    name='Brazil'))\n",
    "\n",
    "fig.update_layout(  xaxis_title=\"Tiempo\",\n",
    "                    yaxis_title=\"Casos nuevos de COVID 19\",\n",
    "                    title='Casos nuevos de Covid 19 por país')\n",
    "fig.show()\n",
    "\n",
    "# con esta linea exportamos la grafica a un archivo que se llama casos.html\n",
    "fig.write_html(\"casos.html\")\n"
   ]
  },
  {
   "cell_type": "markdown",
   "metadata": {},
   "source": [
    "Si abre el archivo que generó plotly, su browser debería abrir una página en donde se encuentra la visualización anterior en pantalla completa.\n",
    "\n",
    "> Haga la visualización que usted quiera usando los datos de covid 19. Si de verdad quiere aprender, procure que su visualización no sea ninguna de las que ha hecho antes. Como fuente de inspiración puede usar [la galeria de plotly](https://plotly.com/python/). Al finalizar su visualización, expórtela como html. Ábra la página en su browser y verifique que se renderise correctamente."
   ]
  },
  {
   "cell_type": "code",
   "execution_count": null,
   "metadata": {},
   "outputs": [],
   "source": [
    "# su código acá"
   ]
  },
  {
   "cell_type": "markdown",
   "metadata": {},
   "source": [
    "## Showcase - Calentamiento global\n",
    "\n",
    "\n",
    "Plotly es MUY poderoso. Los ejercicios de arriba apenas mostraron algunas de las funcionalidades básicas. En este pequeño showcase queremos mostrarles hasta donde puede llegar plotly.\n",
    "\n",
    "Para eso, veamos el antropoceno en pleno furor."
   ]
  },
  {
   "cell_type": "code",
   "execution_count": null,
   "metadata": {},
   "outputs": [],
   "source": [
    "# datos de la temperatura global de la NASA\n",
    "tempData = pd.read_csv('./data/worldTemperature/temperatureWorld.csv', sep=';')"
   ]
  },
  {
   "cell_type": "code",
   "execution_count": null,
   "metadata": {},
   "outputs": [],
   "source": [
    "# transformemos los datos al formato que necesitamos\n",
    "monthsStr = ['Enero','Febrero','Marzo','Abril','Mayo','Junio','Julio','Agosto','Septiembre','Octubre','Noviembre','Diciembre']\n",
    "tempData['Year'] = tempData.Date.apply(lambda x: int(str(x)[:4]))\n",
    "tempData['Month'] = tempData.Date.apply(lambda x: int(str(x)[-2:]))\n",
    "tempData['MonthLabel'] = tempData.Month.apply(lambda x: monthsStr[x-1])"
   ]
  },
  {
   "cell_type": "code",
   "execution_count": null,
   "metadata": {},
   "outputs": [],
   "source": [
    "# creemos la figura\n",
    "fig=px.bar_polar(tempData, \n",
    "                    r=\"Anomaly\", \n",
    "                    theta=\"MonthLabel\", \n",
    "                    range_r=(-1,1.5), \n",
    "                    color=\"Anomaly\",\n",
    "                    animation_frame='Year',\n",
    "                    title = 'Anomalía de la temperatura promedio de la tierra',\n",
    "                    range_color=[-1,1.5],\n",
    "                    color_continuous_scale='Inferno')\n",
    "\n",
    "# acortemos el tiempo de cada frame\n",
    "fig.layout.updatemenus[0].buttons[0].args[1][\"frame\"][\"duration\"] = 10\n",
    "\n",
    "# actualicemos el label y la posición de la barra de color\n",
    "fig.update_layout(coloraxis_colorbar=dict(\n",
    "    title={'text': \"Anomaly (°C)\",'side':'right'},\n",
    "))\n",
    "\n",
    "fig.show()\n",
    "\n",
    "# Exportemos la visualización a html. \n",
    "fig.write_html(\"worldTemp.html\")"
   ]
  },
  {
   "cell_type": "code",
   "execution_count": null,
   "metadata": {},
   "outputs": [],
   "source": []
  }
 ],
 "metadata": {
  "kernelspec": {
   "display_name": "Python 3",
   "language": "python",
   "name": "python3"
  },
  "language_info": {
   "codemirror_mode": {
    "name": "ipython",
    "version": 3
   },
   "file_extension": ".py",
   "mimetype": "text/x-python",
   "name": "python",
   "nbconvert_exporter": "python",
   "pygments_lexer": "ipython3",
   "version": "3.6.10"
  }
 },
 "nbformat": 4,
 "nbformat_minor": 4
}
