{
 "cells": [
  {
   "cell_type": "markdown",
   "metadata": {},
   "source": [
    "# Índice - Introducción a Python\n",
    "* Tipos de datos y variables\n",
    "* Funciones\n",
    "* Ciclos e iteraciones"
   ]
  },
  {
   "cell_type": "markdown",
   "metadata": {},
   "source": [
    "# Tipos de datos y variables"
   ]
  },
  {
   "cell_type": "markdown",
   "metadata": {},
   "source": [
    "Los computadores aceptan diferentes tipos de datos y Python no es más que un lenguaje para manipularlos. Así como nos podemos comunicar con grafos (un escrito), con sonidos (una conversación) o con imágenes (un gesto), de esa misma manera los computadores entienden diferentes tipos de datos. Aunque existen muchos, los más básicos son:\n",
    "\n",
    "* int - Números enteros. Ejemplo: -1, 2, 1000, 0\n",
    "* float - Número reales (es decir, incluyen fracciones). Ejemplo: 0.001, -3/4, 0.0\n",
    "* string - Caracteres como texto, se utilizan comillas. Ejemplo: \"Hola\", \"   \", \"13\" (nótese que si un número está en comillas es string y no int/float)\n",
    "* boolean - El resultado de una evaluación lógica; es decir, verdadero o falso. Ejemplo: 3 > 4 -> False, 0 == 0 -> True, 0 == 1 -> False\n",
    "\n",
    "Juguemos abajo con ellos"
   ]
  },
  {
   "cell_type": "code",
   "execution_count": 5,
   "metadata": {},
   "outputs": [
    {
     "data": {
      "text/plain": [
       "2"
      ]
     },
     "execution_count": 5,
     "metadata": {},
     "output_type": "execute_result"
    }
   ],
   "source": [
    "# Con los int y los float podemos hacer operaciones aritméticas\n",
    "# Por ejemplo: \n",
    "\n",
    "1+1"
   ]
  },
  {
   "cell_type": "code",
   "execution_count": 6,
   "metadata": {},
   "outputs": [
    {
     "data": {
      "text/plain": [
       "2.1"
      ]
     },
     "execution_count": 6,
     "metadata": {},
     "output_type": "execute_result"
    }
   ],
   "source": [
    "# Si opero un int con un float, el resultado siempre es float\n",
    "\n",
    "1 + 1.1"
   ]
  },
  {
   "cell_type": "code",
   "execution_count": 8,
   "metadata": {},
   "outputs": [
    {
     "data": {
      "text/plain": [
       "4"
      ]
     },
     "execution_count": 8,
     "metadata": {},
     "output_type": "execute_result"
    }
   ],
   "source": [
    "# Puedo multiplicar o elevar. Veamos una multiplicación\n",
    "\n",
    "2*2"
   ]
  },
  {
   "cell_type": "code",
   "execution_count": 9,
   "metadata": {},
   "outputs": [
    {
     "data": {
      "text/plain": [
       "8"
      ]
     },
     "execution_count": 9,
     "metadata": {},
     "output_type": "execute_result"
    }
   ],
   "source": [
    "# Y para elevar utilizo doble asterisco. Si quiero 2 al cubo (2^3) lo hago así:\n",
    "\n",
    "2**3"
   ]
  },
  {
   "cell_type": "markdown",
   "metadata": {},
   "source": [
    "## Ejercicio 1\n",
    "Calcule en Python la siguiente operación: $(2^{17})(3+(100\\sqrt{67}))$. Respuesta: 107680271.85148658"
   ]
  },
  {
   "cell_type": "code",
   "execution_count": null,
   "metadata": {},
   "outputs": [],
   "source": [
    "# Acá va su código"
   ]
  },
  {
   "cell_type": "code",
   "execution_count": 11,
   "metadata": {},
   "outputs": [
    {
     "ename": "TypeError",
     "evalue": "unsupported operand type(s) for +: 'int' and 'str'",
     "output_type": "error",
     "traceback": [
      "\u001b[1;31m---------------------------------------------------------------------------\u001b[0m",
      "\u001b[1;31mTypeError\u001b[0m                                 Traceback (most recent call last)",
      "\u001b[1;32m<ipython-input-11-739ec9c44b27>\u001b[0m in \u001b[0;36m<module>\u001b[1;34m\u001b[0m\n\u001b[0;32m      1\u001b[0m \u001b[1;31m# Ahora veamos los string. Lo primero que debemos saber es que no puedo operar int/float con string. Miremos qué pasa\u001b[0m\u001b[1;33m\u001b[0m\u001b[1;33m\u001b[0m\u001b[1;33m\u001b[0m\u001b[0m\n\u001b[1;32m----> 2\u001b[1;33m \u001b[1;36m1\u001b[0m \u001b[1;33m+\u001b[0m \u001b[1;34m\"1\"\u001b[0m\u001b[1;33m\u001b[0m\u001b[1;33m\u001b[0m\u001b[0m\n\u001b[0m",
      "\u001b[1;31mTypeError\u001b[0m: unsupported operand type(s) for +: 'int' and 'str'"
     ]
    }
   ],
   "source": [
    "# Ahora veamos los string. Lo primero que debemos saber es que no puedo operar int/float con string. \n",
    "# Miremos qué pasa:\n",
    "\n",
    "1 + \"1\""
   ]
  },
  {
   "cell_type": "code",
   "execution_count": 12,
   "metadata": {},
   "outputs": [
    {
     "data": {
      "text/plain": [
       "'11'"
      ]
     },
     "execution_count": 12,
     "metadata": {},
     "output_type": "execute_result"
    }
   ],
   "source": [
    "# Nos sale error y efectivamente nos dice que el *tipo* de dato no es consistente. \n",
    "# ¿Qué pasa si ambos son string?\n",
    "\n",
    "\"1\" + \"1\""
   ]
  },
  {
   "cell_type": "code",
   "execution_count": 13,
   "metadata": {},
   "outputs": [
    {
     "data": {
      "text/plain": [
       "'1'"
      ]
     },
     "execution_count": 13,
     "metadata": {},
     "output_type": "execute_result"
    }
   ],
   "source": [
    "# Nos queda un '11' como string. Esa operación se llama concatenar (básicamente juntar dos strings). \n",
    "# También puedo acceder a un caracter específico del string utilizando corchetes cuadrados ([]). \n",
    "# Por ejemplo:\n",
    "\n",
    "\"12345\"[0]"
   ]
  },
  {
   "cell_type": "code",
   "execution_count": 14,
   "metadata": {},
   "outputs": [
    {
     "data": {
      "text/plain": [
       "'2'"
      ]
     },
     "execution_count": 14,
     "metadata": {},
     "output_type": "execute_result"
    }
   ],
   "source": [
    "# El número que va dentro del corchete se llama *índice* y en Python empieza en 0. Es decir, el primer caracter del string\n",
    "# está en el índice 0, el segundo en el 1 y así...\n",
    "\n",
    "\"12345\"[1]"
   ]
  },
  {
   "cell_type": "code",
   "execution_count": 18,
   "metadata": {},
   "outputs": [
    {
     "data": {
      "text/plain": [
       "'345'"
      ]
     },
     "execution_count": 18,
     "metadata": {},
     "output_type": "execute_result"
    }
   ],
   "source": [
    "# También puedo acceder a un pedazo del string o un *slice*. \n",
    "# Para eso solo uso la notación: [índice donde empiezo: índice donde termino]\n",
    "\n",
    "\"12345\"[2:5]"
   ]
  },
  {
   "cell_type": "markdown",
   "metadata": {},
   "source": [
    "## Ejercicio 2\n",
    "Devuelva solo el fragmento \"Mundo\" en el string \"Hola Mundo\""
   ]
  },
  {
   "cell_type": "code",
   "execution_count": null,
   "metadata": {},
   "outputs": [],
   "source": [
    "# Acá va su código\n",
    "\n",
    "\"Hola Mundo\""
   ]
  },
  {
   "cell_type": "code",
   "execution_count": 19,
   "metadata": {},
   "outputs": [],
   "source": [
    "# Algo chévere de Python es que podemos guardar los valores con un nombre para no tener que escribirlos completos siempre.\n",
    "# Por ejemplo:\n",
    "\n",
    "mensaje = \"Bienvenidos al primer bootcamp\""
   ]
  },
  {
   "cell_type": "code",
   "execution_count": 20,
   "metadata": {},
   "outputs": [
    {
     "data": {
      "text/plain": [
       "'Bienvenidos al primer bootcamp'"
      ]
     },
     "execution_count": 20,
     "metadata": {},
     "output_type": "execute_result"
    }
   ],
   "source": [
    "# Así, en lugar de tener que escribir todo el mensaje siempre, ahora solo debo llamar la etiqueta que le puse:\n",
    "\n",
    "mensaje"
   ]
  },
  {
   "cell_type": "code",
   "execution_count": 24,
   "metadata": {},
   "outputs": [
    {
     "data": {
      "text/plain": [
       "'Bienvenidos'"
      ]
     },
     "execution_count": 24,
     "metadata": {},
     "output_type": "execute_result"
    }
   ],
   "source": [
    "# Esto se llama *variable* y son muy cool. Las variables tienen las mismas propiedades de los valores que contienen.\n",
    "# Por ejemplo, puedo usar el slice de antes:\n",
    "\n",
    "mensaje[0:11]"
   ]
  },
  {
   "cell_type": "code",
   "execution_count": 25,
   "metadata": {},
   "outputs": [
    {
     "data": {
      "text/plain": [
       "123"
      ]
     },
     "execution_count": 25,
     "metadata": {},
     "output_type": "execute_result"
    }
   ],
   "source": [
    "# También las puedo reasignar con otro valor (incluso si es otro tipo de dato). \n",
    "# Por ejemplo:\n",
    "\n",
    "mensaje = 123 # Ahora es un número\n",
    "mensaje"
   ]
  },
  {
   "cell_type": "code",
   "execution_count": 26,
   "metadata": {},
   "outputs": [
    {
     "ename": "TypeError",
     "evalue": "'int' object is not subscriptable",
     "output_type": "error",
     "traceback": [
      "\u001b[1;31m---------------------------------------------------------------------------\u001b[0m",
      "\u001b[1;31mTypeError\u001b[0m                                 Traceback (most recent call last)",
      "\u001b[1;32m<ipython-input-26-182522a73685>\u001b[0m in \u001b[0;36m<module>\u001b[1;34m\u001b[0m\n\u001b[0;32m      1\u001b[0m \u001b[1;31m# Lo anterior hace de Python un lenguaje muy versátil y fácil de utilizar, pero OJO, puede traernos problemas por desorden\u001b[0m\u001b[1;33m\u001b[0m\u001b[1;33m\u001b[0m\u001b[1;33m\u001b[0m\u001b[0m\n\u001b[0;32m      2\u001b[0m \u001b[1;31m# Por ejemplo, ya no podemos utilizar el slice que nos funcionó dos celdas antes\u001b[0m\u001b[1;33m\u001b[0m\u001b[1;33m\u001b[0m\u001b[1;33m\u001b[0m\u001b[0m\n\u001b[1;32m----> 3\u001b[1;33m \u001b[0mmensaje\u001b[0m\u001b[1;33m[\u001b[0m\u001b[1;36m0\u001b[0m\u001b[1;33m:\u001b[0m\u001b[1;36m11\u001b[0m\u001b[1;33m]\u001b[0m\u001b[1;33m\u001b[0m\u001b[1;33m\u001b[0m\u001b[0m\n\u001b[0m",
      "\u001b[1;31mTypeError\u001b[0m: 'int' object is not subscriptable"
     ]
    }
   ],
   "source": [
    "# Lo anterior hace de Python un lenguaje muy versátil y fácil de utilizar. Pero ojo, puede traernos problemas por desorden\n",
    "# Por ejemplo, ya no podemos utilizar el slice que nos funcionó dos celdas antes\n",
    "\n",
    "mensaje[0:11] # ¡Ahora es un número!"
   ]
  },
  {
   "cell_type": "markdown",
   "metadata": {},
   "source": [
    "## Ejercicio 3\n",
    "Escriba esta fórmula en Python y luego, cambiando el valor de la variable \"x\", retorne el resultado cuando x = 0, x = 12, x = -1.\n",
    "\n",
    "$x^{2} - x + 10^{x}$\n",
    "\n",
    "Para x = 0, debe quedar así: $0^{2} - 0 + 10^{0} = 0 - 0 + 1 = 1$"
   ]
  },
  {
   "cell_type": "code",
   "execution_count": null,
   "metadata": {},
   "outputs": [],
   "source": [
    "# Acá va su código.\n",
    "x = # Acá cambia por 0, 12 y -1\n",
    "# Acá escribe la fórmula usando la variable \"x\""
   ]
  },
  {
   "cell_type": "code",
   "execution_count": 27,
   "metadata": {},
   "outputs": [
    {
     "data": {
      "text/plain": [
       "True"
      ]
     },
     "execution_count": 27,
     "metadata": {},
     "output_type": "execute_result"
    }
   ],
   "source": [
    "# Por último veamos los booleanos. Puedo escribir True (verdadero) o False (falso) y ya los tengo\n",
    "\n",
    "True # se pone verde porque Python lo reconoce"
   ]
  },
  {
   "cell_type": "code",
   "execution_count": 28,
   "metadata": {},
   "outputs": [
    {
     "data": {
      "text/plain": [
       "False"
      ]
     },
     "execution_count": 28,
     "metadata": {},
     "output_type": "execute_result"
    }
   ],
   "source": [
    "# Igual a False\n",
    "\n",
    "False"
   ]
  },
  {
   "cell_type": "code",
   "execution_count": 29,
   "metadata": {},
   "outputs": [
    {
     "data": {
      "text/plain": [
       "False"
      ]
     },
     "execution_count": 29,
     "metadata": {},
     "output_type": "execute_result"
    }
   ],
   "source": [
    "# También los puedo conseguir cuando resuelvo una pregunta lógica.\n",
    "# Por ejemplo: ¿Es 3 mayor que 4?\n",
    "# Esa pregunta se escribe en Python así:\n",
    "\n",
    "3 > 4 # La respuesta es que no; es decir, False"
   ]
  },
  {
   "cell_type": "code",
   "execution_count": 30,
   "metadata": {},
   "outputs": [
    {
     "data": {
      "text/plain": [
       "True"
      ]
     },
     "execution_count": 30,
     "metadata": {},
     "output_type": "execute_result"
    }
   ],
   "source": [
    "# ¿Es 1 igual a 1?\n",
    "# O en Python:\n",
    "\n",
    "1 == 1 # La respuesta es que sí"
   ]
  },
  {
   "cell_type": "code",
   "execution_count": 31,
   "metadata": {},
   "outputs": [
    {
     "data": {
      "text/plain": [
       "True"
      ]
     },
     "execution_count": 31,
     "metadata": {},
     "output_type": "execute_result"
    }
   ],
   "source": [
    "# También puedo comparar strings.\n",
    "# Por ejemplo: ¿Es \"hola\" diferente de \"mamá\"?\n",
    "\n",
    "\"hola\" != \"mamá\" # La respuesta es que sí es diferente  \n",
    "\n",
    "# El signo de exclamación al lado del igual es la forma de decir 'diferente de'"
   ]
  },
  {
   "cell_type": "code",
   "execution_count": 32,
   "metadata": {},
   "outputs": [
    {
     "data": {
      "text/plain": [
       "False"
      ]
     },
     "execution_count": 32,
     "metadata": {},
     "output_type": "execute_result"
    }
   ],
   "source": [
    "# Veamos un último ejemplo donde se junte todo.\n",
    "# Para Python, debe ser igual el contenido y el formato\n",
    "# Por ejemplo:\n",
    "\n",
    "1 == '1' # Esto es falso, porque comparo int con string"
   ]
  },
  {
   "cell_type": "code",
   "execution_count": 33,
   "metadata": {},
   "outputs": [
    {
     "data": {
      "text/plain": [
       "True"
      ]
     },
     "execution_count": 33,
     "metadata": {},
     "output_type": "execute_result"
    }
   ],
   "source": [
    "# Pero esto es verdadero\n",
    "\n",
    "\"1\" == \"1\""
   ]
  },
  {
   "cell_type": "markdown",
   "metadata": {},
   "source": [
    "## Ejercicio 4\n",
    "Escriba tres condiciones que den verdaderas y tres condiciones que den falsas. Debe incluir comparaciones int/float con int/float, string con string, e int/float con string."
   ]
  },
  {
   "cell_type": "code",
   "execution_count": 34,
   "metadata": {},
   "outputs": [],
   "source": [
    "# Acá va su código "
   ]
  },
  {
   "cell_type": "markdown",
   "metadata": {},
   "source": [
    "# Funciones"
   ]
  },
  {
   "cell_type": "code",
   "execution_count": 41,
   "metadata": {},
   "outputs": [
    {
     "data": {
      "text/plain": [
       "2"
      ]
     },
     "execution_count": 41,
     "metadata": {},
     "output_type": "execute_result"
    }
   ],
   "source": [
    "# Una función, al igual que una variable, se usa para poder utilizar código sin tener que escribirlo completo cada vez.\n",
    "# Por ejemplo, queremos multiplicar dos números. En lugar de escribir cada vez 2*2 o 240*10\n",
    "# podemos usar:\n",
    "\n",
    "def multiplicar(num1, num2): # estos dos puntos (al igual que la identación) son las reglas de escritura de Python\n",
    "    \n",
    "    respuesta = num1*num2\n",
    "    \n",
    "    return respuesta # el 'return' lo utilizo para devolver el resultado (vean qué pasa si no lo escribo)\n",
    "\n",
    "# Y así, puedo\n",
    "\n",
    "multiplicar(1,2)"
   ]
  },
  {
   "cell_type": "code",
   "execution_count": 42,
   "metadata": {},
   "outputs": [
    {
     "data": {
      "text/plain": [
       "-617.6175000000001"
      ]
     },
     "execution_count": 42,
     "metadata": {},
     "output_type": "execute_result"
    }
   ],
   "source": [
    "# O hacer \n",
    "\n",
    "multiplicar(0.0005,-1235235)"
   ]
  },
  {
   "cell_type": "code",
   "execution_count": 45,
   "metadata": {},
   "outputs": [],
   "source": [
    "# Puedo hacer funciones para todo.\n",
    "# Digamos que quiero una función que multiplique dos número y luego devuelva un mensaje bonito con la respuesta\n",
    "\n",
    "def multiplicar_respuesta(num1, num2):\n",
    "    resultado = num1*num2 # La variable 'resultado' solo existe dentro de la función, no afuera\n",
    "    \n",
    "    respuesta = \"Eres un ser muy hermoso y tu respuesta es: \" + str(resultado) # debo pasar de número a string\n",
    "    \n",
    "    return respuesta"
   ]
  },
  {
   "cell_type": "code",
   "execution_count": 46,
   "metadata": {},
   "outputs": [
    {
     "data": {
      "text/plain": [
       "'Eres un ser muy hermoso y tu respuesta es: 0.012'"
      ]
     },
     "execution_count": 46,
     "metadata": {},
     "output_type": "execute_result"
    }
   ],
   "source": [
    "multiplicar_respuesta(-4,-0.003)"
   ]
  },
  {
   "cell_type": "code",
   "execution_count": 47,
   "metadata": {},
   "outputs": [],
   "source": [
    "# Las funciones también pueden llamar a otras funciones. Por ejemplo, cambiemos la función de arriba\n",
    "# para no tener que hacer la multiplicación a mano\n",
    "\n",
    "def multiplicar_respuesta(num1, num2):\n",
    "    resultado = multiplicar(num1,num2) # llamo la primera función que hice\n",
    "    \n",
    "    respuesta = \"Eres un ser muy hermoso y tu respuesta es: \" + str(resultado) \n",
    "    \n",
    "    return respuesta"
   ]
  },
  {
   "cell_type": "code",
   "execution_count": 48,
   "metadata": {},
   "outputs": [
    {
     "data": {
      "text/plain": [
       "'Eres un ser muy hermoso y tu respuesta es: -16.2'"
      ]
     },
     "execution_count": 48,
     "metadata": {},
     "output_type": "execute_result"
    }
   ],
   "source": [
    "multiplicar_respuesta(-54,0.3)"
   ]
  },
  {
   "cell_type": "markdown",
   "metadata": {},
   "source": [
    "## Ejercicio 5\n",
    "Escriba la fórmula del Ejercicio 3 como una función, evalúe para los mismos valores de x de ese ejercicio y compare los resultados "
   ]
  },
  {
   "cell_type": "markdown",
   "metadata": {},
   "source": [
    "# Ciclos e iteraciones"
   ]
  },
  {
   "cell_type": "code",
   "execution_count": 2,
   "metadata": {},
   "outputs": [
    {
     "data": {
      "text/plain": [
       "['2 de huevos', '1 de leche', '3 de pan', '2 de arroz']"
      ]
     },
     "execution_count": 2,
     "metadata": {},
     "output_type": "execute_result"
    }
   ],
   "source": [
    "# Empecemos viendo un tipo de dato nuevo: las listas. Son un *conjunto* ordenado de valores. \n",
    "# se escriben utilizando corchetes cuadrados y separando por comas. \n",
    "# Por ejemplo, una lista de mercado:\n",
    "\n",
    "mercado = [\"2 de huevos\", \"1 de leche\", \"3 de pan\", \"2 de arroz\"]\n",
    "mercado"
   ]
  },
  {
   "cell_type": "code",
   "execution_count": 3,
   "metadata": {},
   "outputs": [
    {
     "data": {
      "text/plain": [
       "'2 de huevos'"
      ]
     },
     "execution_count": 3,
     "metadata": {},
     "output_type": "execute_result"
    }
   ],
   "source": [
    "# Para acceder a un elemento de la lista, puedo utilizar la misma notación de [índice]\n",
    "# Por ejemplo:\n",
    "\n",
    "mercado[0]"
   ]
  },
  {
   "cell_type": "code",
   "execution_count": 6,
   "metadata": {},
   "outputs": [
    {
     "data": {
      "text/plain": [
       "['3 de pan', '2 de arroz']"
      ]
     },
     "execution_count": 6,
     "metadata": {},
     "output_type": "execute_result"
    }
   ],
   "source": [
    "# Y también puedo usar slices (cool, ¡los strings son muy parecidos a las listas!)\n",
    "mercado[2:]"
   ]
  },
  {
   "cell_type": "code",
   "execution_count": 7,
   "metadata": {},
   "outputs": [
    {
     "data": {
      "text/plain": [
       "'2'"
      ]
     },
     "execution_count": 7,
     "metadata": {},
     "output_type": "execute_result"
    }
   ],
   "source": [
    "# Supongamos que solo quiero quedarme con los números, no me interesa saber de qué.\n",
    "# para eso, puedo acceder a cada elemento y quedarme solo con el primer caracter:\n",
    "\n",
    "mercado[0][0] # esto es equivalente a \"2 de huevos\"[0]. Recuerden que mensaje[0] = \"2 de huevos\""
   ]
  },
  {
   "cell_type": "code",
   "execution_count": 8,
   "metadata": {},
   "outputs": [
    {
     "data": {
      "text/plain": [
       "'1'"
      ]
     },
     "execution_count": 8,
     "metadata": {},
     "output_type": "execute_result"
    }
   ],
   "source": [
    "# Y el que le sigue para la leche\n",
    "\n",
    "mercado[1][0] # Recuerden que mensaje[1] = \"1 de leche\""
   ]
  },
  {
   "cell_type": "code",
   "execution_count": 9,
   "metadata": {},
   "outputs": [
    {
     "name": "stdout",
     "output_type": "stream",
     "text": [
      "2 de huevos\n",
      "1 de leche\n",
      "3 de pan\n",
      "2 de arroz\n"
     ]
    }
   ],
   "source": [
    "# Esto que estoy haciendo se llama *iterar* y Python no quiere que lo hagamos a mano,\n",
    "# si tuviéramos una lista gigante sería un lío terrible...\n",
    "# Introduciendo... Los ciclos. Veamos la notación\n",
    "\n",
    "for elemento_de_lista in mercado:\n",
    "    print(elemento_de_lista) # print es solo una forma de tomarle una foto a la variable"
   ]
  },
  {
   "cell_type": "code",
   "execution_count": 10,
   "metadata": {},
   "outputs": [
    {
     "name": "stdout",
     "output_type": "stream",
     "text": [
      "2\n",
      "1\n",
      "3\n",
      "2\n"
     ]
    }
   ],
   "source": [
    "# Si me quiero quedar solo con los números, modifico lo que hago dentro del ciclo\n",
    "# así:\n",
    "\n",
    "for elemento in mercado: # lo que va después del for es una variable temporal que existe solo dentro del ciclo\n",
    "    solo_numero = elemento[0] # Vamos a iterar y nos quedamos solo con el primer caracter cada vez\n",
    "    print(solo_numero) # y le tomo la foto para ver qué hace"
   ]
  },
  {
   "cell_type": "markdown",
   "metadata": {},
   "source": [
    "## Ejercicio 6\n",
    "Utilizando la función del Ejercicio 5, evalúe los cien primeros número naturales de la lista num_nat."
   ]
  },
  {
   "cell_type": "code",
   "execution_count": 22,
   "metadata": {},
   "outputs": [
    {
     "name": "stdout",
     "output_type": "stream",
     "text": [
      "[0, 1, 2, 3, 4, 5, 6, 7, 8, 9, 10, 11, 12, 13, 14, 15, 16, 17, 18, 19, 20, 21, 22, 23, 24, 25, 26, 27, 28, 29, 30, 31, 32, 33, 34, 35, 36, 37, 38, 39, 40, 41, 42, 43, 44, 45, 46, 47, 48, 49, 50, 51, 52, 53, 54, 55, 56, 57, 58, 59, 60, 61, 62, 63, 64, 65, 66, 67, 68, 69, 70, 71, 72, 73, 74, 75, 76, 77, 78, 79, 80, 81, 82, 83, 84, 85, 86, 87, 88, 89, 90, 91, 92, 93, 94, 95, 96, 97, 98, 99, 100]\n"
     ]
    }
   ],
   "source": [
    "num_nat = list(range(0,101))\n",
    "print(num_nat)"
   ]
  },
  {
   "cell_type": "code",
   "execution_count": 15,
   "metadata": {},
   "outputs": [],
   "source": [
    "# Acá va su código"
   ]
  }
 ],
 "metadata": {
  "kernelspec": {
   "display_name": "Python 3",
   "language": "python",
   "name": "python3"
  },
  "language_info": {
   "codemirror_mode": {
    "name": "ipython",
    "version": 3
   },
   "file_extension": ".py",
   "mimetype": "text/x-python",
   "name": "python",
   "nbconvert_exporter": "python",
   "pygments_lexer": "ipython3",
   "version": "3.6.10"
  }
 },
 "nbformat": 4,
 "nbformat_minor": 4
}
