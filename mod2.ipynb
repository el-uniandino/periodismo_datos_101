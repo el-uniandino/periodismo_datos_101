{
 "cells": [
  {
   "cell_type": "markdown",
   "metadata": {
    "slideshow": {
     "slide_type": "slide"
    }
   },
   "source": [
    "# Módulo 2 - Introducción a las historias periodísticas con datos\n",
    "## El Plebiscito y la Consulta Liberal"
   ]
  },
  {
   "cell_type": "markdown",
   "metadata": {
    "slideshow": {
     "slide_type": "-"
    }
   },
   "source": [
    "<div class=\"naked-img\">\n",
    "    <img src=\"files/el_uniandino.png\" width=\"500\">\n",
    "</div>\n",
    "<script>\n",
    "    $(\"naked-img\").css(\"margin-left\", \"15%\");\n",
    "</script>"
   ]
  },
  {
   "cell_type": "markdown",
   "metadata": {
    "cell_style": "center",
    "slideshow": {
     "slide_type": "slide"
    }
   },
   "source": [
    "# Vamos a descubrir qué le pasó a Alejandro en el 2013"
   ]
  },
  {
   "cell_type": "markdown",
   "metadata": {
    "slideshow": {
     "slide_type": "notes"
    }
   },
   "source": [
    "3 voluntarios\n",
    "\n",
    "Máximo 250 palabras\n",
    "\n",
    "Todos pueden hacer preguntas"
   ]
  },
  {
   "cell_type": "markdown",
   "metadata": {
    "slideshow": {
     "slide_type": "slide"
    }
   },
   "source": [
    "# Con datos o no, lo primero es la historia"
   ]
  },
  {
   "cell_type": "markdown",
   "metadata": {
    "cell_style": "split",
    "slideshow": {
     "slide_type": "subslide"
    }
   },
   "source": [
    "### Noticia\n",
    "* Responde qué, cómo, cuándo, quiénes.\n",
    "* Está muy ligada a su temporalidad.\n",
    "* No se interesa por profundizar en un fenómeno."
   ]
  },
  {
   "cell_type": "markdown",
   "metadata": {
    "cell_style": "split",
    "slideshow": {
     "slide_type": "-"
    }
   },
   "source": [
    "<div class=\"naked-img\">\n",
    "    <img src=\"files/crash.png\" width=\"100\">\n",
    "</div>\n",
    "<script>\n",
    "    $(\"naked-img\").css(\"margin-left\", \"15%\");\n",
    "</script>"
   ]
  },
  {
   "cell_type": "markdown",
   "metadata": {
    "cell_style": "split",
    "slideshow": {
     "slide_type": "subslide"
    }
   },
   "source": [
    "### Reportaje\n",
    "* Aborda varias aristas de un fenómeno noticioso\n",
    "* No pierde tan rápido su importancia en el tiempo,  \n",
    "  aunque tenga temporalidad\n",
    "* Lo que le interesa es la complejidad del fenómeno y \n",
    "  no solo los hechos\n"
   ]
  },
  {
   "cell_type": "markdown",
   "metadata": {
    "cell_style": "split",
    "slideshow": {
     "slide_type": "-"
    }
   },
   "source": [
    "<div class=\"naked-img\">\n",
    "    <img src=\"files/cars_data.JPG\" width=\"400\">\n",
    "</div>\n",
    "<script>\n",
    "    $(\"naked-img\").css(\"margin-left\", \"15%\");\n",
    "</script>"
   ]
  },
  {
   "cell_type": "markdown",
   "metadata": {
    "cell_style": "split",
    "slideshow": {
     "slide_type": "subslide"
    }
   },
   "source": [
    "## La caja de herramientas del periodista"
   ]
  },
  {
   "cell_type": "markdown",
   "metadata": {
    "cell_style": "split",
    "slideshow": {
     "slide_type": "-"
    }
   },
   "source": [
    "<div class=\"naked-img\">\n",
    "    <img src=\"files/toolbox.png\" width=\"100\">\n",
    "</div>\n",
    "<script>\n",
    "    $(\"naked-img\").css(\"margin-left\", \"15%\");\n",
    "</script>"
   ]
  },
  {
   "cell_type": "markdown",
   "metadata": {
    "cell_style": "split",
    "slideshow": {
     "slide_type": "-"
    }
   },
   "source": [
    "* Fuentes\n",
    "* Documentos\n",
    "* Datos"
   ]
  },
  {
   "cell_type": "markdown",
   "metadata": {
    "slideshow": {
     "slide_type": "notes"
    }
   },
   "source": [
    "Fuentes:\n",
    "    \n",
    "Entre más fuentes mejor, el buen reportaje contrasta tantas como puede.\n",
    "\n",
    "Busca involucrar varias orillas del fenómeno, así no sean contrarias, y no muchas de la misma perspectiva.\n",
    "\n",
    "Se debe verificar (fact checking)\n",
    "\n",
    "\n",
    "Documentos:\n",
    "    \n",
    "Fotografías, noticias, otros reportajes, etc.\n",
    "\n",
    "Sirven de soporte para la información de las fuentes, para dar contexto (así sea solo para el periodista) y son fuentes de información.\n",
    "\n",
    "Siempre hay que ir a la historia\n"
   ]
  },
  {
   "cell_type": "markdown",
   "metadata": {
    "slideshow": {
     "slide_type": "subslide"
    }
   },
   "source": [
    "## El esqueleto de la historia periodística"
   ]
  },
  {
   "cell_type": "markdown",
   "metadata": {
    "cell_style": "center",
    "slideshow": {
     "slide_type": "-"
    }
   },
   "source": [
    "<div class=\"naked-img\">\n",
    "    <img src=\"files/esqueleto_historia.jpg\" width=\"500\">\n",
    "</div>\n",
    "<script>\n",
    "    $(\"naked-img\").css(\"margin-left\", \"15%\");\n",
    "</script>"
   ]
  },
  {
   "cell_type": "markdown",
   "metadata": {
    "slideshow": {
     "slide_type": "notes"
    }
   },
   "source": [
    "Tema:\n",
    "Interés\n",
    "Muy amplio\n",
    "No es una historia\n",
    "\n",
    "\n",
    "Ángulo:\n",
    "Cómo van a abordar ese tema\n",
    "No es una opinión ni una posición personal\n",
    "Puede ir cambiando a lo largo de la investigación\n",
    "A partir del ángulo se eligen las fuentes\n",
    "\n",
    "\n",
    "Personajes:\n",
    "Pueden ser un hilo conductor para el reportaje\n",
    "Factor de interés\n",
    "Fuentes balanceadas\n",
    "No incluir fuentes innecesarias\n",
    "\n",
    "\n",
    "Historia:\n",
    "Se define a partir del tema y el ángulo\n",
    "Se narra a través de personajes y datos\n",
    "¿Cuál es tu historia en dos frases?\n",
    "\n"
   ]
  },
  {
   "cell_type": "markdown",
   "metadata": {
    "slideshow": {
     "slide_type": "slide"
    }
   },
   "source": [
    "## Breve receso de 5 minutos"
   ]
  },
  {
   "cell_type": "markdown",
   "metadata": {
    "slideshow": {
     "slide_type": "slide"
    }
   },
   "source": [
    "# La consulta liberal y el plebiscito - Parte 1 (asistido)"
   ]
  },
  {
   "cell_type": "markdown",
   "metadata": {
    "slideshow": {
     "slide_type": "subslide"
    }
   },
   "source": [
    "La Silla Vacía: Consulta liberal y plebiscito\\\n",
    "El País (de España): Plebiscito\n",
    "https://elpais.com/elpais/2016/10/03/media/1475486923_970895.html?rel=mas"
   ]
  },
  {
   "cell_type": "markdown",
   "metadata": {
    "slideshow": {
     "slide_type": "subslide"
    }
   },
   "source": [
    "## ¿Qué preguntas quiero responder?"
   ]
  },
  {
   "cell_type": "markdown",
   "metadata": {
    "slideshow": {
     "slide_type": "notes"
    }
   },
   "source": [
    "Esto es vital:\n",
    "\n",
    "-Nos guía durante la búsqueda \\\n",
    "-Nos pone un objetivo que debemos buscar \\\n",
    "-Siempre empiecen por una pregunta periodística -> datos -> regresen y agreguen más preguntas"
   ]
  },
  {
   "cell_type": "markdown",
   "metadata": {
    "slideshow": {
     "slide_type": "subslide"
    }
   },
   "source": [
    "Entonces... "
   ]
  },
  {
   "cell_type": "markdown",
   "metadata": {
    "slideshow": {
     "slide_type": "fragment"
    }
   },
   "source": [
    "¿Qué preguntas les interesa sobre este tema?"
   ]
  },
  {
   "cell_type": "markdown",
   "metadata": {
    "slideshow": {
     "slide_type": "fragment"
    }
   },
   "source": [
    "* "
   ]
  },
  {
   "cell_type": "markdown",
   "metadata": {
    "slideshow": {
     "slide_type": "notes"
    }
   },
   "source": [
    "* ¿Cuáles fueron los municipios más importantes en ambas elecciones? ¿Y los departamentos?\n",
    "* ¿Tenemos algún indicio de fraude?\n",
    "* ¿Hubo algún comportamiento irregular?\n",
    "* ¿Hay una relación entre el plebiscito y la consulta liberal?\n",
    "* ¿Cómo votaron los municipios más pobres y los que tienen más violencia?\n",
    "* En los municipios donde tienen más acceso a internet, ¿quién ganó? ¿Por qué?"
   ]
  },
  {
   "cell_type": "markdown",
   "metadata": {
    "slideshow": {
     "slide_type": "slide"
    }
   },
   "source": [
    "## Fuentes de datos: ¿De dónde saco datos?"
   ]
  },
  {
   "cell_type": "markdown",
   "metadata": {
    "cell_style": "split",
    "slideshow": {
     "slide_type": "subslide"
    }
   },
   "source": [
    "El equivalente a una primera búsqueda en Google en el periodismo de datos son los **datasets públicos**. Estos, en particular, vienen de la [Registraduría](https://wsr.registraduria.gov.co/-Partido-Liberal-.html)"
   ]
  },
  {
   "cell_type": "markdown",
   "metadata": {
    "cell_style": "split",
    "slideshow": {
     "slide_type": "-"
    }
   },
   "source": [
    "<div class=\"naked-img\">\n",
    "    <img src=\"files/dataset.png\" width=\"100\">\n",
    "</div>\n",
    "<script>\n",
    "    $(\"naked-img\").css(\"margin-left\", \"15%\");\n",
    "</script>"
   ]
  },
  {
   "cell_type": "markdown",
   "metadata": {
    "slideshow": {
     "slide_type": "notes"
    }
   },
   "source": [
    "Información fuentes oficiales o terceros que se puede acceder libremente."
   ]
  },
  {
   "cell_type": "markdown",
   "metadata": {
    "slideshow": {
     "slide_type": "slide"
    }
   },
   "source": [
    "## Data Wrangling "
   ]
  },
  {
   "cell_type": "code",
   "execution_count": 1,
   "metadata": {
    "slideshow": {
     "slide_type": "fragment"
    }
   },
   "outputs": [],
   "source": [
    "import pandas as pd\n",
    "pd.set_option('display.max_columns', None)\n",
    "df_liberal = pd.read_csv(\"../periodismo_datos_101/data/liberal_plebi/consulta_liberal_cod.csv\")"
   ]
  },
  {
   "cell_type": "code",
   "execution_count": 2,
   "metadata": {
    "slideshow": {
     "slide_type": "-"
    }
   },
   "outputs": [
    {
     "data": {
      "text/html": [
       "<div>\n",
       "<style scoped>\n",
       "    .dataframe tbody tr th:only-of-type {\n",
       "        vertical-align: middle;\n",
       "    }\n",
       "\n",
       "    .dataframe tbody tr th {\n",
       "        vertical-align: top;\n",
       "    }\n",
       "\n",
       "    .dataframe thead th {\n",
       "        text-align: right;\n",
       "    }\n",
       "</style>\n",
       "<table border=\"1\" class=\"dataframe\">\n",
       "  <thead>\n",
       "    <tr style=\"text-align: right;\">\n",
       "      <th></th>\n",
       "      <th>cd</th>\n",
       "      <th>departamento</th>\n",
       "      <th>cm</th>\n",
       "      <th>municipio</th>\n",
       "      <th>juan_fernando_cristo</th>\n",
       "      <th>humberto_de_la_calle</th>\n",
       "      <th>votos_nulos</th>\n",
       "      <th>votos_no_marcados</th>\n",
       "      <th>total_votos</th>\n",
       "      <th>nom_dep_mun</th>\n",
       "      <th>cod_dep_mun</th>\n",
       "      <th>closeness</th>\n",
       "      <th>cod_dep</th>\n",
       "      <th>cod_mun</th>\n",
       "      <th>cod_dep1</th>\n",
       "      <th>cod_mun1</th>\n",
       "    </tr>\n",
       "  </thead>\n",
       "  <tbody>\n",
       "    <tr>\n",
       "      <th>0</th>\n",
       "      <td>1</td>\n",
       "      <td>ANTIOQUIA</td>\n",
       "      <td>1</td>\n",
       "      <td>MEDELLIN</td>\n",
       "      <td>4,259</td>\n",
       "      <td>12,523</td>\n",
       "      <td>1,237</td>\n",
       "      <td>360</td>\n",
       "      <td>18,379</td>\n",
       "      <td>antioquia_medellin</td>\n",
       "      <td>05_5001.0</td>\n",
       "      <td>100</td>\n",
       "      <td>5</td>\n",
       "      <td>5001</td>\n",
       "      <td>5</td>\n",
       "      <td>5001</td>\n",
       "    </tr>\n",
       "    <tr>\n",
       "      <th>1</th>\n",
       "      <td>1</td>\n",
       "      <td>ANTIOQUIA</td>\n",
       "      <td>4</td>\n",
       "      <td>ABEJORRAL</td>\n",
       "      <td>21</td>\n",
       "      <td>280</td>\n",
       "      <td>10</td>\n",
       "      <td>5</td>\n",
       "      <td>316</td>\n",
       "      <td>antioquia_abejorral</td>\n",
       "      <td>05_5002.0</td>\n",
       "      <td>100</td>\n",
       "      <td>5</td>\n",
       "      <td>5002</td>\n",
       "      <td>5</td>\n",
       "      <td>5002</td>\n",
       "    </tr>\n",
       "    <tr>\n",
       "      <th>2</th>\n",
       "      <td>1</td>\n",
       "      <td>ANTIOQUIA</td>\n",
       "      <td>7</td>\n",
       "      <td>ABRIAQUI</td>\n",
       "      <td>2</td>\n",
       "      <td>7</td>\n",
       "      <td>1</td>\n",
       "      <td>-</td>\n",
       "      <td>10</td>\n",
       "      <td>antioquia_abriaqui</td>\n",
       "      <td>05_5004.0</td>\n",
       "      <td>100</td>\n",
       "      <td>5</td>\n",
       "      <td>5004</td>\n",
       "      <td>5</td>\n",
       "      <td>5004</td>\n",
       "    </tr>\n",
       "    <tr>\n",
       "      <th>3</th>\n",
       "      <td>1</td>\n",
       "      <td>ANTIOQUIA</td>\n",
       "      <td>10</td>\n",
       "      <td>ALEJANDRIA</td>\n",
       "      <td>15</td>\n",
       "      <td>34</td>\n",
       "      <td>-</td>\n",
       "      <td>1</td>\n",
       "      <td>50</td>\n",
       "      <td>antioquia_alejandria</td>\n",
       "      <td>05_5021.0</td>\n",
       "      <td>100</td>\n",
       "      <td>5</td>\n",
       "      <td>5021</td>\n",
       "      <td>5</td>\n",
       "      <td>5021</td>\n",
       "    </tr>\n",
       "    <tr>\n",
       "      <th>4</th>\n",
       "      <td>1</td>\n",
       "      <td>ANTIOQUIA</td>\n",
       "      <td>13</td>\n",
       "      <td>AMAGA</td>\n",
       "      <td>11</td>\n",
       "      <td>102</td>\n",
       "      <td>15</td>\n",
       "      <td>-</td>\n",
       "      <td>128</td>\n",
       "      <td>antioquia_amaga</td>\n",
       "      <td>05_5030.0</td>\n",
       "      <td>100</td>\n",
       "      <td>5</td>\n",
       "      <td>5030</td>\n",
       "      <td>5</td>\n",
       "      <td>5030</td>\n",
       "    </tr>\n",
       "  </tbody>\n",
       "</table>\n",
       "</div>"
      ],
      "text/plain": [
       "   cd departamento  cm   municipio juan_fernando_cristo humberto_de_la_calle  \\\n",
       "0   1    ANTIOQUIA   1    MEDELLIN               4,259               12,523    \n",
       "1   1    ANTIOQUIA   4   ABEJORRAL                  21                  280    \n",
       "2   1    ANTIOQUIA   7    ABRIAQUI                   2                    7    \n",
       "3   1    ANTIOQUIA  10  ALEJANDRIA                  15                   34    \n",
       "4   1    ANTIOQUIA  13       AMAGA                  11                  102    \n",
       "\n",
       "  votos_nulos votos_no_marcados total_votos           nom_dep_mun cod_dep_mun  \\\n",
       "0      1,237               360      18,379     antioquia_medellin   05_5001.0   \n",
       "1         10                 5         316    antioquia_abejorral   05_5002.0   \n",
       "2          1               -            10     antioquia_abriaqui   05_5004.0   \n",
       "3        -                   1          50   antioquia_alejandria   05_5021.0   \n",
       "4         15               -           128        antioquia_amaga   05_5030.0   \n",
       "\n",
       "   closeness  cod_dep  cod_mun  cod_dep1  cod_mun1  \n",
       "0        100        5     5001         5      5001  \n",
       "1        100        5     5002         5      5002  \n",
       "2        100        5     5004         5      5004  \n",
       "3        100        5     5021         5      5021  \n",
       "4        100        5     5030         5      5030  "
      ]
     },
     "execution_count": 2,
     "metadata": {},
     "output_type": "execute_result"
    }
   ],
   "source": [
    "df_liberal.head()"
   ]
  },
  {
   "cell_type": "code",
   "execution_count": null,
   "metadata": {
    "slideshow": {
     "slide_type": "-"
    }
   },
   "outputs": [],
   "source": [
    "df_liberal.iloc[]"
   ]
  },
  {
   "cell_type": "code",
   "execution_count": 3,
   "metadata": {
    "slideshow": {
     "slide_type": "subslide"
    }
   },
   "outputs": [
    {
     "name": "stdout",
     "output_type": "stream",
     "text": [
      "<class 'pandas.core.frame.DataFrame'>\n",
      "RangeIndex: 1123 entries, 0 to 1122\n",
      "Data columns (total 16 columns):\n",
      " #   Column                Non-Null Count  Dtype \n",
      "---  ------                --------------  ----- \n",
      " 0   cd                    1123 non-null   int64 \n",
      " 1   departamento          1123 non-null   object\n",
      " 2   cm                    1123 non-null   int64 \n",
      " 3   municipio             1123 non-null   object\n",
      " 4   juan_fernando_cristo  1123 non-null   object\n",
      " 5   humberto_de_la_calle  1123 non-null   object\n",
      " 6   votos_nulos           1123 non-null   object\n",
      " 7   votos_no_marcados     1123 non-null   object\n",
      " 8   total_votos           1123 non-null   object\n",
      " 9   nom_dep_mun           1123 non-null   object\n",
      " 10  cod_dep_mun           1123 non-null   object\n",
      " 11  closeness             1123 non-null   int64 \n",
      " 12  cod_dep               1123 non-null   int64 \n",
      " 13  cod_mun               1123 non-null   int64 \n",
      " 14  cod_dep1              1123 non-null   int64 \n",
      " 15  cod_mun1              1123 non-null   int64 \n",
      "dtypes: int64(7), object(9)\n",
      "memory usage: 140.5+ KB\n"
     ]
    }
   ],
   "source": [
    "df_liberal.info()"
   ]
  },
  {
   "cell_type": "code",
   "execution_count": 4,
   "metadata": {
    "code_folding": [],
    "slideshow": {
     "slide_type": "subslide"
    }
   },
   "outputs": [],
   "source": [
    "def clean(x):\n",
    "    resp = int(x.replace(',','').replace('-','0').strip())\n",
    "    return resp"
   ]
  },
  {
   "cell_type": "code",
   "execution_count": 5,
   "metadata": {
    "code_folding": [],
    "slideshow": {
     "slide_type": "-"
    }
   },
   "outputs": [],
   "source": [
    "# Limpiar\n",
    "for column in df_liberal.columns[4:9]:\n",
    "    df_liberal[column] = df_liberal[column].apply(clean)"
   ]
  },
  {
   "cell_type": "code",
   "execution_count": 6,
   "metadata": {
    "slideshow": {
     "slide_type": "-"
    }
   },
   "outputs": [
    {
     "data": {
      "text/html": [
       "<div>\n",
       "<style scoped>\n",
       "    .dataframe tbody tr th:only-of-type {\n",
       "        vertical-align: middle;\n",
       "    }\n",
       "\n",
       "    .dataframe tbody tr th {\n",
       "        vertical-align: top;\n",
       "    }\n",
       "\n",
       "    .dataframe thead th {\n",
       "        text-align: right;\n",
       "    }\n",
       "</style>\n",
       "<table border=\"1\" class=\"dataframe\">\n",
       "  <thead>\n",
       "    <tr style=\"text-align: right;\">\n",
       "      <th></th>\n",
       "      <th>cd</th>\n",
       "      <th>departamento</th>\n",
       "      <th>cm</th>\n",
       "      <th>municipio</th>\n",
       "      <th>juan_fernando_cristo</th>\n",
       "      <th>humberto_de_la_calle</th>\n",
       "      <th>votos_nulos</th>\n",
       "      <th>votos_no_marcados</th>\n",
       "      <th>total_votos</th>\n",
       "      <th>nom_dep_mun</th>\n",
       "      <th>cod_dep_mun</th>\n",
       "      <th>closeness</th>\n",
       "      <th>cod_dep</th>\n",
       "      <th>cod_mun</th>\n",
       "      <th>cod_dep1</th>\n",
       "      <th>cod_mun1</th>\n",
       "    </tr>\n",
       "  </thead>\n",
       "  <tbody>\n",
       "    <tr>\n",
       "      <th>0</th>\n",
       "      <td>1</td>\n",
       "      <td>ANTIOQUIA</td>\n",
       "      <td>1</td>\n",
       "      <td>MEDELLIN</td>\n",
       "      <td>4259</td>\n",
       "      <td>12523</td>\n",
       "      <td>1237</td>\n",
       "      <td>360</td>\n",
       "      <td>18379</td>\n",
       "      <td>antioquia_medellin</td>\n",
       "      <td>05_5001.0</td>\n",
       "      <td>100</td>\n",
       "      <td>5</td>\n",
       "      <td>5001</td>\n",
       "      <td>5</td>\n",
       "      <td>5001</td>\n",
       "    </tr>\n",
       "    <tr>\n",
       "      <th>1</th>\n",
       "      <td>1</td>\n",
       "      <td>ANTIOQUIA</td>\n",
       "      <td>4</td>\n",
       "      <td>ABEJORRAL</td>\n",
       "      <td>21</td>\n",
       "      <td>280</td>\n",
       "      <td>10</td>\n",
       "      <td>5</td>\n",
       "      <td>316</td>\n",
       "      <td>antioquia_abejorral</td>\n",
       "      <td>05_5002.0</td>\n",
       "      <td>100</td>\n",
       "      <td>5</td>\n",
       "      <td>5002</td>\n",
       "      <td>5</td>\n",
       "      <td>5002</td>\n",
       "    </tr>\n",
       "    <tr>\n",
       "      <th>2</th>\n",
       "      <td>1</td>\n",
       "      <td>ANTIOQUIA</td>\n",
       "      <td>7</td>\n",
       "      <td>ABRIAQUI</td>\n",
       "      <td>2</td>\n",
       "      <td>7</td>\n",
       "      <td>1</td>\n",
       "      <td>0</td>\n",
       "      <td>10</td>\n",
       "      <td>antioquia_abriaqui</td>\n",
       "      <td>05_5004.0</td>\n",
       "      <td>100</td>\n",
       "      <td>5</td>\n",
       "      <td>5004</td>\n",
       "      <td>5</td>\n",
       "      <td>5004</td>\n",
       "    </tr>\n",
       "    <tr>\n",
       "      <th>3</th>\n",
       "      <td>1</td>\n",
       "      <td>ANTIOQUIA</td>\n",
       "      <td>10</td>\n",
       "      <td>ALEJANDRIA</td>\n",
       "      <td>15</td>\n",
       "      <td>34</td>\n",
       "      <td>0</td>\n",
       "      <td>1</td>\n",
       "      <td>50</td>\n",
       "      <td>antioquia_alejandria</td>\n",
       "      <td>05_5021.0</td>\n",
       "      <td>100</td>\n",
       "      <td>5</td>\n",
       "      <td>5021</td>\n",
       "      <td>5</td>\n",
       "      <td>5021</td>\n",
       "    </tr>\n",
       "    <tr>\n",
       "      <th>4</th>\n",
       "      <td>1</td>\n",
       "      <td>ANTIOQUIA</td>\n",
       "      <td>13</td>\n",
       "      <td>AMAGA</td>\n",
       "      <td>11</td>\n",
       "      <td>102</td>\n",
       "      <td>15</td>\n",
       "      <td>0</td>\n",
       "      <td>128</td>\n",
       "      <td>antioquia_amaga</td>\n",
       "      <td>05_5030.0</td>\n",
       "      <td>100</td>\n",
       "      <td>5</td>\n",
       "      <td>5030</td>\n",
       "      <td>5</td>\n",
       "      <td>5030</td>\n",
       "    </tr>\n",
       "  </tbody>\n",
       "</table>\n",
       "</div>"
      ],
      "text/plain": [
       "   cd departamento  cm   municipio  juan_fernando_cristo  \\\n",
       "0   1    ANTIOQUIA   1    MEDELLIN                  4259   \n",
       "1   1    ANTIOQUIA   4   ABEJORRAL                    21   \n",
       "2   1    ANTIOQUIA   7    ABRIAQUI                     2   \n",
       "3   1    ANTIOQUIA  10  ALEJANDRIA                    15   \n",
       "4   1    ANTIOQUIA  13       AMAGA                    11   \n",
       "\n",
       "   humberto_de_la_calle  votos_nulos  votos_no_marcados  total_votos  \\\n",
       "0                 12523         1237                360        18379   \n",
       "1                   280           10                  5          316   \n",
       "2                     7            1                  0           10   \n",
       "3                    34            0                  1           50   \n",
       "4                   102           15                  0          128   \n",
       "\n",
       "            nom_dep_mun cod_dep_mun  closeness  cod_dep  cod_mun  cod_dep1  \\\n",
       "0    antioquia_medellin   05_5001.0        100        5     5001         5   \n",
       "1   antioquia_abejorral   05_5002.0        100        5     5002         5   \n",
       "2    antioquia_abriaqui   05_5004.0        100        5     5004         5   \n",
       "3  antioquia_alejandria   05_5021.0        100        5     5021         5   \n",
       "4       antioquia_amaga   05_5030.0        100        5     5030         5   \n",
       "\n",
       "   cod_mun1  \n",
       "0      5001  \n",
       "1      5002  \n",
       "2      5004  \n",
       "3      5021  \n",
       "4      5030  "
      ]
     },
     "execution_count": 6,
     "metadata": {},
     "output_type": "execute_result"
    }
   ],
   "source": [
    "df_liberal.head()"
   ]
  },
  {
   "cell_type": "markdown",
   "metadata": {
    "slideshow": {
     "slide_type": "slide"
    }
   },
   "source": [
    "## Exploratory Data Analysis (EDA)"
   ]
  },
  {
   "cell_type": "code",
   "execution_count": 7,
   "metadata": {
    "slideshow": {
     "slide_type": "subslide"
    }
   },
   "outputs": [
    {
     "data": {
      "text/html": [
       "<div>\n",
       "<style scoped>\n",
       "    .dataframe tbody tr th:only-of-type {\n",
       "        vertical-align: middle;\n",
       "    }\n",
       "\n",
       "    .dataframe tbody tr th {\n",
       "        vertical-align: top;\n",
       "    }\n",
       "\n",
       "    .dataframe thead th {\n",
       "        text-align: right;\n",
       "    }\n",
       "</style>\n",
       "<table border=\"1\" class=\"dataframe\">\n",
       "  <thead>\n",
       "    <tr style=\"text-align: right;\">\n",
       "      <th></th>\n",
       "      <th>cd</th>\n",
       "      <th>departamento</th>\n",
       "      <th>cm</th>\n",
       "      <th>municipio</th>\n",
       "      <th>juan_fernando_cristo</th>\n",
       "      <th>humberto_de_la_calle</th>\n",
       "      <th>votos_nulos</th>\n",
       "      <th>votos_no_marcados</th>\n",
       "      <th>total_votos</th>\n",
       "      <th>nom_dep_mun</th>\n",
       "      <th>cod_dep_mun</th>\n",
       "      <th>closeness</th>\n",
       "      <th>cod_dep</th>\n",
       "      <th>cod_mun</th>\n",
       "      <th>cod_dep1</th>\n",
       "      <th>cod_mun1</th>\n",
       "    </tr>\n",
       "  </thead>\n",
       "  <tbody>\n",
       "    <tr>\n",
       "      <th>0</th>\n",
       "      <td>1</td>\n",
       "      <td>ANTIOQUIA</td>\n",
       "      <td>1</td>\n",
       "      <td>MEDELLIN</td>\n",
       "      <td>4259</td>\n",
       "      <td>12523</td>\n",
       "      <td>1237</td>\n",
       "      <td>360</td>\n",
       "      <td>18379</td>\n",
       "      <td>antioquia_medellin</td>\n",
       "      <td>05_5001.0</td>\n",
       "      <td>100</td>\n",
       "      <td>5</td>\n",
       "      <td>5001</td>\n",
       "      <td>5</td>\n",
       "      <td>5001</td>\n",
       "    </tr>\n",
       "    <tr>\n",
       "      <th>1</th>\n",
       "      <td>1</td>\n",
       "      <td>ANTIOQUIA</td>\n",
       "      <td>4</td>\n",
       "      <td>ABEJORRAL</td>\n",
       "      <td>21</td>\n",
       "      <td>280</td>\n",
       "      <td>10</td>\n",
       "      <td>5</td>\n",
       "      <td>316</td>\n",
       "      <td>antioquia_abejorral</td>\n",
       "      <td>05_5002.0</td>\n",
       "      <td>100</td>\n",
       "      <td>5</td>\n",
       "      <td>5002</td>\n",
       "      <td>5</td>\n",
       "      <td>5002</td>\n",
       "    </tr>\n",
       "    <tr>\n",
       "      <th>2</th>\n",
       "      <td>1</td>\n",
       "      <td>ANTIOQUIA</td>\n",
       "      <td>7</td>\n",
       "      <td>ABRIAQUI</td>\n",
       "      <td>2</td>\n",
       "      <td>7</td>\n",
       "      <td>1</td>\n",
       "      <td>0</td>\n",
       "      <td>10</td>\n",
       "      <td>antioquia_abriaqui</td>\n",
       "      <td>05_5004.0</td>\n",
       "      <td>100</td>\n",
       "      <td>5</td>\n",
       "      <td>5004</td>\n",
       "      <td>5</td>\n",
       "      <td>5004</td>\n",
       "    </tr>\n",
       "    <tr>\n",
       "      <th>3</th>\n",
       "      <td>1</td>\n",
       "      <td>ANTIOQUIA</td>\n",
       "      <td>10</td>\n",
       "      <td>ALEJANDRIA</td>\n",
       "      <td>15</td>\n",
       "      <td>34</td>\n",
       "      <td>0</td>\n",
       "      <td>1</td>\n",
       "      <td>50</td>\n",
       "      <td>antioquia_alejandria</td>\n",
       "      <td>05_5021.0</td>\n",
       "      <td>100</td>\n",
       "      <td>5</td>\n",
       "      <td>5021</td>\n",
       "      <td>5</td>\n",
       "      <td>5021</td>\n",
       "    </tr>\n",
       "    <tr>\n",
       "      <th>4</th>\n",
       "      <td>1</td>\n",
       "      <td>ANTIOQUIA</td>\n",
       "      <td>13</td>\n",
       "      <td>AMAGA</td>\n",
       "      <td>11</td>\n",
       "      <td>102</td>\n",
       "      <td>15</td>\n",
       "      <td>0</td>\n",
       "      <td>128</td>\n",
       "      <td>antioquia_amaga</td>\n",
       "      <td>05_5030.0</td>\n",
       "      <td>100</td>\n",
       "      <td>5</td>\n",
       "      <td>5030</td>\n",
       "      <td>5</td>\n",
       "      <td>5030</td>\n",
       "    </tr>\n",
       "  </tbody>\n",
       "</table>\n",
       "</div>"
      ],
      "text/plain": [
       "   cd departamento  cm   municipio  juan_fernando_cristo  \\\n",
       "0   1    ANTIOQUIA   1    MEDELLIN                  4259   \n",
       "1   1    ANTIOQUIA   4   ABEJORRAL                    21   \n",
       "2   1    ANTIOQUIA   7    ABRIAQUI                     2   \n",
       "3   1    ANTIOQUIA  10  ALEJANDRIA                    15   \n",
       "4   1    ANTIOQUIA  13       AMAGA                    11   \n",
       "\n",
       "   humberto_de_la_calle  votos_nulos  votos_no_marcados  total_votos  \\\n",
       "0                 12523         1237                360        18379   \n",
       "1                   280           10                  5          316   \n",
       "2                     7            1                  0           10   \n",
       "3                    34            0                  1           50   \n",
       "4                   102           15                  0          128   \n",
       "\n",
       "            nom_dep_mun cod_dep_mun  closeness  cod_dep  cod_mun  cod_dep1  \\\n",
       "0    antioquia_medellin   05_5001.0        100        5     5001         5   \n",
       "1   antioquia_abejorral   05_5002.0        100        5     5002         5   \n",
       "2    antioquia_abriaqui   05_5004.0        100        5     5004         5   \n",
       "3  antioquia_alejandria   05_5021.0        100        5     5021         5   \n",
       "4       antioquia_amaga   05_5030.0        100        5     5030         5   \n",
       "\n",
       "   cod_mun1  \n",
       "0      5001  \n",
       "1      5002  \n",
       "2      5004  \n",
       "3      5021  \n",
       "4      5030  "
      ]
     },
     "execution_count": 7,
     "metadata": {},
     "output_type": "execute_result"
    }
   ],
   "source": [
    "df_liberal.head()"
   ]
  },
  {
   "cell_type": "code",
   "execution_count": 8,
   "metadata": {
    "slideshow": {
     "slide_type": "fragment"
    }
   },
   "outputs": [
    {
     "data": {
      "text/html": [
       "<div>\n",
       "<style scoped>\n",
       "    .dataframe tbody tr th:only-of-type {\n",
       "        vertical-align: middle;\n",
       "    }\n",
       "\n",
       "    .dataframe tbody tr th {\n",
       "        vertical-align: top;\n",
       "    }\n",
       "\n",
       "    .dataframe thead th {\n",
       "        text-align: right;\n",
       "    }\n",
       "</style>\n",
       "<table border=\"1\" class=\"dataframe\">\n",
       "  <thead>\n",
       "    <tr style=\"text-align: right;\">\n",
       "      <th></th>\n",
       "      <th>cd</th>\n",
       "      <th>cm</th>\n",
       "      <th>juan_fernando_cristo</th>\n",
       "      <th>humberto_de_la_calle</th>\n",
       "      <th>votos_nulos</th>\n",
       "      <th>votos_no_marcados</th>\n",
       "      <th>total_votos</th>\n",
       "      <th>closeness</th>\n",
       "      <th>cod_dep</th>\n",
       "      <th>cod_mun</th>\n",
       "      <th>cod_dep1</th>\n",
       "      <th>cod_mun1</th>\n",
       "    </tr>\n",
       "  </thead>\n",
       "  <tbody>\n",
       "    <tr>\n",
       "      <th>count</th>\n",
       "      <td>1123.000000</td>\n",
       "      <td>1123.000000</td>\n",
       "      <td>1123.000000</td>\n",
       "      <td>1123.000000</td>\n",
       "      <td>1123.000000</td>\n",
       "      <td>1123.000000</td>\n",
       "      <td>1123.000000</td>\n",
       "      <td>1123.000000</td>\n",
       "      <td>1123.000000</td>\n",
       "      <td>1123.000000</td>\n",
       "      <td>1123.000000</td>\n",
       "      <td>1123.000000</td>\n",
       "    </tr>\n",
       "    <tr>\n",
       "      <th>mean</th>\n",
       "      <td>19.042743</td>\n",
       "      <td>111.634907</td>\n",
       "      <td>289.204809</td>\n",
       "      <td>325.608192</td>\n",
       "      <td>36.474622</td>\n",
       "      <td>11.687444</td>\n",
       "      <td>662.975067</td>\n",
       "      <td>96.647373</td>\n",
       "      <td>36.571683</td>\n",
       "      <td>37012.286732</td>\n",
       "      <td>36.571683</td>\n",
       "      <td>37012.286732</td>\n",
       "    </tr>\n",
       "    <tr>\n",
       "      <th>std</th>\n",
       "      <td>14.403900</td>\n",
       "      <td>132.696322</td>\n",
       "      <td>1143.146400</td>\n",
       "      <td>1256.985333</td>\n",
       "      <td>149.834401</td>\n",
       "      <td>49.470902</td>\n",
       "      <td>2209.532263</td>\n",
       "      <td>14.633806</td>\n",
       "      <td>26.050188</td>\n",
       "      <td>26012.851442</td>\n",
       "      <td>26.050188</td>\n",
       "      <td>26012.851442</td>\n",
       "    </tr>\n",
       "    <tr>\n",
       "      <th>min</th>\n",
       "      <td>1.000000</td>\n",
       "      <td>1.000000</td>\n",
       "      <td>0.000000</td>\n",
       "      <td>0.000000</td>\n",
       "      <td>0.000000</td>\n",
       "      <td>0.000000</td>\n",
       "      <td>1.000000</td>\n",
       "      <td>0.000000</td>\n",
       "      <td>-1.000000</td>\n",
       "      <td>-1.000000</td>\n",
       "      <td>-1.000000</td>\n",
       "      <td>-1.000000</td>\n",
       "    </tr>\n",
       "    <tr>\n",
       "      <th>25%</th>\n",
       "      <td>7.000000</td>\n",
       "      <td>28.000000</td>\n",
       "      <td>18.000000</td>\n",
       "      <td>22.000000</td>\n",
       "      <td>3.000000</td>\n",
       "      <td>1.000000</td>\n",
       "      <td>72.000000</td>\n",
       "      <td>100.000000</td>\n",
       "      <td>15.000000</td>\n",
       "      <td>15515.000000</td>\n",
       "      <td>15.000000</td>\n",
       "      <td>15515.000000</td>\n",
       "    </tr>\n",
       "    <tr>\n",
       "      <th>50%</th>\n",
       "      <td>16.000000</td>\n",
       "      <td>70.000000</td>\n",
       "      <td>70.000000</td>\n",
       "      <td>62.000000</td>\n",
       "      <td>8.000000</td>\n",
       "      <td>3.000000</td>\n",
       "      <td>189.000000</td>\n",
       "      <td>100.000000</td>\n",
       "      <td>25.000000</td>\n",
       "      <td>25736.000000</td>\n",
       "      <td>25.000000</td>\n",
       "      <td>25736.000000</td>\n",
       "    </tr>\n",
       "    <tr>\n",
       "      <th>75%</th>\n",
       "      <td>27.000000</td>\n",
       "      <td>150.000000</td>\n",
       "      <td>242.000000</td>\n",
       "      <td>194.500000</td>\n",
       "      <td>20.000000</td>\n",
       "      <td>8.000000</td>\n",
       "      <td>487.500000</td>\n",
       "      <td>100.000000</td>\n",
       "      <td>63.000000</td>\n",
       "      <td>63120.500000</td>\n",
       "      <td>63.000000</td>\n",
       "      <td>63120.500000</td>\n",
       "    </tr>\n",
       "    <tr>\n",
       "      <th>max</th>\n",
       "      <td>72.000000</td>\n",
       "      <td>900.000000</td>\n",
       "      <td>26049.000000</td>\n",
       "      <td>24882.000000</td>\n",
       "      <td>3244.000000</td>\n",
       "      <td>714.000000</td>\n",
       "      <td>38073.000000</td>\n",
       "      <td>100.000000</td>\n",
       "      <td>99.000000</td>\n",
       "      <td>99773.000000</td>\n",
       "      <td>99.000000</td>\n",
       "      <td>99773.000000</td>\n",
       "    </tr>\n",
       "  </tbody>\n",
       "</table>\n",
       "</div>"
      ],
      "text/plain": [
       "                cd           cm  juan_fernando_cristo  humberto_de_la_calle  \\\n",
       "count  1123.000000  1123.000000           1123.000000           1123.000000   \n",
       "mean     19.042743   111.634907            289.204809            325.608192   \n",
       "std      14.403900   132.696322           1143.146400           1256.985333   \n",
       "min       1.000000     1.000000              0.000000              0.000000   \n",
       "25%       7.000000    28.000000             18.000000             22.000000   \n",
       "50%      16.000000    70.000000             70.000000             62.000000   \n",
       "75%      27.000000   150.000000            242.000000            194.500000   \n",
       "max      72.000000   900.000000          26049.000000          24882.000000   \n",
       "\n",
       "       votos_nulos  votos_no_marcados   total_votos    closeness      cod_dep  \\\n",
       "count  1123.000000        1123.000000   1123.000000  1123.000000  1123.000000   \n",
       "mean     36.474622          11.687444    662.975067    96.647373    36.571683   \n",
       "std     149.834401          49.470902   2209.532263    14.633806    26.050188   \n",
       "min       0.000000           0.000000      1.000000     0.000000    -1.000000   \n",
       "25%       3.000000           1.000000     72.000000   100.000000    15.000000   \n",
       "50%       8.000000           3.000000    189.000000   100.000000    25.000000   \n",
       "75%      20.000000           8.000000    487.500000   100.000000    63.000000   \n",
       "max    3244.000000         714.000000  38073.000000   100.000000    99.000000   \n",
       "\n",
       "            cod_mun     cod_dep1      cod_mun1  \n",
       "count   1123.000000  1123.000000   1123.000000  \n",
       "mean   37012.286732    36.571683  37012.286732  \n",
       "std    26012.851442    26.050188  26012.851442  \n",
       "min       -1.000000    -1.000000     -1.000000  \n",
       "25%    15515.000000    15.000000  15515.000000  \n",
       "50%    25736.000000    25.000000  25736.000000  \n",
       "75%    63120.500000    63.000000  63120.500000  \n",
       "max    99773.000000    99.000000  99773.000000  "
      ]
     },
     "execution_count": 8,
     "metadata": {},
     "output_type": "execute_result"
    }
   ],
   "source": [
    "df_liberal.describe()"
   ]
  },
  {
   "cell_type": "markdown",
   "metadata": {
    "slideshow": {
     "slide_type": "subslide"
    }
   },
   "source": [
    "### Funciones útiles y rápidas\n",
    "* value_counts()\n",
    "* max()/min()/mean()\n",
    "* unique()/drop_duplicates()\n"
   ]
  },
  {
   "cell_type": "code",
   "execution_count": 9,
   "metadata": {
    "slideshow": {
     "slide_type": "-"
    }
   },
   "outputs": [
    {
     "data": {
      "text/plain": [
       "0       ANTIOQUIA\n",
       "1       ANTIOQUIA\n",
       "2       ANTIOQUIA\n",
       "3       ANTIOQUIA\n",
       "4       ANTIOQUIA\n",
       "          ...    \n",
       "1118       VAUPES\n",
       "1119      VICHADA\n",
       "1120      VICHADA\n",
       "1121      VICHADA\n",
       "1122      VICHADA\n",
       "Name: departamento, Length: 1123, dtype: object"
      ]
     },
     "execution_count": 9,
     "metadata": {},
     "output_type": "execute_result"
    }
   ],
   "source": [
    "df_liberal.departamento"
   ]
  },
  {
   "cell_type": "markdown",
   "metadata": {
    "slideshow": {
     "slide_type": "subslide"
    }
   },
   "source": [
    "### import seaborn as sns\n",
    "* Scatterplot\n",
    "* Distplot/Histplot/Barplot/Boxplot\n",
    "* Joinplot/Pairplot\n",
    "* Corrheatmap"
   ]
  },
  {
   "cell_type": "markdown",
   "metadata": {
    "slideshow": {
     "slide_type": "notes"
    }
   },
   "source": [
    "Librería pensada específicamente para hacer análisis estadísticos\n",
    "\n",
    "Desarrollada encima de matplotlib\n",
    "\n",
    "Pensada para integrarse muy bien con Pandas"
   ]
  },
  {
   "cell_type": "code",
   "execution_count": 10,
   "metadata": {
    "cell_style": "split",
    "code_folding": [],
    "slideshow": {
     "slide_type": "subslide"
    }
   },
   "outputs": [
    {
     "data": {
      "text/html": [
       "<div>\n",
       "<style scoped>\n",
       "    .dataframe tbody tr th:only-of-type {\n",
       "        vertical-align: middle;\n",
       "    }\n",
       "\n",
       "    .dataframe tbody tr th {\n",
       "        vertical-align: top;\n",
       "    }\n",
       "\n",
       "    .dataframe thead th {\n",
       "        text-align: right;\n",
       "    }\n",
       "</style>\n",
       "<table border=\"1\" class=\"dataframe\">\n",
       "  <thead>\n",
       "    <tr style=\"text-align: right;\">\n",
       "      <th></th>\n",
       "      <th>cd</th>\n",
       "      <th>departamento</th>\n",
       "      <th>cm</th>\n",
       "      <th>municipio</th>\n",
       "      <th>juan_fernando_cristo</th>\n",
       "      <th>humberto_de_la_calle</th>\n",
       "      <th>votos_nulos</th>\n",
       "      <th>votos_no_marcados</th>\n",
       "      <th>total_votos</th>\n",
       "      <th>nom_dep_mun</th>\n",
       "      <th>cod_dep_mun</th>\n",
       "      <th>closeness</th>\n",
       "      <th>cod_dep</th>\n",
       "      <th>cod_mun</th>\n",
       "      <th>cod_dep1</th>\n",
       "      <th>cod_mun1</th>\n",
       "    </tr>\n",
       "  </thead>\n",
       "  <tbody>\n",
       "    <tr>\n",
       "      <th>0</th>\n",
       "      <td>1</td>\n",
       "      <td>ANTIOQUIA</td>\n",
       "      <td>1</td>\n",
       "      <td>MEDELLIN</td>\n",
       "      <td>4259</td>\n",
       "      <td>12523</td>\n",
       "      <td>1237</td>\n",
       "      <td>360</td>\n",
       "      <td>18379</td>\n",
       "      <td>antioquia_medellin</td>\n",
       "      <td>05_5001.0</td>\n",
       "      <td>100</td>\n",
       "      <td>5</td>\n",
       "      <td>5001</td>\n",
       "      <td>5</td>\n",
       "      <td>5001</td>\n",
       "    </tr>\n",
       "    <tr>\n",
       "      <th>1</th>\n",
       "      <td>1</td>\n",
       "      <td>ANTIOQUIA</td>\n",
       "      <td>4</td>\n",
       "      <td>ABEJORRAL</td>\n",
       "      <td>21</td>\n",
       "      <td>280</td>\n",
       "      <td>10</td>\n",
       "      <td>5</td>\n",
       "      <td>316</td>\n",
       "      <td>antioquia_abejorral</td>\n",
       "      <td>05_5002.0</td>\n",
       "      <td>100</td>\n",
       "      <td>5</td>\n",
       "      <td>5002</td>\n",
       "      <td>5</td>\n",
       "      <td>5002</td>\n",
       "    </tr>\n",
       "    <tr>\n",
       "      <th>2</th>\n",
       "      <td>1</td>\n",
       "      <td>ANTIOQUIA</td>\n",
       "      <td>7</td>\n",
       "      <td>ABRIAQUI</td>\n",
       "      <td>2</td>\n",
       "      <td>7</td>\n",
       "      <td>1</td>\n",
       "      <td>0</td>\n",
       "      <td>10</td>\n",
       "      <td>antioquia_abriaqui</td>\n",
       "      <td>05_5004.0</td>\n",
       "      <td>100</td>\n",
       "      <td>5</td>\n",
       "      <td>5004</td>\n",
       "      <td>5</td>\n",
       "      <td>5004</td>\n",
       "    </tr>\n",
       "  </tbody>\n",
       "</table>\n",
       "</div>"
      ],
      "text/plain": [
       "   cd departamento  cm  municipio  juan_fernando_cristo  humberto_de_la_calle  \\\n",
       "0   1    ANTIOQUIA   1   MEDELLIN                  4259                 12523   \n",
       "1   1    ANTIOQUIA   4  ABEJORRAL                    21                   280   \n",
       "2   1    ANTIOQUIA   7   ABRIAQUI                     2                     7   \n",
       "\n",
       "   votos_nulos  votos_no_marcados  total_votos          nom_dep_mun  \\\n",
       "0         1237                360        18379   antioquia_medellin   \n",
       "1           10                  5          316  antioquia_abejorral   \n",
       "2            1                  0           10   antioquia_abriaqui   \n",
       "\n",
       "  cod_dep_mun  closeness  cod_dep  cod_mun  cod_dep1  cod_mun1  \n",
       "0   05_5001.0        100        5     5001         5      5001  \n",
       "1   05_5002.0        100        5     5002         5      5002  \n",
       "2   05_5004.0        100        5     5004         5      5004  "
      ]
     },
     "execution_count": 10,
     "metadata": {},
     "output_type": "execute_result"
    }
   ],
   "source": [
    "import seaborn as sns\n",
    "df_liberal.head(3)"
   ]
  },
  {
   "cell_type": "markdown",
   "metadata": {
    "cell_style": "split",
    "slideshow": {
     "slide_type": "-"
    }
   },
   "source": [
    "* [Scatterplot](https://seaborn.pydata.org/generated/seaborn.scatterplot.html)\n"
   ]
  },
  {
   "cell_type": "markdown",
   "metadata": {
    "cell_style": "split",
    "slideshow": {
     "slide_type": "-"
    }
   },
   "source": [
    "* [Displot](https://seaborn.pydata.org/generated/seaborn.distplot.html)"
   ]
  },
  {
   "cell_type": "markdown",
   "metadata": {
    "cell_style": "split",
    "slideshow": {
     "slide_type": "-"
    }
   },
   "source": [
    "* [Jointplot](https://seaborn.pydata.org/generated/seaborn.jointplot.html)"
   ]
  },
  {
   "cell_type": "code",
   "execution_count": 11,
   "metadata": {
    "code_folding": [],
    "slideshow": {
     "slide_type": "fragment"
    }
   },
   "outputs": [
    {
     "data": {
      "text/plain": [
       "<matplotlib.axes._subplots.AxesSubplot at 0x2c9b7d9c7b8>"
      ]
     },
     "execution_count": 11,
     "metadata": {},
     "output_type": "execute_result"
    },
    {
     "data": {
      "image/png": "[encoded data removed]",
      "text/plain": [
       "<Figure size 432x288 with 1 Axes>"
      ]
     },
     "metadata": {
      "needs_background": "light"
     },
     "output_type": "display_data"
    }
   ],
   "source": [
    "sns.scatterplot(data=df_liberal.head(3), \n",
    "                x=\"total_votos\", \n",
    "                y=\"humberto_de_la_calle\")"
   ]
  },
  {
   "cell_type": "code",
   "execution_count": 12,
   "metadata": {
    "slideshow": {
     "slide_type": "subslide"
    }
   },
   "outputs": [],
   "source": [
    "x = \"total_votos\""
   ]
  },
  {
   "cell_type": "code",
   "execution_count": 13,
   "metadata": {
    "code_folding": [
     0
    ],
    "slideshow": {
     "slide_type": "-"
    }
   },
   "outputs": [
    {
     "data": {
      "image/png": "[encoded data removed]",
      "text/plain": [
       "<Figure size 1080x360 with 1 Axes>"
      ]
     },
     "metadata": {
      "needs_background": "light"
     },
     "output_type": "display_data"
    }
   ],
   "source": [
    "#resp_scatter\n",
    "import matplotlib.pyplot as plt\n",
    "plt.figure(figsize=(15,5))\n",
    "ax = plt.subplot(1,1,1)\n",
    "sns.scatterplot(data=df_liberal, \n",
    "                x=x, \n",
    "                y=\"humberto_de_la_calle\",\n",
    "                s=100,\n",
    "                alpha=0.5, \n",
    "                color='blue',\n",
    "                label='De la Calle',\n",
    "               ax=ax)\n",
    "sns.scatterplot(data=df_liberal, \n",
    "                x=x, \n",
    "                y=\"juan_fernando_cristo\",\n",
    "                s=100,\n",
    "                alpha=0.5, \n",
    "                color='red',\n",
    "                label='Cristo',\n",
    "               ax=ax)\n",
    "\n",
    "plt.legend()\n",
    "plt.ylabel('votos_candidato')\n",
    "plt.show()"
   ]
  },
  {
   "cell_type": "markdown",
   "metadata": {
    "slideshow": {
     "slide_type": "subslide"
    }
   },
   "source": [
    "### Retomemos las preguntas..."
   ]
  },
  {
   "cell_type": "markdown",
   "metadata": {
    "cell_style": "center",
    "slideshow": {
     "slide_type": "fragment"
    }
   },
   "source": [
    "* ¿Cuáles fueron los departamentos más importantes en ambas elecciones? ¿Y los municipios?"
   ]
  },
  {
   "cell_type": "markdown",
   "metadata": {
    "cell_style": "split",
    "slideshow": {
     "slide_type": "fragment"
    }
   },
   "source": [
    "Veamos [lo que dijo](https://lasillavacia.com/cinco-conclusiones-de-la-consulta-liberal-63522) La Silla Vacía: "
   ]
  },
  {
   "cell_type": "markdown",
   "metadata": {
    "cell_style": "split",
    "slideshow": {
     "slide_type": "-"
    }
   },
   "source": [
    "<div class=\"naked-img\">\n",
    "    <img src=\"files/liberal_la_silla.JPG\" width=\"900\">\n",
    "</div>\n",
    "<script>\n",
    "    $(\"naked-img\").css(\"margin-left\", \"15%\");\n",
    "</script>"
   ]
  },
  {
   "cell_type": "markdown",
   "metadata": {
    "slideshow": {
     "slide_type": "subslide"
    }
   },
   "source": [
    "### Vamos a reconstruir sus pasos"
   ]
  },
  {
   "cell_type": "code",
   "execution_count": 14,
   "metadata": {
    "code_folding": [],
    "slideshow": {
     "slide_type": "fragment"
    }
   },
   "outputs": [],
   "source": [
    "temp = pd.pivot_table(index='departamento', \n",
    "                      aggfunc={'juan_fernando_cristo':'sum', 'humberto_de_la_calle':'sum','total_votos':'sum'}, \n",
    "                      data=df_liberal).reset_index()"
   ]
  },
  {
   "cell_type": "code",
   "execution_count": 15,
   "metadata": {
    "slideshow": {
     "slide_type": "fragment"
    }
   },
   "outputs": [
    {
     "data": {
      "text/html": [
       "<div>\n",
       "<style scoped>\n",
       "    .dataframe tbody tr th:only-of-type {\n",
       "        vertical-align: middle;\n",
       "    }\n",
       "\n",
       "    .dataframe tbody tr th {\n",
       "        vertical-align: top;\n",
       "    }\n",
       "\n",
       "    .dataframe thead th {\n",
       "        text-align: right;\n",
       "    }\n",
       "</style>\n",
       "<table border=\"1\" class=\"dataframe\">\n",
       "  <thead>\n",
       "    <tr style=\"text-align: right;\">\n",
       "      <th></th>\n",
       "      <th>departamento</th>\n",
       "      <th>humberto_de_la_calle</th>\n",
       "      <th>juan_fernando_cristo</th>\n",
       "      <th>total_votos</th>\n",
       "    </tr>\n",
       "  </thead>\n",
       "  <tbody>\n",
       "    <tr>\n",
       "      <th>4</th>\n",
       "      <td>BOGOTA D.C.</td>\n",
       "      <td>75144</td>\n",
       "      <td>16021</td>\n",
       "      <td>100106</td>\n",
       "    </tr>\n",
       "    <tr>\n",
       "      <th>1</th>\n",
       "      <td>ANTIOQUIA</td>\n",
       "      <td>38818</td>\n",
       "      <td>31633</td>\n",
       "      <td>75893</td>\n",
       "    </tr>\n",
       "    <tr>\n",
       "      <th>30</th>\n",
       "      <td>VALLE</td>\n",
       "      <td>47458</td>\n",
       "      <td>21202</td>\n",
       "      <td>74631</td>\n",
       "    </tr>\n",
       "    <tr>\n",
       "      <th>3</th>\n",
       "      <td>ATLANTICO</td>\n",
       "      <td>29084</td>\n",
       "      <td>38997</td>\n",
       "      <td>71093</td>\n",
       "    </tr>\n",
       "    <tr>\n",
       "      <th>22</th>\n",
       "      <td>NORTE DE SANTANDER</td>\n",
       "      <td>3798</td>\n",
       "      <td>39002</td>\n",
       "      <td>48111</td>\n",
       "    </tr>\n",
       "  </tbody>\n",
       "</table>\n",
       "</div>"
      ],
      "text/plain": [
       "          departamento  humberto_de_la_calle  juan_fernando_cristo  \\\n",
       "4          BOGOTA D.C.                 75144                 16021   \n",
       "1            ANTIOQUIA                 38818                 31633   \n",
       "30               VALLE                 47458                 21202   \n",
       "3            ATLANTICO                 29084                 38997   \n",
       "22  NORTE DE SANTANDER                  3798                 39002   \n",
       "\n",
       "    total_votos  \n",
       "4        100106  \n",
       "1         75893  \n",
       "30        74631  \n",
       "3         71093  \n",
       "22        48111  "
      ]
     },
     "execution_count": 15,
     "metadata": {},
     "output_type": "execute_result"
    }
   ],
   "source": [
    "temp.sort_values(by='total_votos',ascending=False).head(5)"
   ]
  },
  {
   "cell_type": "code",
   "execution_count": 24,
   "metadata": {
    "code_folding": [
     0,
     18
    ],
    "slideshow": {
     "slide_type": "subslide"
    }
   },
   "outputs": [
    {
     "data": {
      "image/png": "[encoded data removed]",
      "text/plain": [
       "<Figure size 1080x720 with 1 Axes>"
      ]
     },
     "metadata": {
      "needs_background": "light"
     },
     "output_type": "display_data"
    }
   ],
   "source": [
    "#plot\n",
    "import seaborn as sns\n",
    "import matplotlib.pyplot as plt\n",
    "\n",
    "plt.figure(figsize=(15,10))\n",
    "ax = plt.subplot(1,1,1)\n",
    "sns.barplot(y='departamento',\n",
    "            x='total_votos',\n",
    "            data=temp.sort_values(by='total_votos',\n",
    "                                  ascending=False),\n",
    "            color='red',\n",
    "            label='De La Calle',\n",
    "            alpha=0.9,\n",
    "            ax=ax)\n",
    "\n",
    "ax.tick_params(axis='x',\n",
    "               labelrotation=0)\n",
    "\n",
    "sns.barplot(y='departamento',\n",
    "            x='juan_fernando_cristo',\n",
    "            data=temp.sort_values(by='total_votos',\n",
    "                                  ascending=False),\n",
    "            color='grey',\n",
    "            label='Cristo',\n",
    "            alpha=1,\n",
    "            ax=ax)\n",
    "ax.set_ylabel('departamento',fontsize=20)\n",
    "ax.set_xlabel('votos recibidos',fontsize=20)\n",
    "ax.legend()\n",
    "plt.show()"
   ]
  },
  {
   "cell_type": "markdown",
   "metadata": {
    "cell_style": "split",
    "slideshow": {
     "slide_type": "subslide"
    }
   },
   "source": [
    "<div class=\"naked-img\">\n",
    "    <img src=\"files/liberal_la_silla.JPG\" width=\"900\">\n",
    "</div>\n",
    "<script>\n",
    "    $(\"naked-img\").css(\"margin-left\", \"15%\");\n",
    "</script>"
   ]
  },
  {
   "cell_type": "code",
   "execution_count": 25,
   "metadata": {
    "cell_style": "split",
    "code_folding": [
     0
    ],
    "slideshow": {
     "slide_type": "-"
    }
   },
   "outputs": [
    {
     "data": {
      "image/png": "[encoded data removed]",
      "text/plain": [
       "<Figure size 1080x720 with 1 Axes>"
      ]
     },
     "metadata": {
      "needs_background": "light"
     },
     "output_type": "display_data"
    }
   ],
   "source": [
    "#plot\n",
    "import seaborn as sns\n",
    "import matplotlib.pyplot as plt\n",
    "\n",
    "plt.figure(figsize=(15,10))\n",
    "ax = plt.subplot(1,1,1)\n",
    "sns.barplot(y='departamento',\n",
    "            x='total_votos',\n",
    "            data=temp.sort_values(by='total_votos',\n",
    "                                  ascending=False),\n",
    "            color='red',\n",
    "            label='De La Calle',\n",
    "            alpha=0.9,\n",
    "            ax=ax)\n",
    "\n",
    "ax.tick_params(axis='x',\n",
    "               labelrotation=0)\n",
    "\n",
    "sns.barplot(y='departamento',\n",
    "            x='juan_fernando_cristo',\n",
    "            data=temp.sort_values(by='total_votos',\n",
    "                                  ascending=False),\n",
    "            color='grey',\n",
    "            label='Cristo',\n",
    "            alpha=1,\n",
    "            ax=ax)\n",
    "ax.set_ylabel('departamento',fontsize=20)\n",
    "ax.set_xlabel('votos recibidos',fontsize=20)\n",
    "ax.legend()\n",
    "plt.show()"
   ]
  },
  {
   "cell_type": "markdown",
   "metadata": {
    "slideshow": {
     "slide_type": "subslide"
    }
   },
   "source": [
    "### ¿Alguien vio el error?"
   ]
  },
  {
   "cell_type": "code",
   "execution_count": 27,
   "metadata": {
    "slideshow": {
     "slide_type": "fragment"
    }
   },
   "outputs": [],
   "source": [
    "temp['dif_abs'] = temp.humberto_de_la_calle - temp.juan_fernando_cristo"
   ]
  },
  {
   "cell_type": "code",
   "execution_count": 28,
   "metadata": {
    "slideshow": {
     "slide_type": "fragment"
    }
   },
   "outputs": [
    {
     "data": {
      "text/html": [
       "<div>\n",
       "<style scoped>\n",
       "    .dataframe tbody tr th:only-of-type {\n",
       "        vertical-align: middle;\n",
       "    }\n",
       "\n",
       "    .dataframe tbody tr th {\n",
       "        vertical-align: top;\n",
       "    }\n",
       "\n",
       "    .dataframe thead th {\n",
       "        text-align: right;\n",
       "    }\n",
       "</style>\n",
       "<table border=\"1\" class=\"dataframe\">\n",
       "  <thead>\n",
       "    <tr style=\"text-align: right;\">\n",
       "      <th></th>\n",
       "      <th>departamento</th>\n",
       "      <th>humberto_de_la_calle</th>\n",
       "      <th>juan_fernando_cristo</th>\n",
       "      <th>total_votos</th>\n",
       "      <th>dif_abs</th>\n",
       "    </tr>\n",
       "  </thead>\n",
       "  <tbody>\n",
       "    <tr>\n",
       "      <th>4</th>\n",
       "      <td>BOGOTA D.C.</td>\n",
       "      <td>75144</td>\n",
       "      <td>16021</td>\n",
       "      <td>100106</td>\n",
       "      <td>59123</td>\n",
       "    </tr>\n",
       "    <tr>\n",
       "      <th>30</th>\n",
       "      <td>VALLE</td>\n",
       "      <td>47458</td>\n",
       "      <td>21202</td>\n",
       "      <td>74631</td>\n",
       "      <td>26256</td>\n",
       "    </tr>\n",
       "    <tr>\n",
       "      <th>17</th>\n",
       "      <td>HUILA</td>\n",
       "      <td>11481</td>\n",
       "      <td>1228</td>\n",
       "      <td>13949</td>\n",
       "      <td>10253</td>\n",
       "    </tr>\n",
       "    <tr>\n",
       "      <th>20</th>\n",
       "      <td>META</td>\n",
       "      <td>12005</td>\n",
       "      <td>3340</td>\n",
       "      <td>17272</td>\n",
       "      <td>8665</td>\n",
       "    </tr>\n",
       "    <tr>\n",
       "      <th>1</th>\n",
       "      <td>ANTIOQUIA</td>\n",
       "      <td>38818</td>\n",
       "      <td>31633</td>\n",
       "      <td>75893</td>\n",
       "      <td>7185</td>\n",
       "    </tr>\n",
       "  </tbody>\n",
       "</table>\n",
       "</div>"
      ],
      "text/plain": [
       "   departamento  humberto_de_la_calle  juan_fernando_cristo  total_votos  \\\n",
       "4   BOGOTA D.C.                 75144                 16021       100106   \n",
       "30        VALLE                 47458                 21202        74631   \n",
       "17        HUILA                 11481                  1228        13949   \n",
       "20         META                 12005                  3340        17272   \n",
       "1     ANTIOQUIA                 38818                 31633        75893   \n",
       "\n",
       "    dif_abs  \n",
       "4     59123  \n",
       "30    26256  \n",
       "17    10253  \n",
       "20     8665  \n",
       "1      7185  "
      ]
     },
     "execution_count": 28,
     "metadata": {},
     "output_type": "execute_result"
    }
   ],
   "source": [
    "temp.sort_values(by='dif_abs',ascending=False).head()"
   ]
  },
  {
   "cell_type": "code",
   "execution_count": 29,
   "metadata": {
    "slideshow": {
     "slide_type": "-"
    }
   },
   "outputs": [
    {
     "data": {
      "text/html": [
       "<div>\n",
       "<style scoped>\n",
       "    .dataframe tbody tr th:only-of-type {\n",
       "        vertical-align: middle;\n",
       "    }\n",
       "\n",
       "    .dataframe tbody tr th {\n",
       "        vertical-align: top;\n",
       "    }\n",
       "\n",
       "    .dataframe thead th {\n",
       "        text-align: right;\n",
       "    }\n",
       "</style>\n",
       "<table border=\"1\" class=\"dataframe\">\n",
       "  <thead>\n",
       "    <tr style=\"text-align: right;\">\n",
       "      <th></th>\n",
       "      <th>departamento</th>\n",
       "      <th>humberto_de_la_calle</th>\n",
       "      <th>juan_fernando_cristo</th>\n",
       "      <th>total_votos</th>\n",
       "      <th>dif_abs</th>\n",
       "    </tr>\n",
       "  </thead>\n",
       "  <tbody>\n",
       "    <tr>\n",
       "      <th>21</th>\n",
       "      <td>NARIÑO</td>\n",
       "      <td>8255</td>\n",
       "      <td>14801</td>\n",
       "      <td>24293</td>\n",
       "      <td>-6546</td>\n",
       "    </tr>\n",
       "    <tr>\n",
       "      <th>28</th>\n",
       "      <td>SUCRE</td>\n",
       "      <td>8582</td>\n",
       "      <td>15341</td>\n",
       "      <td>24799</td>\n",
       "      <td>-6759</td>\n",
       "    </tr>\n",
       "    <tr>\n",
       "      <th>3</th>\n",
       "      <td>ATLANTICO</td>\n",
       "      <td>29084</td>\n",
       "      <td>38997</td>\n",
       "      <td>71093</td>\n",
       "      <td>-9913</td>\n",
       "    </tr>\n",
       "    <tr>\n",
       "      <th>5</th>\n",
       "      <td>BOLIVAR</td>\n",
       "      <td>5876</td>\n",
       "      <td>27639</td>\n",
       "      <td>34706</td>\n",
       "      <td>-21763</td>\n",
       "    </tr>\n",
       "    <tr>\n",
       "      <th>22</th>\n",
       "      <td>NORTE DE SANTANDER</td>\n",
       "      <td>3798</td>\n",
       "      <td>39002</td>\n",
       "      <td>48111</td>\n",
       "      <td>-35204</td>\n",
       "    </tr>\n",
       "  </tbody>\n",
       "</table>\n",
       "</div>"
      ],
      "text/plain": [
       "          departamento  humberto_de_la_calle  juan_fernando_cristo  \\\n",
       "21              NARIÑO                  8255                 14801   \n",
       "28               SUCRE                  8582                 15341   \n",
       "3            ATLANTICO                 29084                 38997   \n",
       "5              BOLIVAR                  5876                 27639   \n",
       "22  NORTE DE SANTANDER                  3798                 39002   \n",
       "\n",
       "    total_votos  dif_abs  \n",
       "21        24293    -6546  \n",
       "28        24799    -6759  \n",
       "3         71093    -9913  \n",
       "5         34706   -21763  \n",
       "22        48111   -35204  "
      ]
     },
     "execution_count": 29,
     "metadata": {},
     "output_type": "execute_result"
    }
   ],
   "source": [
    "temp.sort_values(by='dif_abs',ascending=False).tail()"
   ]
  },
  {
   "cell_type": "code",
   "execution_count": 31,
   "metadata": {
    "code_folding": [
     0
    ],
    "slideshow": {
     "slide_type": "subslide"
    }
   },
   "outputs": [
    {
     "data": {
      "text/plain": [
       "<matplotlib.legend.Legend at 0x2c9baa27e48>"
      ]
     },
     "execution_count": 31,
     "metadata": {},
     "output_type": "execute_result"
    },
    {
     "data": {
      "image/png": "[encoded data removed]",
      "text/plain": [
       "<Figure size 648x720 with 1 Axes>"
      ]
     },
     "metadata": {
      "needs_background": "light"
     },
     "output_type": "display_data"
    }
   ],
   "source": [
    "#plot_difs\n",
    "import seaborn as sns\n",
    "import matplotlib.pyplot as plt\n",
    "plt.figure(figsize=(9,10))\n",
    "ax = plt.subplot(1,1,1)\n",
    "sns.barplot(y='departamento',\n",
    "            x='humberto_de_la_calle',\n",
    "            data=temp.sort_values(by='dif_abs',\n",
    "                                  ascending=False),\n",
    "            label=\"De La Calle\",\n",
    "            color=\"red\",\n",
    "            alpha=0.85,\n",
    "            ax=ax)\n",
    "sns.barplot(y=temp.sort_values(by='dif_abs',ascending=False)['departamento'],\n",
    "            x=temp.sort_values(by='dif_abs',ascending=False)[\"juan_fernando_cristo\"]*-1,\n",
    "            label=\"Cristo\",\n",
    "            alpha=0.75,\n",
    "            color=\"grey\",\n",
    "            ax=ax)\n",
    "ax.set_ylabel('departamento',fontsize=20)\n",
    "ax.set_xlabel('votos por candidato',fontsize=20)\n",
    "ax.set_xlim(-81000,81000)\n",
    "ax.legend()"
   ]
  },
  {
   "cell_type": "markdown",
   "metadata": {
    "cell_style": "split",
    "code_folding": [],
    "slideshow": {
     "slide_type": "subslide"
    }
   },
   "source": [
    "<div class=\"naked-img\">\n",
    "    <img src=\"files/liberal_la_silla.JPG\" width=\"900\">\n",
    "</div>\n",
    "<script>\n",
    "    $(\"naked-img\").css(\"margin-left\", \"15%\");\n",
    "</script>"
   ]
  },
  {
   "cell_type": "code",
   "execution_count": 35,
   "metadata": {
    "cell_style": "split",
    "code_folding": [
     0
    ],
    "slideshow": {
     "slide_type": "-"
    }
   },
   "outputs": [
    {
     "data": {
      "image/png": "[encoded data removed]",
      "text/plain": [
       "<Figure size 1080x720 with 1 Axes>"
      ]
     },
     "metadata": {
      "needs_background": "light"
     },
     "output_type": "display_data"
    }
   ],
   "source": [
    "#plot_difs\n",
    "import seaborn as sns\n",
    "import matplotlib.pyplot as plt\n",
    "plt.figure(figsize=(15,10))\n",
    "ax = plt.subplot(1,1,1)\n",
    "sns.barplot(y='departamento',\n",
    "            x='humberto_de_la_calle',\n",
    "            data=temp.sort_values(by='dif_abs',\n",
    "                                  ascending=False),\n",
    "            label=\"De La Calle\",\n",
    "            color=\"red\",\n",
    "            alpha=0.85,\n",
    "            ax=ax)\n",
    "sns.barplot(y=temp.sort_values(by='dif_abs',ascending=False)['departamento'],\n",
    "            x=temp.sort_values(by='dif_abs',ascending=False)[\"juan_fernando_cristo\"]*-1,\n",
    "            label=\"Cristo\",\n",
    "            alpha=0.75,\n",
    "            color=\"grey\",\n",
    "            ax=ax)\n",
    "ax.set_ylabel('departamento',fontsize=20)\n",
    "ax.set_xlabel('votos por candidato',fontsize=20)\n",
    "ax.set_xlim(-81000,81000)\n",
    "ax.legend()\n",
    "plt.show()"
   ]
  },
  {
   "cell_type": "markdown",
   "metadata": {
    "slideshow": {
     "slide_type": "subslide"
    }
   },
   "source": [
    "### ¿Cómo resolverían la pregunta para los municipios?"
   ]
  },
  {
   "cell_type": "code",
   "execution_count": 28,
   "metadata": {
    "slideshow": {
     "slide_type": "fragment"
    }
   },
   "outputs": [],
   "source": [
    "temp_mun = pd.pivot_table(index=['departamento','municipio'], \n",
    "                          aggfunc={'juan_fernando_cristo':'sum', 'humberto_de_la_calle':'sum','total_votos':'sum'}, \n",
    "                          data=df_liberal).reset_index()"
   ]
  },
  {
   "cell_type": "code",
   "execution_count": 30,
   "metadata": {
    "slideshow": {
     "slide_type": "subslide"
    }
   },
   "outputs": [],
   "source": [
    "temp_mun['dif_abs'] = temp_mun.humberto_de_la_calle - temp_mun.juan_fernando_cristo"
   ]
  },
  {
   "cell_type": "code",
   "execution_count": 31,
   "metadata": {
    "slideshow": {
     "slide_type": "fragment"
    }
   },
   "outputs": [
    {
     "data": {
      "text/html": [
       "<div>\n",
       "<style scoped>\n",
       "    .dataframe tbody tr th:only-of-type {\n",
       "        vertical-align: middle;\n",
       "    }\n",
       "\n",
       "    .dataframe tbody tr th {\n",
       "        vertical-align: top;\n",
       "    }\n",
       "\n",
       "    .dataframe thead th {\n",
       "        text-align: right;\n",
       "    }\n",
       "</style>\n",
       "<table border=\"1\" class=\"dataframe\">\n",
       "  <thead>\n",
       "    <tr style=\"text-align: right;\">\n",
       "      <th></th>\n",
       "      <th>departamento</th>\n",
       "      <th>municipio</th>\n",
       "      <th>humberto_de_la_calle</th>\n",
       "      <th>juan_fernando_cristo</th>\n",
       "      <th>total_votos</th>\n",
       "      <th>dif_abs</th>\n",
       "    </tr>\n",
       "  </thead>\n",
       "  <tbody>\n",
       "    <tr>\n",
       "      <th>1083</th>\n",
       "      <td>VALLE</td>\n",
       "      <td>CALI</td>\n",
       "      <td>24882</td>\n",
       "      <td>6206</td>\n",
       "      <td>33819</td>\n",
       "      <td>18676</td>\n",
       "    </tr>\n",
       "    <tr>\n",
       "      <th>173</th>\n",
       "      <td>BOGOTA D.C.</td>\n",
       "      <td>SUBA</td>\n",
       "      <td>12525</td>\n",
       "      <td>1815</td>\n",
       "      <td>15689</td>\n",
       "      <td>10710</td>\n",
       "    </tr>\n",
       "    <tr>\n",
       "      <th>735</th>\n",
       "      <td>MAGDALENA</td>\n",
       "      <td>SANTA MARTA</td>\n",
       "      <td>11926</td>\n",
       "      <td>2213</td>\n",
       "      <td>14585</td>\n",
       "      <td>9713</td>\n",
       "    </tr>\n",
       "    <tr>\n",
       "      <th>177</th>\n",
       "      <td>BOGOTA D.C.</td>\n",
       "      <td>USAQUEN</td>\n",
       "      <td>11094</td>\n",
       "      <td>1574</td>\n",
       "      <td>13053</td>\n",
       "      <td>9520</td>\n",
       "    </tr>\n",
       "    <tr>\n",
       "      <th>70</th>\n",
       "      <td>ANTIOQUIA</td>\n",
       "      <td>MEDELLIN</td>\n",
       "      <td>12523</td>\n",
       "      <td>4259</td>\n",
       "      <td>18379</td>\n",
       "      <td>8264</td>\n",
       "    </tr>\n",
       "  </tbody>\n",
       "</table>\n",
       "</div>"
      ],
      "text/plain": [
       "     departamento    municipio  humberto_de_la_calle  juan_fernando_cristo  \\\n",
       "1083        VALLE         CALI                 24882                  6206   \n",
       "173   BOGOTA D.C.         SUBA                 12525                  1815   \n",
       "735     MAGDALENA  SANTA MARTA                 11926                  2213   \n",
       "177   BOGOTA D.C.      USAQUEN                 11094                  1574   \n",
       "70      ANTIOQUIA     MEDELLIN                 12523                  4259   \n",
       "\n",
       "      total_votos  dif_abs  \n",
       "1083        33819    18676  \n",
       "173         15689    10710  \n",
       "735         14585     9713  \n",
       "177         13053     9520  \n",
       "70          18379     8264  "
      ]
     },
     "execution_count": 31,
     "metadata": {},
     "output_type": "execute_result"
    }
   ],
   "source": [
    "temp_mun.sort_values(by='dif_abs',ascending=False).head()"
   ]
  },
  {
   "cell_type": "code",
   "execution_count": 32,
   "metadata": {
    "slideshow": {
     "slide_type": "fragment"
    }
   },
   "outputs": [
    {
     "data": {
      "text/html": [
       "<div>\n",
       "<style scoped>\n",
       "    .dataframe tbody tr th:only-of-type {\n",
       "        vertical-align: middle;\n",
       "    }\n",
       "\n",
       "    .dataframe tbody tr th {\n",
       "        vertical-align: top;\n",
       "    }\n",
       "\n",
       "    .dataframe thead th {\n",
       "        text-align: right;\n",
       "    }\n",
       "</style>\n",
       "<table border=\"1\" class=\"dataframe\">\n",
       "  <thead>\n",
       "    <tr style=\"text-align: right;\">\n",
       "      <th></th>\n",
       "      <th>departamento</th>\n",
       "      <th>municipio</th>\n",
       "      <th>humberto_de_la_calle</th>\n",
       "      <th>juan_fernando_cristo</th>\n",
       "      <th>total_votos</th>\n",
       "      <th>dif_abs</th>\n",
       "    </tr>\n",
       "  </thead>\n",
       "  <tbody>\n",
       "    <tr>\n",
       "      <th>1023</th>\n",
       "      <td>SUCRE</td>\n",
       "      <td>SINCELEJO</td>\n",
       "      <td>1774</td>\n",
       "      <td>5015</td>\n",
       "      <td>7132</td>\n",
       "      <td>-3241</td>\n",
       "    </tr>\n",
       "    <tr>\n",
       "      <th>520</th>\n",
       "      <td>CORDOBA</td>\n",
       "      <td>MONTERIA</td>\n",
       "      <td>1371</td>\n",
       "      <td>4612</td>\n",
       "      <td>6206</td>\n",
       "      <td>-3241</td>\n",
       "    </tr>\n",
       "    <tr>\n",
       "      <th>1114</th>\n",
       "      <td>VALLE</td>\n",
       "      <td>YUMBO</td>\n",
       "      <td>1202</td>\n",
       "      <td>5297</td>\n",
       "      <td>6897</td>\n",
       "      <td>-4095</td>\n",
       "    </tr>\n",
       "    <tr>\n",
       "      <th>135</th>\n",
       "      <td>ATLANTICO</td>\n",
       "      <td>BARRANQUILLA</td>\n",
       "      <td>9935</td>\n",
       "      <td>26049</td>\n",
       "      <td>38073</td>\n",
       "      <td>-16114</td>\n",
       "    </tr>\n",
       "    <tr>\n",
       "      <th>842</th>\n",
       "      <td>NORTE DE SANTANDER</td>\n",
       "      <td>CUCUTA</td>\n",
       "      <td>2445</td>\n",
       "      <td>22469</td>\n",
       "      <td>28624</td>\n",
       "      <td>-20024</td>\n",
       "    </tr>\n",
       "  </tbody>\n",
       "</table>\n",
       "</div>"
      ],
      "text/plain": [
       "            departamento     municipio  humberto_de_la_calle  \\\n",
       "1023               SUCRE     SINCELEJO                  1774   \n",
       "520              CORDOBA      MONTERIA                  1371   \n",
       "1114               VALLE         YUMBO                  1202   \n",
       "135            ATLANTICO  BARRANQUILLA                  9935   \n",
       "842   NORTE DE SANTANDER        CUCUTA                  2445   \n",
       "\n",
       "      juan_fernando_cristo  total_votos  dif_abs  \n",
       "1023                  5015         7132    -3241  \n",
       "520                   4612         6206    -3241  \n",
       "1114                  5297         6897    -4095  \n",
       "135                  26049        38073   -16114  \n",
       "842                  22469        28624   -20024  "
      ]
     },
     "execution_count": 32,
     "metadata": {},
     "output_type": "execute_result"
    }
   ],
   "source": [
    "temp_mun.sort_values(by='dif_abs',ascending=False).tail()"
   ]
  },
  {
   "cell_type": "markdown",
   "metadata": {
    "slideshow": {
     "slide_type": "subslide"
    }
   },
   "source": [
    "### Hagamos un par de ejercicios"
   ]
  },
  {
   "cell_type": "markdown",
   "metadata": {
    "slideshow": {
     "slide_type": "fragment"
    }
   },
   "source": [
    "### ¿Cuál es el departamento con más municipios donde ganó Humberto de la Calle?"
   ]
  },
  {
   "cell_type": "markdown",
   "metadata": {
    "slideshow": {
     "slide_type": "fragment"
    }
   },
   "source": [
    "### ¿Qué departamento le es más fiel a Juan Fernando Cristo? ¿Y municipio?"
   ]
  },
  {
   "cell_type": "markdown",
   "metadata": {
    "heading_collapsed": true,
    "slideshow": {
     "slide_type": "fragment"
    }
   },
   "source": [
    "### ¿En qué departamento fue donde más saboteron la consulta? ¿Por qué vale la pena perseguir esos inidicios?"
   ]
  },
  {
   "cell_type": "markdown",
   "metadata": {
    "slideshow": {
     "slide_type": "slide"
    }
   },
   "source": [
    "# Pequeño resumen del módulo"
   ]
  },
  {
   "cell_type": "markdown",
   "metadata": {
    "slideshow": {
     "slide_type": "fragment"
    }
   },
   "source": [
    "### Aprendimos...\n",
    "* El reportaje se preocupa por el fenómeno estructural y no solo por los hechos\n",
    "* Los datos son una herramienta y primero va la historia\n",
    "* Nuestra reportería va dirigida por preguntas: planteamos preguntas, exploramos los datos y volvemos a empezar"
   ]
  },
  {
   "cell_type": "markdown",
   "metadata": {
    "slideshow": {
     "slide_type": "subslide"
    }
   },
   "source": [
    "### Aprendimos...\n",
    "* Seaborn es una librería para hacer visualizaciones estadísticas muy útil\n",
    "* Cuando crea resolver una pregunta debo pensar cómo podría falsear la respuesta\n",
    "* A veces sirve pensar en términos relativos, otras veces en absolutos. Debo explorar varios caminos"
   ]
  },
  {
   "cell_type": "markdown",
   "metadata": {
    "slideshow": {
     "slide_type": "slide"
    }
   },
   "source": [
    "# La consulta liberal y el plebiscito - Parte 2 (autónomo)"
   ]
  },
  {
   "cell_type": "markdown",
   "metadata": {
    "slideshow": {
     "slide_type": "-"
    }
   },
   "source": [
    "<div class=\"naked-img\">\n",
    "    <img src=\"files/el_uniandino.png\" width=\"500\">\n",
    "</div>\n",
    "<script>\n",
    "    $(\"naked-img\").css(\"margin-left\", \"15%\");\n",
    "</script>"
   ]
  },
  {
   "cell_type": "code",
   "execution_count": 23,
   "metadata": {
    "slideshow": {
     "slide_type": "subslide"
    }
   },
   "outputs": [],
   "source": [
    "# carguemos datos del plebiscito\n",
    "df_plebi = pd.read_csv(\"../periodismo_datos_101/data/liberal_plebi/scrape_plebiscito_cod.csv\")"
   ]
  },
  {
   "cell_type": "code",
   "execution_count": 8,
   "metadata": {},
   "outputs": [
    {
     "data": {
      "text/plain": [
       "166    34669825.0\n",
       "Name: votos_habilitados, dtype: float64"
      ]
     },
     "execution_count": 8,
     "metadata": {},
     "output_type": "execute_result"
    }
   ],
   "source": [
    "df_plebi[df_plebi.departamento=='BOGOTA D.C.'].votos_habilitados/0.16"
   ]
  },
  {
   "cell_type": "code",
   "execution_count": 36,
   "metadata": {},
   "outputs": [
    {
     "data": {
      "text/html": [
       "<div>\n",
       "<style scoped>\n",
       "    .dataframe tbody tr th:only-of-type {\n",
       "        vertical-align: middle;\n",
       "    }\n",
       "\n",
       "    .dataframe tbody tr th {\n",
       "        vertical-align: top;\n",
       "    }\n",
       "\n",
       "    .dataframe thead th {\n",
       "        text-align: right;\n",
       "    }\n",
       "</style>\n",
       "<table border=\"1\" class=\"dataframe\">\n",
       "  <thead>\n",
       "    <tr style=\"text-align: right;\">\n",
       "      <th></th>\n",
       "      <th>cd</th>\n",
       "      <th>departamento</th>\n",
       "      <th>cm</th>\n",
       "      <th>municipio</th>\n",
       "      <th>juan_fernando_cristo</th>\n",
       "      <th>humberto_de_la_calle</th>\n",
       "      <th>votos_nulos</th>\n",
       "      <th>votos_no_marcados</th>\n",
       "      <th>total_votos</th>\n",
       "      <th>nom_dep_mun</th>\n",
       "      <th>cod_dep_mun</th>\n",
       "      <th>closeness</th>\n",
       "      <th>cod_dep</th>\n",
       "      <th>cod_mun</th>\n",
       "      <th>cod_dep1</th>\n",
       "      <th>cod_mun1</th>\n",
       "    </tr>\n",
       "  </thead>\n",
       "  <tbody>\n",
       "    <tr>\n",
       "      <th>0</th>\n",
       "      <td>1</td>\n",
       "      <td>ANTIOQUIA</td>\n",
       "      <td>1</td>\n",
       "      <td>MEDELLIN</td>\n",
       "      <td>4259</td>\n",
       "      <td>12523</td>\n",
       "      <td>1237</td>\n",
       "      <td>360</td>\n",
       "      <td>18379</td>\n",
       "      <td>antioquia_medellin</td>\n",
       "      <td>05_5001.0</td>\n",
       "      <td>100</td>\n",
       "      <td>5</td>\n",
       "      <td>5001</td>\n",
       "      <td>5</td>\n",
       "      <td>5001</td>\n",
       "    </tr>\n",
       "    <tr>\n",
       "      <th>1</th>\n",
       "      <td>1</td>\n",
       "      <td>ANTIOQUIA</td>\n",
       "      <td>4</td>\n",
       "      <td>ABEJORRAL</td>\n",
       "      <td>21</td>\n",
       "      <td>280</td>\n",
       "      <td>10</td>\n",
       "      <td>5</td>\n",
       "      <td>316</td>\n",
       "      <td>antioquia_abejorral</td>\n",
       "      <td>05_5002.0</td>\n",
       "      <td>100</td>\n",
       "      <td>5</td>\n",
       "      <td>5002</td>\n",
       "      <td>5</td>\n",
       "      <td>5002</td>\n",
       "    </tr>\n",
       "    <tr>\n",
       "      <th>2</th>\n",
       "      <td>1</td>\n",
       "      <td>ANTIOQUIA</td>\n",
       "      <td>7</td>\n",
       "      <td>ABRIAQUI</td>\n",
       "      <td>2</td>\n",
       "      <td>7</td>\n",
       "      <td>1</td>\n",
       "      <td>0</td>\n",
       "      <td>10</td>\n",
       "      <td>antioquia_abriaqui</td>\n",
       "      <td>05_5004.0</td>\n",
       "      <td>100</td>\n",
       "      <td>5</td>\n",
       "      <td>5004</td>\n",
       "      <td>5</td>\n",
       "      <td>5004</td>\n",
       "    </tr>\n",
       "    <tr>\n",
       "      <th>3</th>\n",
       "      <td>1</td>\n",
       "      <td>ANTIOQUIA</td>\n",
       "      <td>10</td>\n",
       "      <td>ALEJANDRIA</td>\n",
       "      <td>15</td>\n",
       "      <td>34</td>\n",
       "      <td>0</td>\n",
       "      <td>1</td>\n",
       "      <td>50</td>\n",
       "      <td>antioquia_alejandria</td>\n",
       "      <td>05_5021.0</td>\n",
       "      <td>100</td>\n",
       "      <td>5</td>\n",
       "      <td>5021</td>\n",
       "      <td>5</td>\n",
       "      <td>5021</td>\n",
       "    </tr>\n",
       "    <tr>\n",
       "      <th>4</th>\n",
       "      <td>1</td>\n",
       "      <td>ANTIOQUIA</td>\n",
       "      <td>13</td>\n",
       "      <td>AMAGA</td>\n",
       "      <td>11</td>\n",
       "      <td>102</td>\n",
       "      <td>15</td>\n",
       "      <td>0</td>\n",
       "      <td>128</td>\n",
       "      <td>antioquia_amaga</td>\n",
       "      <td>05_5030.0</td>\n",
       "      <td>100</td>\n",
       "      <td>5</td>\n",
       "      <td>5030</td>\n",
       "      <td>5</td>\n",
       "      <td>5030</td>\n",
       "    </tr>\n",
       "  </tbody>\n",
       "</table>\n",
       "</div>"
      ],
      "text/plain": [
       "   cd departamento  cm   municipio  juan_fernando_cristo  \\\n",
       "0   1    ANTIOQUIA   1    MEDELLIN                  4259   \n",
       "1   1    ANTIOQUIA   4   ABEJORRAL                    21   \n",
       "2   1    ANTIOQUIA   7    ABRIAQUI                     2   \n",
       "3   1    ANTIOQUIA  10  ALEJANDRIA                    15   \n",
       "4   1    ANTIOQUIA  13       AMAGA                    11   \n",
       "\n",
       "   humberto_de_la_calle  votos_nulos  votos_no_marcados  total_votos  \\\n",
       "0                 12523         1237                360        18379   \n",
       "1                   280           10                  5          316   \n",
       "2                     7            1                  0           10   \n",
       "3                    34            0                  1           50   \n",
       "4                   102           15                  0          128   \n",
       "\n",
       "            nom_dep_mun cod_dep_mun  closeness  cod_dep  cod_mun  cod_dep1  \\\n",
       "0    antioquia_medellin   05_5001.0        100        5     5001         5   \n",
       "1   antioquia_abejorral   05_5002.0        100        5     5002         5   \n",
       "2    antioquia_abriaqui   05_5004.0        100        5     5004         5   \n",
       "3  antioquia_alejandria   05_5021.0        100        5     5021         5   \n",
       "4       antioquia_amaga   05_5030.0        100        5     5030         5   \n",
       "\n",
       "   cod_mun1  \n",
       "0      5001  \n",
       "1      5002  \n",
       "2      5004  \n",
       "3      5021  \n",
       "4      5030  "
      ]
     },
     "execution_count": 36,
     "metadata": {},
     "output_type": "execute_result"
    }
   ],
   "source": [
    "df_liberal.head()"
   ]
  },
  {
   "cell_type": "markdown",
   "metadata": {
    "slideshow": {
     "slide_type": "subslide"
    }
   },
   "source": [
    "## Ejercicio \n",
    "Colapsar las localidades de Bogotá en un solo registro para poder cruzar esa entrada con los datos del plebiscito"
   ]
  },
  {
   "cell_type": "markdown",
   "metadata": {
    "slideshow": {
     "slide_type": "fragment"
    }
   },
   "source": [
    "Pista: pueden usar df.loc[condicion, 'nombre_columna'] = valor, para cambiar valores en varias filas. Quizás les sea útil el pivot_table"
   ]
  },
  {
   "cell_type": "code",
   "execution_count": 40,
   "metadata": {
    "slideshow": {
     "slide_type": "notes"
    }
   },
   "outputs": [],
   "source": [
    "# Respuesta\n",
    "df_liberal1 = df_liberal.copy()\n",
    "\n",
    "df_liberal1.loc[df_liberal1.departamento=='BOGOTA D.C.','cod_dep'] = 11\n",
    "df_liberal1.loc[df_liberal1.departamento=='BOGOTA D.C.','cod_mun'] = 11001\n",
    "df_liberal1.loc[df_liberal1.departamento=='BOGOTA D.C.','municipio'] = 'BOGOTA D.C.'\n",
    "df_liberal1 = pd.pivot_table(index=['departamento', 'municipio', 'cod_dep', 'cod_mun'],\n",
    "                             aggfunc={'juan_fernando_cristo':'sum',\n",
    "                                      'humberto_de_la_calle':'sum',\n",
    "                                      'votos_nulos':'sum',\n",
    "                                      'votos_no_marcados':'sum',\n",
    "                                      'total_votos':'sum'},\n",
    "                             data=df_liberal1).reset_index()"
   ]
  },
  {
   "cell_type": "code",
   "execution_count": 45,
   "metadata": {
    "slideshow": {
     "slide_type": "subslide"
    }
   },
   "outputs": [],
   "source": [
    "df_total = df_liberal1.merge(df_plebi, how='left', on=['cod_dep','cod_mun'])"
   ]
  },
  {
   "cell_type": "code",
   "execution_count": 47,
   "metadata": {
    "slideshow": {
     "slide_type": "fragment"
    }
   },
   "outputs": [
    {
     "data": {
      "text/html": [
       "<div>\n",
       "<style scoped>\n",
       "    .dataframe tbody tr th:only-of-type {\n",
       "        vertical-align: middle;\n",
       "    }\n",
       "\n",
       "    .dataframe tbody tr th {\n",
       "        vertical-align: top;\n",
       "    }\n",
       "\n",
       "    .dataframe thead th {\n",
       "        text-align: right;\n",
       "    }\n",
       "</style>\n",
       "<table border=\"1\" class=\"dataframe\">\n",
       "  <thead>\n",
       "    <tr style=\"text-align: right;\">\n",
       "      <th></th>\n",
       "      <th>departamento_x</th>\n",
       "      <th>municipio_x</th>\n",
       "      <th>cod_dep</th>\n",
       "      <th>cod_mun</th>\n",
       "      <th>humberto_de_la_calle</th>\n",
       "      <th>juan_fernando_cristo</th>\n",
       "      <th>total_votos</th>\n",
       "      <th>votos_no_marcados_x</th>\n",
       "      <th>votos_nulos_x</th>\n",
       "      <th>municipio_y</th>\n",
       "      <th>link</th>\n",
       "      <th>departamento_y</th>\n",
       "      <th>votos_si</th>\n",
       "      <th>votos_no</th>\n",
       "      <th>votos_validos</th>\n",
       "      <th>votos_no_marcados_y</th>\n",
       "      <th>votos_nulos_y</th>\n",
       "      <th>votos_totales</th>\n",
       "      <th>votos_habilitados</th>\n",
       "      <th>nom_dep_mun</th>\n",
       "      <th>cod_dep_mun</th>\n",
       "      <th>closeness</th>\n",
       "    </tr>\n",
       "  </thead>\n",
       "  <tbody>\n",
       "    <tr>\n",
       "      <th>0</th>\n",
       "      <td>AMAZONAS</td>\n",
       "      <td>LETICIA</td>\n",
       "      <td>91</td>\n",
       "      <td>91001</td>\n",
       "      <td>335</td>\n",
       "      <td>502</td>\n",
       "      <td>870</td>\n",
       "      <td>13</td>\n",
       "      <td>20</td>\n",
       "      <td>LETICIA</td>\n",
       "      <td>../99PL/DPL60001ZZZZZZZZZZZZ_L1.htm</td>\n",
       "      <td>AMAZONAS</td>\n",
       "      <td>4403</td>\n",
       "      <td>4463</td>\n",
       "      <td>8866</td>\n",
       "      <td>40</td>\n",
       "      <td>84</td>\n",
       "      <td>8990</td>\n",
       "      <td>34592</td>\n",
       "      <td>amazonas_leticia</td>\n",
       "      <td>91_91001.0</td>\n",
       "      <td>100</td>\n",
       "    </tr>\n",
       "    <tr>\n",
       "      <th>1</th>\n",
       "      <td>AMAZONAS</td>\n",
       "      <td>PUERTO NARIÑO</td>\n",
       "      <td>91</td>\n",
       "      <td>91540</td>\n",
       "      <td>46</td>\n",
       "      <td>356</td>\n",
       "      <td>426</td>\n",
       "      <td>10</td>\n",
       "      <td>14</td>\n",
       "      <td>PUERTO NARIÃO</td>\n",
       "      <td>../99PL/DPL60007ZZZZZZZZZZZZ_L1.htm</td>\n",
       "      <td>AMAZONAS</td>\n",
       "      <td>830</td>\n",
       "      <td>274</td>\n",
       "      <td>1104</td>\n",
       "      <td>32</td>\n",
       "      <td>17</td>\n",
       "      <td>1153</td>\n",
       "      <td>4317</td>\n",
       "      <td>amazonas_puerto nariao</td>\n",
       "      <td>91_91540.0</td>\n",
       "      <td>95</td>\n",
       "    </tr>\n",
       "    <tr>\n",
       "      <th>2</th>\n",
       "      <td>ANTIOQUIA</td>\n",
       "      <td>ABEJORRAL</td>\n",
       "      <td>5</td>\n",
       "      <td>5002</td>\n",
       "      <td>280</td>\n",
       "      <td>21</td>\n",
       "      <td>316</td>\n",
       "      <td>5</td>\n",
       "      <td>10</td>\n",
       "      <td>ABEJORRAL</td>\n",
       "      <td>../99PL/DPL01004ZZZZZZZZZZZZ_L1.htm</td>\n",
       "      <td>ANTIOQUIA</td>\n",
       "      <td>1296</td>\n",
       "      <td>2105</td>\n",
       "      <td>3401</td>\n",
       "      <td>194</td>\n",
       "      <td>52</td>\n",
       "      <td>3647</td>\n",
       "      <td>15274</td>\n",
       "      <td>antioquia_abejorral</td>\n",
       "      <td>05_5002.0</td>\n",
       "      <td>100</td>\n",
       "    </tr>\n",
       "    <tr>\n",
       "      <th>3</th>\n",
       "      <td>ANTIOQUIA</td>\n",
       "      <td>ABRIAQUI</td>\n",
       "      <td>5</td>\n",
       "      <td>5004</td>\n",
       "      <td>7</td>\n",
       "      <td>2</td>\n",
       "      <td>10</td>\n",
       "      <td>0</td>\n",
       "      <td>1</td>\n",
       "      <td>ABRIAQUI</td>\n",
       "      <td>../99PL/DPL01007ZZZZZZZZZZZZ_L1.htm</td>\n",
       "      <td>ANTIOQUIA</td>\n",
       "      <td>213</td>\n",
       "      <td>332</td>\n",
       "      <td>545</td>\n",
       "      <td>14</td>\n",
       "      <td>13</td>\n",
       "      <td>572</td>\n",
       "      <td>1938</td>\n",
       "      <td>antioquia_abriaqui</td>\n",
       "      <td>05_5004.0</td>\n",
       "      <td>100</td>\n",
       "    </tr>\n",
       "    <tr>\n",
       "      <th>4</th>\n",
       "      <td>ANTIOQUIA</td>\n",
       "      <td>ALEJANDRIA</td>\n",
       "      <td>5</td>\n",
       "      <td>5021</td>\n",
       "      <td>34</td>\n",
       "      <td>15</td>\n",
       "      <td>50</td>\n",
       "      <td>1</td>\n",
       "      <td>0</td>\n",
       "      <td>ALEJANDRIA</td>\n",
       "      <td>../99PL/DPL01010ZZZZZZZZZZZZ_L1.htm</td>\n",
       "      <td>ANTIOQUIA</td>\n",
       "      <td>966</td>\n",
       "      <td>696</td>\n",
       "      <td>1662</td>\n",
       "      <td>51</td>\n",
       "      <td>22</td>\n",
       "      <td>1735</td>\n",
       "      <td>4577</td>\n",
       "      <td>antioquia_alejandria</td>\n",
       "      <td>05_5021.0</td>\n",
       "      <td>100</td>\n",
       "    </tr>\n",
       "  </tbody>\n",
       "</table>\n",
       "</div>"
      ],
      "text/plain": [
       "  departamento_x    municipio_x  cod_dep  cod_mun  humberto_de_la_calle  \\\n",
       "0       AMAZONAS        LETICIA       91    91001                   335   \n",
       "1       AMAZONAS  PUERTO NARIÑO       91    91540                    46   \n",
       "2      ANTIOQUIA      ABEJORRAL        5     5002                   280   \n",
       "3      ANTIOQUIA       ABRIAQUI        5     5004                     7   \n",
       "4      ANTIOQUIA     ALEJANDRIA        5     5021                    34   \n",
       "\n",
       "   juan_fernando_cristo  total_votos  votos_no_marcados_x  votos_nulos_x  \\\n",
       "0                   502          870                   13             20   \n",
       "1                   356          426                   10             14   \n",
       "2                    21          316                    5             10   \n",
       "3                     2           10                    0              1   \n",
       "4                    15           50                    1              0   \n",
       "\n",
       "      municipio_y                                 link departamento_y  \\\n",
       "0         LETICIA  ../99PL/DPL60001ZZZZZZZZZZZZ_L1.htm       AMAZONAS   \n",
       "1  PUERTO NARIÃO  ../99PL/DPL60007ZZZZZZZZZZZZ_L1.htm       AMAZONAS   \n",
       "2       ABEJORRAL  ../99PL/DPL01004ZZZZZZZZZZZZ_L1.htm      ANTIOQUIA   \n",
       "3        ABRIAQUI  ../99PL/DPL01007ZZZZZZZZZZZZ_L1.htm      ANTIOQUIA   \n",
       "4      ALEJANDRIA  ../99PL/DPL01010ZZZZZZZZZZZZ_L1.htm      ANTIOQUIA   \n",
       "\n",
       "   votos_si  votos_no  votos_validos  votos_no_marcados_y  votos_nulos_y  \\\n",
       "0      4403      4463           8866                   40             84   \n",
       "1       830       274           1104                   32             17   \n",
       "2      1296      2105           3401                  194             52   \n",
       "3       213       332            545                   14             13   \n",
       "4       966       696           1662                   51             22   \n",
       "\n",
       "   votos_totales  votos_habilitados             nom_dep_mun cod_dep_mun  \\\n",
       "0           8990              34592        amazonas_leticia  91_91001.0   \n",
       "1           1153               4317  amazonas_puerto nariao  91_91540.0   \n",
       "2           3647              15274     antioquia_abejorral   05_5002.0   \n",
       "3            572               1938      antioquia_abriaqui   05_5004.0   \n",
       "4           1735               4577    antioquia_alejandria   05_5021.0   \n",
       "\n",
       "   closeness  \n",
       "0        100  \n",
       "1         95  \n",
       "2        100  \n",
       "3        100  \n",
       "4        100  "
      ]
     },
     "execution_count": 47,
     "metadata": {},
     "output_type": "execute_result"
    }
   ],
   "source": [
    "df_total.head()"
   ]
  },
  {
   "cell_type": "markdown",
   "metadata": {
    "slideshow": {
     "slide_type": "subslide"
    }
   },
   "source": [
    "### Retomemos las preguntas..."
   ]
  },
  {
   "cell_type": "markdown",
   "metadata": {
    "cell_style": "center",
    "slideshow": {
     "slide_type": "fragment"
    }
   },
   "source": [
    "* ¿Hay una relación entre el plebiscito y la consulta liberal?"
   ]
  },
  {
   "cell_type": "markdown",
   "metadata": {
    "cell_style": "split",
    "slideshow": {
     "slide_type": "fragment"
    }
   },
   "source": [
    "Veamos [lo que dijo](https://lasillavacia.com/cinco-conclusiones-de-la-consulta-liberal-63522) La Silla Vacía: "
   ]
  },
  {
   "cell_type": "markdown",
   "metadata": {
    "cell_style": "split",
    "slideshow": {
     "slide_type": "fragment"
    }
   },
   "source": [
    "<div class=\"naked-img\">\n",
    "    <img src=\"files/liberal_la_silla_1.JPG\" width=\"900\">\n",
    "</div>\n",
    "<script>\n",
    "    $(\"naked-img\").css(\"margin-left\", \"15%\");\n",
    "</script>"
   ]
  },
  {
   "cell_type": "markdown",
   "metadata": {},
   "source": [
    "### Ejercicio \n",
    "Sigan los pasos de LSV primero, luego busquen posibles problemas y piensen cómo detectarlos y solucionarlos. Una vez cubran eso, creen un pitch para su editor sobre cómo proceder para contar una historia con lo que encontraron. Deben incluir qué otras fuentes cubrirían y cómo es el esqueleto de su propuesta "
   ]
  },
  {
   "cell_type": "code",
   "execution_count": 52,
   "metadata": {},
   "outputs": [],
   "source": [
    "result = pd.pivot_table(index=['cod_dep', 'departamento_x'],\n",
    "               aggfunc={'votos_habilitados':'sum',\n",
    "                        'votos_si':'sum',\n",
    "                        'votos_validos':'sum',\n",
    "                        'total_votos':'sum'},\n",
    "              data=df_total).reset_index()"
   ]
  },
  {
   "cell_type": "code",
   "execution_count": 84,
   "metadata": {},
   "outputs": [
    {
     "data": {
      "text/html": [
       "<div>\n",
       "<style scoped>\n",
       "    .dataframe tbody tr th:only-of-type {\n",
       "        vertical-align: middle;\n",
       "    }\n",
       "\n",
       "    .dataframe tbody tr th {\n",
       "        vertical-align: top;\n",
       "    }\n",
       "\n",
       "    .dataframe thead th {\n",
       "        text-align: right;\n",
       "    }\n",
       "</style>\n",
       "<table border=\"1\" class=\"dataframe\">\n",
       "  <thead>\n",
       "    <tr style=\"text-align: right;\">\n",
       "      <th></th>\n",
       "      <th>cod_dep</th>\n",
       "      <th>departamento_x</th>\n",
       "      <th>total_votos</th>\n",
       "      <th>votos_habilitados</th>\n",
       "      <th>votos_si</th>\n",
       "      <th>votos_validos</th>\n",
       "      <th>%votos_si</th>\n",
       "      <th>%participacion</th>\n",
       "    </tr>\n",
       "  </thead>\n",
       "  <tbody>\n",
       "    <tr>\n",
       "      <th>0</th>\n",
       "      <td>5</td>\n",
       "      <td>ANTIOQUIA</td>\n",
       "      <td>75893</td>\n",
       "      <td>4539316</td>\n",
       "      <td>648051</td>\n",
       "      <td>1705569</td>\n",
       "      <td>0.379962</td>\n",
       "      <td>0.016719</td>\n",
       "    </tr>\n",
       "    <tr>\n",
       "      <th>1</th>\n",
       "      <td>8</td>\n",
       "      <td>ATLANTICO</td>\n",
       "      <td>71093</td>\n",
       "      <td>1788211</td>\n",
       "      <td>258121</td>\n",
       "      <td>426421</td>\n",
       "      <td>0.605320</td>\n",
       "      <td>0.039756</td>\n",
       "    </tr>\n",
       "    <tr>\n",
       "      <th>2</th>\n",
       "      <td>11</td>\n",
       "      <td>BOGOTA D.C.</td>\n",
       "      <td>100106</td>\n",
       "      <td>5547172</td>\n",
       "      <td>1423612</td>\n",
       "      <td>2538545</td>\n",
       "      <td>0.560798</td>\n",
       "      <td>0.018046</td>\n",
       "    </tr>\n",
       "  </tbody>\n",
       "</table>\n",
       "</div>"
      ],
      "text/plain": [
       "   cod_dep departamento_x  total_votos  votos_habilitados  votos_si  \\\n",
       "0        5      ANTIOQUIA        75893            4539316    648051   \n",
       "1        8      ATLANTICO        71093            1788211    258121   \n",
       "2       11    BOGOTA D.C.       100106            5547172   1423612   \n",
       "\n",
       "   votos_validos  %votos_si  %participacion  \n",
       "0        1705569   0.379962        0.016719  \n",
       "1         426421   0.605320        0.039756  \n",
       "2        2538545   0.560798        0.018046  "
      ]
     },
     "execution_count": 84,
     "metadata": {},
     "output_type": "execute_result"
    }
   ],
   "source": [
    "result.head(3)"
   ]
  },
  {
   "cell_type": "code",
   "execution_count": 85,
   "metadata": {},
   "outputs": [],
   "source": [
    "result['%votos_si'] = result.votos_si/result.votos_validos\n",
    "result['%participacion'] = result.total_votos/result.votos_habilitados\n",
    "result['%participacion_total'] = result.votos_validos/result.votos_habilitados"
   ]
  },
  {
   "cell_type": "code",
   "execution_count": 87,
   "metadata": {},
   "outputs": [
    {
     "name": "stderr",
     "output_type": "stream",
     "text": [
      "c:\\users\\usuario\\anaconda2\\envs\\py36\\lib\\site-packages\\numpy\\linalg\\linalg.py:1965: RuntimeWarning: invalid value encountered in greater\n",
      "  large = s > cutoff\n"
     ]
    },
    {
     "data": {
      "text/plain": [
       "<seaborn.axisgrid.JointGrid at 0x258c48fb780>"
      ]
     },
     "execution_count": 87,
     "metadata": {},
     "output_type": "execute_result"
    },
    {
     "data": {
      "image/png": "[encoded data removed]",
      "text/plain": [
       "<Figure size 432x432 with 3 Axes>"
      ]
     },
     "metadata": {
      "needs_background": "light"
     },
     "output_type": "display_data"
    }
   ],
   "source": [
    "sns.jointplot(x='%participacion_total',\n",
    "                y='%votos_si',\n",
    "                data=result,\n",
    "              kind='reg')"
   ]
  },
  {
   "cell_type": "code",
   "execution_count": 92,
   "metadata": {},
   "outputs": [],
   "source": [
    "result1 = pd.pivot_table(index=['cod_dep','cod_mun', 'municipio_x'],\n",
    "               aggfunc={'votos_habilitados':'sum',\n",
    "                        'votos_si':'sum',\n",
    "                        'votos_validos':'sum',\n",
    "                        'total_votos':'sum'},\n",
    "              data=df_total).reset_index()"
   ]
  },
  {
   "cell_type": "code",
   "execution_count": 93,
   "metadata": {},
   "outputs": [],
   "source": [
    "result1['%votos_si'] = result1.votos_si/result1.votos_validos\n",
    "result1['%participacion'] = result1.total_votos/result1.votos_habilitados\n",
    "result1['%participacion_total'] = result1.votos_validos/result1.votos_habilitados"
   ]
  },
  {
   "cell_type": "code",
   "execution_count": 99,
   "metadata": {},
   "outputs": [
    {
     "data": {
      "text/html": [
       "<div>\n",
       "<style scoped>\n",
       "    .dataframe tbody tr th:only-of-type {\n",
       "        vertical-align: middle;\n",
       "    }\n",
       "\n",
       "    .dataframe tbody tr th {\n",
       "        vertical-align: top;\n",
       "    }\n",
       "\n",
       "    .dataframe thead th {\n",
       "        text-align: right;\n",
       "    }\n",
       "</style>\n",
       "<table border=\"1\" class=\"dataframe\">\n",
       "  <thead>\n",
       "    <tr style=\"text-align: right;\">\n",
       "      <th></th>\n",
       "      <th>cod_dep</th>\n",
       "      <th>departamento_x</th>\n",
       "    </tr>\n",
       "  </thead>\n",
       "  <tbody>\n",
       "    <tr>\n",
       "      <th>0</th>\n",
       "      <td>5</td>\n",
       "      <td>ANTIOQUIA</td>\n",
       "    </tr>\n",
       "    <tr>\n",
       "      <th>1</th>\n",
       "      <td>8</td>\n",
       "      <td>ATLANTICO</td>\n",
       "    </tr>\n",
       "    <tr>\n",
       "      <th>2</th>\n",
       "      <td>11</td>\n",
       "      <td>BOGOTA D.C.</td>\n",
       "    </tr>\n",
       "    <tr>\n",
       "      <th>3</th>\n",
       "      <td>13</td>\n",
       "      <td>BOLIVAR</td>\n",
       "    </tr>\n",
       "    <tr>\n",
       "      <th>4</th>\n",
       "      <td>15</td>\n",
       "      <td>BOYACA</td>\n",
       "    </tr>\n",
       "    <tr>\n",
       "      <th>5</th>\n",
       "      <td>17</td>\n",
       "      <td>CALDAS</td>\n",
       "    </tr>\n",
       "    <tr>\n",
       "      <th>6</th>\n",
       "      <td>18</td>\n",
       "      <td>CAQUETA</td>\n",
       "    </tr>\n",
       "    <tr>\n",
       "      <th>7</th>\n",
       "      <td>19</td>\n",
       "      <td>CAUCA</td>\n",
       "    </tr>\n",
       "    <tr>\n",
       "      <th>8</th>\n",
       "      <td>20</td>\n",
       "      <td>CESAR</td>\n",
       "    </tr>\n",
       "    <tr>\n",
       "      <th>9</th>\n",
       "      <td>23</td>\n",
       "      <td>CORDOBA</td>\n",
       "    </tr>\n",
       "    <tr>\n",
       "      <th>10</th>\n",
       "      <td>25</td>\n",
       "      <td>CUNDINAMARCA</td>\n",
       "    </tr>\n",
       "    <tr>\n",
       "      <th>11</th>\n",
       "      <td>27</td>\n",
       "      <td>CHOCO</td>\n",
       "    </tr>\n",
       "    <tr>\n",
       "      <th>12</th>\n",
       "      <td>41</td>\n",
       "      <td>HUILA</td>\n",
       "    </tr>\n",
       "    <tr>\n",
       "      <th>13</th>\n",
       "      <td>44</td>\n",
       "      <td>LA GUAJIRA</td>\n",
       "    </tr>\n",
       "    <tr>\n",
       "      <th>14</th>\n",
       "      <td>47</td>\n",
       "      <td>MAGDALENA</td>\n",
       "    </tr>\n",
       "    <tr>\n",
       "      <th>15</th>\n",
       "      <td>50</td>\n",
       "      <td>META</td>\n",
       "    </tr>\n",
       "    <tr>\n",
       "      <th>16</th>\n",
       "      <td>52</td>\n",
       "      <td>NARIÑO</td>\n",
       "    </tr>\n",
       "    <tr>\n",
       "      <th>17</th>\n",
       "      <td>54</td>\n",
       "      <td>NORTE DE SANTANDER</td>\n",
       "    </tr>\n",
       "    <tr>\n",
       "      <th>18</th>\n",
       "      <td>63</td>\n",
       "      <td>QUINDIO</td>\n",
       "    </tr>\n",
       "    <tr>\n",
       "      <th>19</th>\n",
       "      <td>66</td>\n",
       "      <td>RISARALDA</td>\n",
       "    </tr>\n",
       "    <tr>\n",
       "      <th>20</th>\n",
       "      <td>68</td>\n",
       "      <td>SANTANDER</td>\n",
       "    </tr>\n",
       "    <tr>\n",
       "      <th>21</th>\n",
       "      <td>70</td>\n",
       "      <td>SUCRE</td>\n",
       "    </tr>\n",
       "    <tr>\n",
       "      <th>22</th>\n",
       "      <td>73</td>\n",
       "      <td>TOLIMA</td>\n",
       "    </tr>\n",
       "    <tr>\n",
       "      <th>23</th>\n",
       "      <td>76</td>\n",
       "      <td>VALLE</td>\n",
       "    </tr>\n",
       "    <tr>\n",
       "      <th>24</th>\n",
       "      <td>81</td>\n",
       "      <td>ARAUCA</td>\n",
       "    </tr>\n",
       "    <tr>\n",
       "      <th>25</th>\n",
       "      <td>85</td>\n",
       "      <td>CASANARE</td>\n",
       "    </tr>\n",
       "    <tr>\n",
       "      <th>26</th>\n",
       "      <td>86</td>\n",
       "      <td>PUTUMAYO</td>\n",
       "    </tr>\n",
       "    <tr>\n",
       "      <th>27</th>\n",
       "      <td>88</td>\n",
       "      <td>SAN ANDRES</td>\n",
       "    </tr>\n",
       "    <tr>\n",
       "      <th>28</th>\n",
       "      <td>91</td>\n",
       "      <td>AMAZONAS</td>\n",
       "    </tr>\n",
       "    <tr>\n",
       "      <th>29</th>\n",
       "      <td>94</td>\n",
       "      <td>GUAINIA</td>\n",
       "    </tr>\n",
       "    <tr>\n",
       "      <th>30</th>\n",
       "      <td>95</td>\n",
       "      <td>GUAVIARE</td>\n",
       "    </tr>\n",
       "    <tr>\n",
       "      <th>31</th>\n",
       "      <td>97</td>\n",
       "      <td>VAUPES</td>\n",
       "    </tr>\n",
       "    <tr>\n",
       "      <th>32</th>\n",
       "      <td>99</td>\n",
       "      <td>VICHADA</td>\n",
       "    </tr>\n",
       "  </tbody>\n",
       "</table>\n",
       "</div>"
      ],
      "text/plain": [
       "    cod_dep      departamento_x\n",
       "0         5           ANTIOQUIA\n",
       "1         8           ATLANTICO\n",
       "2        11         BOGOTA D.C.\n",
       "3        13             BOLIVAR\n",
       "4        15              BOYACA\n",
       "5        17              CALDAS\n",
       "6        18             CAQUETA\n",
       "7        19               CAUCA\n",
       "8        20               CESAR\n",
       "9        23             CORDOBA\n",
       "10       25        CUNDINAMARCA\n",
       "11       27               CHOCO\n",
       "12       41               HUILA\n",
       "13       44          LA GUAJIRA\n",
       "14       47           MAGDALENA\n",
       "15       50                META\n",
       "16       52              NARIÑO\n",
       "17       54  NORTE DE SANTANDER\n",
       "18       63             QUINDIO\n",
       "19       66           RISARALDA\n",
       "20       68           SANTANDER\n",
       "21       70               SUCRE\n",
       "22       73              TOLIMA\n",
       "23       76               VALLE\n",
       "24       81              ARAUCA\n",
       "25       85            CASANARE\n",
       "26       86            PUTUMAYO\n",
       "27       88          SAN ANDRES\n",
       "28       91            AMAZONAS\n",
       "29       94             GUAINIA\n",
       "30       95            GUAVIARE\n",
       "31       97              VAUPES\n",
       "32       99             VICHADA"
      ]
     },
     "execution_count": 99,
     "metadata": {},
     "output_type": "execute_result"
    }
   ],
   "source": [
    "result[['cod_dep','departamento_x']].drop_duplicates()"
   ]
  },
  {
   "cell_type": "code",
   "execution_count": 106,
   "metadata": {},
   "outputs": [
    {
     "data": {
      "text/html": [
       "<div>\n",
       "<style scoped>\n",
       "    .dataframe tbody tr th:only-of-type {\n",
       "        vertical-align: middle;\n",
       "    }\n",
       "\n",
       "    .dataframe tbody tr th {\n",
       "        vertical-align: top;\n",
       "    }\n",
       "\n",
       "    .dataframe thead th {\n",
       "        text-align: right;\n",
       "    }\n",
       "</style>\n",
       "<table border=\"1\" class=\"dataframe\">\n",
       "  <thead>\n",
       "    <tr style=\"text-align: right;\">\n",
       "      <th></th>\n",
       "      <th>municipio</th>\n",
       "      <th>link</th>\n",
       "      <th>departamento</th>\n",
       "      <th>votos_si</th>\n",
       "      <th>votos_no</th>\n",
       "      <th>votos_validos</th>\n",
       "      <th>votos_no_marcados</th>\n",
       "      <th>votos_nulos</th>\n",
       "      <th>votos_totales</th>\n",
       "      <th>votos_habilitados</th>\n",
       "      <th>nom_dep_mun</th>\n",
       "      <th>cod_dep_mun</th>\n",
       "      <th>closeness</th>\n",
       "      <th>cod_dep</th>\n",
       "      <th>cod_mun</th>\n",
       "    </tr>\n",
       "  </thead>\n",
       "  <tbody>\n",
       "    <tr>\n",
       "      <th>0</th>\n",
       "      <td>EL ENCANTO</td>\n",
       "      <td>../99PL/DPL60010ZZZZZZZZZZZZ_L1.htm</td>\n",
       "      <td>AMAZONAS</td>\n",
       "      <td>170</td>\n",
       "      <td>51</td>\n",
       "      <td>221</td>\n",
       "      <td>0</td>\n",
       "      <td>2</td>\n",
       "      <td>223</td>\n",
       "      <td>743</td>\n",
       "      <td>amazonas_el encanto</td>\n",
       "      <td>91_91263.0</td>\n",
       "      <td>100</td>\n",
       "      <td>91</td>\n",
       "      <td>91263</td>\n",
       "    </tr>\n",
       "    <tr>\n",
       "      <th>1</th>\n",
       "      <td>LA CHORRERA</td>\n",
       "      <td>../99PL/DPL60013ZZZZZZZZZZZZ_L1.htm</td>\n",
       "      <td>AMAZONAS</td>\n",
       "      <td>300</td>\n",
       "      <td>62</td>\n",
       "      <td>362</td>\n",
       "      <td>1</td>\n",
       "      <td>3</td>\n",
       "      <td>366</td>\n",
       "      <td>1030</td>\n",
       "      <td>amazonas_la chorrera</td>\n",
       "      <td>91_91405.0</td>\n",
       "      <td>100</td>\n",
       "      <td>91</td>\n",
       "      <td>91405</td>\n",
       "    </tr>\n",
       "    <tr>\n",
       "      <th>2</th>\n",
       "      <td>LA PEDRERA</td>\n",
       "      <td>../99PL/DPL60016ZZZZZZZZZZZZ_L1.htm</td>\n",
       "      <td>AMAZONAS</td>\n",
       "      <td>189</td>\n",
       "      <td>25</td>\n",
       "      <td>214</td>\n",
       "      <td>1</td>\n",
       "      <td>1</td>\n",
       "      <td>216</td>\n",
       "      <td>1008</td>\n",
       "      <td>amazonas_la pedrera</td>\n",
       "      <td>91_91407.0</td>\n",
       "      <td>100</td>\n",
       "      <td>91</td>\n",
       "      <td>91407</td>\n",
       "    </tr>\n",
       "    <tr>\n",
       "      <th>3</th>\n",
       "      <td>LA VICTORIA</td>\n",
       "      <td>../99PL/DPL60017ZZZZZZZZZZZZ_L1.htm</td>\n",
       "      <td>AMAZONAS</td>\n",
       "      <td>4</td>\n",
       "      <td>1</td>\n",
       "      <td>5</td>\n",
       "      <td>0</td>\n",
       "      <td>0</td>\n",
       "      <td>5</td>\n",
       "      <td>18</td>\n",
       "      <td>amazonas_la victoria</td>\n",
       "      <td>91_91430.0</td>\n",
       "      <td>100</td>\n",
       "      <td>91</td>\n",
       "      <td>91430</td>\n",
       "    </tr>\n",
       "    <tr>\n",
       "      <th>4</th>\n",
       "      <td>LETICIA</td>\n",
       "      <td>../99PL/DPL60001ZZZZZZZZZZZZ_L1.htm</td>\n",
       "      <td>AMAZONAS</td>\n",
       "      <td>4403</td>\n",
       "      <td>4463</td>\n",
       "      <td>8866</td>\n",
       "      <td>40</td>\n",
       "      <td>84</td>\n",
       "      <td>8990</td>\n",
       "      <td>34592</td>\n",
       "      <td>amazonas_leticia</td>\n",
       "      <td>91_91001.0</td>\n",
       "      <td>100</td>\n",
       "      <td>91</td>\n",
       "      <td>91001</td>\n",
       "    </tr>\n",
       "    <tr>\n",
       "      <th>...</th>\n",
       "      <td>...</td>\n",
       "      <td>...</td>\n",
       "      <td>...</td>\n",
       "      <td>...</td>\n",
       "      <td>...</td>\n",
       "      <td>...</td>\n",
       "      <td>...</td>\n",
       "      <td>...</td>\n",
       "      <td>...</td>\n",
       "      <td>...</td>\n",
       "      <td>...</td>\n",
       "      <td>...</td>\n",
       "      <td>...</td>\n",
       "      <td>...</td>\n",
       "      <td>...</td>\n",
       "    </tr>\n",
       "    <tr>\n",
       "      <th>1181</th>\n",
       "      <td>TAILANDIA</td>\n",
       "      <td>../99PL/DPL88765ZZZZZZZZZZZZ_L1.htm</td>\n",
       "      <td>CONSULADOS</td>\n",
       "      <td>13</td>\n",
       "      <td>2</td>\n",
       "      <td>15</td>\n",
       "      <td>0</td>\n",
       "      <td>0</td>\n",
       "      <td>15</td>\n",
       "      <td>52</td>\n",
       "      <td>consulados_tailandia</td>\n",
       "      <td>0_0</td>\n",
       "      <td>0</td>\n",
       "      <td>0</td>\n",
       "      <td>0</td>\n",
       "    </tr>\n",
       "    <tr>\n",
       "      <th>1182</th>\n",
       "      <td>TRINIDAD Y TOBAGO</td>\n",
       "      <td>../99PL/DPL88785ZZZZZZZZZZZZ_L1.htm</td>\n",
       "      <td>CONSULADOS</td>\n",
       "      <td>13</td>\n",
       "      <td>11</td>\n",
       "      <td>24</td>\n",
       "      <td>0</td>\n",
       "      <td>0</td>\n",
       "      <td>24</td>\n",
       "      <td>117</td>\n",
       "      <td>consulados_trinidad y tobago</td>\n",
       "      <td>0_0</td>\n",
       "      <td>0</td>\n",
       "      <td>0</td>\n",
       "      <td>0</td>\n",
       "    </tr>\n",
       "    <tr>\n",
       "      <th>1183</th>\n",
       "      <td>TURQUIA</td>\n",
       "      <td>../99PL/DPL88770ZZZZZZZZZZZZ_L1.htm</td>\n",
       "      <td>CONSULADOS</td>\n",
       "      <td>20</td>\n",
       "      <td>6</td>\n",
       "      <td>26</td>\n",
       "      <td>0</td>\n",
       "      <td>0</td>\n",
       "      <td>26</td>\n",
       "      <td>70</td>\n",
       "      <td>consulados_turquia</td>\n",
       "      <td>0_0</td>\n",
       "      <td>0</td>\n",
       "      <td>0</td>\n",
       "      <td>0</td>\n",
       "    </tr>\n",
       "    <tr>\n",
       "      <th>1184</th>\n",
       "      <td>URUGUAY</td>\n",
       "      <td>../99PL/DPL88805ZZZZZZZZZZZZ_L1.htm</td>\n",
       "      <td>CONSULADOS</td>\n",
       "      <td>76</td>\n",
       "      <td>23</td>\n",
       "      <td>99</td>\n",
       "      <td>0</td>\n",
       "      <td>1</td>\n",
       "      <td>100</td>\n",
       "      <td>391</td>\n",
       "      <td>consulados_uruguay</td>\n",
       "      <td>0_0</td>\n",
       "      <td>0</td>\n",
       "      <td>0</td>\n",
       "      <td>0</td>\n",
       "    </tr>\n",
       "    <tr>\n",
       "      <th>1185</th>\n",
       "      <td>VENEZUELA</td>\n",
       "      <td>../99PL/DPL88815ZZZZZZZZZZZZ_L1.htm</td>\n",
       "      <td>CONSULADOS</td>\n",
       "      <td>9903</td>\n",
       "      <td>5539</td>\n",
       "      <td>15442</td>\n",
       "      <td>45</td>\n",
       "      <td>76</td>\n",
       "      <td>15563</td>\n",
       "      <td>188352</td>\n",
       "      <td>consulados_venezuela</td>\n",
       "      <td>0_0</td>\n",
       "      <td>0</td>\n",
       "      <td>0</td>\n",
       "      <td>0</td>\n",
       "    </tr>\n",
       "  </tbody>\n",
       "</table>\n",
       "<p>1186 rows × 15 columns</p>\n",
       "</div>"
      ],
      "text/plain": [
       "              municipio                                 link departamento  \\\n",
       "0            EL ENCANTO  ../99PL/DPL60010ZZZZZZZZZZZZ_L1.htm     AMAZONAS   \n",
       "1           LA CHORRERA  ../99PL/DPL60013ZZZZZZZZZZZZ_L1.htm     AMAZONAS   \n",
       "2            LA PEDRERA  ../99PL/DPL60016ZZZZZZZZZZZZ_L1.htm     AMAZONAS   \n",
       "3           LA VICTORIA  ../99PL/DPL60017ZZZZZZZZZZZZ_L1.htm     AMAZONAS   \n",
       "4               LETICIA  ../99PL/DPL60001ZZZZZZZZZZZZ_L1.htm     AMAZONAS   \n",
       "...                 ...                                  ...          ...   \n",
       "1181          TAILANDIA  ../99PL/DPL88765ZZZZZZZZZZZZ_L1.htm   CONSULADOS   \n",
       "1182  TRINIDAD Y TOBAGO  ../99PL/DPL88785ZZZZZZZZZZZZ_L1.htm   CONSULADOS   \n",
       "1183            TURQUIA  ../99PL/DPL88770ZZZZZZZZZZZZ_L1.htm   CONSULADOS   \n",
       "1184            URUGUAY  ../99PL/DPL88805ZZZZZZZZZZZZ_L1.htm   CONSULADOS   \n",
       "1185          VENEZUELA  ../99PL/DPL88815ZZZZZZZZZZZZ_L1.htm   CONSULADOS   \n",
       "\n",
       "      votos_si  votos_no  votos_validos  votos_no_marcados  votos_nulos  \\\n",
       "0          170        51            221                  0            2   \n",
       "1          300        62            362                  1            3   \n",
       "2          189        25            214                  1            1   \n",
       "3            4         1              5                  0            0   \n",
       "4         4403      4463           8866                 40           84   \n",
       "...        ...       ...            ...                ...          ...   \n",
       "1181        13         2             15                  0            0   \n",
       "1182        13        11             24                  0            0   \n",
       "1183        20         6             26                  0            0   \n",
       "1184        76        23             99                  0            1   \n",
       "1185      9903      5539          15442                 45           76   \n",
       "\n",
       "      votos_totales  votos_habilitados                   nom_dep_mun  \\\n",
       "0               223                743           amazonas_el encanto   \n",
       "1               366               1030          amazonas_la chorrera   \n",
       "2               216               1008           amazonas_la pedrera   \n",
       "3                 5                 18          amazonas_la victoria   \n",
       "4              8990              34592              amazonas_leticia   \n",
       "...             ...                ...                           ...   \n",
       "1181             15                 52          consulados_tailandia   \n",
       "1182             24                117  consulados_trinidad y tobago   \n",
       "1183             26                 70            consulados_turquia   \n",
       "1184            100                391            consulados_uruguay   \n",
       "1185          15563             188352          consulados_venezuela   \n",
       "\n",
       "     cod_dep_mun  closeness  cod_dep  cod_mun  \n",
       "0     91_91263.0        100       91    91263  \n",
       "1     91_91405.0        100       91    91405  \n",
       "2     91_91407.0        100       91    91407  \n",
       "3     91_91430.0        100       91    91430  \n",
       "4     91_91001.0        100       91    91001  \n",
       "...          ...        ...      ...      ...  \n",
       "1181         0_0          0        0        0  \n",
       "1182         0_0          0        0        0  \n",
       "1183         0_0          0        0        0  \n",
       "1184         0_0          0        0        0  \n",
       "1185         0_0          0        0        0  \n",
       "\n",
       "[1186 rows x 15 columns]"
      ]
     },
     "execution_count": 106,
     "metadata": {},
     "output_type": "execute_result"
    }
   ],
   "source": [
    "df_plebi"
   ]
  },
  {
   "cell_type": "code",
   "execution_count": 107,
   "metadata": {},
   "outputs": [],
   "source": [
    "df_plebi['%votos_si'] = df_plebi.votos_si/df_plebi.votos_validos\n",
    "df_plebi['%participacion_total'] = df_plebi.votos_validos/df_plebi.votos_habilitados"
   ]
  },
  {
   "cell_type": "code",
   "execution_count": 114,
   "metadata": {},
   "outputs": [
    {
     "name": "stderr",
     "output_type": "stream",
     "text": [
      "c:\\users\\usuario\\anaconda2\\envs\\py36\\lib\\site-packages\\numpy\\linalg\\linalg.py:1965: RuntimeWarning: invalid value encountered in greater\n",
      "  large = s > cutoff\n"
     ]
    },
    {
     "data": {
      "text/plain": [
       "<seaborn.axisgrid.JointGrid at 0x258c8bd9ba8>"
      ]
     },
     "execution_count": 114,
     "metadata": {},
     "output_type": "execute_result"
    },
    {
     "data": {
      "image/png": "[encoded data removed]",
      "text/plain": [
       "<Figure size 432x432 with 3 Axes>"
      ]
     },
     "metadata": {
      "needs_background": "light"
     },
     "output_type": "display_data"
    }
   ],
   "source": [
    "import numpy as np\n",
    "sns.jointplot(x='%participacion_total',\n",
    "                y='%votos_si',\n",
    "                data=df_plebi[df_plebi.cod_dep.isin([86])],#[result1['%participacion']<0.4],\n",
    "                kind='reg')"
   ]
  },
  {
   "cell_type": "code",
   "execution_count": 74,
   "metadata": {},
   "outputs": [
    {
     "data": {
      "text/html": [
       "<div>\n",
       "<style scoped>\n",
       "    .dataframe tbody tr th:only-of-type {\n",
       "        vertical-align: middle;\n",
       "    }\n",
       "\n",
       "    .dataframe tbody tr th {\n",
       "        vertical-align: top;\n",
       "    }\n",
       "\n",
       "    .dataframe thead th {\n",
       "        text-align: right;\n",
       "    }\n",
       "</style>\n",
       "<table border=\"1\" class=\"dataframe\">\n",
       "  <thead>\n",
       "    <tr style=\"text-align: right;\">\n",
       "      <th></th>\n",
       "      <th>cod_mun</th>\n",
       "      <th>municipio_x</th>\n",
       "      <th>total_votos</th>\n",
       "      <th>votos_habilitados</th>\n",
       "      <th>votos_si</th>\n",
       "      <th>votos_validos</th>\n",
       "      <th>%votos_si</th>\n",
       "      <th>%participacion</th>\n",
       "    </tr>\n",
       "  </thead>\n",
       "  <tbody>\n",
       "    <tr>\n",
       "      <th>1058</th>\n",
       "      <td>85136</td>\n",
       "      <td>LA SALINA</td>\n",
       "      <td>374</td>\n",
       "      <td>762</td>\n",
       "      <td>391</td>\n",
       "      <td>442</td>\n",
       "      <td>0.884615</td>\n",
       "      <td>0.490814</td>\n",
       "    </tr>\n",
       "  </tbody>\n",
       "</table>\n",
       "</div>"
      ],
      "text/plain": [
       "      cod_mun municipio_x  total_votos  votos_habilitados  votos_si  \\\n",
       "1058    85136   LA SALINA          374                762       391   \n",
       "\n",
       "      votos_validos  %votos_si  %participacion  \n",
       "1058            442   0.884615        0.490814  "
      ]
     },
     "execution_count": 74,
     "metadata": {},
     "output_type": "execute_result"
    }
   ],
   "source": [
    "result1[result1['%participacion']>=0.4]"
   ]
  }
 ],
 "metadata": {
  "celltoolbar": "Slideshow",
  "kernelspec": {
   "display_name": "Python 3",
   "language": "python",
   "name": "python3"
  },
  "language_info": {
   "codemirror_mode": {
    "name": "ipython",
    "version": 3
   },
   "file_extension": ".py",
   "mimetype": "text/x-python",
   "name": "python",
   "nbconvert_exporter": "python",
   "pygments_lexer": "ipython3",
   "version": "3.6.10"
  }
 },
 "nbformat": 4,
 "nbformat_minor": 4
}
