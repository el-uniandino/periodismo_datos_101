{
 "cells": [
  {
   "cell_type": "markdown",
   "metadata": {
    "slideshow": {
     "slide_type": "slide"
    }
   },
   "source": [
    "# Módulo 2 - Introducción a las historias periodísticas con datos\n",
    "## El Plebiscito y la Consulta Liberal"
   ]
  },
  {
   "cell_type": "markdown",
   "metadata": {
    "slideshow": {
     "slide_type": "-"
    }
   },
   "source": [
    "<div class=\"naked-img\">\n",
    "    <img src=\"files/el_uniandino.png\" width=\"500\">\n",
    "</div>\n",
    "<script>\n",
    "    $(\"naked-img\").css(\"margin-left\", \"15%\");\n",
    "</script>"
   ]
  },
  {
   "cell_type": "markdown",
   "metadata": {
    "cell_style": "center",
    "slideshow": {
     "slide_type": "slide"
    }
   },
   "source": [
    "# Vamos a descubrir qué le pasó a Alejandro en el 2013"
   ]
  },
  {
   "cell_type": "markdown",
   "metadata": {
    "slideshow": {
     "slide_type": "notes"
    }
   },
   "source": [
    "3 voluntarios\n",
    "\n",
    "Máximo 250 palabras\n",
    "\n",
    "Todos pueden hacer preguntas"
   ]
  },
  {
   "cell_type": "markdown",
   "metadata": {
    "slideshow": {
     "slide_type": "slide"
    }
   },
   "source": [
    "# Con datos o no, lo primero es la historia"
   ]
  },
  {
   "cell_type": "markdown",
   "metadata": {
    "cell_style": "split",
    "slideshow": {
     "slide_type": "subslide"
    }
   },
   "source": [
    "### Noticia\n",
    "* Responde qué, cómo, cuándo, quiénes.\n",
    "* Está muy ligada a su temporalidad.\n",
    "* No se interesa por profundizar en un fenómeno."
   ]
  },
  {
   "cell_type": "markdown",
   "metadata": {
    "cell_style": "split",
    "slideshow": {
     "slide_type": "-"
    }
   },
   "source": [
    "<div class=\"naked-img\">\n",
    "    <img src=\"files/crash.png\" width=\"100\">\n",
    "</div>\n",
    "<script>\n",
    "    $(\"naked-img\").css(\"margin-left\", \"15%\");\n",
    "</script>"
   ]
  },
  {
   "cell_type": "markdown",
   "metadata": {
    "cell_style": "split",
    "slideshow": {
     "slide_type": "subslide"
    }
   },
   "source": [
    "### Reportaje\n",
    "* Aborda varias aristas de un fenómeno noticioso\n",
    "* No pierde tan rápido su importancia en el tiempo,  \n",
    "  aunque tenga temporalidad\n",
    "* Lo que le interesa es la complejidad del fenómeno y \n",
    "  no solo los hechos\n"
   ]
  },
  {
   "cell_type": "markdown",
   "metadata": {
    "cell_style": "split",
    "slideshow": {
     "slide_type": "-"
    }
   },
   "source": [
    "<div class=\"naked-img\">\n",
    "    <img src=\"files/cars_data.JPG\" width=\"400\">\n",
    "</div>\n",
    "<script>\n",
    "    $(\"naked-img\").css(\"margin-left\", \"15%\");\n",
    "</script>"
   ]
  },
  {
   "cell_type": "markdown",
   "metadata": {
    "cell_style": "split",
    "slideshow": {
     "slide_type": "subslide"
    }
   },
   "source": [
    "## La caja de herramientas del periodista"
   ]
  },
  {
   "cell_type": "markdown",
   "metadata": {
    "cell_style": "split",
    "slideshow": {
     "slide_type": "-"
    }
   },
   "source": [
    "<div class=\"naked-img\">\n",
    "    <img src=\"files/toolbox.png\" width=\"100\">\n",
    "</div>\n",
    "<script>\n",
    "    $(\"naked-img\").css(\"margin-left\", \"15%\");\n",
    "</script>"
   ]
  },
  {
   "cell_type": "markdown",
   "metadata": {
    "cell_style": "split",
    "slideshow": {
     "slide_type": "-"
    }
   },
   "source": [
    "* Fuentes\n",
    "* Documentos\n",
    "* Datos"
   ]
  },
  {
   "cell_type": "markdown",
   "metadata": {
    "slideshow": {
     "slide_type": "notes"
    }
   },
   "source": [
    "Fuentes:\n",
    "    \n",
    "Entre más fuentes mejor, el buen reportaje contrasta tantas como puede.\n",
    "\n",
    "Busca involucrar varias orillas del fenómeno, así no sean contrarias, y no muchas de la misma perspectiva.\n",
    "\n",
    "Se debe verificar (fact checking)\n",
    "\n",
    "\n",
    "Documentos:\n",
    "    \n",
    "Fotografías, noticias, otros reportajes, etc.\n",
    "\n",
    "Sirven de soporte para la información de las fuentes, para dar contexto (así sea solo para el periodista) y son fuentes de información.\n",
    "\n",
    "Siempre hay que ir a la historia\n"
   ]
  },
  {
   "cell_type": "markdown",
   "metadata": {
    "slideshow": {
     "slide_type": "subslide"
    }
   },
   "source": [
    "## El esqueleto de la historia periodística"
   ]
  },
  {
   "cell_type": "markdown",
   "metadata": {
    "cell_style": "center",
    "slideshow": {
     "slide_type": "-"
    }
   },
   "source": [
    "<div class=\"naked-img\">\n",
    "    <img src=\"files/esqueleto_historia.jpg\" width=\"500\">\n",
    "</div>\n",
    "<script>\n",
    "    $(\"naked-img\").css(\"margin-left\", \"15%\");\n",
    "</script>"
   ]
  },
  {
   "cell_type": "markdown",
   "metadata": {
    "slideshow": {
     "slide_type": "notes"
    }
   },
   "source": [
    "Tema:\n",
    "Interés\n",
    "Muy amplio\n",
    "No es una historia\n",
    "\n",
    "\n",
    "Ángulo:\n",
    "Cómo van a abordar ese tema\n",
    "No es una opinión ni una posición personal\n",
    "Puede ir cambiando a lo largo de la investigación\n",
    "A partir del ángulo se eligen las fuentes\n",
    "\n",
    "\n",
    "Personajes:\n",
    "Pueden ser un hilo conductor para el reportaje\n",
    "Factor de interés\n",
    "Fuentes balanceadas\n",
    "No incluir fuentes innecesarias\n",
    "\n",
    "\n",
    "Historia:\n",
    "Se define a partir del tema y el ángulo\n",
    "Se narra a través de personajes y datos\n",
    "¿Cuál es tu historia en dos frases?\n",
    "\n"
   ]
  },
  {
   "cell_type": "markdown",
   "metadata": {
    "slideshow": {
     "slide_type": "slide"
    }
   },
   "source": [
    "# La consulta liberal y el plebiscito - Parte 1 (asistido)"
   ]
  },
  {
   "cell_type": "markdown",
   "metadata": {
    "slideshow": {
     "slide_type": "subslide"
    }
   },
   "source": [
    "Contexto. Acá poner links a diferentes cubrimientos de las historias."
   ]
  },
  {
   "cell_type": "markdown",
   "metadata": {
    "slideshow": {
     "slide_type": "subslide"
    }
   },
   "source": [
    "## ¿Qué preguntas quiero responder?"
   ]
  },
  {
   "cell_type": "markdown",
   "metadata": {
    "slideshow": {
     "slide_type": "notes"
    }
   },
   "source": [
    "Esto es vital:\n",
    "\n",
    "-Nos guía durante la búsqueda \\\n",
    "-Nos pone un objetivo que debemos buscar \\\n",
    "-Siempre empiecen por una pregunta periodística -> datos -> regresen y agreguen más preguntas"
   ]
  },
  {
   "cell_type": "markdown",
   "metadata": {
    "slideshow": {
     "slide_type": "subslide"
    }
   },
   "source": [
    "Entonces... "
   ]
  },
  {
   "cell_type": "markdown",
   "metadata": {
    "slideshow": {
     "slide_type": "fragment"
    }
   },
   "source": [
    "¿Qué preguntas les interesa sobre este tema?"
   ]
  },
  {
   "cell_type": "markdown",
   "metadata": {
    "slideshow": {
     "slide_type": "fragment"
    }
   },
   "source": [
    "* \n",
    "* "
   ]
  },
  {
   "cell_type": "markdown",
   "metadata": {
    "slideshow": {
     "slide_type": "notes"
    }
   },
   "source": [
    "* ¿Cuáles fueron los municipios más importantes en ambas elecciones? ¿Y los departamentos?\n",
    "* ¿Tenemos algún indicio de fraude?\n",
    "* ¿Hubo algún comportamiento irregular?\n",
    "* ¿Hay una relación entre el plebiscito y la consulta liberal?\n",
    "* ¿Cómo votaron los municipios más pobres y los que tienen más violencia?\n",
    "* En los municipios donde tienen más acceso a internet, ¿quién ganó? ¿Por qué?"
   ]
  },
  {
   "cell_type": "markdown",
   "metadata": {
    "slideshow": {
     "slide_type": "slide"
    }
   },
   "source": [
    "## Fuentes de datos: ¿De dónde saco datos?"
   ]
  },
  {
   "cell_type": "markdown",
   "metadata": {
    "cell_style": "split",
    "slideshow": {
     "slide_type": "subslide"
    }
   },
   "source": [
    "El equivalente a una primera búsqueda en Google en el periodismo de datos son los **datasets públicos**."
   ]
  },
  {
   "cell_type": "markdown",
   "metadata": {
    "cell_style": "split",
    "slideshow": {
     "slide_type": "-"
    }
   },
   "source": [
    "<div class=\"naked-img\">\n",
    "    <img src=\"files/dataset.png\" width=\"100\">\n",
    "</div>\n",
    "<script>\n",
    "    $(\"naked-img\").css(\"margin-left\", \"15%\");\n",
    "</script>"
   ]
  },
  {
   "cell_type": "markdown",
   "metadata": {
    "slideshow": {
     "slide_type": "notes"
    }
   },
   "source": [
    "Información fuentes oficiales o terceros que se puede acceder libremente."
   ]
  },
  {
   "cell_type": "markdown",
   "metadata": {
    "cell_style": "split",
    "slideshow": {
     "slide_type": "subslide"
    }
   },
   "source": [
    "Por ejemplo:\n",
    "   * Otros medios de comunicación\n",
    "   * [Instituciones](https://datos.gov.co) \n",
    "   * Google Datasets\n",
    "   * Otros"
   ]
  },
  {
   "cell_type": "markdown",
   "metadata": {
    "cell_style": "split",
    "slideshow": {
     "slide_type": "-"
    }
   },
   "source": [
    "<div class=\"naked-img\">\n",
    "    <img src=\"files/datos_abiertos.JPG\" width=\"850\">\n",
    "</div>\n",
    "<script>\n",
    "    $(\"naked-img\").css(\"margin-left\", \"15%\");\n",
    "</script>"
   ]
  },
  {
   "cell_type": "markdown",
   "metadata": {
    "slideshow": {
     "slide_type": "notes"
    }
   },
   "source": [
    "DANE, Registraduría, Fiscalía"
   ]
  },
  {
   "cell_type": "markdown",
   "metadata": {
    "slideshow": {
     "slide_type": "slide"
    }
   },
   "source": [
    "## Data Wrangling "
   ]
  },
  {
   "cell_type": "markdown",
   "metadata": {
    "slideshow": {
     "slide_type": "subslide"
    }
   },
   "source": [
    "Primero carguemos los datos"
   ]
  },
  {
   "cell_type": "code",
   "execution_count": 116,
   "metadata": {
    "slideshow": {
     "slide_type": "fragment"
    }
   },
   "outputs": [],
   "source": [
    "import pandas as pd\n",
    "df_liberal = pd.read_csv(\"../periodismo_datos_101/data/liberal_plebi/consulta_liberal_cod.csv\")"
   ]
  },
  {
   "cell_type": "code",
   "execution_count": 84,
   "metadata": {
    "slideshow": {
     "slide_type": "fragment"
    }
   },
   "outputs": [
    {
     "data": {
      "text/plain": [
       "(1123, 14)"
      ]
     },
     "execution_count": 84,
     "metadata": {},
     "output_type": "execute_result"
    }
   ],
   "source": [
    "df_liberal.shape"
   ]
  },
  {
   "cell_type": "code",
   "execution_count": 85,
   "metadata": {
    "slideshow": {
     "slide_type": "fragment"
    }
   },
   "outputs": [
    {
     "data": {
      "text/html": [
       "<div>\n",
       "<style scoped>\n",
       "    .dataframe tbody tr th:only-of-type {\n",
       "        vertical-align: middle;\n",
       "    }\n",
       "\n",
       "    .dataframe tbody tr th {\n",
       "        vertical-align: top;\n",
       "    }\n",
       "\n",
       "    .dataframe thead th {\n",
       "        text-align: right;\n",
       "    }\n",
       "</style>\n",
       "<table border=\"1\" class=\"dataframe\">\n",
       "  <thead>\n",
       "    <tr style=\"text-align: right;\">\n",
       "      <th></th>\n",
       "      <th>cd</th>\n",
       "      <th>departamento</th>\n",
       "      <th>cm</th>\n",
       "      <th>municipio</th>\n",
       "      <th>juan_fernando_cristo</th>\n",
       "      <th>humberto_de_la_calle</th>\n",
       "      <th>votos_nulos</th>\n",
       "      <th>votos_no_marcados</th>\n",
       "      <th>total_votos</th>\n",
       "      <th>nom_dep_mun</th>\n",
       "      <th>cod_dep_mun</th>\n",
       "      <th>closeness</th>\n",
       "      <th>cod_dep</th>\n",
       "      <th>cod_mun</th>\n",
       "    </tr>\n",
       "  </thead>\n",
       "  <tbody>\n",
       "    <tr>\n",
       "      <th>0</th>\n",
       "      <td>1</td>\n",
       "      <td>ANTIOQUIA</td>\n",
       "      <td>1</td>\n",
       "      <td>MEDELLIN</td>\n",
       "      <td>4,259</td>\n",
       "      <td>12,523</td>\n",
       "      <td>1,237</td>\n",
       "      <td>360</td>\n",
       "      <td>18,379</td>\n",
       "      <td>antioquia_medellin</td>\n",
       "      <td>05_5001.0</td>\n",
       "      <td>100</td>\n",
       "      <td>5</td>\n",
       "      <td>5001</td>\n",
       "    </tr>\n",
       "    <tr>\n",
       "      <th>1</th>\n",
       "      <td>1</td>\n",
       "      <td>ANTIOQUIA</td>\n",
       "      <td>4</td>\n",
       "      <td>ABEJORRAL</td>\n",
       "      <td>21</td>\n",
       "      <td>280</td>\n",
       "      <td>10</td>\n",
       "      <td>5</td>\n",
       "      <td>316</td>\n",
       "      <td>antioquia_abejorral</td>\n",
       "      <td>05_5002.0</td>\n",
       "      <td>100</td>\n",
       "      <td>5</td>\n",
       "      <td>5002</td>\n",
       "    </tr>\n",
       "    <tr>\n",
       "      <th>2</th>\n",
       "      <td>1</td>\n",
       "      <td>ANTIOQUIA</td>\n",
       "      <td>7</td>\n",
       "      <td>ABRIAQUI</td>\n",
       "      <td>2</td>\n",
       "      <td>7</td>\n",
       "      <td>1</td>\n",
       "      <td>-</td>\n",
       "      <td>10</td>\n",
       "      <td>antioquia_abriaqui</td>\n",
       "      <td>05_5004.0</td>\n",
       "      <td>100</td>\n",
       "      <td>5</td>\n",
       "      <td>5004</td>\n",
       "    </tr>\n",
       "    <tr>\n",
       "      <th>3</th>\n",
       "      <td>1</td>\n",
       "      <td>ANTIOQUIA</td>\n",
       "      <td>10</td>\n",
       "      <td>ALEJANDRIA</td>\n",
       "      <td>15</td>\n",
       "      <td>34</td>\n",
       "      <td>-</td>\n",
       "      <td>1</td>\n",
       "      <td>50</td>\n",
       "      <td>antioquia_alejandria</td>\n",
       "      <td>05_5021.0</td>\n",
       "      <td>100</td>\n",
       "      <td>5</td>\n",
       "      <td>5021</td>\n",
       "    </tr>\n",
       "    <tr>\n",
       "      <th>4</th>\n",
       "      <td>1</td>\n",
       "      <td>ANTIOQUIA</td>\n",
       "      <td>13</td>\n",
       "      <td>AMAGA</td>\n",
       "      <td>11</td>\n",
       "      <td>102</td>\n",
       "      <td>15</td>\n",
       "      <td>-</td>\n",
       "      <td>128</td>\n",
       "      <td>antioquia_amaga</td>\n",
       "      <td>05_5030.0</td>\n",
       "      <td>100</td>\n",
       "      <td>5</td>\n",
       "      <td>5030</td>\n",
       "    </tr>\n",
       "  </tbody>\n",
       "</table>\n",
       "</div>"
      ],
      "text/plain": [
       "   cd departamento  cm   municipio juan_fernando_cristo humberto_de_la_calle  \\\n",
       "0   1    ANTIOQUIA   1    MEDELLIN               4,259               12,523    \n",
       "1   1    ANTIOQUIA   4   ABEJORRAL                  21                  280    \n",
       "2   1    ANTIOQUIA   7    ABRIAQUI                   2                    7    \n",
       "3   1    ANTIOQUIA  10  ALEJANDRIA                  15                   34    \n",
       "4   1    ANTIOQUIA  13       AMAGA                  11                  102    \n",
       "\n",
       "  votos_nulos votos_no_marcados total_votos           nom_dep_mun cod_dep_mun  \\\n",
       "0      1,237               360      18,379     antioquia_medellin   05_5001.0   \n",
       "1         10                 5         316    antioquia_abejorral   05_5002.0   \n",
       "2          1               -            10     antioquia_abriaqui   05_5004.0   \n",
       "3        -                   1          50   antioquia_alejandria   05_5021.0   \n",
       "4         15               -           128        antioquia_amaga   05_5030.0   \n",
       "\n",
       "   closeness  cod_dep  cod_mun  \n",
       "0        100        5     5001  \n",
       "1        100        5     5002  \n",
       "2        100        5     5004  \n",
       "3        100        5     5021  \n",
       "4        100        5     5030  "
      ]
     },
     "execution_count": 85,
     "metadata": {},
     "output_type": "execute_result"
    }
   ],
   "source": [
    "df_liberal.head()"
   ]
  },
  {
   "cell_type": "markdown",
   "metadata": {
    "slideshow": {
     "slide_type": "notes"
    }
   },
   "source": [
    "Índice\\\n",
    "Nombre de las columnas\\\n",
    "Valores nulos reemplazados por guiones\\\n",
    "Marcadores de mil con comas\\\n",
    "Posibles llaves"
   ]
  },
  {
   "cell_type": "code",
   "execution_count": 86,
   "metadata": {
    "slideshow": {
     "slide_type": "subslide"
    }
   },
   "outputs": [
    {
     "name": "stdout",
     "output_type": "stream",
     "text": [
      "<class 'pandas.core.frame.DataFrame'>\n",
      "RangeIndex: 1123 entries, 0 to 1122\n",
      "Data columns (total 14 columns):\n",
      " #   Column                Non-Null Count  Dtype \n",
      "---  ------                --------------  ----- \n",
      " 0   cd                    1123 non-null   int64 \n",
      " 1   departamento          1123 non-null   object\n",
      " 2   cm                    1123 non-null   int64 \n",
      " 3   municipio             1123 non-null   object\n",
      " 4   juan_fernando_cristo  1123 non-null   object\n",
      " 5   humberto_de_la_calle  1123 non-null   object\n",
      " 6   votos_nulos           1123 non-null   object\n",
      " 7   votos_no_marcados     1123 non-null   object\n",
      " 8   total_votos           1123 non-null   object\n",
      " 9   nom_dep_mun           1123 non-null   object\n",
      " 10  cod_dep_mun           1123 non-null   object\n",
      " 11  closeness             1123 non-null   int64 \n",
      " 12  cod_dep               1123 non-null   int64 \n",
      " 13  cod_mun               1123 non-null   int64 \n",
      "dtypes: int64(5), object(9)\n",
      "memory usage: 123.0+ KB\n"
     ]
    }
   ],
   "source": [
    "df_liberal.info()"
   ]
  },
  {
   "cell_type": "markdown",
   "metadata": {
    "slideshow": {
     "slide_type": "subslide"
    }
   },
   "source": [
    "Hagamos las primeras transformaciones"
   ]
  },
  {
   "cell_type": "code",
   "execution_count": 87,
   "metadata": {
    "slideshow": {
     "slide_type": "fragment"
    }
   },
   "outputs": [
    {
     "data": {
      "text/html": [
       "<div>\n",
       "<style scoped>\n",
       "    .dataframe tbody tr th:only-of-type {\n",
       "        vertical-align: middle;\n",
       "    }\n",
       "\n",
       "    .dataframe tbody tr th {\n",
       "        vertical-align: top;\n",
       "    }\n",
       "\n",
       "    .dataframe thead th {\n",
       "        text-align: right;\n",
       "    }\n",
       "</style>\n",
       "<table border=\"1\" class=\"dataframe\">\n",
       "  <thead>\n",
       "    <tr style=\"text-align: right;\">\n",
       "      <th></th>\n",
       "      <th>cd</th>\n",
       "      <th>departamento</th>\n",
       "      <th>cm</th>\n",
       "      <th>municipio</th>\n",
       "      <th>juan_fernando_cristo</th>\n",
       "      <th>humberto_de_la_calle</th>\n",
       "      <th>votos_nulos</th>\n",
       "      <th>votos_no_marcados</th>\n",
       "      <th>total_votos</th>\n",
       "      <th>nom_dep_mun</th>\n",
       "      <th>cod_dep_mun</th>\n",
       "      <th>closeness</th>\n",
       "      <th>cod_dep</th>\n",
       "      <th>cod_mun</th>\n",
       "    </tr>\n",
       "  </thead>\n",
       "  <tbody>\n",
       "    <tr>\n",
       "      <th>0</th>\n",
       "      <td>1</td>\n",
       "      <td>ANTIOQUIA</td>\n",
       "      <td>1</td>\n",
       "      <td>MEDELLIN</td>\n",
       "      <td>4,259</td>\n",
       "      <td>12,523</td>\n",
       "      <td>1,237</td>\n",
       "      <td>360</td>\n",
       "      <td>18,379</td>\n",
       "      <td>antioquia_medellin</td>\n",
       "      <td>05_5001.0</td>\n",
       "      <td>100</td>\n",
       "      <td>5</td>\n",
       "      <td>5001</td>\n",
       "    </tr>\n",
       "    <tr>\n",
       "      <th>1</th>\n",
       "      <td>1</td>\n",
       "      <td>ANTIOQUIA</td>\n",
       "      <td>4</td>\n",
       "      <td>ABEJORRAL</td>\n",
       "      <td>21</td>\n",
       "      <td>280</td>\n",
       "      <td>10</td>\n",
       "      <td>5</td>\n",
       "      <td>316</td>\n",
       "      <td>antioquia_abejorral</td>\n",
       "      <td>05_5002.0</td>\n",
       "      <td>100</td>\n",
       "      <td>5</td>\n",
       "      <td>5002</td>\n",
       "    </tr>\n",
       "    <tr>\n",
       "      <th>2</th>\n",
       "      <td>1</td>\n",
       "      <td>ANTIOQUIA</td>\n",
       "      <td>7</td>\n",
       "      <td>ABRIAQUI</td>\n",
       "      <td>2</td>\n",
       "      <td>7</td>\n",
       "      <td>1</td>\n",
       "      <td>-</td>\n",
       "      <td>10</td>\n",
       "      <td>antioquia_abriaqui</td>\n",
       "      <td>05_5004.0</td>\n",
       "      <td>100</td>\n",
       "      <td>5</td>\n",
       "      <td>5004</td>\n",
       "    </tr>\n",
       "    <tr>\n",
       "      <th>3</th>\n",
       "      <td>1</td>\n",
       "      <td>ANTIOQUIA</td>\n",
       "      <td>10</td>\n",
       "      <td>ALEJANDRIA</td>\n",
       "      <td>15</td>\n",
       "      <td>34</td>\n",
       "      <td>-</td>\n",
       "      <td>1</td>\n",
       "      <td>50</td>\n",
       "      <td>antioquia_alejandria</td>\n",
       "      <td>05_5021.0</td>\n",
       "      <td>100</td>\n",
       "      <td>5</td>\n",
       "      <td>5021</td>\n",
       "    </tr>\n",
       "    <tr>\n",
       "      <th>4</th>\n",
       "      <td>1</td>\n",
       "      <td>ANTIOQUIA</td>\n",
       "      <td>13</td>\n",
       "      <td>AMAGA</td>\n",
       "      <td>11</td>\n",
       "      <td>102</td>\n",
       "      <td>15</td>\n",
       "      <td>-</td>\n",
       "      <td>128</td>\n",
       "      <td>antioquia_amaga</td>\n",
       "      <td>05_5030.0</td>\n",
       "      <td>100</td>\n",
       "      <td>5</td>\n",
       "      <td>5030</td>\n",
       "    </tr>\n",
       "  </tbody>\n",
       "</table>\n",
       "</div>"
      ],
      "text/plain": [
       "   cd departamento  cm   municipio juan_fernando_cristo humberto_de_la_calle  \\\n",
       "0   1    ANTIOQUIA   1    MEDELLIN               4,259               12,523    \n",
       "1   1    ANTIOQUIA   4   ABEJORRAL                  21                  280    \n",
       "2   1    ANTIOQUIA   7    ABRIAQUI                   2                    7    \n",
       "3   1    ANTIOQUIA  10  ALEJANDRIA                  15                   34    \n",
       "4   1    ANTIOQUIA  13       AMAGA                  11                  102    \n",
       "\n",
       "  votos_nulos votos_no_marcados total_votos           nom_dep_mun cod_dep_mun  \\\n",
       "0      1,237               360      18,379     antioquia_medellin   05_5001.0   \n",
       "1         10                 5         316    antioquia_abejorral   05_5002.0   \n",
       "2          1               -            10     antioquia_abriaqui   05_5004.0   \n",
       "3        -                   1          50   antioquia_alejandria   05_5021.0   \n",
       "4         15               -           128        antioquia_amaga   05_5030.0   \n",
       "\n",
       "   closeness  cod_dep  cod_mun  \n",
       "0        100        5     5001  \n",
       "1        100        5     5002  \n",
       "2        100        5     5004  \n",
       "3        100        5     5021  \n",
       "4        100        5     5030  "
      ]
     },
     "execution_count": 87,
     "metadata": {},
     "output_type": "execute_result"
    }
   ],
   "source": [
    "# Reemplazar - por 0 o por Null\n",
    "df_liberal.head()"
   ]
  },
  {
   "cell_type": "code",
   "execution_count": 88,
   "metadata": {
    "slideshow": {
     "slide_type": "fragment"
    }
   },
   "outputs": [
    {
     "data": {
      "text/plain": [
       "'  1 '"
      ]
     },
     "execution_count": 88,
     "metadata": {},
     "output_type": "execute_result"
    }
   ],
   "source": [
    "# Reemplazar - por 0 o por Null\n",
    "df_liberal.iloc[2]['votos_nulos']"
   ]
  },
  {
   "cell_type": "code",
   "execution_count": 89,
   "metadata": {
    "slideshow": {
     "slide_type": "fragment"
    }
   },
   "outputs": [],
   "source": [
    "df_liberal[\"votos_nulos\"] = df_liberal[\"votos_nulos\"].apply(lambda x: x.strip())"
   ]
  },
  {
   "cell_type": "code",
   "execution_count": 90,
   "metadata": {
    "slideshow": {
     "slide_type": "fragment"
    }
   },
   "outputs": [],
   "source": [
    "for column in df_liberal.columns[4:9]:\n",
    "    df_liberal[column] = df_liberal[column].apply(lambda x: int(x.strip().replace('-','0').replace(',','')))"
   ]
  },
  {
   "cell_type": "code",
   "execution_count": 91,
   "metadata": {
    "slideshow": {
     "slide_type": "subslide"
    }
   },
   "outputs": [
    {
     "data": {
      "text/html": [
       "<div>\n",
       "<style scoped>\n",
       "    .dataframe tbody tr th:only-of-type {\n",
       "        vertical-align: middle;\n",
       "    }\n",
       "\n",
       "    .dataframe tbody tr th {\n",
       "        vertical-align: top;\n",
       "    }\n",
       "\n",
       "    .dataframe thead th {\n",
       "        text-align: right;\n",
       "    }\n",
       "</style>\n",
       "<table border=\"1\" class=\"dataframe\">\n",
       "  <thead>\n",
       "    <tr style=\"text-align: right;\">\n",
       "      <th></th>\n",
       "      <th>cd</th>\n",
       "      <th>departamento</th>\n",
       "      <th>cm</th>\n",
       "      <th>municipio</th>\n",
       "      <th>juan_fernando_cristo</th>\n",
       "      <th>humberto_de_la_calle</th>\n",
       "      <th>votos_nulos</th>\n",
       "      <th>votos_no_marcados</th>\n",
       "      <th>total_votos</th>\n",
       "      <th>nom_dep_mun</th>\n",
       "      <th>cod_dep_mun</th>\n",
       "      <th>closeness</th>\n",
       "      <th>cod_dep</th>\n",
       "      <th>cod_mun</th>\n",
       "    </tr>\n",
       "  </thead>\n",
       "  <tbody>\n",
       "    <tr>\n",
       "      <th>0</th>\n",
       "      <td>1</td>\n",
       "      <td>ANTIOQUIA</td>\n",
       "      <td>1</td>\n",
       "      <td>MEDELLIN</td>\n",
       "      <td>4259</td>\n",
       "      <td>12523</td>\n",
       "      <td>1237</td>\n",
       "      <td>360</td>\n",
       "      <td>18379</td>\n",
       "      <td>antioquia_medellin</td>\n",
       "      <td>05_5001.0</td>\n",
       "      <td>100</td>\n",
       "      <td>5</td>\n",
       "      <td>5001</td>\n",
       "    </tr>\n",
       "    <tr>\n",
       "      <th>1</th>\n",
       "      <td>1</td>\n",
       "      <td>ANTIOQUIA</td>\n",
       "      <td>4</td>\n",
       "      <td>ABEJORRAL</td>\n",
       "      <td>21</td>\n",
       "      <td>280</td>\n",
       "      <td>10</td>\n",
       "      <td>5</td>\n",
       "      <td>316</td>\n",
       "      <td>antioquia_abejorral</td>\n",
       "      <td>05_5002.0</td>\n",
       "      <td>100</td>\n",
       "      <td>5</td>\n",
       "      <td>5002</td>\n",
       "    </tr>\n",
       "    <tr>\n",
       "      <th>2</th>\n",
       "      <td>1</td>\n",
       "      <td>ANTIOQUIA</td>\n",
       "      <td>7</td>\n",
       "      <td>ABRIAQUI</td>\n",
       "      <td>2</td>\n",
       "      <td>7</td>\n",
       "      <td>1</td>\n",
       "      <td>0</td>\n",
       "      <td>10</td>\n",
       "      <td>antioquia_abriaqui</td>\n",
       "      <td>05_5004.0</td>\n",
       "      <td>100</td>\n",
       "      <td>5</td>\n",
       "      <td>5004</td>\n",
       "    </tr>\n",
       "    <tr>\n",
       "      <th>3</th>\n",
       "      <td>1</td>\n",
       "      <td>ANTIOQUIA</td>\n",
       "      <td>10</td>\n",
       "      <td>ALEJANDRIA</td>\n",
       "      <td>15</td>\n",
       "      <td>34</td>\n",
       "      <td>0</td>\n",
       "      <td>1</td>\n",
       "      <td>50</td>\n",
       "      <td>antioquia_alejandria</td>\n",
       "      <td>05_5021.0</td>\n",
       "      <td>100</td>\n",
       "      <td>5</td>\n",
       "      <td>5021</td>\n",
       "    </tr>\n",
       "    <tr>\n",
       "      <th>4</th>\n",
       "      <td>1</td>\n",
       "      <td>ANTIOQUIA</td>\n",
       "      <td>13</td>\n",
       "      <td>AMAGA</td>\n",
       "      <td>11</td>\n",
       "      <td>102</td>\n",
       "      <td>15</td>\n",
       "      <td>0</td>\n",
       "      <td>128</td>\n",
       "      <td>antioquia_amaga</td>\n",
       "      <td>05_5030.0</td>\n",
       "      <td>100</td>\n",
       "      <td>5</td>\n",
       "      <td>5030</td>\n",
       "    </tr>\n",
       "  </tbody>\n",
       "</table>\n",
       "</div>"
      ],
      "text/plain": [
       "   cd departamento  cm   municipio  juan_fernando_cristo  \\\n",
       "0   1    ANTIOQUIA   1    MEDELLIN                  4259   \n",
       "1   1    ANTIOQUIA   4   ABEJORRAL                    21   \n",
       "2   1    ANTIOQUIA   7    ABRIAQUI                     2   \n",
       "3   1    ANTIOQUIA  10  ALEJANDRIA                    15   \n",
       "4   1    ANTIOQUIA  13       AMAGA                    11   \n",
       "\n",
       "   humberto_de_la_calle  votos_nulos  votos_no_marcados  total_votos  \\\n",
       "0                 12523         1237                360        18379   \n",
       "1                   280           10                  5          316   \n",
       "2                     7            1                  0           10   \n",
       "3                    34            0                  1           50   \n",
       "4                   102           15                  0          128   \n",
       "\n",
       "            nom_dep_mun cod_dep_mun  closeness  cod_dep  cod_mun  \n",
       "0    antioquia_medellin   05_5001.0        100        5     5001  \n",
       "1   antioquia_abejorral   05_5002.0        100        5     5002  \n",
       "2    antioquia_abriaqui   05_5004.0        100        5     5004  \n",
       "3  antioquia_alejandria   05_5021.0        100        5     5021  \n",
       "4       antioquia_amaga   05_5030.0        100        5     5030  "
      ]
     },
     "execution_count": 91,
     "metadata": {},
     "output_type": "execute_result"
    }
   ],
   "source": [
    "df_liberal.head()"
   ]
  },
  {
   "cell_type": "code",
   "execution_count": 92,
   "metadata": {
    "slideshow": {
     "slide_type": "fragment"
    }
   },
   "outputs": [
    {
     "name": "stdout",
     "output_type": "stream",
     "text": [
      "<class 'pandas.core.frame.DataFrame'>\n",
      "RangeIndex: 1123 entries, 0 to 1122\n",
      "Data columns (total 14 columns):\n",
      " #   Column                Non-Null Count  Dtype \n",
      "---  ------                --------------  ----- \n",
      " 0   cd                    1123 non-null   int64 \n",
      " 1   departamento          1123 non-null   object\n",
      " 2   cm                    1123 non-null   int64 \n",
      " 3   municipio             1123 non-null   object\n",
      " 4   juan_fernando_cristo  1123 non-null   int64 \n",
      " 5   humberto_de_la_calle  1123 non-null   int64 \n",
      " 6   votos_nulos           1123 non-null   int64 \n",
      " 7   votos_no_marcados     1123 non-null   int64 \n",
      " 8   total_votos           1123 non-null   int64 \n",
      " 9   nom_dep_mun           1123 non-null   object\n",
      " 10  cod_dep_mun           1123 non-null   object\n",
      " 11  closeness             1123 non-null   int64 \n",
      " 12  cod_dep               1123 non-null   int64 \n",
      " 13  cod_mun               1123 non-null   int64 \n",
      "dtypes: int64(10), object(4)\n",
      "memory usage: 123.0+ KB\n"
     ]
    }
   ],
   "source": [
    "df_liberal.info()"
   ]
  },
  {
   "cell_type": "markdown",
   "metadata": {
    "slideshow": {
     "slide_type": "subslide"
    }
   },
   "source": [
    "## Breve receso de 5 minutos"
   ]
  },
  {
   "cell_type": "markdown",
   "metadata": {
    "slideshow": {
     "slide_type": "slide"
    }
   },
   "source": [
    "## Exploratory Data Analysis (EDA)"
   ]
  },
  {
   "cell_type": "code",
   "execution_count": 11,
   "metadata": {
    "slideshow": {
     "slide_type": "subslide"
    }
   },
   "outputs": [
    {
     "data": {
      "text/html": [
       "<div>\n",
       "<style scoped>\n",
       "    .dataframe tbody tr th:only-of-type {\n",
       "        vertical-align: middle;\n",
       "    }\n",
       "\n",
       "    .dataframe tbody tr th {\n",
       "        vertical-align: top;\n",
       "    }\n",
       "\n",
       "    .dataframe thead th {\n",
       "        text-align: right;\n",
       "    }\n",
       "</style>\n",
       "<table border=\"1\" class=\"dataframe\">\n",
       "  <thead>\n",
       "    <tr style=\"text-align: right;\">\n",
       "      <th></th>\n",
       "      <th>cd</th>\n",
       "      <th>departamento</th>\n",
       "      <th>cm</th>\n",
       "      <th>municipio</th>\n",
       "      <th>juan_fernando_cristo</th>\n",
       "      <th>humberto_de_la_calle</th>\n",
       "      <th>votos_nulos</th>\n",
       "      <th>votos_no_marcados</th>\n",
       "      <th>total_votos</th>\n",
       "      <th>nom_dep_mun</th>\n",
       "      <th>cod_dep_mun</th>\n",
       "      <th>closeness</th>\n",
       "      <th>cod_dep</th>\n",
       "      <th>cod_mun</th>\n",
       "    </tr>\n",
       "  </thead>\n",
       "  <tbody>\n",
       "    <tr>\n",
       "      <th>0</th>\n",
       "      <td>1</td>\n",
       "      <td>ANTIOQUIA</td>\n",
       "      <td>1</td>\n",
       "      <td>MEDELLIN</td>\n",
       "      <td>4259</td>\n",
       "      <td>12523</td>\n",
       "      <td>1237</td>\n",
       "      <td>360</td>\n",
       "      <td>18379</td>\n",
       "      <td>antioquia_medellin</td>\n",
       "      <td>05_5001.0</td>\n",
       "      <td>100</td>\n",
       "      <td>5</td>\n",
       "      <td>5001</td>\n",
       "    </tr>\n",
       "    <tr>\n",
       "      <th>1</th>\n",
       "      <td>1</td>\n",
       "      <td>ANTIOQUIA</td>\n",
       "      <td>4</td>\n",
       "      <td>ABEJORRAL</td>\n",
       "      <td>21</td>\n",
       "      <td>280</td>\n",
       "      <td>10</td>\n",
       "      <td>5</td>\n",
       "      <td>316</td>\n",
       "      <td>antioquia_abejorral</td>\n",
       "      <td>05_5002.0</td>\n",
       "      <td>100</td>\n",
       "      <td>5</td>\n",
       "      <td>5002</td>\n",
       "    </tr>\n",
       "    <tr>\n",
       "      <th>2</th>\n",
       "      <td>1</td>\n",
       "      <td>ANTIOQUIA</td>\n",
       "      <td>7</td>\n",
       "      <td>ABRIAQUI</td>\n",
       "      <td>2</td>\n",
       "      <td>7</td>\n",
       "      <td>1</td>\n",
       "      <td>0</td>\n",
       "      <td>10</td>\n",
       "      <td>antioquia_abriaqui</td>\n",
       "      <td>05_5004.0</td>\n",
       "      <td>100</td>\n",
       "      <td>5</td>\n",
       "      <td>5004</td>\n",
       "    </tr>\n",
       "    <tr>\n",
       "      <th>3</th>\n",
       "      <td>1</td>\n",
       "      <td>ANTIOQUIA</td>\n",
       "      <td>10</td>\n",
       "      <td>ALEJANDRIA</td>\n",
       "      <td>15</td>\n",
       "      <td>34</td>\n",
       "      <td>0</td>\n",
       "      <td>1</td>\n",
       "      <td>50</td>\n",
       "      <td>antioquia_alejandria</td>\n",
       "      <td>05_5021.0</td>\n",
       "      <td>100</td>\n",
       "      <td>5</td>\n",
       "      <td>5021</td>\n",
       "    </tr>\n",
       "    <tr>\n",
       "      <th>4</th>\n",
       "      <td>1</td>\n",
       "      <td>ANTIOQUIA</td>\n",
       "      <td>13</td>\n",
       "      <td>AMAGA</td>\n",
       "      <td>11</td>\n",
       "      <td>102</td>\n",
       "      <td>15</td>\n",
       "      <td>0</td>\n",
       "      <td>128</td>\n",
       "      <td>antioquia_amaga</td>\n",
       "      <td>05_5030.0</td>\n",
       "      <td>100</td>\n",
       "      <td>5</td>\n",
       "      <td>5030</td>\n",
       "    </tr>\n",
       "  </tbody>\n",
       "</table>\n",
       "</div>"
      ],
      "text/plain": [
       "   cd departamento  cm   municipio  juan_fernando_cristo  \\\n",
       "0   1    ANTIOQUIA   1    MEDELLIN                  4259   \n",
       "1   1    ANTIOQUIA   4   ABEJORRAL                    21   \n",
       "2   1    ANTIOQUIA   7    ABRIAQUI                     2   \n",
       "3   1    ANTIOQUIA  10  ALEJANDRIA                    15   \n",
       "4   1    ANTIOQUIA  13       AMAGA                    11   \n",
       "\n",
       "   humberto_de_la_calle  votos_nulos  votos_no_marcados  total_votos  \\\n",
       "0                 12523         1237                360        18379   \n",
       "1                   280           10                  5          316   \n",
       "2                     7            1                  0           10   \n",
       "3                    34            0                  1           50   \n",
       "4                   102           15                  0          128   \n",
       "\n",
       "            nom_dep_mun cod_dep_mun  closeness  cod_dep  cod_mun  \n",
       "0    antioquia_medellin   05_5001.0        100        5     5001  \n",
       "1   antioquia_abejorral   05_5002.0        100        5     5002  \n",
       "2    antioquia_abriaqui   05_5004.0        100        5     5004  \n",
       "3  antioquia_alejandria   05_5021.0        100        5     5021  \n",
       "4       antioquia_amaga   05_5030.0        100        5     5030  "
      ]
     },
     "execution_count": 11,
     "metadata": {},
     "output_type": "execute_result"
    }
   ],
   "source": [
    "df_liberal.head()"
   ]
  },
  {
   "cell_type": "code",
   "execution_count": 12,
   "metadata": {
    "slideshow": {
     "slide_type": "fragment"
    }
   },
   "outputs": [
    {
     "data": {
      "text/html": [
       "<div>\n",
       "<style scoped>\n",
       "    .dataframe tbody tr th:only-of-type {\n",
       "        vertical-align: middle;\n",
       "    }\n",
       "\n",
       "    .dataframe tbody tr th {\n",
       "        vertical-align: top;\n",
       "    }\n",
       "\n",
       "    .dataframe thead th {\n",
       "        text-align: right;\n",
       "    }\n",
       "</style>\n",
       "<table border=\"1\" class=\"dataframe\">\n",
       "  <thead>\n",
       "    <tr style=\"text-align: right;\">\n",
       "      <th></th>\n",
       "      <th>cd</th>\n",
       "      <th>cm</th>\n",
       "      <th>juan_fernando_cristo</th>\n",
       "      <th>humberto_de_la_calle</th>\n",
       "      <th>votos_nulos</th>\n",
       "      <th>votos_no_marcados</th>\n",
       "      <th>total_votos</th>\n",
       "      <th>closeness</th>\n",
       "      <th>cod_dep</th>\n",
       "      <th>cod_mun</th>\n",
       "    </tr>\n",
       "  </thead>\n",
       "  <tbody>\n",
       "    <tr>\n",
       "      <th>count</th>\n",
       "      <td>1123.000000</td>\n",
       "      <td>1123.000000</td>\n",
       "      <td>1123.000000</td>\n",
       "      <td>1123.000000</td>\n",
       "      <td>1123.000000</td>\n",
       "      <td>1123.000000</td>\n",
       "      <td>1123.000000</td>\n",
       "      <td>1123.000000</td>\n",
       "      <td>1123.000000</td>\n",
       "      <td>1123.000000</td>\n",
       "    </tr>\n",
       "    <tr>\n",
       "      <th>mean</th>\n",
       "      <td>19.042743</td>\n",
       "      <td>111.634907</td>\n",
       "      <td>289.204809</td>\n",
       "      <td>325.608192</td>\n",
       "      <td>36.474622</td>\n",
       "      <td>11.687444</td>\n",
       "      <td>662.975067</td>\n",
       "      <td>96.647373</td>\n",
       "      <td>36.609083</td>\n",
       "      <td>37050.193232</td>\n",
       "    </tr>\n",
       "    <tr>\n",
       "      <th>std</th>\n",
       "      <td>14.403900</td>\n",
       "      <td>132.696322</td>\n",
       "      <td>1143.146400</td>\n",
       "      <td>1256.985333</td>\n",
       "      <td>149.834401</td>\n",
       "      <td>49.470902</td>\n",
       "      <td>2209.532263</td>\n",
       "      <td>14.633806</td>\n",
       "      <td>26.102455</td>\n",
       "      <td>26066.135354</td>\n",
       "    </tr>\n",
       "    <tr>\n",
       "      <th>min</th>\n",
       "      <td>1.000000</td>\n",
       "      <td>1.000000</td>\n",
       "      <td>0.000000</td>\n",
       "      <td>0.000000</td>\n",
       "      <td>0.000000</td>\n",
       "      <td>0.000000</td>\n",
       "      <td>1.000000</td>\n",
       "      <td>0.000000</td>\n",
       "      <td>-1.000000</td>\n",
       "      <td>-1.000000</td>\n",
       "    </tr>\n",
       "    <tr>\n",
       "      <th>25%</th>\n",
       "      <td>7.000000</td>\n",
       "      <td>28.000000</td>\n",
       "      <td>18.000000</td>\n",
       "      <td>22.000000</td>\n",
       "      <td>3.000000</td>\n",
       "      <td>1.000000</td>\n",
       "      <td>72.000000</td>\n",
       "      <td>100.000000</td>\n",
       "      <td>15.000000</td>\n",
       "      <td>15515.000000</td>\n",
       "    </tr>\n",
       "    <tr>\n",
       "      <th>50%</th>\n",
       "      <td>16.000000</td>\n",
       "      <td>70.000000</td>\n",
       "      <td>70.000000</td>\n",
       "      <td>62.000000</td>\n",
       "      <td>8.000000</td>\n",
       "      <td>3.000000</td>\n",
       "      <td>189.000000</td>\n",
       "      <td>100.000000</td>\n",
       "      <td>25.000000</td>\n",
       "      <td>25736.000000</td>\n",
       "    </tr>\n",
       "    <tr>\n",
       "      <th>75%</th>\n",
       "      <td>27.000000</td>\n",
       "      <td>150.000000</td>\n",
       "      <td>242.000000</td>\n",
       "      <td>194.500000</td>\n",
       "      <td>20.000000</td>\n",
       "      <td>8.000000</td>\n",
       "      <td>487.500000</td>\n",
       "      <td>100.000000</td>\n",
       "      <td>63.000000</td>\n",
       "      <td>63160.000000</td>\n",
       "    </tr>\n",
       "    <tr>\n",
       "      <th>max</th>\n",
       "      <td>72.000000</td>\n",
       "      <td>900.000000</td>\n",
       "      <td>26049.000000</td>\n",
       "      <td>24882.000000</td>\n",
       "      <td>3244.000000</td>\n",
       "      <td>714.000000</td>\n",
       "      <td>38073.000000</td>\n",
       "      <td>100.000000</td>\n",
       "      <td>99.000000</td>\n",
       "      <td>99773.000000</td>\n",
       "    </tr>\n",
       "  </tbody>\n",
       "</table>\n",
       "</div>"
      ],
      "text/plain": [
       "                cd           cm  juan_fernando_cristo  humberto_de_la_calle  \\\n",
       "count  1123.000000  1123.000000           1123.000000           1123.000000   \n",
       "mean     19.042743   111.634907            289.204809            325.608192   \n",
       "std      14.403900   132.696322           1143.146400           1256.985333   \n",
       "min       1.000000     1.000000              0.000000              0.000000   \n",
       "25%       7.000000    28.000000             18.000000             22.000000   \n",
       "50%      16.000000    70.000000             70.000000             62.000000   \n",
       "75%      27.000000   150.000000            242.000000            194.500000   \n",
       "max      72.000000   900.000000          26049.000000          24882.000000   \n",
       "\n",
       "       votos_nulos  votos_no_marcados   total_votos    closeness      cod_dep  \\\n",
       "count  1123.000000        1123.000000   1123.000000  1123.000000  1123.000000   \n",
       "mean     36.474622          11.687444    662.975067    96.647373    36.609083   \n",
       "std     149.834401          49.470902   2209.532263    14.633806    26.102455   \n",
       "min       0.000000           0.000000      1.000000     0.000000    -1.000000   \n",
       "25%       3.000000           1.000000     72.000000   100.000000    15.000000   \n",
       "50%       8.000000           3.000000    189.000000   100.000000    25.000000   \n",
       "75%      20.000000           8.000000    487.500000   100.000000    63.000000   \n",
       "max    3244.000000         714.000000  38073.000000   100.000000    99.000000   \n",
       "\n",
       "            cod_mun  \n",
       "count   1123.000000  \n",
       "mean   37050.193232  \n",
       "std    26066.135354  \n",
       "min       -1.000000  \n",
       "25%    15515.000000  \n",
       "50%    25736.000000  \n",
       "75%    63160.000000  \n",
       "max    99773.000000  "
      ]
     },
     "execution_count": 12,
     "metadata": {},
     "output_type": "execute_result"
    }
   ],
   "source": [
    "df_liberal.describe()"
   ]
  },
  {
   "cell_type": "markdown",
   "metadata": {
    "slideshow": {
     "slide_type": "subslide"
    }
   },
   "source": [
    "### Funciones útiles y rápidas\n",
    "* value_counts()\n",
    "* max()/min()/mean()\n",
    "* unique()/drop_duplicates()\n"
   ]
  },
  {
   "cell_type": "code",
   "execution_count": 29,
   "metadata": {
    "slideshow": {
     "slide_type": "-"
    }
   },
   "outputs": [
    {
     "data": {
      "text/plain": [
       "0       ANTIOQUIA\n",
       "1       ANTIOQUIA\n",
       "2       ANTIOQUIA\n",
       "3       ANTIOQUIA\n",
       "4       ANTIOQUIA\n",
       "          ...    \n",
       "1118       VAUPES\n",
       "1119      VICHADA\n",
       "1120      VICHADA\n",
       "1121      VICHADA\n",
       "1122      VICHADA\n",
       "Name: departamento, Length: 1123, dtype: object"
      ]
     },
     "execution_count": 29,
     "metadata": {},
     "output_type": "execute_result"
    }
   ],
   "source": [
    "df_liberal.departamento"
   ]
  },
  {
   "cell_type": "markdown",
   "metadata": {
    "slideshow": {
     "slide_type": "subslide"
    }
   },
   "source": [
    "### import seaborn as sns\n",
    "* Scatterplot\n",
    "* Distplot/Histplot/Barplot/Boxplot\n",
    "* Joinplot/Pairplot\n",
    "* Corrheatmap"
   ]
  },
  {
   "cell_type": "markdown",
   "metadata": {
    "slideshow": {
     "slide_type": "notes"
    }
   },
   "source": [
    "Librería pensada específicamente para hacer análisis estadísticos\n",
    "\n",
    "Desarrollada encima de matplotlib\n",
    "\n",
    "Pensada para integrarse muy bien con Pandas"
   ]
  },
  {
   "cell_type": "code",
   "execution_count": 31,
   "metadata": {
    "cell_style": "split",
    "slideshow": {
     "slide_type": "subslide"
    }
   },
   "outputs": [
    {
     "data": {
      "text/html": [
       "<div>\n",
       "<style scoped>\n",
       "    .dataframe tbody tr th:only-of-type {\n",
       "        vertical-align: middle;\n",
       "    }\n",
       "\n",
       "    .dataframe tbody tr th {\n",
       "        vertical-align: top;\n",
       "    }\n",
       "\n",
       "    .dataframe thead th {\n",
       "        text-align: right;\n",
       "    }\n",
       "</style>\n",
       "<table border=\"1\" class=\"dataframe\">\n",
       "  <thead>\n",
       "    <tr style=\"text-align: right;\">\n",
       "      <th></th>\n",
       "      <th>total_bill</th>\n",
       "      <th>tip</th>\n",
       "      <th>sex</th>\n",
       "      <th>smoker</th>\n",
       "      <th>day</th>\n",
       "      <th>time</th>\n",
       "      <th>size</th>\n",
       "    </tr>\n",
       "  </thead>\n",
       "  <tbody>\n",
       "    <tr>\n",
       "      <th>0</th>\n",
       "      <td>16.99</td>\n",
       "      <td>1.01</td>\n",
       "      <td>Female</td>\n",
       "      <td>No</td>\n",
       "      <td>Sun</td>\n",
       "      <td>Dinner</td>\n",
       "      <td>2</td>\n",
       "    </tr>\n",
       "    <tr>\n",
       "      <th>1</th>\n",
       "      <td>10.34</td>\n",
       "      <td>1.66</td>\n",
       "      <td>Male</td>\n",
       "      <td>No</td>\n",
       "      <td>Sun</td>\n",
       "      <td>Dinner</td>\n",
       "      <td>3</td>\n",
       "    </tr>\n",
       "    <tr>\n",
       "      <th>2</th>\n",
       "      <td>21.01</td>\n",
       "      <td>3.50</td>\n",
       "      <td>Male</td>\n",
       "      <td>No</td>\n",
       "      <td>Sun</td>\n",
       "      <td>Dinner</td>\n",
       "      <td>3</td>\n",
       "    </tr>\n",
       "  </tbody>\n",
       "</table>\n",
       "</div>"
      ],
      "text/plain": [
       "   total_bill   tip     sex smoker  day    time  size\n",
       "0       16.99  1.01  Female     No  Sun  Dinner     2\n",
       "1       10.34  1.66    Male     No  Sun  Dinner     3\n",
       "2       21.01  3.50    Male     No  Sun  Dinner     3"
      ]
     },
     "execution_count": 31,
     "metadata": {},
     "output_type": "execute_result"
    }
   ],
   "source": [
    "import seaborn as sns\n",
    "tips = sns.load_dataset(\"tips\")\n",
    "tips.head(3)"
   ]
  },
  {
   "cell_type": "markdown",
   "metadata": {
    "cell_style": "split",
    "slideshow": {
     "slide_type": "-"
    }
   },
   "source": [
    "* [Scatterplot](https://seaborn.pydata.org/generated/seaborn.scatterplot.html)\n"
   ]
  },
  {
   "cell_type": "markdown",
   "metadata": {
    "cell_style": "split",
    "slideshow": {
     "slide_type": "-"
    }
   },
   "source": [
    "* [Displot](https://seaborn.pydata.org/generated/seaborn.distplot.html)"
   ]
  },
  {
   "cell_type": "markdown",
   "metadata": {
    "cell_style": "split",
    "slideshow": {
     "slide_type": "-"
    }
   },
   "source": [
    "* [Jointplot](https://seaborn.pydata.org/generated/seaborn.jointplot.html)"
   ]
  },
  {
   "cell_type": "code",
   "execution_count": 33,
   "metadata": {
    "cell_style": "center",
    "slideshow": {
     "slide_type": "fragment"
    }
   },
   "outputs": [
    {
     "data": {
      "text/plain": [
       "<matplotlib.axes._subplots.AxesSubplot at 0x22dea53c4e0>"
      ]
     },
     "execution_count": 33,
     "metadata": {},
     "output_type": "execute_result"
    },
    {
     "data": {
      "image/png": "[encoded data removed]",
      "text/plain": [
       "<Figure size 432x288 with 1 Axes>"
      ]
     },
     "metadata": {
      "needs_background": "light"
     },
     "output_type": "display_data"
    }
   ],
   "source": [
    "sns.scatterplot(x='tip', y='total_bill',data=tips.head(3))"
   ]
  },
  {
   "cell_type": "code",
   "execution_count": 58,
   "metadata": {
    "slideshow": {
     "slide_type": "subslide"
    }
   },
   "outputs": [
    {
     "data": {
      "text/html": [
       "<div>\n",
       "<style scoped>\n",
       "    .dataframe tbody tr th:only-of-type {\n",
       "        vertical-align: middle;\n",
       "    }\n",
       "\n",
       "    .dataframe tbody tr th {\n",
       "        vertical-align: top;\n",
       "    }\n",
       "\n",
       "    .dataframe thead th {\n",
       "        text-align: right;\n",
       "    }\n",
       "</style>\n",
       "<table border=\"1\" class=\"dataframe\">\n",
       "  <thead>\n",
       "    <tr style=\"text-align: right;\">\n",
       "      <th></th>\n",
       "      <th>cd</th>\n",
       "      <th>departamento</th>\n",
       "      <th>cm</th>\n",
       "      <th>municipio</th>\n",
       "      <th>juan_fernando_cristo</th>\n",
       "      <th>humberto_de_la_calle</th>\n",
       "      <th>votos_nulos</th>\n",
       "      <th>votos_no_marcados</th>\n",
       "      <th>total_votos</th>\n",
       "      <th>nom_dep_mun</th>\n",
       "      <th>cod_dep_mun</th>\n",
       "      <th>closeness</th>\n",
       "      <th>cod_dep</th>\n",
       "      <th>cod_mun</th>\n",
       "    </tr>\n",
       "  </thead>\n",
       "  <tbody>\n",
       "    <tr>\n",
       "      <th>0</th>\n",
       "      <td>1</td>\n",
       "      <td>ANTIOQUIA</td>\n",
       "      <td>1</td>\n",
       "      <td>MEDELLIN</td>\n",
       "      <td>4259</td>\n",
       "      <td>12523</td>\n",
       "      <td>1237</td>\n",
       "      <td>360</td>\n",
       "      <td>18379</td>\n",
       "      <td>antioquia_medellin</td>\n",
       "      <td>05_5001.0</td>\n",
       "      <td>100</td>\n",
       "      <td>5</td>\n",
       "      <td>5001</td>\n",
       "    </tr>\n",
       "    <tr>\n",
       "      <th>1</th>\n",
       "      <td>1</td>\n",
       "      <td>ANTIOQUIA</td>\n",
       "      <td>4</td>\n",
       "      <td>ABEJORRAL</td>\n",
       "      <td>21</td>\n",
       "      <td>280</td>\n",
       "      <td>10</td>\n",
       "      <td>5</td>\n",
       "      <td>316</td>\n",
       "      <td>antioquia_abejorral</td>\n",
       "      <td>05_5002.0</td>\n",
       "      <td>100</td>\n",
       "      <td>5</td>\n",
       "      <td>5002</td>\n",
       "    </tr>\n",
       "    <tr>\n",
       "      <th>2</th>\n",
       "      <td>1</td>\n",
       "      <td>ANTIOQUIA</td>\n",
       "      <td>7</td>\n",
       "      <td>ABRIAQUI</td>\n",
       "      <td>2</td>\n",
       "      <td>7</td>\n",
       "      <td>1</td>\n",
       "      <td>0</td>\n",
       "      <td>10</td>\n",
       "      <td>antioquia_abriaqui</td>\n",
       "      <td>05_5004.0</td>\n",
       "      <td>100</td>\n",
       "      <td>5</td>\n",
       "      <td>5004</td>\n",
       "    </tr>\n",
       "  </tbody>\n",
       "</table>\n",
       "</div>"
      ],
      "text/plain": [
       "   cd departamento  cm  municipio  juan_fernando_cristo  humberto_de_la_calle  \\\n",
       "0   1    ANTIOQUIA   1   MEDELLIN                  4259                 12523   \n",
       "1   1    ANTIOQUIA   4  ABEJORRAL                    21                   280   \n",
       "2   1    ANTIOQUIA   7   ABRIAQUI                     2                     7   \n",
       "\n",
       "   votos_nulos  votos_no_marcados  total_votos          nom_dep_mun  \\\n",
       "0         1237                360        18379   antioquia_medellin   \n",
       "1           10                  5          316  antioquia_abejorral   \n",
       "2            1                  0           10   antioquia_abriaqui   \n",
       "\n",
       "  cod_dep_mun  closeness  cod_dep  cod_mun  \n",
       "0   05_5001.0        100        5     5001  \n",
       "1   05_5002.0        100        5     5002  \n",
       "2   05_5004.0        100        5     5004  "
      ]
     },
     "execution_count": 58,
     "metadata": {},
     "output_type": "execute_result"
    }
   ],
   "source": [
    "df_liberal.head(3)"
   ]
  },
  {
   "cell_type": "code",
   "execution_count": null,
   "metadata": {
    "slideshow": {
     "slide_type": "-"
    }
   },
   "outputs": [],
   "source": [
    "sns.scatterplot(data=df_liberal,\n",
    "                x='',\n",
    "                y='')"
   ]
  },
  {
   "cell_type": "code",
   "execution_count": 40,
   "metadata": {
    "code_folding": [
     0
    ],
    "slideshow": {
     "slide_type": "fragment"
    }
   },
   "outputs": [
    {
     "data": {
      "text/plain": [
       "Text(0, 0.5, 'votos_candidato')"
      ]
     },
     "execution_count": 40,
     "metadata": {},
     "output_type": "execute_result"
    },
    {
     "data": {
      "image/png": "[encoded data removed]",
      "text/plain": [
       "<Figure size 432x288 with 1 Axes>"
      ]
     },
     "metadata": {
      "needs_background": "light"
     },
     "output_type": "display_data"
    }
   ],
   "source": [
    "#resp_scatter\n",
    "import matplotlib.pyplot as plt\n",
    "\n",
    "sns.scatterplot(data=df_liberal, \n",
    "                x=\"total_votos\", \n",
    "                y=\"humberto_de_la_calle\",\n",
    "                s=10,\n",
    "                alpha=0.5, \n",
    "                color='blue',\n",
    "                label='De la Calle')\n",
    "sns.scatterplot(data=df_liberal, \n",
    "                x=\"total_votos\", \n",
    "                y=\"juan_fernando_cristo\",\n",
    "                s=10,\n",
    "                alpha=0.5, \n",
    "                color='red',\n",
    "                label='Cristo')\n",
    "plt.legend()\n",
    "plt.ylabel('votos_candidato')"
   ]
  },
  {
   "cell_type": "markdown",
   "metadata": {
    "slideshow": {
     "slide_type": "subslide"
    }
   },
   "source": [
    "### Retomemos las preguntas..."
   ]
  },
  {
   "cell_type": "markdown",
   "metadata": {
    "cell_style": "center",
    "slideshow": {
     "slide_type": "fragment"
    }
   },
   "source": [
    "* ¿Cuáles fueron los departamentos más importantes en ambas elecciones? ¿Y los municipios?"
   ]
  },
  {
   "cell_type": "markdown",
   "metadata": {
    "cell_style": "split",
    "slideshow": {
     "slide_type": "fragment"
    }
   },
   "source": [
    "Veamos [lo que dijo](https://lasillavacia.com/cinco-conclusiones-de-la-consulta-liberal-63522) La Silla Vacía: "
   ]
  },
  {
   "cell_type": "markdown",
   "metadata": {
    "cell_style": "split",
    "slideshow": {
     "slide_type": "fragment"
    }
   },
   "source": [
    "<div class=\"naked-img\">\n",
    "    <img src=\"files/liberal_la_silla.JPG\" width=\"900\">\n",
    "</div>\n",
    "<script>\n",
    "    $(\"naked-img\").css(\"margin-left\", \"15%\");\n",
    "</script>"
   ]
  },
  {
   "cell_type": "markdown",
   "metadata": {
    "slideshow": {
     "slide_type": "subslide"
    }
   },
   "source": [
    "### Vamos a reconstruir sus pasos"
   ]
  },
  {
   "cell_type": "code",
   "execution_count": 59,
   "metadata": {
    "code_folding": [],
    "slideshow": {
     "slide_type": "fragment"
    }
   },
   "outputs": [],
   "source": [
    "temp = pd.pivot_table(index='departamento', \n",
    "                      aggfunc={'juan_fernando_cristo':'sum', 'humberto_de_la_calle':'sum','total_votos':'sum'}, \n",
    "                      data=df_liberal).reset_index()"
   ]
  },
  {
   "cell_type": "code",
   "execution_count": 63,
   "metadata": {
    "slideshow": {
     "slide_type": "fragment"
    }
   },
   "outputs": [
    {
     "data": {
      "text/html": [
       "<div>\n",
       "<style scoped>\n",
       "    .dataframe tbody tr th:only-of-type {\n",
       "        vertical-align: middle;\n",
       "    }\n",
       "\n",
       "    .dataframe tbody tr th {\n",
       "        vertical-align: top;\n",
       "    }\n",
       "\n",
       "    .dataframe thead th {\n",
       "        text-align: right;\n",
       "    }\n",
       "</style>\n",
       "<table border=\"1\" class=\"dataframe\">\n",
       "  <thead>\n",
       "    <tr style=\"text-align: right;\">\n",
       "      <th></th>\n",
       "      <th>departamento</th>\n",
       "      <th>humberto_de_la_calle</th>\n",
       "      <th>juan_fernando_cristo</th>\n",
       "      <th>total_votos</th>\n",
       "    </tr>\n",
       "  </thead>\n",
       "  <tbody>\n",
       "    <tr>\n",
       "      <th>4</th>\n",
       "      <td>BOGOTA D.C.</td>\n",
       "      <td>75144</td>\n",
       "      <td>16021</td>\n",
       "      <td>100106</td>\n",
       "    </tr>\n",
       "    <tr>\n",
       "      <th>1</th>\n",
       "      <td>ANTIOQUIA</td>\n",
       "      <td>38818</td>\n",
       "      <td>31633</td>\n",
       "      <td>75893</td>\n",
       "    </tr>\n",
       "    <tr>\n",
       "      <th>30</th>\n",
       "      <td>VALLE</td>\n",
       "      <td>47458</td>\n",
       "      <td>21202</td>\n",
       "      <td>74631</td>\n",
       "    </tr>\n",
       "    <tr>\n",
       "      <th>3</th>\n",
       "      <td>ATLANTICO</td>\n",
       "      <td>29084</td>\n",
       "      <td>38997</td>\n",
       "      <td>71093</td>\n",
       "    </tr>\n",
       "    <tr>\n",
       "      <th>22</th>\n",
       "      <td>NORTE DE SANTANDER</td>\n",
       "      <td>3798</td>\n",
       "      <td>39002</td>\n",
       "      <td>48111</td>\n",
       "    </tr>\n",
       "  </tbody>\n",
       "</table>\n",
       "</div>"
      ],
      "text/plain": [
       "          departamento  humberto_de_la_calle  juan_fernando_cristo  \\\n",
       "4          BOGOTA D.C.                 75144                 16021   \n",
       "1            ANTIOQUIA                 38818                 31633   \n",
       "30               VALLE                 47458                 21202   \n",
       "3            ATLANTICO                 29084                 38997   \n",
       "22  NORTE DE SANTANDER                  3798                 39002   \n",
       "\n",
       "    total_votos  \n",
       "4        100106  \n",
       "1         75893  \n",
       "30        74631  \n",
       "3         71093  \n",
       "22        48111  "
      ]
     },
     "execution_count": 63,
     "metadata": {},
     "output_type": "execute_result"
    }
   ],
   "source": [
    "temp.sort_values(by='total_votos',ascending=False).head(5)"
   ]
  },
  {
   "cell_type": "code",
   "execution_count": 55,
   "metadata": {
    "code_folding": [
     0,
     6,
     15,
     18
    ],
    "slideshow": {
     "slide_type": "subslide"
    }
   },
   "outputs": [
    {
     "data": {
      "text/plain": [
       "<matplotlib.legend.Legend at 0x22deb7c04e0>"
      ]
     },
     "execution_count": 55,
     "metadata": {},
     "output_type": "execute_result"
    },
    {
     "data": {
      "image/png": "[encoded data removed]",
      "text/plain": [
       "<Figure size 1080x360 with 1 Axes>"
      ]
     },
     "metadata": {
      "needs_background": "light"
     },
     "output_type": "display_data"
    }
   ],
   "source": [
    "#plot\n",
    "import seaborn as sns\n",
    "import matplotlib.pyplot as plt\n",
    "\n",
    "plt.figure(figsize=(15,5))\n",
    "ax = plt.subplot(1,1,1)\n",
    "sns.barplot(x='departamento',\n",
    "            y='total_votos',\n",
    "            data=temp.sort_values(by='total_votos',\n",
    "                                  ascending=False),\n",
    "            color='blue',\n",
    "            label='De La Calle',\n",
    "            alpha=0.75,\n",
    "            ax=ax)\n",
    "\n",
    "ax.tick_params(axis='x',\n",
    "               labelrotation=90)\n",
    "\n",
    "sns.barplot(x='departamento',\n",
    "            y='juan_fernando_cristo',\n",
    "            data=temp.sort_values(by='total_votos',\n",
    "                                  ascending=False),\n",
    "            color='red',\n",
    "            label='Cristo',\n",
    "            alpha=0.75,\n",
    "            ax=ax)\n",
    "ax.set_ylabel('votos recibidos',fontsize=20)\n",
    "ax.set_xlabel('departamento',fontsize=20)\n",
    "ax.legend()\n",
    "#ax1.tick_params(axis='x',labelrotation=90)"
   ]
  },
  {
   "cell_type": "markdown",
   "metadata": {
    "slideshow": {
     "slide_type": "subslide"
    }
   },
   "source": [
    "### ¿Alguien vio el error?"
   ]
  },
  {
   "cell_type": "code",
   "execution_count": 64,
   "metadata": {
    "slideshow": {
     "slide_type": "fragment"
    }
   },
   "outputs": [],
   "source": [
    "temp['dif_abs'] = temp.humberto_de_la_calle - temp.juan_fernando_cristo"
   ]
  },
  {
   "cell_type": "code",
   "execution_count": 65,
   "metadata": {
    "slideshow": {
     "slide_type": "fragment"
    }
   },
   "outputs": [
    {
     "data": {
      "text/html": [
       "<div>\n",
       "<style scoped>\n",
       "    .dataframe tbody tr th:only-of-type {\n",
       "        vertical-align: middle;\n",
       "    }\n",
       "\n",
       "    .dataframe tbody tr th {\n",
       "        vertical-align: top;\n",
       "    }\n",
       "\n",
       "    .dataframe thead th {\n",
       "        text-align: right;\n",
       "    }\n",
       "</style>\n",
       "<table border=\"1\" class=\"dataframe\">\n",
       "  <thead>\n",
       "    <tr style=\"text-align: right;\">\n",
       "      <th></th>\n",
       "      <th>departamento</th>\n",
       "      <th>humberto_de_la_calle</th>\n",
       "      <th>juan_fernando_cristo</th>\n",
       "      <th>total_votos</th>\n",
       "      <th>dif_abs</th>\n",
       "    </tr>\n",
       "  </thead>\n",
       "  <tbody>\n",
       "    <tr>\n",
       "      <th>4</th>\n",
       "      <td>BOGOTA D.C.</td>\n",
       "      <td>75144</td>\n",
       "      <td>16021</td>\n",
       "      <td>100106</td>\n",
       "      <td>59123</td>\n",
       "    </tr>\n",
       "    <tr>\n",
       "      <th>30</th>\n",
       "      <td>VALLE</td>\n",
       "      <td>47458</td>\n",
       "      <td>21202</td>\n",
       "      <td>74631</td>\n",
       "      <td>26256</td>\n",
       "    </tr>\n",
       "    <tr>\n",
       "      <th>17</th>\n",
       "      <td>HUILA</td>\n",
       "      <td>11481</td>\n",
       "      <td>1228</td>\n",
       "      <td>13949</td>\n",
       "      <td>10253</td>\n",
       "    </tr>\n",
       "    <tr>\n",
       "      <th>20</th>\n",
       "      <td>META</td>\n",
       "      <td>12005</td>\n",
       "      <td>3340</td>\n",
       "      <td>17272</td>\n",
       "      <td>8665</td>\n",
       "    </tr>\n",
       "    <tr>\n",
       "      <th>1</th>\n",
       "      <td>ANTIOQUIA</td>\n",
       "      <td>38818</td>\n",
       "      <td>31633</td>\n",
       "      <td>75893</td>\n",
       "      <td>7185</td>\n",
       "    </tr>\n",
       "  </tbody>\n",
       "</table>\n",
       "</div>"
      ],
      "text/plain": [
       "   departamento  humberto_de_la_calle  juan_fernando_cristo  total_votos  \\\n",
       "4   BOGOTA D.C.                 75144                 16021       100106   \n",
       "30        VALLE                 47458                 21202        74631   \n",
       "17        HUILA                 11481                  1228        13949   \n",
       "20         META                 12005                  3340        17272   \n",
       "1     ANTIOQUIA                 38818                 31633        75893   \n",
       "\n",
       "    dif_abs  \n",
       "4     59123  \n",
       "30    26256  \n",
       "17    10253  \n",
       "20     8665  \n",
       "1      7185  "
      ]
     },
     "execution_count": 65,
     "metadata": {},
     "output_type": "execute_result"
    }
   ],
   "source": [
    "temp.sort_values(by='dif_abs',ascending=False).head()"
   ]
  },
  {
   "cell_type": "code",
   "execution_count": 66,
   "metadata": {
    "slideshow": {
     "slide_type": "fragment"
    }
   },
   "outputs": [
    {
     "data": {
      "text/html": [
       "<div>\n",
       "<style scoped>\n",
       "    .dataframe tbody tr th:only-of-type {\n",
       "        vertical-align: middle;\n",
       "    }\n",
       "\n",
       "    .dataframe tbody tr th {\n",
       "        vertical-align: top;\n",
       "    }\n",
       "\n",
       "    .dataframe thead th {\n",
       "        text-align: right;\n",
       "    }\n",
       "</style>\n",
       "<table border=\"1\" class=\"dataframe\">\n",
       "  <thead>\n",
       "    <tr style=\"text-align: right;\">\n",
       "      <th></th>\n",
       "      <th>departamento</th>\n",
       "      <th>humberto_de_la_calle</th>\n",
       "      <th>juan_fernando_cristo</th>\n",
       "      <th>total_votos</th>\n",
       "      <th>dif_abs</th>\n",
       "    </tr>\n",
       "  </thead>\n",
       "  <tbody>\n",
       "    <tr>\n",
       "      <th>21</th>\n",
       "      <td>NARIÑO</td>\n",
       "      <td>8255</td>\n",
       "      <td>14801</td>\n",
       "      <td>24293</td>\n",
       "      <td>-6546</td>\n",
       "    </tr>\n",
       "    <tr>\n",
       "      <th>28</th>\n",
       "      <td>SUCRE</td>\n",
       "      <td>8582</td>\n",
       "      <td>15341</td>\n",
       "      <td>24799</td>\n",
       "      <td>-6759</td>\n",
       "    </tr>\n",
       "    <tr>\n",
       "      <th>3</th>\n",
       "      <td>ATLANTICO</td>\n",
       "      <td>29084</td>\n",
       "      <td>38997</td>\n",
       "      <td>71093</td>\n",
       "      <td>-9913</td>\n",
       "    </tr>\n",
       "    <tr>\n",
       "      <th>5</th>\n",
       "      <td>BOLIVAR</td>\n",
       "      <td>5876</td>\n",
       "      <td>27639</td>\n",
       "      <td>34706</td>\n",
       "      <td>-21763</td>\n",
       "    </tr>\n",
       "    <tr>\n",
       "      <th>22</th>\n",
       "      <td>NORTE DE SANTANDER</td>\n",
       "      <td>3798</td>\n",
       "      <td>39002</td>\n",
       "      <td>48111</td>\n",
       "      <td>-35204</td>\n",
       "    </tr>\n",
       "  </tbody>\n",
       "</table>\n",
       "</div>"
      ],
      "text/plain": [
       "          departamento  humberto_de_la_calle  juan_fernando_cristo  \\\n",
       "21              NARIÑO                  8255                 14801   \n",
       "28               SUCRE                  8582                 15341   \n",
       "3            ATLANTICO                 29084                 38997   \n",
       "5              BOLIVAR                  5876                 27639   \n",
       "22  NORTE DE SANTANDER                  3798                 39002   \n",
       "\n",
       "    total_votos  dif_abs  \n",
       "21        24293    -6546  \n",
       "28        24799    -6759  \n",
       "3         71093    -9913  \n",
       "5         34706   -21763  \n",
       "22        48111   -35204  "
      ]
     },
     "execution_count": 66,
     "metadata": {},
     "output_type": "execute_result"
    }
   ],
   "source": [
    "temp.sort_values(by='dif_abs',ascending=False).tail()"
   ]
  },
  {
   "cell_type": "code",
   "execution_count": 80,
   "metadata": {
    "code_folding": [
     0
    ],
    "slideshow": {
     "slide_type": "subslide"
    }
   },
   "outputs": [
    {
     "data": {
      "text/plain": [
       "<matplotlib.legend.Legend at 0x22dee1bee80>"
      ]
     },
     "execution_count": 80,
     "metadata": {},
     "output_type": "execute_result"
    },
    {
     "data": {
      "image/png": "[encoded data removed]",
      "text/plain": [
       "<Figure size 1080x360 with 1 Axes>"
      ]
     },
     "metadata": {
      "needs_background": "light"
     },
     "output_type": "display_data"
    }
   ],
   "source": [
    "#plot_difs\n",
    "import seaborn as sns\n",
    "import matplotlib.pyplot as plt\n",
    "\n",
    "plt.figure(figsize=(15,5))\n",
    "ax = plt.subplot(1,1,1)\n",
    "sns.barplot(x='departamento',\n",
    "            y='humberto_de_la_calle',\n",
    "            data=temp.sort_values(by='dif_abs',\n",
    "                                  ascending=False),\n",
    "            color='blue',\n",
    "            label='De La Calle',\n",
    "            alpha=0.75,\n",
    "            ax=ax)\n",
    "\n",
    "ax.tick_params(axis='x',\n",
    "               labelrotation=90)\n",
    "\n",
    "sns.barplot(x='departamento',\n",
    "            y='juan_fernando_cristo',\n",
    "            data=temp.sort_values(by='dif_abs',\n",
    "                                  ascending=False),\n",
    "            color='red',\n",
    "            label='Cristo',\n",
    "            alpha=0.75,\n",
    "            ax=ax)\n",
    "ax.set_ylabel('votos recibidos',fontsize=20)\n",
    "ax.set_xlabel('departamento',fontsize=20)\n",
    "ax.legend()\n",
    "#ax1.tick_params(axis='x',labelrotation=90)"
   ]
  },
  {
   "cell_type": "code",
   "execution_count": 71,
   "metadata": {
    "cell_style": "split",
    "code_folding": [
     0
    ],
    "slideshow": {
     "slide_type": "subslide"
    }
   },
   "outputs": [
    {
     "data": {
      "text/plain": [
       "<matplotlib.legend.Legend at 0x22deddfc898>"
      ]
     },
     "execution_count": 71,
     "metadata": {},
     "output_type": "execute_result"
    },
    {
     "data": {
      "image/png": "[encoded data removed]",
      "text/plain": [
       "<Figure size 1080x360 with 1 Axes>"
      ]
     },
     "metadata": {
      "needs_background": "light"
     },
     "output_type": "display_data"
    }
   ],
   "source": [
    "#plot\n",
    "import seaborn as sns\n",
    "import matplotlib.pyplot as plt\n",
    "\n",
    "plt.figure(figsize=(15,5))\n",
    "ax = plt.subplot(1,1,1)\n",
    "sns.barplot(x='departamento',\n",
    "            y='total_votos',\n",
    "            data=temp.sort_values(by='total_votos',\n",
    "                                  ascending=False),\n",
    "            color='blue',\n",
    "            label='De La Calle',\n",
    "            alpha=0.75,\n",
    "            ax=ax)\n",
    "\n",
    "ax.tick_params(axis='x',\n",
    "               labelrotation=90)\n",
    "\n",
    "sns.barplot(x='departamento',\n",
    "            y='juan_fernando_cristo',\n",
    "            data=temp.sort_values(by='total_votos',\n",
    "                                  ascending=False),\n",
    "            color='red',\n",
    "            label='Cristo',\n",
    "            alpha=0.75,\n",
    "            ax=ax)\n",
    "ax.set_ylabel('votos recibidos',fontsize=20)\n",
    "ax.set_xlabel('departamento',fontsize=20)\n",
    "ax.legend()\n",
    "#ax1.tick_params(axis='x',labelrotation=90)"
   ]
  },
  {
   "cell_type": "code",
   "execution_count": 56,
   "metadata": {
    "cell_style": "split",
    "code_folding": [
     0
    ],
    "slideshow": {
     "slide_type": "-"
    }
   },
   "outputs": [
    {
     "data": {
      "text/plain": [
       "<matplotlib.legend.Legend at 0x22debb8f470>"
      ]
     },
     "execution_count": 56,
     "metadata": {},
     "output_type": "execute_result"
    },
    {
     "data": {
      "image/png": "[encoded data removed]",
      "text/plain": [
       "<Figure size 1080x360 with 1 Axes>"
      ]
     },
     "metadata": {
      "needs_background": "light"
     },
     "output_type": "display_data"
    }
   ],
   "source": [
    "#plot_difs\n",
    "import seaborn as sns\n",
    "import matplotlib.pyplot as plt\n",
    "\n",
    "plt.figure(figsize=(15,5))\n",
    "ax = plt.subplot(1,1,1)\n",
    "sns.barplot(x='departamento',\n",
    "            y='humberto_de_la_calle',\n",
    "            data=temp.sort_values(by='dif_abs',\n",
    "                                  ascending=False),\n",
    "            color='blue',\n",
    "            label='De La Calle',\n",
    "            alpha=0.75,\n",
    "            ax=ax)\n",
    "\n",
    "ax.tick_params(axis='x',\n",
    "               labelrotation=90)\n",
    "\n",
    "sns.barplot(x='departamento',\n",
    "            y='juan_fernando_cristo',\n",
    "            data=temp.sort_values(by='dif_abs',\n",
    "                                  ascending=False),\n",
    "            color='red',\n",
    "            label='Cristo',\n",
    "            alpha=0.75,\n",
    "            ax=ax)\n",
    "ax.set_ylabel('votos recibidos',fontsize=20)\n",
    "ax.set_xlabel('departamento',fontsize=20)\n",
    "ax.legend()\n",
    "#ax1.tick_params(axis='x',labelrotation=90)"
   ]
  },
  {
   "cell_type": "markdown",
   "metadata": {
    "slideshow": {
     "slide_type": "subslide"
    }
   },
   "source": [
    "### ¿Cómo resolverían la pregunta de los municipios?"
   ]
  },
  {
   "cell_type": "code",
   "execution_count": 72,
   "metadata": {
    "slideshow": {
     "slide_type": "fragment"
    }
   },
   "outputs": [],
   "source": [
    "temp_mun = pd.pivot_table(index=['departamento','municipio'], \n",
    "                          aggfunc={'juan_fernando_cristo':'sum', 'humberto_de_la_calle':'sum','total_votos':'sum'}, \n",
    "                          data=df_liberal).reset_index()"
   ]
  },
  {
   "cell_type": "code",
   "execution_count": 75,
   "metadata": {
    "slideshow": {
     "slide_type": "fragment"
    }
   },
   "outputs": [
    {
     "data": {
      "text/html": [
       "<div>\n",
       "<style scoped>\n",
       "    .dataframe tbody tr th:only-of-type {\n",
       "        vertical-align: middle;\n",
       "    }\n",
       "\n",
       "    .dataframe tbody tr th {\n",
       "        vertical-align: top;\n",
       "    }\n",
       "\n",
       "    .dataframe thead th {\n",
       "        text-align: right;\n",
       "    }\n",
       "</style>\n",
       "<table border=\"1\" class=\"dataframe\">\n",
       "  <thead>\n",
       "    <tr style=\"text-align: right;\">\n",
       "      <th></th>\n",
       "      <th>departamento</th>\n",
       "      <th>municipio</th>\n",
       "      <th>humberto_de_la_calle</th>\n",
       "      <th>juan_fernando_cristo</th>\n",
       "      <th>total_votos</th>\n",
       "    </tr>\n",
       "  </thead>\n",
       "  <tbody>\n",
       "    <tr>\n",
       "      <th>135</th>\n",
       "      <td>ATLANTICO</td>\n",
       "      <td>BARRANQUILLA</td>\n",
       "      <td>9935</td>\n",
       "      <td>26049</td>\n",
       "      <td>38073</td>\n",
       "    </tr>\n",
       "    <tr>\n",
       "      <th>1083</th>\n",
       "      <td>VALLE</td>\n",
       "      <td>CALI</td>\n",
       "      <td>24882</td>\n",
       "      <td>6206</td>\n",
       "      <td>33819</td>\n",
       "    </tr>\n",
       "    <tr>\n",
       "      <th>842</th>\n",
       "      <td>NORTE DE SANTANDER</td>\n",
       "      <td>CUCUTA</td>\n",
       "      <td>2445</td>\n",
       "      <td>22469</td>\n",
       "      <td>28624</td>\n",
       "    </tr>\n",
       "    <tr>\n",
       "      <th>70</th>\n",
       "      <td>ANTIOQUIA</td>\n",
       "      <td>MEDELLIN</td>\n",
       "      <td>12523</td>\n",
       "      <td>4259</td>\n",
       "      <td>18379</td>\n",
       "    </tr>\n",
       "    <tr>\n",
       "      <th>173</th>\n",
       "      <td>BOGOTA D.C.</td>\n",
       "      <td>SUBA</td>\n",
       "      <td>12525</td>\n",
       "      <td>1815</td>\n",
       "      <td>15689</td>\n",
       "    </tr>\n",
       "    <tr>\n",
       "      <th>...</th>\n",
       "      <td>...</td>\n",
       "      <td>...</td>\n",
       "      <td>...</td>\n",
       "      <td>...</td>\n",
       "      <td>...</td>\n",
       "    </tr>\n",
       "    <tr>\n",
       "      <th>266</th>\n",
       "      <td>BOYACA</td>\n",
       "      <td>GUICAN</td>\n",
       "      <td>0</td>\n",
       "      <td>3</td>\n",
       "      <td>4</td>\n",
       "    </tr>\n",
       "    <tr>\n",
       "      <th>233</th>\n",
       "      <td>BOYACA</td>\n",
       "      <td>BRICEÑO</td>\n",
       "      <td>1</td>\n",
       "      <td>2</td>\n",
       "      <td>3</td>\n",
       "    </tr>\n",
       "    <tr>\n",
       "      <th>599</th>\n",
       "      <td>CUNDINAMARCA</td>\n",
       "      <td>NIMAIMA</td>\n",
       "      <td>2</td>\n",
       "      <td>0</td>\n",
       "      <td>2</td>\n",
       "    </tr>\n",
       "    <tr>\n",
       "      <th>251</th>\n",
       "      <td>BOYACA</td>\n",
       "      <td>COVARACHIA</td>\n",
       "      <td>1</td>\n",
       "      <td>0</td>\n",
       "      <td>1</td>\n",
       "    </tr>\n",
       "    <tr>\n",
       "      <th>923</th>\n",
       "      <td>SANTANDER</td>\n",
       "      <td>CABRERA</td>\n",
       "      <td>1</td>\n",
       "      <td>0</td>\n",
       "      <td>1</td>\n",
       "    </tr>\n",
       "  </tbody>\n",
       "</table>\n",
       "<p>1123 rows × 5 columns</p>\n",
       "</div>"
      ],
      "text/plain": [
       "            departamento     municipio  humberto_de_la_calle  \\\n",
       "135            ATLANTICO  BARRANQUILLA                  9935   \n",
       "1083               VALLE          CALI                 24882   \n",
       "842   NORTE DE SANTANDER        CUCUTA                  2445   \n",
       "70             ANTIOQUIA      MEDELLIN                 12523   \n",
       "173          BOGOTA D.C.          SUBA                 12525   \n",
       "...                  ...           ...                   ...   \n",
       "266               BOYACA        GUICAN                     0   \n",
       "233               BOYACA       BRICEÑO                     1   \n",
       "599         CUNDINAMARCA       NIMAIMA                     2   \n",
       "251               BOYACA    COVARACHIA                     1   \n",
       "923            SANTANDER       CABRERA                     1   \n",
       "\n",
       "      juan_fernando_cristo  total_votos  \n",
       "135                  26049        38073  \n",
       "1083                  6206        33819  \n",
       "842                  22469        28624  \n",
       "70                    4259        18379  \n",
       "173                   1815        15689  \n",
       "...                    ...          ...  \n",
       "266                      3            4  \n",
       "233                      2            3  \n",
       "599                      0            2  \n",
       "251                      0            1  \n",
       "923                      0            1  \n",
       "\n",
       "[1123 rows x 5 columns]"
      ]
     },
     "execution_count": 75,
     "metadata": {},
     "output_type": "execute_result"
    }
   ],
   "source": [
    "temp_mun.sort_values(by='total_votos',ascending=False)"
   ]
  },
  {
   "cell_type": "code",
   "execution_count": 76,
   "metadata": {
    "slideshow": {
     "slide_type": "subslide"
    }
   },
   "outputs": [],
   "source": [
    "temp_mun['dif_abs'] = temp_mun.humberto_de_la_calle - temp_mun.juan_fernando_cristo"
   ]
  },
  {
   "cell_type": "code",
   "execution_count": 78,
   "metadata": {
    "slideshow": {
     "slide_type": "fragment"
    }
   },
   "outputs": [
    {
     "data": {
      "text/html": [
       "<div>\n",
       "<style scoped>\n",
       "    .dataframe tbody tr th:only-of-type {\n",
       "        vertical-align: middle;\n",
       "    }\n",
       "\n",
       "    .dataframe tbody tr th {\n",
       "        vertical-align: top;\n",
       "    }\n",
       "\n",
       "    .dataframe thead th {\n",
       "        text-align: right;\n",
       "    }\n",
       "</style>\n",
       "<table border=\"1\" class=\"dataframe\">\n",
       "  <thead>\n",
       "    <tr style=\"text-align: right;\">\n",
       "      <th></th>\n",
       "      <th>departamento</th>\n",
       "      <th>municipio</th>\n",
       "      <th>humberto_de_la_calle</th>\n",
       "      <th>juan_fernando_cristo</th>\n",
       "      <th>total_votos</th>\n",
       "      <th>dif_abs</th>\n",
       "    </tr>\n",
       "  </thead>\n",
       "  <tbody>\n",
       "    <tr>\n",
       "      <th>1083</th>\n",
       "      <td>VALLE</td>\n",
       "      <td>CALI</td>\n",
       "      <td>24882</td>\n",
       "      <td>6206</td>\n",
       "      <td>33819</td>\n",
       "      <td>18676</td>\n",
       "    </tr>\n",
       "    <tr>\n",
       "      <th>173</th>\n",
       "      <td>BOGOTA D.C.</td>\n",
       "      <td>SUBA</td>\n",
       "      <td>12525</td>\n",
       "      <td>1815</td>\n",
       "      <td>15689</td>\n",
       "      <td>10710</td>\n",
       "    </tr>\n",
       "    <tr>\n",
       "      <th>735</th>\n",
       "      <td>MAGDALENA</td>\n",
       "      <td>SANTA MARTA</td>\n",
       "      <td>11926</td>\n",
       "      <td>2213</td>\n",
       "      <td>14585</td>\n",
       "      <td>9713</td>\n",
       "    </tr>\n",
       "    <tr>\n",
       "      <th>177</th>\n",
       "      <td>BOGOTA D.C.</td>\n",
       "      <td>USAQUEN</td>\n",
       "      <td>11094</td>\n",
       "      <td>1574</td>\n",
       "      <td>13053</td>\n",
       "      <td>9520</td>\n",
       "    </tr>\n",
       "    <tr>\n",
       "      <th>70</th>\n",
       "      <td>ANTIOQUIA</td>\n",
       "      <td>MEDELLIN</td>\n",
       "      <td>12523</td>\n",
       "      <td>4259</td>\n",
       "      <td>18379</td>\n",
       "      <td>8264</td>\n",
       "    </tr>\n",
       "  </tbody>\n",
       "</table>\n",
       "</div>"
      ],
      "text/plain": [
       "     departamento    municipio  humberto_de_la_calle  juan_fernando_cristo  \\\n",
       "1083        VALLE         CALI                 24882                  6206   \n",
       "173   BOGOTA D.C.         SUBA                 12525                  1815   \n",
       "735     MAGDALENA  SANTA MARTA                 11926                  2213   \n",
       "177   BOGOTA D.C.      USAQUEN                 11094                  1574   \n",
       "70      ANTIOQUIA     MEDELLIN                 12523                  4259   \n",
       "\n",
       "      total_votos  dif_abs  \n",
       "1083        33819    18676  \n",
       "173         15689    10710  \n",
       "735         14585     9713  \n",
       "177         13053     9520  \n",
       "70          18379     8264  "
      ]
     },
     "execution_count": 78,
     "metadata": {},
     "output_type": "execute_result"
    }
   ],
   "source": [
    "temp_mun.sort_values(by='dif_abs',ascending=False).head()"
   ]
  },
  {
   "cell_type": "code",
   "execution_count": 79,
   "metadata": {
    "slideshow": {
     "slide_type": "fragment"
    }
   },
   "outputs": [
    {
     "data": {
      "text/html": [
       "<div>\n",
       "<style scoped>\n",
       "    .dataframe tbody tr th:only-of-type {\n",
       "        vertical-align: middle;\n",
       "    }\n",
       "\n",
       "    .dataframe tbody tr th {\n",
       "        vertical-align: top;\n",
       "    }\n",
       "\n",
       "    .dataframe thead th {\n",
       "        text-align: right;\n",
       "    }\n",
       "</style>\n",
       "<table border=\"1\" class=\"dataframe\">\n",
       "  <thead>\n",
       "    <tr style=\"text-align: right;\">\n",
       "      <th></th>\n",
       "      <th>departamento</th>\n",
       "      <th>municipio</th>\n",
       "      <th>humberto_de_la_calle</th>\n",
       "      <th>juan_fernando_cristo</th>\n",
       "      <th>total_votos</th>\n",
       "      <th>dif_abs</th>\n",
       "    </tr>\n",
       "  </thead>\n",
       "  <tbody>\n",
       "    <tr>\n",
       "      <th>1023</th>\n",
       "      <td>SUCRE</td>\n",
       "      <td>SINCELEJO</td>\n",
       "      <td>1774</td>\n",
       "      <td>5015</td>\n",
       "      <td>7132</td>\n",
       "      <td>-3241</td>\n",
       "    </tr>\n",
       "    <tr>\n",
       "      <th>520</th>\n",
       "      <td>CORDOBA</td>\n",
       "      <td>MONTERIA</td>\n",
       "      <td>1371</td>\n",
       "      <td>4612</td>\n",
       "      <td>6206</td>\n",
       "      <td>-3241</td>\n",
       "    </tr>\n",
       "    <tr>\n",
       "      <th>1114</th>\n",
       "      <td>VALLE</td>\n",
       "      <td>YUMBO</td>\n",
       "      <td>1202</td>\n",
       "      <td>5297</td>\n",
       "      <td>6897</td>\n",
       "      <td>-4095</td>\n",
       "    </tr>\n",
       "    <tr>\n",
       "      <th>135</th>\n",
       "      <td>ATLANTICO</td>\n",
       "      <td>BARRANQUILLA</td>\n",
       "      <td>9935</td>\n",
       "      <td>26049</td>\n",
       "      <td>38073</td>\n",
       "      <td>-16114</td>\n",
       "    </tr>\n",
       "    <tr>\n",
       "      <th>842</th>\n",
       "      <td>NORTE DE SANTANDER</td>\n",
       "      <td>CUCUTA</td>\n",
       "      <td>2445</td>\n",
       "      <td>22469</td>\n",
       "      <td>28624</td>\n",
       "      <td>-20024</td>\n",
       "    </tr>\n",
       "  </tbody>\n",
       "</table>\n",
       "</div>"
      ],
      "text/plain": [
       "            departamento     municipio  humberto_de_la_calle  \\\n",
       "1023               SUCRE     SINCELEJO                  1774   \n",
       "520              CORDOBA      MONTERIA                  1371   \n",
       "1114               VALLE         YUMBO                  1202   \n",
       "135            ATLANTICO  BARRANQUILLA                  9935   \n",
       "842   NORTE DE SANTANDER        CUCUTA                  2445   \n",
       "\n",
       "      juan_fernando_cristo  total_votos  dif_abs  \n",
       "1023                  5015         7132    -3241  \n",
       "520                   4612         6206    -3241  \n",
       "1114                  5297         6897    -4095  \n",
       "135                  26049        38073   -16114  \n",
       "842                  22469        28624   -20024  "
      ]
     },
     "execution_count": 79,
     "metadata": {},
     "output_type": "execute_result"
    }
   ],
   "source": [
    "temp_mun.sort_values(by='dif_abs',ascending=False).tail()"
   ]
  },
  {
   "cell_type": "code",
   "execution_count": 93,
   "metadata": {},
   "outputs": [],
   "source": [
    "df_plebi = pd.read_csv(\"../periodismo_datos_101/data/liberal_plebi/scrape_plebiscito_cod.csv\")"
   ]
  },
  {
   "cell_type": "code",
   "execution_count": 95,
   "metadata": {},
   "outputs": [
    {
     "data": {
      "text/html": [
       "<div>\n",
       "<style scoped>\n",
       "    .dataframe tbody tr th:only-of-type {\n",
       "        vertical-align: middle;\n",
       "    }\n",
       "\n",
       "    .dataframe tbody tr th {\n",
       "        vertical-align: top;\n",
       "    }\n",
       "\n",
       "    .dataframe thead th {\n",
       "        text-align: right;\n",
       "    }\n",
       "</style>\n",
       "<table border=\"1\" class=\"dataframe\">\n",
       "  <thead>\n",
       "    <tr style=\"text-align: right;\">\n",
       "      <th></th>\n",
       "      <th>municipio</th>\n",
       "      <th>link</th>\n",
       "      <th>departamento</th>\n",
       "      <th>votos_si</th>\n",
       "      <th>votos_no</th>\n",
       "      <th>votos_validos</th>\n",
       "      <th>votos_no_marcados</th>\n",
       "      <th>votos_nulos</th>\n",
       "      <th>votos_totales</th>\n",
       "      <th>votos_habilitados</th>\n",
       "      <th>nom_dep_mun</th>\n",
       "      <th>cod_dep_mun</th>\n",
       "      <th>closeness</th>\n",
       "      <th>cod_dep</th>\n",
       "      <th>cod_mun</th>\n",
       "    </tr>\n",
       "  </thead>\n",
       "  <tbody>\n",
       "    <tr>\n",
       "      <th>0</th>\n",
       "      <td>EL ENCANTO</td>\n",
       "      <td>../99PL/DPL60010ZZZZZZZZZZZZ_L1.htm</td>\n",
       "      <td>AMAZONAS</td>\n",
       "      <td>170</td>\n",
       "      <td>51</td>\n",
       "      <td>221</td>\n",
       "      <td>0</td>\n",
       "      <td>2</td>\n",
       "      <td>223</td>\n",
       "      <td>743</td>\n",
       "      <td>amazonas_el encanto</td>\n",
       "      <td>91_91263.0</td>\n",
       "      <td>100</td>\n",
       "      <td>91</td>\n",
       "      <td>91263</td>\n",
       "    </tr>\n",
       "    <tr>\n",
       "      <th>1</th>\n",
       "      <td>LA CHORRERA</td>\n",
       "      <td>../99PL/DPL60013ZZZZZZZZZZZZ_L1.htm</td>\n",
       "      <td>AMAZONAS</td>\n",
       "      <td>300</td>\n",
       "      <td>62</td>\n",
       "      <td>362</td>\n",
       "      <td>1</td>\n",
       "      <td>3</td>\n",
       "      <td>366</td>\n",
       "      <td>1030</td>\n",
       "      <td>amazonas_la chorrera</td>\n",
       "      <td>91_91405.0</td>\n",
       "      <td>100</td>\n",
       "      <td>91</td>\n",
       "      <td>91405</td>\n",
       "    </tr>\n",
       "    <tr>\n",
       "      <th>2</th>\n",
       "      <td>LA PEDRERA</td>\n",
       "      <td>../99PL/DPL60016ZZZZZZZZZZZZ_L1.htm</td>\n",
       "      <td>AMAZONAS</td>\n",
       "      <td>189</td>\n",
       "      <td>25</td>\n",
       "      <td>214</td>\n",
       "      <td>1</td>\n",
       "      <td>1</td>\n",
       "      <td>216</td>\n",
       "      <td>1008</td>\n",
       "      <td>amazonas_la pedrera</td>\n",
       "      <td>91_91407.0</td>\n",
       "      <td>100</td>\n",
       "      <td>91</td>\n",
       "      <td>91407</td>\n",
       "    </tr>\n",
       "    <tr>\n",
       "      <th>3</th>\n",
       "      <td>LA VICTORIA</td>\n",
       "      <td>../99PL/DPL60017ZZZZZZZZZZZZ_L1.htm</td>\n",
       "      <td>AMAZONAS</td>\n",
       "      <td>4</td>\n",
       "      <td>1</td>\n",
       "      <td>5</td>\n",
       "      <td>0</td>\n",
       "      <td>0</td>\n",
       "      <td>5</td>\n",
       "      <td>18</td>\n",
       "      <td>amazonas_la victoria</td>\n",
       "      <td>91_91430.0</td>\n",
       "      <td>100</td>\n",
       "      <td>91</td>\n",
       "      <td>91430</td>\n",
       "    </tr>\n",
       "    <tr>\n",
       "      <th>4</th>\n",
       "      <td>LETICIA</td>\n",
       "      <td>../99PL/DPL60001ZZZZZZZZZZZZ_L1.htm</td>\n",
       "      <td>AMAZONAS</td>\n",
       "      <td>4403</td>\n",
       "      <td>4463</td>\n",
       "      <td>8866</td>\n",
       "      <td>40</td>\n",
       "      <td>84</td>\n",
       "      <td>8990</td>\n",
       "      <td>34592</td>\n",
       "      <td>amazonas_leticia</td>\n",
       "      <td>91_91001.0</td>\n",
       "      <td>100</td>\n",
       "      <td>91</td>\n",
       "      <td>91001</td>\n",
       "    </tr>\n",
       "  </tbody>\n",
       "</table>\n",
       "</div>"
      ],
      "text/plain": [
       "     municipio                                 link departamento  votos_si  \\\n",
       "0   EL ENCANTO  ../99PL/DPL60010ZZZZZZZZZZZZ_L1.htm     AMAZONAS       170   \n",
       "1  LA CHORRERA  ../99PL/DPL60013ZZZZZZZZZZZZ_L1.htm     AMAZONAS       300   \n",
       "2   LA PEDRERA  ../99PL/DPL60016ZZZZZZZZZZZZ_L1.htm     AMAZONAS       189   \n",
       "3  LA VICTORIA  ../99PL/DPL60017ZZZZZZZZZZZZ_L1.htm     AMAZONAS         4   \n",
       "4      LETICIA  ../99PL/DPL60001ZZZZZZZZZZZZ_L1.htm     AMAZONAS      4403   \n",
       "\n",
       "   votos_no  votos_validos  votos_no_marcados  votos_nulos  votos_totales  \\\n",
       "0        51            221                  0            2            223   \n",
       "1        62            362                  1            3            366   \n",
       "2        25            214                  1            1            216   \n",
       "3         1              5                  0            0              5   \n",
       "4      4463           8866                 40           84           8990   \n",
       "\n",
       "   votos_habilitados           nom_dep_mun cod_dep_mun  closeness  cod_dep  \\\n",
       "0                743   amazonas_el encanto  91_91263.0        100       91   \n",
       "1               1030  amazonas_la chorrera  91_91405.0        100       91   \n",
       "2               1008   amazonas_la pedrera  91_91407.0        100       91   \n",
       "3                 18  amazonas_la victoria  91_91430.0        100       91   \n",
       "4              34592      amazonas_leticia  91_91001.0        100       91   \n",
       "\n",
       "   cod_mun  \n",
       "0    91263  \n",
       "1    91405  \n",
       "2    91407  \n",
       "3    91430  \n",
       "4    91001  "
      ]
     },
     "execution_count": 95,
     "metadata": {},
     "output_type": "execute_result"
    }
   ],
   "source": [
    "df_plebi.head()"
   ]
  },
  {
   "cell_type": "code",
   "execution_count": 97,
   "metadata": {},
   "outputs": [
    {
     "data": {
      "text/html": [
       "<div>\n",
       "<style scoped>\n",
       "    .dataframe tbody tr th:only-of-type {\n",
       "        vertical-align: middle;\n",
       "    }\n",
       "\n",
       "    .dataframe tbody tr th {\n",
       "        vertical-align: top;\n",
       "    }\n",
       "\n",
       "    .dataframe thead th {\n",
       "        text-align: right;\n",
       "    }\n",
       "</style>\n",
       "<table border=\"1\" class=\"dataframe\">\n",
       "  <thead>\n",
       "    <tr style=\"text-align: right;\">\n",
       "      <th></th>\n",
       "      <th>cd</th>\n",
       "      <th>departamento</th>\n",
       "      <th>cm</th>\n",
       "      <th>municipio</th>\n",
       "      <th>juan_fernando_cristo</th>\n",
       "      <th>humberto_de_la_calle</th>\n",
       "      <th>votos_nulos</th>\n",
       "      <th>votos_no_marcados</th>\n",
       "      <th>total_votos</th>\n",
       "      <th>nom_dep_mun</th>\n",
       "      <th>cod_dep_mun</th>\n",
       "      <th>closeness</th>\n",
       "      <th>cod_dep</th>\n",
       "      <th>cod_mun</th>\n",
       "    </tr>\n",
       "  </thead>\n",
       "  <tbody>\n",
       "    <tr>\n",
       "      <th>0</th>\n",
       "      <td>1</td>\n",
       "      <td>ANTIOQUIA</td>\n",
       "      <td>1</td>\n",
       "      <td>MEDELLIN</td>\n",
       "      <td>4259</td>\n",
       "      <td>12523</td>\n",
       "      <td>1237</td>\n",
       "      <td>360</td>\n",
       "      <td>18379</td>\n",
       "      <td>antioquia_medellin</td>\n",
       "      <td>05_5001.0</td>\n",
       "      <td>100</td>\n",
       "      <td>5</td>\n",
       "      <td>5001</td>\n",
       "    </tr>\n",
       "    <tr>\n",
       "      <th>1</th>\n",
       "      <td>1</td>\n",
       "      <td>ANTIOQUIA</td>\n",
       "      <td>4</td>\n",
       "      <td>ABEJORRAL</td>\n",
       "      <td>21</td>\n",
       "      <td>280</td>\n",
       "      <td>10</td>\n",
       "      <td>5</td>\n",
       "      <td>316</td>\n",
       "      <td>antioquia_abejorral</td>\n",
       "      <td>05_5002.0</td>\n",
       "      <td>100</td>\n",
       "      <td>5</td>\n",
       "      <td>5002</td>\n",
       "    </tr>\n",
       "    <tr>\n",
       "      <th>2</th>\n",
       "      <td>1</td>\n",
       "      <td>ANTIOQUIA</td>\n",
       "      <td>7</td>\n",
       "      <td>ABRIAQUI</td>\n",
       "      <td>2</td>\n",
       "      <td>7</td>\n",
       "      <td>1</td>\n",
       "      <td>0</td>\n",
       "      <td>10</td>\n",
       "      <td>antioquia_abriaqui</td>\n",
       "      <td>05_5004.0</td>\n",
       "      <td>100</td>\n",
       "      <td>5</td>\n",
       "      <td>5004</td>\n",
       "    </tr>\n",
       "    <tr>\n",
       "      <th>3</th>\n",
       "      <td>1</td>\n",
       "      <td>ANTIOQUIA</td>\n",
       "      <td>10</td>\n",
       "      <td>ALEJANDRIA</td>\n",
       "      <td>15</td>\n",
       "      <td>34</td>\n",
       "      <td>0</td>\n",
       "      <td>1</td>\n",
       "      <td>50</td>\n",
       "      <td>antioquia_alejandria</td>\n",
       "      <td>05_5021.0</td>\n",
       "      <td>100</td>\n",
       "      <td>5</td>\n",
       "      <td>5021</td>\n",
       "    </tr>\n",
       "    <tr>\n",
       "      <th>4</th>\n",
       "      <td>1</td>\n",
       "      <td>ANTIOQUIA</td>\n",
       "      <td>13</td>\n",
       "      <td>AMAGA</td>\n",
       "      <td>11</td>\n",
       "      <td>102</td>\n",
       "      <td>15</td>\n",
       "      <td>0</td>\n",
       "      <td>128</td>\n",
       "      <td>antioquia_amaga</td>\n",
       "      <td>05_5030.0</td>\n",
       "      <td>100</td>\n",
       "      <td>5</td>\n",
       "      <td>5030</td>\n",
       "    </tr>\n",
       "  </tbody>\n",
       "</table>\n",
       "</div>"
      ],
      "text/plain": [
       "   cd departamento  cm   municipio  juan_fernando_cristo  \\\n",
       "0   1    ANTIOQUIA   1    MEDELLIN                  4259   \n",
       "1   1    ANTIOQUIA   4   ABEJORRAL                    21   \n",
       "2   1    ANTIOQUIA   7    ABRIAQUI                     2   \n",
       "3   1    ANTIOQUIA  10  ALEJANDRIA                    15   \n",
       "4   1    ANTIOQUIA  13       AMAGA                    11   \n",
       "\n",
       "   humberto_de_la_calle  votos_nulos  votos_no_marcados  total_votos  \\\n",
       "0                 12523         1237                360        18379   \n",
       "1                   280           10                  5          316   \n",
       "2                     7            1                  0           10   \n",
       "3                    34            0                  1           50   \n",
       "4                   102           15                  0          128   \n",
       "\n",
       "            nom_dep_mun cod_dep_mun  closeness  cod_dep  cod_mun  \n",
       "0    antioquia_medellin   05_5001.0        100        5     5001  \n",
       "1   antioquia_abejorral   05_5002.0        100        5     5002  \n",
       "2    antioquia_abriaqui   05_5004.0        100        5     5004  \n",
       "3  antioquia_alejandria   05_5021.0        100        5     5021  \n",
       "4       antioquia_amaga   05_5030.0        100        5     5030  "
      ]
     },
     "execution_count": 97,
     "metadata": {},
     "output_type": "execute_result"
    }
   ],
   "source": [
    "df_liberal.head()"
   ]
  },
  {
   "cell_type": "code",
   "execution_count": 102,
   "metadata": {},
   "outputs": [],
   "source": [
    "debug = df_plebi.merge(df_liberal, how='left', on=['cod_dep','cod_mun'])"
   ]
  },
  {
   "cell_type": "code",
   "execution_count": 103,
   "metadata": {},
   "outputs": [
    {
     "name": "stdout",
     "output_type": "stream",
     "text": [
      "<class 'pandas.core.frame.DataFrame'>\n",
      "Int64Index: 1186 entries, 0 to 1185\n",
      "Data columns (total 27 columns):\n",
      " #   Column                Non-Null Count  Dtype  \n",
      "---  ------                --------------  -----  \n",
      " 0   municipio_x           1186 non-null   object \n",
      " 1   link                  1186 non-null   object \n",
      " 2   departamento_x        1186 non-null   object \n",
      " 3   votos_si              1186 non-null   int64  \n",
      " 4   votos_no              1186 non-null   int64  \n",
      " 5   votos_validos         1186 non-null   int64  \n",
      " 6   votos_no_marcados_x   1186 non-null   int64  \n",
      " 7   votos_nulos_x         1186 non-null   int64  \n",
      " 8   votos_totales         1186 non-null   int64  \n",
      " 9   votos_habilitados     1186 non-null   int64  \n",
      " 10  nom_dep_mun_x         1186 non-null   object \n",
      " 11  cod_dep_mun_x         1186 non-null   object \n",
      " 12  closeness_x           1186 non-null   int64  \n",
      " 13  cod_dep               1186 non-null   int64  \n",
      " 14  cod_mun               1186 non-null   int64  \n",
      " 15  cd                    1102 non-null   float64\n",
      " 16  departamento_y        1102 non-null   object \n",
      " 17  cm                    1102 non-null   float64\n",
      " 18  municipio_y           1102 non-null   object \n",
      " 19  juan_fernando_cristo  1102 non-null   float64\n",
      " 20  humberto_de_la_calle  1102 non-null   float64\n",
      " 21  votos_nulos_y         1102 non-null   float64\n",
      " 22  votos_no_marcados_y   1102 non-null   float64\n",
      " 23  total_votos           1102 non-null   float64\n",
      " 24  nom_dep_mun_y         1102 non-null   object \n",
      " 25  cod_dep_mun_y         1102 non-null   object \n",
      " 26  closeness_y           1102 non-null   float64\n",
      "dtypes: float64(8), int64(10), object(9)\n",
      "memory usage: 259.4+ KB\n"
     ]
    }
   ],
   "source": [
    "debug.info()"
   ]
  },
  {
   "cell_type": "code",
   "execution_count": 106,
   "metadata": {},
   "outputs": [],
   "source": [
    "pd.set_option('display.max_columns', None)"
   ]
  },
  {
   "cell_type": "code",
   "execution_count": 107,
   "metadata": {},
   "outputs": [
    {
     "data": {
      "text/html": [
       "<div>\n",
       "<style scoped>\n",
       "    .dataframe tbody tr th:only-of-type {\n",
       "        vertical-align: middle;\n",
       "    }\n",
       "\n",
       "    .dataframe tbody tr th {\n",
       "        vertical-align: top;\n",
       "    }\n",
       "\n",
       "    .dataframe thead th {\n",
       "        text-align: right;\n",
       "    }\n",
       "</style>\n",
       "<table border=\"1\" class=\"dataframe\">\n",
       "  <thead>\n",
       "    <tr style=\"text-align: right;\">\n",
       "      <th></th>\n",
       "      <th>municipio_x</th>\n",
       "      <th>link</th>\n",
       "      <th>departamento_x</th>\n",
       "      <th>votos_si</th>\n",
       "      <th>votos_no</th>\n",
       "      <th>votos_validos</th>\n",
       "      <th>votos_no_marcados_x</th>\n",
       "      <th>votos_nulos_x</th>\n",
       "      <th>votos_totales</th>\n",
       "      <th>votos_habilitados</th>\n",
       "      <th>nom_dep_mun_x</th>\n",
       "      <th>cod_dep_mun_x</th>\n",
       "      <th>closeness_x</th>\n",
       "      <th>cod_dep</th>\n",
       "      <th>cod_mun</th>\n",
       "      <th>cd</th>\n",
       "      <th>departamento_y</th>\n",
       "      <th>cm</th>\n",
       "      <th>municipio_y</th>\n",
       "      <th>juan_fernando_cristo</th>\n",
       "      <th>humberto_de_la_calle</th>\n",
       "      <th>votos_nulos_y</th>\n",
       "      <th>votos_no_marcados_y</th>\n",
       "      <th>total_votos</th>\n",
       "      <th>nom_dep_mun_y</th>\n",
       "      <th>cod_dep_mun_y</th>\n",
       "      <th>closeness_y</th>\n",
       "    </tr>\n",
       "  </thead>\n",
       "  <tbody>\n",
       "    <tr>\n",
       "      <th>0</th>\n",
       "      <td>EL ENCANTO</td>\n",
       "      <td>../99PL/DPL60010ZZZZZZZZZZZZ_L1.htm</td>\n",
       "      <td>AMAZONAS</td>\n",
       "      <td>170</td>\n",
       "      <td>51</td>\n",
       "      <td>221</td>\n",
       "      <td>0</td>\n",
       "      <td>2</td>\n",
       "      <td>223</td>\n",
       "      <td>743</td>\n",
       "      <td>amazonas_el encanto</td>\n",
       "      <td>91_91263.0</td>\n",
       "      <td>100</td>\n",
       "      <td>91</td>\n",
       "      <td>91263</td>\n",
       "      <td>NaN</td>\n",
       "      <td>NaN</td>\n",
       "      <td>NaN</td>\n",
       "      <td>NaN</td>\n",
       "      <td>NaN</td>\n",
       "      <td>NaN</td>\n",
       "      <td>NaN</td>\n",
       "      <td>NaN</td>\n",
       "      <td>NaN</td>\n",
       "      <td>NaN</td>\n",
       "      <td>NaN</td>\n",
       "      <td>NaN</td>\n",
       "    </tr>\n",
       "    <tr>\n",
       "      <th>1</th>\n",
       "      <td>LA CHORRERA</td>\n",
       "      <td>../99PL/DPL60013ZZZZZZZZZZZZ_L1.htm</td>\n",
       "      <td>AMAZONAS</td>\n",
       "      <td>300</td>\n",
       "      <td>62</td>\n",
       "      <td>362</td>\n",
       "      <td>1</td>\n",
       "      <td>3</td>\n",
       "      <td>366</td>\n",
       "      <td>1030</td>\n",
       "      <td>amazonas_la chorrera</td>\n",
       "      <td>91_91405.0</td>\n",
       "      <td>100</td>\n",
       "      <td>91</td>\n",
       "      <td>91405</td>\n",
       "      <td>NaN</td>\n",
       "      <td>NaN</td>\n",
       "      <td>NaN</td>\n",
       "      <td>NaN</td>\n",
       "      <td>NaN</td>\n",
       "      <td>NaN</td>\n",
       "      <td>NaN</td>\n",
       "      <td>NaN</td>\n",
       "      <td>NaN</td>\n",
       "      <td>NaN</td>\n",
       "      <td>NaN</td>\n",
       "      <td>NaN</td>\n",
       "    </tr>\n",
       "    <tr>\n",
       "      <th>2</th>\n",
       "      <td>LA PEDRERA</td>\n",
       "      <td>../99PL/DPL60016ZZZZZZZZZZZZ_L1.htm</td>\n",
       "      <td>AMAZONAS</td>\n",
       "      <td>189</td>\n",
       "      <td>25</td>\n",
       "      <td>214</td>\n",
       "      <td>1</td>\n",
       "      <td>1</td>\n",
       "      <td>216</td>\n",
       "      <td>1008</td>\n",
       "      <td>amazonas_la pedrera</td>\n",
       "      <td>91_91407.0</td>\n",
       "      <td>100</td>\n",
       "      <td>91</td>\n",
       "      <td>91407</td>\n",
       "      <td>NaN</td>\n",
       "      <td>NaN</td>\n",
       "      <td>NaN</td>\n",
       "      <td>NaN</td>\n",
       "      <td>NaN</td>\n",
       "      <td>NaN</td>\n",
       "      <td>NaN</td>\n",
       "      <td>NaN</td>\n",
       "      <td>NaN</td>\n",
       "      <td>NaN</td>\n",
       "      <td>NaN</td>\n",
       "      <td>NaN</td>\n",
       "    </tr>\n",
       "    <tr>\n",
       "      <th>3</th>\n",
       "      <td>LA VICTORIA</td>\n",
       "      <td>../99PL/DPL60017ZZZZZZZZZZZZ_L1.htm</td>\n",
       "      <td>AMAZONAS</td>\n",
       "      <td>4</td>\n",
       "      <td>1</td>\n",
       "      <td>5</td>\n",
       "      <td>0</td>\n",
       "      <td>0</td>\n",
       "      <td>5</td>\n",
       "      <td>18</td>\n",
       "      <td>amazonas_la victoria</td>\n",
       "      <td>91_91430.0</td>\n",
       "      <td>100</td>\n",
       "      <td>91</td>\n",
       "      <td>91430</td>\n",
       "      <td>NaN</td>\n",
       "      <td>NaN</td>\n",
       "      <td>NaN</td>\n",
       "      <td>NaN</td>\n",
       "      <td>NaN</td>\n",
       "      <td>NaN</td>\n",
       "      <td>NaN</td>\n",
       "      <td>NaN</td>\n",
       "      <td>NaN</td>\n",
       "      <td>NaN</td>\n",
       "      <td>NaN</td>\n",
       "      <td>NaN</td>\n",
       "    </tr>\n",
       "    <tr>\n",
       "      <th>5</th>\n",
       "      <td>MIRITI PARANA</td>\n",
       "      <td>../99PL/DPL60019ZZZZZZZZZZZZ_L1.htm</td>\n",
       "      <td>AMAZONAS</td>\n",
       "      <td>89</td>\n",
       "      <td>7</td>\n",
       "      <td>96</td>\n",
       "      <td>0</td>\n",
       "      <td>0</td>\n",
       "      <td>96</td>\n",
       "      <td>477</td>\n",
       "      <td>amazonas_miriti parana</td>\n",
       "      <td>91_91460.0</td>\n",
       "      <td>96</td>\n",
       "      <td>91</td>\n",
       "      <td>91460</td>\n",
       "      <td>NaN</td>\n",
       "      <td>NaN</td>\n",
       "      <td>NaN</td>\n",
       "      <td>NaN</td>\n",
       "      <td>NaN</td>\n",
       "      <td>NaN</td>\n",
       "      <td>NaN</td>\n",
       "      <td>NaN</td>\n",
       "      <td>NaN</td>\n",
       "      <td>NaN</td>\n",
       "      <td>NaN</td>\n",
       "      <td>NaN</td>\n",
       "    </tr>\n",
       "    <tr>\n",
       "      <th>6</th>\n",
       "      <td>PUERTO ALEGRIA</td>\n",
       "      <td>../99PL/DPL60030ZZZZZZZZZZZZ_L1.htm</td>\n",
       "      <td>AMAZONAS</td>\n",
       "      <td>52</td>\n",
       "      <td>5</td>\n",
       "      <td>57</td>\n",
       "      <td>1</td>\n",
       "      <td>1</td>\n",
       "      <td>59</td>\n",
       "      <td>259</td>\n",
       "      <td>amazonas_puerto alegria</td>\n",
       "      <td>91_91530.0</td>\n",
       "      <td>100</td>\n",
       "      <td>91</td>\n",
       "      <td>91530</td>\n",
       "      <td>NaN</td>\n",
       "      <td>NaN</td>\n",
       "      <td>NaN</td>\n",
       "      <td>NaN</td>\n",
       "      <td>NaN</td>\n",
       "      <td>NaN</td>\n",
       "      <td>NaN</td>\n",
       "      <td>NaN</td>\n",
       "      <td>NaN</td>\n",
       "      <td>NaN</td>\n",
       "      <td>NaN</td>\n",
       "      <td>NaN</td>\n",
       "    </tr>\n",
       "    <tr>\n",
       "      <th>7</th>\n",
       "      <td>PUERTO ARICA</td>\n",
       "      <td>../99PL/DPL60040ZZZZZZZZZZZZ_L1.htm</td>\n",
       "      <td>AMAZONAS</td>\n",
       "      <td>97</td>\n",
       "      <td>22</td>\n",
       "      <td>119</td>\n",
       "      <td>0</td>\n",
       "      <td>0</td>\n",
       "      <td>119</td>\n",
       "      <td>405</td>\n",
       "      <td>amazonas_puerto arica</td>\n",
       "      <td>91_91536.0</td>\n",
       "      <td>100</td>\n",
       "      <td>91</td>\n",
       "      <td>91536</td>\n",
       "      <td>NaN</td>\n",
       "      <td>NaN</td>\n",
       "      <td>NaN</td>\n",
       "      <td>NaN</td>\n",
       "      <td>NaN</td>\n",
       "      <td>NaN</td>\n",
       "      <td>NaN</td>\n",
       "      <td>NaN</td>\n",
       "      <td>NaN</td>\n",
       "      <td>NaN</td>\n",
       "      <td>NaN</td>\n",
       "      <td>NaN</td>\n",
       "    </tr>\n",
       "    <tr>\n",
       "      <th>9</th>\n",
       "      <td>PUERTO SANTANDER</td>\n",
       "      <td>../99PL/DPL60021ZZZZZZZZZZZZ_L1.htm</td>\n",
       "      <td>AMAZONAS</td>\n",
       "      <td>125</td>\n",
       "      <td>16</td>\n",
       "      <td>141</td>\n",
       "      <td>0</td>\n",
       "      <td>2</td>\n",
       "      <td>143</td>\n",
       "      <td>642</td>\n",
       "      <td>amazonas_puerto santander</td>\n",
       "      <td>91_91669.0</td>\n",
       "      <td>100</td>\n",
       "      <td>91</td>\n",
       "      <td>91669</td>\n",
       "      <td>NaN</td>\n",
       "      <td>NaN</td>\n",
       "      <td>NaN</td>\n",
       "      <td>NaN</td>\n",
       "      <td>NaN</td>\n",
       "      <td>NaN</td>\n",
       "      <td>NaN</td>\n",
       "      <td>NaN</td>\n",
       "      <td>NaN</td>\n",
       "      <td>NaN</td>\n",
       "      <td>NaN</td>\n",
       "      <td>NaN</td>\n",
       "    </tr>\n",
       "    <tr>\n",
       "      <th>10</th>\n",
       "      <td>TARAPACA</td>\n",
       "      <td>../99PL/DPL60022ZZZZZZZZZZZZ_L1.htm</td>\n",
       "      <td>AMAZONAS</td>\n",
       "      <td>265</td>\n",
       "      <td>68</td>\n",
       "      <td>333</td>\n",
       "      <td>7</td>\n",
       "      <td>4</td>\n",
       "      <td>344</td>\n",
       "      <td>1304</td>\n",
       "      <td>amazonas_tarapaca</td>\n",
       "      <td>91_91798.0</td>\n",
       "      <td>100</td>\n",
       "      <td>91</td>\n",
       "      <td>91798</td>\n",
       "      <td>NaN</td>\n",
       "      <td>NaN</td>\n",
       "      <td>NaN</td>\n",
       "      <td>NaN</td>\n",
       "      <td>NaN</td>\n",
       "      <td>NaN</td>\n",
       "      <td>NaN</td>\n",
       "      <td>NaN</td>\n",
       "      <td>NaN</td>\n",
       "      <td>NaN</td>\n",
       "      <td>NaN</td>\n",
       "      <td>NaN</td>\n",
       "    </tr>\n",
       "    <tr>\n",
       "      <th>641</th>\n",
       "      <td>BARRANCO MINAS</td>\n",
       "      <td>../99PL/DPL50070ZZZZZZZZZZZZ_L1.htm</td>\n",
       "      <td>GUAINIA</td>\n",
       "      <td>298</td>\n",
       "      <td>67</td>\n",
       "      <td>365</td>\n",
       "      <td>2</td>\n",
       "      <td>5</td>\n",
       "      <td>372</td>\n",
       "      <td>1986</td>\n",
       "      <td>guainia_barranco minas</td>\n",
       "      <td>94_94343.0</td>\n",
       "      <td>98</td>\n",
       "      <td>94</td>\n",
       "      <td>94343</td>\n",
       "      <td>NaN</td>\n",
       "      <td>NaN</td>\n",
       "      <td>NaN</td>\n",
       "      <td>NaN</td>\n",
       "      <td>NaN</td>\n",
       "      <td>NaN</td>\n",
       "      <td>NaN</td>\n",
       "      <td>NaN</td>\n",
       "      <td>NaN</td>\n",
       "      <td>NaN</td>\n",
       "      <td>NaN</td>\n",
       "      <td>NaN</td>\n",
       "    </tr>\n",
       "    <tr>\n",
       "      <th>644</th>\n",
       "      <td>LA GUADALUPE</td>\n",
       "      <td>../99PL/DPL50078ZZZZZZZZZZZZ_L1.htm</td>\n",
       "      <td>GUAINIA</td>\n",
       "      <td>0</td>\n",
       "      <td>0</td>\n",
       "      <td>0</td>\n",
       "      <td>0</td>\n",
       "      <td>0</td>\n",
       "      <td>0</td>\n",
       "      <td>175</td>\n",
       "      <td>guainia_la guadalupe</td>\n",
       "      <td>94_94885.0</td>\n",
       "      <td>100</td>\n",
       "      <td>94</td>\n",
       "      <td>94885</td>\n",
       "      <td>NaN</td>\n",
       "      <td>NaN</td>\n",
       "      <td>NaN</td>\n",
       "      <td>NaN</td>\n",
       "      <td>NaN</td>\n",
       "      <td>NaN</td>\n",
       "      <td>NaN</td>\n",
       "      <td>NaN</td>\n",
       "      <td>NaN</td>\n",
       "      <td>NaN</td>\n",
       "      <td>NaN</td>\n",
       "      <td>NaN</td>\n",
       "    </tr>\n",
       "    <tr>\n",
       "      <th>645</th>\n",
       "      <td>MAPIRIPANA</td>\n",
       "      <td>../99PL/DPL50050ZZZZZZZZZZZZ_L1.htm</td>\n",
       "      <td>GUAINIA</td>\n",
       "      <td>45</td>\n",
       "      <td>4</td>\n",
       "      <td>49</td>\n",
       "      <td>0</td>\n",
       "      <td>0</td>\n",
       "      <td>49</td>\n",
       "      <td>579</td>\n",
       "      <td>guainia_mapiripana</td>\n",
       "      <td>0_0</td>\n",
       "      <td>100</td>\n",
       "      <td>0</td>\n",
       "      <td>0</td>\n",
       "      <td>NaN</td>\n",
       "      <td>NaN</td>\n",
       "      <td>NaN</td>\n",
       "      <td>NaN</td>\n",
       "      <td>NaN</td>\n",
       "      <td>NaN</td>\n",
       "      <td>NaN</td>\n",
       "      <td>NaN</td>\n",
       "      <td>NaN</td>\n",
       "      <td>NaN</td>\n",
       "      <td>NaN</td>\n",
       "      <td>NaN</td>\n",
       "    </tr>\n",
       "    <tr>\n",
       "      <th>646</th>\n",
       "      <td>MORICHAL (MORICHAL NUEVO)</td>\n",
       "      <td>../99PL/DPL50083ZZZZZZZZZZZZ_L1.htm</td>\n",
       "      <td>GUAINIA</td>\n",
       "      <td>42</td>\n",
       "      <td>0</td>\n",
       "      <td>42</td>\n",
       "      <td>1</td>\n",
       "      <td>0</td>\n",
       "      <td>43</td>\n",
       "      <td>179</td>\n",
       "      <td>guainia_morichal (morichal nuevo)</td>\n",
       "      <td>94_94888.0</td>\n",
       "      <td>100</td>\n",
       "      <td>94</td>\n",
       "      <td>94888</td>\n",
       "      <td>NaN</td>\n",
       "      <td>NaN</td>\n",
       "      <td>NaN</td>\n",
       "      <td>NaN</td>\n",
       "      <td>NaN</td>\n",
       "      <td>NaN</td>\n",
       "      <td>NaN</td>\n",
       "      <td>NaN</td>\n",
       "      <td>NaN</td>\n",
       "      <td>NaN</td>\n",
       "      <td>NaN</td>\n",
       "      <td>NaN</td>\n",
       "    </tr>\n",
       "    <tr>\n",
       "      <th>647</th>\n",
       "      <td>PANA PANA (CAMPO ALEGRE)</td>\n",
       "      <td>../99PL/DPL50087ZZZZZZZZZZZZ_L1.htm</td>\n",
       "      <td>GUAINIA</td>\n",
       "      <td>116</td>\n",
       "      <td>46</td>\n",
       "      <td>162</td>\n",
       "      <td>0</td>\n",
       "      <td>0</td>\n",
       "      <td>162</td>\n",
       "      <td>328</td>\n",
       "      <td>guainia_pana pana (campo alegre)</td>\n",
       "      <td>94_94887.0</td>\n",
       "      <td>100</td>\n",
       "      <td>94</td>\n",
       "      <td>94887</td>\n",
       "      <td>NaN</td>\n",
       "      <td>NaN</td>\n",
       "      <td>NaN</td>\n",
       "      <td>NaN</td>\n",
       "      <td>NaN</td>\n",
       "      <td>NaN</td>\n",
       "      <td>NaN</td>\n",
       "      <td>NaN</td>\n",
       "      <td>NaN</td>\n",
       "      <td>NaN</td>\n",
       "      <td>NaN</td>\n",
       "      <td>NaN</td>\n",
       "    </tr>\n",
       "    <tr>\n",
       "      <th>648</th>\n",
       "      <td>PUERTO COLOMBIA</td>\n",
       "      <td>../99PL/DPL50090ZZZZZZZZZZZZ_L1.htm</td>\n",
       "      <td>GUAINIA</td>\n",
       "      <td>60</td>\n",
       "      <td>45</td>\n",
       "      <td>105</td>\n",
       "      <td>1</td>\n",
       "      <td>0</td>\n",
       "      <td>106</td>\n",
       "      <td>1207</td>\n",
       "      <td>guainia_puerto colombia</td>\n",
       "      <td>94_94884.0</td>\n",
       "      <td>100</td>\n",
       "      <td>94</td>\n",
       "      <td>94884</td>\n",
       "      <td>NaN</td>\n",
       "      <td>NaN</td>\n",
       "      <td>NaN</td>\n",
       "      <td>NaN</td>\n",
       "      <td>NaN</td>\n",
       "      <td>NaN</td>\n",
       "      <td>NaN</td>\n",
       "      <td>NaN</td>\n",
       "      <td>NaN</td>\n",
       "      <td>NaN</td>\n",
       "      <td>NaN</td>\n",
       "      <td>NaN</td>\n",
       "    </tr>\n",
       "    <tr>\n",
       "      <th>649</th>\n",
       "      <td>SAN FELIPE</td>\n",
       "      <td>../99PL/DPL50092ZZZZZZZZZZZZ_L1.htm</td>\n",
       "      <td>GUAINIA</td>\n",
       "      <td>85</td>\n",
       "      <td>59</td>\n",
       "      <td>144</td>\n",
       "      <td>5</td>\n",
       "      <td>5</td>\n",
       "      <td>154</td>\n",
       "      <td>835</td>\n",
       "      <td>guainia_san felipe</td>\n",
       "      <td>94_94883.0</td>\n",
       "      <td>100</td>\n",
       "      <td>94</td>\n",
       "      <td>94883</td>\n",
       "      <td>NaN</td>\n",
       "      <td>NaN</td>\n",
       "      <td>NaN</td>\n",
       "      <td>NaN</td>\n",
       "      <td>NaN</td>\n",
       "      <td>NaN</td>\n",
       "      <td>NaN</td>\n",
       "      <td>NaN</td>\n",
       "      <td>NaN</td>\n",
       "      <td>NaN</td>\n",
       "      <td>NaN</td>\n",
       "      <td>NaN</td>\n",
       "    </tr>\n",
       "    <tr>\n",
       "      <th>787</th>\n",
       "      <td>GUACHUCAL</td>\n",
       "      <td>../99PL/DPL23052ZZZZZZZZZZZZ_L1.htm</td>\n",
       "      <td>NARIÑO</td>\n",
       "      <td>2511</td>\n",
       "      <td>1938</td>\n",
       "      <td>4449</td>\n",
       "      <td>54</td>\n",
       "      <td>78</td>\n",
       "      <td>4581</td>\n",
       "      <td>14068</td>\n",
       "      <td>narino_guachucal</td>\n",
       "      <td>52_52317.0</td>\n",
       "      <td>100</td>\n",
       "      <td>52</td>\n",
       "      <td>52317</td>\n",
       "      <td>NaN</td>\n",
       "      <td>NaN</td>\n",
       "      <td>NaN</td>\n",
       "      <td>NaN</td>\n",
       "      <td>NaN</td>\n",
       "      <td>NaN</td>\n",
       "      <td>NaN</td>\n",
       "      <td>NaN</td>\n",
       "      <td>NaN</td>\n",
       "      <td>NaN</td>\n",
       "      <td>NaN</td>\n",
       "      <td>NaN</td>\n",
       "    </tr>\n",
       "    <tr>\n",
       "      <th>1112</th>\n",
       "      <td>BUENOS AIRES (PACOA)</td>\n",
       "      <td>../99PL/DPL68013ZZZZZZZZZZZZ_L1.htm</td>\n",
       "      <td>VAUPES</td>\n",
       "      <td>170</td>\n",
       "      <td>16</td>\n",
       "      <td>186</td>\n",
       "      <td>1</td>\n",
       "      <td>3</td>\n",
       "      <td>190</td>\n",
       "      <td>1080</td>\n",
       "      <td>vaupes_buenos aires (pacoa)</td>\n",
       "      <td>97_97511.0</td>\n",
       "      <td>100</td>\n",
       "      <td>97</td>\n",
       "      <td>97511</td>\n",
       "      <td>NaN</td>\n",
       "      <td>NaN</td>\n",
       "      <td>NaN</td>\n",
       "      <td>NaN</td>\n",
       "      <td>NaN</td>\n",
       "      <td>NaN</td>\n",
       "      <td>NaN</td>\n",
       "      <td>NaN</td>\n",
       "      <td>NaN</td>\n",
       "      <td>NaN</td>\n",
       "      <td>NaN</td>\n",
       "      <td>NaN</td>\n",
       "    </tr>\n",
       "    <tr>\n",
       "      <th>1115</th>\n",
       "      <td>MORICHAL (PAPUNAGUA)</td>\n",
       "      <td>../99PL/DPL68010ZZZZZZZZZZZZ_L1.htm</td>\n",
       "      <td>VAUPES</td>\n",
       "      <td>18</td>\n",
       "      <td>1</td>\n",
       "      <td>19</td>\n",
       "      <td>0</td>\n",
       "      <td>0</td>\n",
       "      <td>19</td>\n",
       "      <td>109</td>\n",
       "      <td>vaupes_morichal (papunagua)</td>\n",
       "      <td>97_97777.0</td>\n",
       "      <td>70</td>\n",
       "      <td>97</td>\n",
       "      <td>97777</td>\n",
       "      <td>NaN</td>\n",
       "      <td>NaN</td>\n",
       "      <td>NaN</td>\n",
       "      <td>NaN</td>\n",
       "      <td>NaN</td>\n",
       "      <td>NaN</td>\n",
       "      <td>NaN</td>\n",
       "      <td>NaN</td>\n",
       "      <td>NaN</td>\n",
       "      <td>NaN</td>\n",
       "      <td>NaN</td>\n",
       "      <td>NaN</td>\n",
       "    </tr>\n",
       "    <tr>\n",
       "      <th>1117</th>\n",
       "      <td>YAVARATE</td>\n",
       "      <td>../99PL/DPL68022ZZZZZZZZZZZZ_L1.htm</td>\n",
       "      <td>VAUPES</td>\n",
       "      <td>278</td>\n",
       "      <td>37</td>\n",
       "      <td>315</td>\n",
       "      <td>1</td>\n",
       "      <td>0</td>\n",
       "      <td>316</td>\n",
       "      <td>1035</td>\n",
       "      <td>vaupes_yavarate</td>\n",
       "      <td>97_97889.0</td>\n",
       "      <td>100</td>\n",
       "      <td>97</td>\n",
       "      <td>97889</td>\n",
       "      <td>NaN</td>\n",
       "      <td>NaN</td>\n",
       "      <td>NaN</td>\n",
       "      <td>NaN</td>\n",
       "      <td>NaN</td>\n",
       "      <td>NaN</td>\n",
       "      <td>NaN</td>\n",
       "      <td>NaN</td>\n",
       "      <td>NaN</td>\n",
       "      <td>NaN</td>\n",
       "      <td>NaN</td>\n",
       "      <td>NaN</td>\n",
       "    </tr>\n",
       "  </tbody>\n",
       "</table>\n",
       "</div>"
      ],
      "text/plain": [
       "                    municipio_x                                 link  \\\n",
       "0                    EL ENCANTO  ../99PL/DPL60010ZZZZZZZZZZZZ_L1.htm   \n",
       "1                   LA CHORRERA  ../99PL/DPL60013ZZZZZZZZZZZZ_L1.htm   \n",
       "2                    LA PEDRERA  ../99PL/DPL60016ZZZZZZZZZZZZ_L1.htm   \n",
       "3                   LA VICTORIA  ../99PL/DPL60017ZZZZZZZZZZZZ_L1.htm   \n",
       "5                 MIRITI PARANA  ../99PL/DPL60019ZZZZZZZZZZZZ_L1.htm   \n",
       "6                PUERTO ALEGRIA  ../99PL/DPL60030ZZZZZZZZZZZZ_L1.htm   \n",
       "7                  PUERTO ARICA  ../99PL/DPL60040ZZZZZZZZZZZZ_L1.htm   \n",
       "9              PUERTO SANTANDER  ../99PL/DPL60021ZZZZZZZZZZZZ_L1.htm   \n",
       "10                     TARAPACA  ../99PL/DPL60022ZZZZZZZZZZZZ_L1.htm   \n",
       "641              BARRANCO MINAS  ../99PL/DPL50070ZZZZZZZZZZZZ_L1.htm   \n",
       "644                LA GUADALUPE  ../99PL/DPL50078ZZZZZZZZZZZZ_L1.htm   \n",
       "645                  MAPIRIPANA  ../99PL/DPL50050ZZZZZZZZZZZZ_L1.htm   \n",
       "646   MORICHAL (MORICHAL NUEVO)  ../99PL/DPL50083ZZZZZZZZZZZZ_L1.htm   \n",
       "647    PANA PANA (CAMPO ALEGRE)  ../99PL/DPL50087ZZZZZZZZZZZZ_L1.htm   \n",
       "648             PUERTO COLOMBIA  ../99PL/DPL50090ZZZZZZZZZZZZ_L1.htm   \n",
       "649                  SAN FELIPE  ../99PL/DPL50092ZZZZZZZZZZZZ_L1.htm   \n",
       "787                   GUACHUCAL  ../99PL/DPL23052ZZZZZZZZZZZZ_L1.htm   \n",
       "1112       BUENOS AIRES (PACOA)  ../99PL/DPL68013ZZZZZZZZZZZZ_L1.htm   \n",
       "1115       MORICHAL (PAPUNAGUA)  ../99PL/DPL68010ZZZZZZZZZZZZ_L1.htm   \n",
       "1117                   YAVARATE  ../99PL/DPL68022ZZZZZZZZZZZZ_L1.htm   \n",
       "\n",
       "     departamento_x  votos_si  votos_no  votos_validos  votos_no_marcados_x  \\\n",
       "0          AMAZONAS       170        51            221                    0   \n",
       "1          AMAZONAS       300        62            362                    1   \n",
       "2          AMAZONAS       189        25            214                    1   \n",
       "3          AMAZONAS         4         1              5                    0   \n",
       "5          AMAZONAS        89         7             96                    0   \n",
       "6          AMAZONAS        52         5             57                    1   \n",
       "7          AMAZONAS        97        22            119                    0   \n",
       "9          AMAZONAS       125        16            141                    0   \n",
       "10         AMAZONAS       265        68            333                    7   \n",
       "641         GUAINIA       298        67            365                    2   \n",
       "644         GUAINIA         0         0              0                    0   \n",
       "645         GUAINIA        45         4             49                    0   \n",
       "646         GUAINIA        42         0             42                    1   \n",
       "647         GUAINIA       116        46            162                    0   \n",
       "648         GUAINIA        60        45            105                    1   \n",
       "649         GUAINIA        85        59            144                    5   \n",
       "787          NARIÑO      2511      1938           4449                   54   \n",
       "1112         VAUPES       170        16            186                    1   \n",
       "1115         VAUPES        18         1             19                    0   \n",
       "1117         VAUPES       278        37            315                    1   \n",
       "\n",
       "      votos_nulos_x  votos_totales  votos_habilitados  \\\n",
       "0                 2            223                743   \n",
       "1                 3            366               1030   \n",
       "2                 1            216               1008   \n",
       "3                 0              5                 18   \n",
       "5                 0             96                477   \n",
       "6                 1             59                259   \n",
       "7                 0            119                405   \n",
       "9                 2            143                642   \n",
       "10                4            344               1304   \n",
       "641               5            372               1986   \n",
       "644               0              0                175   \n",
       "645               0             49                579   \n",
       "646               0             43                179   \n",
       "647               0            162                328   \n",
       "648               0            106               1207   \n",
       "649               5            154                835   \n",
       "787              78           4581              14068   \n",
       "1112              3            190               1080   \n",
       "1115              0             19                109   \n",
       "1117              0            316               1035   \n",
       "\n",
       "                          nom_dep_mun_x cod_dep_mun_x  closeness_x  cod_dep  \\\n",
       "0                   amazonas_el encanto    91_91263.0          100       91   \n",
       "1                  amazonas_la chorrera    91_91405.0          100       91   \n",
       "2                   amazonas_la pedrera    91_91407.0          100       91   \n",
       "3                  amazonas_la victoria    91_91430.0          100       91   \n",
       "5                amazonas_miriti parana    91_91460.0           96       91   \n",
       "6               amazonas_puerto alegria    91_91530.0          100       91   \n",
       "7                 amazonas_puerto arica    91_91536.0          100       91   \n",
       "9             amazonas_puerto santander    91_91669.0          100       91   \n",
       "10                    amazonas_tarapaca    91_91798.0          100       91   \n",
       "641              guainia_barranco minas    94_94343.0           98       94   \n",
       "644                guainia_la guadalupe    94_94885.0          100       94   \n",
       "645                  guainia_mapiripana           0_0          100        0   \n",
       "646   guainia_morichal (morichal nuevo)    94_94888.0          100       94   \n",
       "647    guainia_pana pana (campo alegre)    94_94887.0          100       94   \n",
       "648             guainia_puerto colombia    94_94884.0          100       94   \n",
       "649                  guainia_san felipe    94_94883.0          100       94   \n",
       "787                    narino_guachucal    52_52317.0          100       52   \n",
       "1112        vaupes_buenos aires (pacoa)    97_97511.0          100       97   \n",
       "1115        vaupes_morichal (papunagua)    97_97777.0           70       97   \n",
       "1117                    vaupes_yavarate    97_97889.0          100       97   \n",
       "\n",
       "      cod_mun  cd departamento_y  cm municipio_y  juan_fernando_cristo  \\\n",
       "0       91263 NaN            NaN NaN         NaN                   NaN   \n",
       "1       91405 NaN            NaN NaN         NaN                   NaN   \n",
       "2       91407 NaN            NaN NaN         NaN                   NaN   \n",
       "3       91430 NaN            NaN NaN         NaN                   NaN   \n",
       "5       91460 NaN            NaN NaN         NaN                   NaN   \n",
       "6       91530 NaN            NaN NaN         NaN                   NaN   \n",
       "7       91536 NaN            NaN NaN         NaN                   NaN   \n",
       "9       91669 NaN            NaN NaN         NaN                   NaN   \n",
       "10      91798 NaN            NaN NaN         NaN                   NaN   \n",
       "641     94343 NaN            NaN NaN         NaN                   NaN   \n",
       "644     94885 NaN            NaN NaN         NaN                   NaN   \n",
       "645         0 NaN            NaN NaN         NaN                   NaN   \n",
       "646     94888 NaN            NaN NaN         NaN                   NaN   \n",
       "647     94887 NaN            NaN NaN         NaN                   NaN   \n",
       "648     94884 NaN            NaN NaN         NaN                   NaN   \n",
       "649     94883 NaN            NaN NaN         NaN                   NaN   \n",
       "787     52317 NaN            NaN NaN         NaN                   NaN   \n",
       "1112    97511 NaN            NaN NaN         NaN                   NaN   \n",
       "1115    97777 NaN            NaN NaN         NaN                   NaN   \n",
       "1117    97889 NaN            NaN NaN         NaN                   NaN   \n",
       "\n",
       "      humberto_de_la_calle  votos_nulos_y  votos_no_marcados_y  total_votos  \\\n",
       "0                      NaN            NaN                  NaN          NaN   \n",
       "1                      NaN            NaN                  NaN          NaN   \n",
       "2                      NaN            NaN                  NaN          NaN   \n",
       "3                      NaN            NaN                  NaN          NaN   \n",
       "5                      NaN            NaN                  NaN          NaN   \n",
       "6                      NaN            NaN                  NaN          NaN   \n",
       "7                      NaN            NaN                  NaN          NaN   \n",
       "9                      NaN            NaN                  NaN          NaN   \n",
       "10                     NaN            NaN                  NaN          NaN   \n",
       "641                    NaN            NaN                  NaN          NaN   \n",
       "644                    NaN            NaN                  NaN          NaN   \n",
       "645                    NaN            NaN                  NaN          NaN   \n",
       "646                    NaN            NaN                  NaN          NaN   \n",
       "647                    NaN            NaN                  NaN          NaN   \n",
       "648                    NaN            NaN                  NaN          NaN   \n",
       "649                    NaN            NaN                  NaN          NaN   \n",
       "787                    NaN            NaN                  NaN          NaN   \n",
       "1112                   NaN            NaN                  NaN          NaN   \n",
       "1115                   NaN            NaN                  NaN          NaN   \n",
       "1117                   NaN            NaN                  NaN          NaN   \n",
       "\n",
       "     nom_dep_mun_y cod_dep_mun_y  closeness_y  \n",
       "0              NaN           NaN          NaN  \n",
       "1              NaN           NaN          NaN  \n",
       "2              NaN           NaN          NaN  \n",
       "3              NaN           NaN          NaN  \n",
       "5              NaN           NaN          NaN  \n",
       "6              NaN           NaN          NaN  \n",
       "7              NaN           NaN          NaN  \n",
       "9              NaN           NaN          NaN  \n",
       "10             NaN           NaN          NaN  \n",
       "641            NaN           NaN          NaN  \n",
       "644            NaN           NaN          NaN  \n",
       "645            NaN           NaN          NaN  \n",
       "646            NaN           NaN          NaN  \n",
       "647            NaN           NaN          NaN  \n",
       "648            NaN           NaN          NaN  \n",
       "649            NaN           NaN          NaN  \n",
       "787            NaN           NaN          NaN  \n",
       "1112           NaN           NaN          NaN  \n",
       "1115           NaN           NaN          NaN  \n",
       "1117           NaN           NaN          NaN  "
      ]
     },
     "execution_count": 107,
     "metadata": {},
     "output_type": "execute_result"
    }
   ],
   "source": [
    "debug[(debug.departamento_y.isnull())&(debug.departamento_x!='CONSULADOS')]"
   ]
  },
  {
   "cell_type": "code",
   "execution_count": 117,
   "metadata": {},
   "outputs": [
    {
     "data": {
      "text/html": [
       "<div>\n",
       "<style scoped>\n",
       "    .dataframe tbody tr th:only-of-type {\n",
       "        vertical-align: middle;\n",
       "    }\n",
       "\n",
       "    .dataframe tbody tr th {\n",
       "        vertical-align: top;\n",
       "    }\n",
       "\n",
       "    .dataframe thead th {\n",
       "        text-align: right;\n",
       "    }\n",
       "</style>\n",
       "<table border=\"1\" class=\"dataframe\">\n",
       "  <thead>\n",
       "    <tr style=\"text-align: right;\">\n",
       "      <th></th>\n",
       "      <th>cd</th>\n",
       "      <th>departamento</th>\n",
       "      <th>cm</th>\n",
       "      <th>municipio</th>\n",
       "      <th>juan_fernando_cristo</th>\n",
       "      <th>humberto_de_la_calle</th>\n",
       "      <th>votos_nulos</th>\n",
       "      <th>votos_no_marcados</th>\n",
       "      <th>total_votos</th>\n",
       "      <th>nom_dep_mun</th>\n",
       "      <th>cod_dep_mun</th>\n",
       "      <th>closeness</th>\n",
       "      <th>cod_dep</th>\n",
       "      <th>cod_mun</th>\n",
       "      <th>cod_dep1</th>\n",
       "      <th>cod_mun1</th>\n",
       "    </tr>\n",
       "  </thead>\n",
       "  <tbody>\n",
       "    <tr>\n",
       "      <th>1065</th>\n",
       "      <td>50</td>\n",
       "      <td>GUAINIA</td>\n",
       "      <td>1</td>\n",
       "      <td>INIRIDA</td>\n",
       "      <td>55</td>\n",
       "      <td>63</td>\n",
       "      <td>11</td>\n",
       "      <td>2</td>\n",
       "      <td>131</td>\n",
       "      <td>guainia_inirida</td>\n",
       "      <td>94_94001.0</td>\n",
       "      <td>100</td>\n",
       "      <td>94</td>\n",
       "      <td>94001</td>\n",
       "      <td>94</td>\n",
       "      <td>94001</td>\n",
       "    </tr>\n",
       "  </tbody>\n",
       "</table>\n",
       "</div>"
      ],
      "text/plain": [
       "      cd departamento  cm municipio juan_fernando_cristo humberto_de_la_calle  \\\n",
       "1065  50      GUAINIA   1   INIRIDA                  55                   63    \n",
       "\n",
       "     votos_nulos votos_no_marcados total_votos      nom_dep_mun cod_dep_mun  \\\n",
       "1065         11                 2         131   guainia_inirida  94_94001.0   \n",
       "\n",
       "      closeness  cod_dep  cod_mun  cod_dep1  cod_mun1  \n",
       "1065        100       94    94001        94     94001  "
      ]
     },
     "execution_count": 117,
     "metadata": {},
     "output_type": "execute_result"
    }
   ],
   "source": [
    "df_liberal[df_liberal.cod_dep==94]"
   ]
  },
  {
   "cell_type": "code",
   "execution_count": 113,
   "metadata": {},
   "outputs": [],
   "source": [
    "debg = df_liberal.copy()"
   ]
  },
  {
   "cell_type": "code",
   "execution_count": 114,
   "metadata": {},
   "outputs": [],
   "source": [
    "debg['cod_dep1']=debg.cod_dep_mun.apply(lambda x: int(x.split('_')[0]))"
   ]
  },
  {
   "cell_type": "code",
   "execution_count": 115,
   "metadata": {},
   "outputs": [
    {
     "data": {
      "text/html": [
       "<div>\n",
       "<style scoped>\n",
       "    .dataframe tbody tr th:only-of-type {\n",
       "        vertical-align: middle;\n",
       "    }\n",
       "\n",
       "    .dataframe tbody tr th {\n",
       "        vertical-align: top;\n",
       "    }\n",
       "\n",
       "    .dataframe thead th {\n",
       "        text-align: right;\n",
       "    }\n",
       "</style>\n",
       "<table border=\"1\" class=\"dataframe\">\n",
       "  <thead>\n",
       "    <tr style=\"text-align: right;\">\n",
       "      <th></th>\n",
       "      <th>cd</th>\n",
       "      <th>departamento</th>\n",
       "      <th>cm</th>\n",
       "      <th>municipio</th>\n",
       "      <th>juan_fernando_cristo</th>\n",
       "      <th>humberto_de_la_calle</th>\n",
       "      <th>votos_nulos</th>\n",
       "      <th>votos_no_marcados</th>\n",
       "      <th>total_votos</th>\n",
       "      <th>nom_dep_mun</th>\n",
       "      <th>cod_dep_mun</th>\n",
       "      <th>closeness</th>\n",
       "      <th>cod_dep</th>\n",
       "      <th>cod_mun</th>\n",
       "      <th>cod_dep1</th>\n",
       "    </tr>\n",
       "  </thead>\n",
       "  <tbody>\n",
       "    <tr>\n",
       "      <th>699</th>\n",
       "      <td>23</td>\n",
       "      <td>NARIÑO</td>\n",
       "      <td>52</td>\n",
       "      <td>GUACHUCAL</td>\n",
       "      <td>36</td>\n",
       "      <td>82</td>\n",
       "      <td>8</td>\n",
       "      <td>2</td>\n",
       "      <td>128</td>\n",
       "      <td>narino_guachucal</td>\n",
       "      <td>52_52317.0</td>\n",
       "      <td>100</td>\n",
       "      <td>94</td>\n",
       "      <td>94886</td>\n",
       "      <td>52</td>\n",
       "    </tr>\n",
       "  </tbody>\n",
       "</table>\n",
       "</div>"
      ],
      "text/plain": [
       "     cd departamento  cm  municipio  juan_fernando_cristo  \\\n",
       "699  23       NARIÑO  52  GUACHUCAL                    36   \n",
       "\n",
       "     humberto_de_la_calle  votos_nulos  votos_no_marcados  total_votos  \\\n",
       "699                    82            8                  2          128   \n",
       "\n",
       "          nom_dep_mun cod_dep_mun  closeness  cod_dep  cod_mun  cod_dep1  \n",
       "699  narino_guachucal  52_52317.0        100       94    94886        52  "
      ]
     },
     "execution_count": 115,
     "metadata": {},
     "output_type": "execute_result"
    }
   ],
   "source": [
    "debg[debg.cod_dep1!=debg.cod_dep]"
   ]
  },
  {
   "cell_type": "markdown",
   "metadata": {
    "slideshow": {
     "slide_type": "slide"
    }
   },
   "source": [
    "# La consulta liberal y el plebiscito - Parte 2 (autónomo)"
   ]
  },
  {
   "cell_type": "code",
   "execution_count": null,
   "metadata": {},
   "outputs": [],
   "source": []
  }
 ],
 "metadata": {
  "celltoolbar": "Slideshow",
  "kernelspec": {
   "display_name": "Python 3",
   "language": "python",
   "name": "python3"
  },
  "language_info": {
   "codemirror_mode": {
    "name": "ipython",
    "version": 3
   },
   "file_extension": ".py",
   "mimetype": "text/x-python",
   "name": "python",
   "nbconvert_exporter": "python",
   "pygments_lexer": "ipython3",
   "version": "3.6.10"
  }
 },
 "nbformat": 4,
 "nbformat_minor": 4
}
